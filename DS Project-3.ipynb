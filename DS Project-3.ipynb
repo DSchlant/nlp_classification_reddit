{
 "cells": [
  {
   "cell_type": "code",
   "execution_count": 9,
   "id": "53125333-f5e1-4abf-bee0-a4b632659663",
   "metadata": {},
   "outputs": [],
   "source": [
    "import requests\n",
    "import time\n",
    "import pandas as pd\n",
    "from bs4 import BeautifulSoup\n",
    "from sklearn.feature_extraction.text import CountVectorizer, TfidfVectorizer\n",
    "from sklearn.model_selection import train_test_split, GridSearchCV\n",
    "from sklearn.linear_model import LogisticRegression\n",
    "from sklearn.pipeline import Pipeline\n",
    "from sklearn.metrics import ConfusionMatrixDisplay, f1_score, precision_score,recall_score\n",
    "import nltk\n",
    "from nltk import word_tokenize\n",
    "from nltk.stem import WordNetLemmatizer\n",
    "from sklearn.dummy import DummyClassifier, DummyRegressor\n",
    "from sklearn.preprocessing import LabelEncoder\n",
    "from sklearn.neighbors import KNeighborsClassifier, KNeighborsRegressor\n",
    "from sklearn.tree import plot_tree, DecisionTreeClassifier\n",
    "from sklearn.ensemble import VotingRegressor\n",
    "from sklearn.ensemble import VotingClassifier\n",
    "from sklearn.preprocessing import StandardScaler\n",
    "from sklearn.naive_bayes import GaussianNB, MultinomialNB\n",
    "from sklearn.ensemble import ExtraTreesClassifier, RandomForestClassifier\n",
    "import warnings\n",
    "from sklearn.ensemble import ExtraTreesClassifier\n",
    "from sklearn.ensemble import RandomForestClassifier\n",
    "from sklearn. compose import ColumnTransformer\n",
    "import numpy as np\n",
    "from sklearn.ensemble import AdaBoostClassifier\n",
    "import matplotlib.pyplot as plt  \n",
    "from wordcloud import WordCloud"
   ]
  },
  {
   "cell_type": "code",
   "execution_count": 10,
   "id": "31f41fca-b1f5-4808-8cd7-da926305e7d6",
   "metadata": {},
   "outputs": [],
   "source": [
    "warnings.filterwarnings('ignore')"
   ]
  },
  {
   "cell_type": "code",
   "execution_count": 11,
   "id": "68f6af72-4e9e-4fa2-8571-78e47edd9e96",
   "metadata": {},
   "outputs": [],
   "source": [
    "base_url = 'https://api.pushshift.io/reddit/search/'"
   ]
  },
  {
   "cell_type": "code",
   "execution_count": 12,
   "id": "bff38a20-2e64-4fe8-b25a-7afd86ca6436",
   "metadata": {},
   "outputs": [],
   "source": [
    "pd.set_option('display.max_columns', None)\n",
    "pd.set_option('display.max_rows', None)\n",
    "pd.set_option('display.max_colwidth',200)"
   ]
  },
  {
   "cell_type": "markdown",
   "id": "254c3b50-fa45-4ef0-9588-40735895d6fd",
   "metadata": {},
   "source": [
    "### Pulling in Posts from Reddit Pushshift API"
   ]
  },
  {
   "cell_type": "code",
   "execution_count": 13,
   "id": "62d1b7ee-e9e9-4d76-853e-4bf089a0cf61",
   "metadata": {},
   "outputs": [],
   "source": [
    "def pull_posts(base_url,subreddit,length):\n",
    "    data_pulls = pd.DataFrame()\n",
    "    before = 1650821963\n",
    "    for i in range(length):\n",
    "        parameters = {'subreddit': subreddit,\n",
    "                  'size': 100,\n",
    "                  'is_self' : True,\n",
    "                  'before': before}\n",
    "        try:\n",
    "            response = requests.get(base_url+'submission/',parameters)\n",
    "            if response.status_code != 200:\n",
    "                print('request failed')\n",
    "            else:\n",
    "                data = response.json()\n",
    "                posts = data['data']\n",
    "                posts = pd.DataFrame(posts)\n",
    "                data_pulls = pd.concat([data_pulls,posts])\n",
    "                time.sleep(5)\n",
    "                before = data_pulls['created_utc'].iloc[-1]\n",
    "        except:\n",
    "            print(\"Exception: {}\".format(type(exception).__name__))\n",
    "            print(\"Exception message: {}\".format(exception))\n",
    "            time.sleep(15)\n",
    "    return data_pulls\n",
    "\n",
    "#futurology_pulls = pull_posts(base_url,'futurology',289)\n",
    "#futurology_pulls.to_csv('./datasets/futurology_pull.csv',index=False)\n",
    "\n",
    "#collapse_pulls = pull_posts(base_url,'collapse',288)\n",
    "#collapse_pulls.to_csv('./datasets/collapse_pull.csv',index=False)"
   ]
  },
  {
   "cell_type": "code",
   "execution_count": 14,
   "id": "81337711-04f8-43e2-9491-83523587c0ba",
   "metadata": {},
   "outputs": [],
   "source": [
    "df_fut = pd.read_csv('datasets/futurology_pull.csv')\n",
    "df_col = pd.read_csv('datasets/collapse_pull.csv')"
   ]
  },
  {
   "cell_type": "code",
   "execution_count": 15,
   "id": "c0470f1e-f57d-445c-b5e9-f90e343d97ed",
   "metadata": {},
   "outputs": [
    {
     "data": {
      "text/plain": [
       "(28741, 28876)"
      ]
     },
     "execution_count": 15,
     "metadata": {},
     "output_type": "execute_result"
    }
   ],
   "source": [
    "len(df_col), len(df_fut)"
   ]
  },
  {
   "cell_type": "code",
   "execution_count": 16,
   "id": "adcfadb0-6407-4ecf-8867-106de494bd96",
   "metadata": {},
   "outputs": [
    {
     "name": "stdout",
     "output_type": "stream",
     "text": [
      "7323\n",
      "11008\n"
     ]
    }
   ],
   "source": [
    "print(len(df_col[df_col['selftext'] == '[removed]']))\n",
    "print(len(df_fut[df_fut['selftext'] == '[removed]']))"
   ]
  },
  {
   "cell_type": "markdown",
   "id": "a584fabe-dc20-468d-b6e3-703c8229ff20",
   "metadata": {},
   "source": [
    "The significant amount of removed self-text for both subreddits led me to the analysis of submissions based on title alone."
   ]
  },
  {
   "cell_type": "markdown",
   "id": "50c90ea5-c5a7-4ebf-b00f-b51fec3ee027",
   "metadata": {},
   "source": [
    "### Checking for duplicates"
   ]
  },
  {
   "cell_type": "code",
   "execution_count": 17,
   "id": "a40caa53-b1f9-4057-b7d8-1293d6e7475d",
   "metadata": {},
   "outputs": [],
   "source": [
    "df_fut = df_fut.drop_duplicates()\n",
    "df_col = df_col.drop_duplicates()"
   ]
  },
  {
   "cell_type": "markdown",
   "id": "50e86baf-b7f5-404b-9ef6-8d2650cb01ac",
   "metadata": {},
   "source": [
    "### Dropping unnecessary columns"
   ]
  },
  {
   "cell_type": "code",
   "execution_count": 18,
   "id": "faa03e3d-dfd6-49e4-ae46-a420c7183dd1",
   "metadata": {},
   "outputs": [],
   "source": [
    "df_fut_cut = df_fut[['subreddit','title']]\n",
    "df_col_cut = df_col[['subreddit','title']]"
   ]
  },
  {
   "cell_type": "markdown",
   "id": "8b5a9006-c2a0-4057-918c-03e595816792",
   "metadata": {
    "tags": []
   },
   "source": [
    "### Combining Dataframes"
   ]
  },
  {
   "cell_type": "code",
   "execution_count": 19,
   "id": "e84bf9dc-3f0c-4c0c-9392-9b406d516de3",
   "metadata": {
    "tags": []
   },
   "outputs": [],
   "source": [
    "df_comb = pd.concat([df_col_cut,df_fut_cut])"
   ]
  },
  {
   "cell_type": "code",
   "execution_count": 20,
   "id": "97900f1e-6227-40f6-94c5-45b9564f2add",
   "metadata": {},
   "outputs": [
    {
     "data": {
      "text/plain": [
       "(57617, 2)"
      ]
     },
     "execution_count": 20,
     "metadata": {},
     "output_type": "execute_result"
    }
   ],
   "source": [
    "df_comb.shape"
   ]
  },
  {
   "cell_type": "markdown",
   "id": "053ff6a4-4d58-405a-b3d3-0cb9dc9eace0",
   "metadata": {},
   "source": [
    "### Shuffling and Splitting Dataset into Holdout"
   ]
  },
  {
   "cell_type": "code",
   "execution_count": 21,
   "id": "6cee7b47-954c-450a-ab10-1d449b891172",
   "metadata": {},
   "outputs": [],
   "source": [
    "df_comb = df_comb.sample(frac=1,random_state=2)"
   ]
  },
  {
   "cell_type": "code",
   "execution_count": 22,
   "id": "44b17fd4-5ca9-4485-b995-fe1dcbaa0d94",
   "metadata": {},
   "outputs": [],
   "source": [
    "df_holdout = df_comb[0:11523]\n",
    "X_holdout = df_holdout['title']\n",
    "y_holdout = df_holdout['subreddit']"
   ]
  },
  {
   "cell_type": "code",
   "execution_count": 23,
   "id": "de76f1cb-7b3d-4f13-a2e9-f757e60f179f",
   "metadata": {},
   "outputs": [],
   "source": [
    "df_main = df_comb[11523:]"
   ]
  },
  {
   "cell_type": "code",
   "execution_count": 24,
   "id": "597d9150-d155-4133-95e5-ceafedf83fb7",
   "metadata": {},
   "outputs": [
    {
     "data": {
      "text/plain": [
       "((11523, 2), (46094, 2))"
      ]
     },
     "execution_count": 24,
     "metadata": {},
     "output_type": "execute_result"
    }
   ],
   "source": [
    "df_holdout.shape, df_main.shape"
   ]
  },
  {
   "cell_type": "markdown",
   "id": "a499fc5f-290b-427c-a113-3dbf50744c7a",
   "metadata": {},
   "source": [
    "Using 30% of the dataset for initial analysis."
   ]
  },
  {
   "cell_type": "code",
   "execution_count": 25,
   "id": "a84cb44b-0f8b-4d93-9f95-07e2060dda49",
   "metadata": {},
   "outputs": [],
   "source": [
    "df_sample = df_main.sample(frac=0.3,random_state=2)"
   ]
  },
  {
   "cell_type": "code",
   "execution_count": 26,
   "id": "1da76a9d-f9c0-4fd8-9b0e-37c38c114323",
   "metadata": {},
   "outputs": [
    {
     "data": {
      "text/plain": [
       "Futurology    0.500434\n",
       "collapse      0.499566\n",
       "Name: subreddit, dtype: float64"
      ]
     },
     "execution_count": 26,
     "metadata": {},
     "output_type": "execute_result"
    }
   ],
   "source": [
    "df_sample['subreddit'].value_counts(normalize=True)"
   ]
  },
  {
   "cell_type": "code",
   "execution_count": 27,
   "id": "fd95554d-db41-47ee-b233-ce1b95aad449",
   "metadata": {},
   "outputs": [
    {
     "data": {
      "text/plain": [
       "Futurology    6920\n",
       "collapse      6908\n",
       "Name: subreddit, dtype: int64"
      ]
     },
     "execution_count": 27,
     "metadata": {},
     "output_type": "execute_result"
    }
   ],
   "source": [
    "df_sample['subreddit'].value_counts()"
   ]
  },
  {
   "cell_type": "markdown",
   "id": "26d2916a-3093-4613-8ba7-df35fa164fcd",
   "metadata": {},
   "source": [
    "### TTS"
   ]
  },
  {
   "cell_type": "code",
   "execution_count": 28,
   "id": "c1da68f0-307a-4bee-b48b-160ab226eb6a",
   "metadata": {},
   "outputs": [],
   "source": [
    "X = df_sample['title']\n",
    "y = df_sample['subreddit']"
   ]
  },
  {
   "cell_type": "code",
   "execution_count": 29,
   "id": "284cbdfd-7aac-4d67-b987-f6dd9761e0d7",
   "metadata": {},
   "outputs": [],
   "source": [
    "X_train,X_test,y_train,y_test = train_test_split(X,y,random_state=2,stratify=y)"
   ]
  },
  {
   "cell_type": "markdown",
   "id": "1368e5bf-576c-4b7b-bf49-11acfb7506cd",
   "metadata": {},
   "source": [
    "### Baseline Null"
   ]
  },
  {
   "cell_type": "markdown",
   "id": "ac9af7ee-78b2-416b-abd6-44631d4d5595",
   "metadata": {},
   "source": [
    "The below is our baseline score, against which the accuracy metrics of the model will be assessed. As this is the dataset's percentage of the majority class, the model will need to demonstrate the ability to choose the correct subreddit of origin at a higher rate than merely choosing 'Futurology' each time."
   ]
  },
  {
   "cell_type": "code",
   "execution_count": 30,
   "id": "23c73e96-5d7a-4be6-8c02-7ede78a39e34",
   "metadata": {},
   "outputs": [
    {
     "data": {
      "text/plain": [
       "0.5004339022273647"
      ]
     },
     "execution_count": 30,
     "metadata": {},
     "output_type": "execute_result"
    }
   ],
   "source": [
    "dc = DummyClassifier()\n",
    "dc.fit(X_train,y_train)\n",
    "dc.predict(X_test)\n",
    "dc.score(X_test,y_test)"
   ]
  },
  {
   "cell_type": "markdown",
   "id": "6892dd00-879f-4124-a910-6c299a76cfbd",
   "metadata": {},
   "source": [
    "### Tokenize/Lemmatize"
   ]
  },
  {
   "cell_type": "code",
   "execution_count": 31,
   "id": "044e1a0c-bd35-449f-8e01-e1e74b3f7c06",
   "metadata": {
    "tags": []
   },
   "outputs": [],
   "source": [
    "def lemma_tokenizer(doc):\n",
    "    wnl = WordNetLemmatizer()\n",
    "    return [wnl.lemmatize(w) for w in word_tokenize(doc)]"
   ]
  },
  {
   "cell_type": "markdown",
   "id": "bc4e6242-915e-4b4f-ac51-0c1d45a88d76",
   "metadata": {},
   "source": [
    "### Creating Own List of Stopwords"
   ]
  },
  {
   "cell_type": "markdown",
   "id": "bcdf1631-71e4-4a74-b299-8761a91a8122",
   "metadata": {},
   "source": [
    "Creating my own list of stopwords in an effort to cut through some of the noise the model may encounter from words that should ultimately not be important towards its classification of the posts. The words future/collapse, as well as the various forms the subreddits themselves may be referenced in the posts included in the stopwords so as not to give the model an advantage."
   ]
  },
  {
   "cell_type": "code",
   "execution_count": 32,
   "id": "a4e582d4-7044-4349-bc1f-f630f8a9f368",
   "metadata": {},
   "outputs": [],
   "source": [
    "my_stop_words=['?',',','.','(',')',':','!','u','\\'','i','are','that','the','on','and','is','to','a','of',\\\n",
    "               'in','what','for','will','you','it','be','this','with','do','n\\'t','-','\\'s','\\'','an',\\\n",
    "               '`','.',',','u','/r/futurology','/r/collapse','~','e','g','’','``','=','o','de','r/collapse','r/futurology',\\\n",
    "               'we','how','about','have','can','if','all','or','would','by','our','why','not','your','year','when',\\\n",
    "               'could','there','like','from','...','an','ha','haha','hahaha','[]','[',']','so','new','now','doe',\\\n",
    "               'my','more','just','any','but','who','at','some','me',';','they','no','yes','out','should','get',\\\n",
    "               'most','s','than','up','one','wa','make','here','thing','#','$','got','&','*','where','anyone',\\\n",
    "               'futurology','future','\\'''','%','🤔','🤙','😈','🔮','/r/futorology','“','😜','🗿','•',\\\n",
    "              '】해외베팅','】아시안커넥트/아시안커넥트 주소/아시안커넥트','】아시안커넥트/아시안커넥트','】스포츠토토','】메이저','【','》','《','☎1',\\\n",
    "              'collapsing','futurist','collapse',\\\n",
    "              'post-collapse','region','collapsed','link','in-depth',\\\n",
    "               'futuristic']"
   ]
  },
  {
   "cell_type": "markdown",
   "id": "dd899f5d-7426-4f0b-9e70-60ac40caca01",
   "metadata": {},
   "source": [
    "### Count Vectorize"
   ]
  },
  {
   "cell_type": "code",
   "execution_count": 33,
   "id": "8947dd5e-555e-44e8-aa26-37ccd8a39aaf",
   "metadata": {},
   "outputs": [],
   "source": [
    "cvec = CountVectorizer(strip_accents='unicode',stop_words=my_stop_words,ngram_range=(1,2),tokenizer=lemma_tokenizer)\n",
    "cvec.fit(X_train)\n",
    "X_train_cv = cvec.transform(X_train)\n",
    "X_test_cv = cvec.transform(X_test)\n",
    "\n",
    "X_train_cv = pd.DataFrame(X_train_cv.A,columns=cvec.get_feature_names_out())\n",
    "X_test_cv = pd.DataFrame(X_test_cv.A,columns=cvec.get_feature_names_out())\n",
    "\n"
   ]
  },
  {
   "cell_type": "markdown",
   "id": "b7786beb-a74c-4ecd-bc73-353f5efd4849",
   "metadata": {},
   "source": [
    "### TF-IDF Vectorize"
   ]
  },
  {
   "cell_type": "code",
   "execution_count": 34,
   "id": "641a5630-1525-4c7f-ac7a-a8ee1ef9e6f0",
   "metadata": {},
   "outputs": [],
   "source": [
    "tfi = TfidfVectorizer(strip_accents='unicode',stop_words=my_stop_words,ngram_range=(1,2),tokenizer=lemma_tokenizer)\n",
    "tfi.fit(X_train)\n",
    "X_train_tfi = tfi.transform(X_train)\n",
    "X_test_tfi = tfi.transform(X_test)\n",
    "\n",
    "X_train_tfi = pd.DataFrame(X_train_tfi.A,columns=tfi.get_feature_names_out())\n",
    "X_test_tfi = pd.DataFrame(X_test_tfi.A,columns=tfi.get_feature_names_out())"
   ]
  },
  {
   "cell_type": "markdown",
   "id": "13aec3ac-abb1-4f06-ab1e-0ad1ba94fad3",
   "metadata": {},
   "source": [
    "### Label Encoding Y"
   ]
  },
  {
   "cell_type": "code",
   "execution_count": 35,
   "id": "f9ca4415-36c5-422e-8b48-977404aaa467",
   "metadata": {},
   "outputs": [],
   "source": [
    "le = LabelEncoder()\n",
    "y_train_le = le.fit_transform(y_train)\n",
    "y_test_le = le.transform(y_test)"
   ]
  },
  {
   "cell_type": "code",
   "execution_count": 36,
   "id": "9794a21a-37a4-4831-8c88-1028e456f4af",
   "metadata": {},
   "outputs": [
    {
     "data": {
      "text/plain": [
       "0.4995660977726352"
      ]
     },
     "execution_count": 36,
     "metadata": {},
     "output_type": "execute_result"
    }
   ],
   "source": [
    "y_train_le.mean()"
   ]
  },
  {
   "cell_type": "markdown",
   "id": "e0afae6e-1b48-45c8-80c3-d3e672a36e4c",
   "metadata": {},
   "source": [
    "Collapse = 1"
   ]
  },
  {
   "cell_type": "markdown",
   "id": "4061a478-517f-499c-b3aa-9d911a0f7ba6",
   "metadata": {},
   "source": [
    "The most commonly features in the vectorized model is reviewed in order to add words to the custom stopwords list."
   ]
  },
  {
   "cell_type": "markdown",
   "id": "8ecf25ec-09c3-4d4f-8b2a-70267818ec06",
   "metadata": {},
   "source": [
    "### Reviewing Most Frequent Features"
   ]
  },
  {
   "cell_type": "code",
   "execution_count": 37,
   "id": "82237807-58b5-4e48-b491-5b6e7e0ffcb6",
   "metadata": {},
   "outputs": [
    {
     "data": {
      "text/plain": [
       "think             454\n",
       "''                441\n",
       "world             427\n",
       "people            393\n",
       "human             379\n",
       "climate           353\n",
       "change            333\n",
       "technology        254\n",
       "ai                253\n",
       "going             227\n",
       "climate change    218\n",
       "time              199\n",
       "life              191\n",
       "next              187\n",
       "need              178\n",
       "thought           178\n",
       "see               177\n",
       "society           164\n",
       "good              153\n",
       "question          152\n",
       "job               152\n",
       "global            150\n",
       "car               149\n",
       "help              148\n",
       "their             148\n",
       "dtype: int64"
      ]
     },
     "execution_count": 37,
     "metadata": {},
     "output_type": "execute_result"
    }
   ],
   "source": [
    "X_train_cv.sum().sort_values(ascending=False).head(25)"
   ]
  },
  {
   "cell_type": "markdown",
   "id": "5b9186dc-b3e6-4cda-8c6a-c4b83c4d9ecb",
   "metadata": {},
   "source": [
    "### Naive Bayes"
   ]
  },
  {
   "cell_type": "markdown",
   "id": "9b1204d4-faa8-48af-8960-728d5fd52781",
   "metadata": {},
   "source": [
    "Running Multinomial Naive Bayes on lemmatized, countvectorized data. Model not shown dropped lemmatizer and model worsened."
   ]
  },
  {
   "cell_type": "code",
   "execution_count": 99,
   "id": "21d8da60-1f59-4fd8-a7a9-7ce905069569",
   "metadata": {},
   "outputs": [
    {
     "data": {
      "text/plain": [
       "(0.898177610645068, 0.798090830199595)"
      ]
     },
     "execution_count": 99,
     "metadata": {},
     "output_type": "execute_result"
    }
   ],
   "source": [
    "pipenb = Pipeline(\n",
    "    [\n",
    "    ('cv',CountVectorizer(stop_words=my_stop_words,strip_accents='unicode',tokenizer=lemma_tokenizer)),\n",
    "    ('nb',MultinomialNB())   \n",
    "    ])\n",
    "\n",
    "pipenb.fit(X_train,y_train_le)\n",
    "pipenb.score(X_train,y_train_le),pipenb.score(X_test,y_test_le)"
   ]
  },
  {
   "cell_type": "code",
   "execution_count": 100,
   "id": "69bd965f-5285-49fc-8637-00ab53bad3e8",
   "metadata": {},
   "outputs": [],
   "source": [
    "pipenb_params = {\n",
    "    'cv__ngram_range' : [(1,1), (1,2), (2,2), (1,3), (2,3)],\n",
    "    'cv__min_df': [1,2,3],\n",
    "    'cv__max_df': [0.6,0.5,0.4],\n",
    "}"
   ]
  },
  {
   "cell_type": "code",
   "execution_count": 102,
   "id": "4812d337-cddf-46a8-8f82-be1139dcb3e4",
   "metadata": {},
   "outputs": [
    {
     "data": {
      "text/plain": [
       "(0.9684697714781603, 0.8021405843216662)"
      ]
     },
     "execution_count": 102,
     "metadata": {},
     "output_type": "execute_result"
    }
   ],
   "source": [
    "gsnb = GridSearchCV(pipenb,param_grid=pipenb_params)\n",
    "gsnb.fit(X_train,y_train_le)\n",
    "gsnb.score(X_train,y_train_le),gsnb.score(X_test,y_test_le)"
   ]
  },
  {
   "cell_type": "code",
   "execution_count": 103,
   "id": "e580201d-1b02-4fe3-8df2-fa2a707d634f",
   "metadata": {},
   "outputs": [
    {
     "data": {
      "text/plain": [
       "Pipeline(steps=[('cv',\n",
       "                 CountVectorizer(max_df=0.6, ngram_range=(1, 2),\n",
       "                                 stop_words=['?', ',', '.', '(', ')', ':', '!',\n",
       "                                             'u', \"'\", 'i', 'are', 'that',\n",
       "                                             'the', 'on', 'and', 'is', 'to',\n",
       "                                             'a', 'of', 'in', 'what', 'for',\n",
       "                                             'will', 'you', 'it', 'be', 'this',\n",
       "                                             'with', 'do', \"n't\", ...],\n",
       "                                 strip_accents='unicode',\n",
       "                                 tokenizer=<function lemma_tokenizer at 0x7f82d49a2940>)),\n",
       "                ('nb', MultinomialNB())])"
      ]
     },
     "execution_count": 103,
     "metadata": {},
     "output_type": "execute_result"
    }
   ],
   "source": [
    "gsnb.best_estimator_"
   ]
  },
  {
   "cell_type": "markdown",
   "id": "ed336b02-b992-4381-9a5e-9e41307bc33f",
   "metadata": {},
   "source": [
    "The gridsearch yielded an improved model, with an accuracy score of 80.21%."
   ]
  },
  {
   "cell_type": "markdown",
   "id": "dc37e364-c962-48f9-b70c-0ca0fbfed18e",
   "metadata": {},
   "source": [
    "Scoring The TF-IDF vectorized data on Gaussian Naive Bayes. Multinomial Naive Bayes is suited for count-vectorized, Gaussian to data vectorized using TF-IDF."
   ]
  },
  {
   "cell_type": "code",
   "execution_count": 108,
   "id": "d472efba-917a-438a-a626-d40278b93fee",
   "metadata": {},
   "outputs": [
    {
     "data": {
      "text/plain": [
       "(0.9865008195930961, 0.6901938096615563)"
      ]
     },
     "execution_count": 108,
     "metadata": {},
     "output_type": "execute_result"
    }
   ],
   "source": [
    "gnb = GaussianNB()\n",
    "\n",
    "gnb.fit(X_train_tfi,y_train_le)\n",
    "gnb.score(X_train_tfi,y_train_le),gnb.score(X_test_tfi,y_test_le)"
   ]
  },
  {
   "cell_type": "markdown",
   "id": "0a3065d2-cab0-4c24-b2b2-805d177666e3",
   "metadata": {
    "tags": []
   },
   "source": [
    "The Gaussian Naive Bayes performs much worse than the Multinomial."
   ]
  },
  {
   "cell_type": "markdown",
   "id": "32a1b6cf-bd2a-4a73-b219-4336a402252e",
   "metadata": {},
   "source": [
    "### Logistic, Count Vectorized"
   ]
  },
  {
   "cell_type": "markdown",
   "id": "567ff0da-e8cf-47c1-9946-18fab96759f2",
   "metadata": {},
   "source": [
    "Running fairly basic Logistic Regression. CV data. Performs worse than Naive Bayes."
   ]
  },
  {
   "cell_type": "code",
   "execution_count": 111,
   "id": "299f0da9-84e2-41b2-9a41-1ed220b7bd3c",
   "metadata": {},
   "outputs": [
    {
     "data": {
      "text/plain": [
       "(0.9300935300356764, 0.7839166907723459)"
      ]
     },
     "execution_count": 111,
     "metadata": {},
     "output_type": "execute_result"
    }
   ],
   "source": [
    "logregpipe = Pipeline(\n",
    "    [\n",
    "    ('cv',CountVectorizer(stop_words=my_stop_words,strip_accents='unicode',tokenizer=lemma_tokenizer)),\n",
    "    ('lr',LogisticRegression(max_iter=10000))   \n",
    "    ])\n",
    "\n",
    "logregpipe.fit(X_train,y_train_le)\n",
    "logregpipe.score(X_train,y_train_le),logregpipe.score(X_test,y_test_le)"
   ]
  },
  {
   "cell_type": "markdown",
   "id": "417440ee-ca0e-411d-83f2-e698309c9f94",
   "metadata": {},
   "source": [
    "The model does not perform as well as Naive Bayes. Conducting gridsearch to tune hyperparamters."
   ]
  },
  {
   "cell_type": "code",
   "execution_count": 114,
   "id": "9c797737-4247-4a37-83b8-4abf706b63c6",
   "metadata": {},
   "outputs": [],
   "source": [
    "logregpipe_params = {\n",
    "    'cv__ngram_range' : [(1,1), (1,2), (2,2), (1,3), (2,3)],\n",
    "    'cv__min_df': [1,2,3],\n",
    "    'cv__max_df': [0.4,0.5,0.6],\n",
    "    'lr__C': [.1,1,10,100]\n",
    "}"
   ]
  },
  {
   "cell_type": "code",
   "execution_count": 115,
   "id": "e15e72bb-7890-4de3-8632-a359dada73e3",
   "metadata": {},
   "outputs": [
    {
     "data": {
      "text/plain": [
       "(0.9846687879664449, 0.7914376627133353)"
      ]
     },
     "execution_count": 115,
     "metadata": {},
     "output_type": "execute_result"
    }
   ],
   "source": [
    "gslogreg = GridSearchCV(logregpipe,param_grid=logregpipe_params)\n",
    "gslogreg.fit(X_train,y_train)\n",
    "gslogreg.score(X_train,y_train), gslogreg.score(X_test,y_test)"
   ]
  },
  {
   "cell_type": "code",
   "execution_count": 116,
   "id": "d3a99b11-38bc-4697-ac6a-f519a850574e",
   "metadata": {},
   "outputs": [
    {
     "data": {
      "text/plain": [
       "Pipeline(steps=[('cv',\n",
       "                 CountVectorizer(max_df=0.4, ngram_range=(1, 2),\n",
       "                                 stop_words=['?', ',', '.', '(', ')', ':', '!',\n",
       "                                             'u', \"'\", 'i', 'are', 'that',\n",
       "                                             'the', 'on', 'and', 'is', 'to',\n",
       "                                             'a', 'of', 'in', 'what', 'for',\n",
       "                                             'will', 'you', 'it', 'be', 'this',\n",
       "                                             'with', 'do', \"n't\", ...],\n",
       "                                 strip_accents='unicode',\n",
       "                                 tokenizer=<function lemma_tokenizer at 0x7f82d49a2940>)),\n",
       "                ('lr', LogisticRegression(C=1, max_iter=10000))])"
      ]
     },
     "execution_count": 116,
     "metadata": {},
     "output_type": "execute_result"
    }
   ],
   "source": [
    "gslogreg.best_estimator_"
   ]
  },
  {
   "cell_type": "markdown",
   "id": "935d02b5-c037-4c13-b056-2352251e009d",
   "metadata": {},
   "source": [
    "The gridsearch produces a model that tunes several paramters and produces an accuracy of 79.14%. Not as strong as Naive Bayes model."
   ]
  },
  {
   "cell_type": "code",
   "execution_count": 129,
   "id": "c66e8ba8-1ae4-4a55-bc64-a77f3ea291fc",
   "metadata": {},
   "outputs": [
    {
     "data": {
      "text/plain": [
       "(0.9835117153601388, 0.7885449811975701)"
      ]
     },
     "execution_count": 129,
     "metadata": {},
     "output_type": "execute_result"
    }
   ],
   "source": [
    "logregpipe2 = Pipeline(\n",
    "    [\n",
    "    ('cv',CountVectorizer(stop_words=my_stop_words,strip_accents='unicode',tokenizer=lemma_tokenizer,max_df=0.4,ngram_range=(1, 2),max_features=60000)),\n",
    "    ('lr',LogisticRegression(max_iter=10000))   \n",
    "    ])\n",
    "\n",
    "logregpipe2.fit(X_train,y_train_le)\n",
    "logregpipe2.score(X_train,y_train_le),logregpipe2.score(X_test,y_test_le)"
   ]
  },
  {
   "cell_type": "markdown",
   "id": "50548b22-b5b0-4eca-8d26-e4aa9255489d",
   "metadata": {},
   "source": [
    "Efforts to improve score via implementing max features were unsuccessful."
   ]
  },
  {
   "cell_type": "markdown",
   "id": "6b629999-0036-4e7d-a801-6c14f8ba26ee",
   "metadata": {},
   "source": [
    "### Logistic, TF-IDF"
   ]
  },
  {
   "cell_type": "markdown",
   "id": "c8950135-53a4-4f35-97f0-07c6f2da84fa",
   "metadata": {},
   "source": [
    "Running similar analysis, with TF-IDF vectorizing."
   ]
  },
  {
   "cell_type": "code",
   "execution_count": 130,
   "id": "63f2b973-4ba7-4200-b0f7-26f2c781098e",
   "metadata": {},
   "outputs": [
    {
     "data": {
      "text/plain": [
       "(0.8961527335840324, 0.7943303442291004)"
      ]
     },
     "execution_count": 130,
     "metadata": {},
     "output_type": "execute_result"
    }
   ],
   "source": [
    "lgtpipe = Pipeline(\n",
    "    [\n",
    "    ('tf',TfidfVectorizer(stop_words=my_stop_words,tokenizer=lemma_tokenizer)),\n",
    "    ('lr',LogisticRegression(max_iter=10000))   \n",
    "    ])\n",
    "\n",
    "lgtpipe.fit(X_train,y_train_le)\n",
    "lgtpipe.score(X_train,y_train_le),lgtpipe.score(X_test,y_test_le)"
   ]
  },
  {
   "cell_type": "markdown",
   "id": "c69c66ce-2cc9-4668-8c68-9c6606fec25f",
   "metadata": {},
   "source": [
    "A fairly standard model performs better than the gridsearched count-vectorized model, with a 79.43% accuracy."
   ]
  },
  {
   "cell_type": "markdown",
   "id": "e431a978-a9c8-4a59-a81e-58ab84a96d16",
   "metadata": {},
   "source": [
    "Building gridsearch to try to build better model."
   ]
  },
  {
   "cell_type": "code",
   "execution_count": 134,
   "id": "356993e9-44df-428c-95b6-168eea06bbe1",
   "metadata": {},
   "outputs": [],
   "source": [
    "lgtpipe_params = {\n",
    "    'tf__min_df': [1, 2, 3,4],\n",
    "    'tf__max_df': [.4, .5],\n",
    "    'tf__ngram_range': [[1,1], [1,2], [2,2], [1,3]],\n",
    "    'lr__C': [.1,1,10]\n",
    "}"
   ]
  },
  {
   "cell_type": "code",
   "execution_count": 135,
   "id": "b5be15ec-06d6-41dc-9abd-143b326ecef5",
   "metadata": {},
   "outputs": [
    {
     "data": {
      "text/plain": [
       "(0.9595988814964805, 0.7931732716227944)"
      ]
     },
     "execution_count": 135,
     "metadata": {},
     "output_type": "execute_result"
    }
   ],
   "source": [
    "gslgt = GridSearchCV(lgtpipe,param_grid=lgtpipe_params)\n",
    "gslgt.fit(X_train,y_train)\n",
    "gslgt.score(X_train,y_train), gslgt.score(X_test,y_test)"
   ]
  },
  {
   "cell_type": "code",
   "execution_count": 136,
   "id": "1709439c-b036-4889-8c23-ff35002c285b",
   "metadata": {},
   "outputs": [
    {
     "data": {
      "text/plain": [
       "Pipeline(steps=[('tf',\n",
       "                 TfidfVectorizer(max_df=0.4, ngram_range=[1, 3],\n",
       "                                 stop_words=['?', ',', '.', '(', ')', ':', '!',\n",
       "                                             'u', \"'\", 'i', 'are', 'that',\n",
       "                                             'the', 'on', 'and', 'is', 'to',\n",
       "                                             'a', 'of', 'in', 'what', 'for',\n",
       "                                             'will', 'you', 'it', 'be', 'this',\n",
       "                                             'with', 'do', \"n't\", ...],\n",
       "                                 tokenizer=<function lemma_tokenizer at 0x7f82d49a2940>)),\n",
       "                ('lr', LogisticRegression(C=1, max_iter=10000))])"
      ]
     },
     "execution_count": 136,
     "metadata": {},
     "output_type": "execute_result"
    }
   ],
   "source": [
    "gslgt.best_estimator_"
   ]
  },
  {
   "cell_type": "code",
   "execution_count": 150,
   "id": "486b72b0-7de5-42da-82d0-46cb91985f78",
   "metadata": {},
   "outputs": [
    {
     "data": {
      "text/plain": [
       "(0.9407964516440074, 0.795776684986983)"
      ]
     },
     "execution_count": 150,
     "metadata": {},
     "output_type": "execute_result"
    }
   ],
   "source": [
    "lgtpipe2 = Pipeline(\n",
    "    [\n",
    "    ('tf',TfidfVectorizer(stop_words=my_stop_words,tokenizer=lemma_tokenizer,max_df=0.4,ngram_range=[1, 3],max_features=69000)),\n",
    "    ('lr',LogisticRegression(max_iter=10000))   \n",
    "    ])\n",
    "\n",
    "lgtpipe2.fit(X_train,y_train_le)\n",
    "lgtpipe2.score(X_train,y_train_le),lgtpipe2.score(X_test,y_test_le)"
   ]
  },
  {
   "cell_type": "markdown",
   "id": "3c004e01-922b-49e8-b17b-bade8665b253",
   "metadata": {},
   "source": [
    "After running gridsearch, a better model is identified with a max feature parameter of 69,000. This is the best Logistic Regression model, but not as strong as the Naive Bayes."
   ]
  },
  {
   "cell_type": "markdown",
   "id": "31bad8db-4fd1-46e1-961b-91a12fbd6625",
   "metadata": {},
   "source": [
    "### KNN Model"
   ]
  },
  {
   "cell_type": "markdown",
   "id": "ae5d6032-6e2a-4234-8f1b-77c3dbb70d79",
   "metadata": {},
   "source": [
    "Running a KNN model with tuned parameters."
   ]
  },
  {
   "cell_type": "code",
   "execution_count": 178,
   "id": "da1e2647-b277-4ebe-88a2-24dd301db300",
   "metadata": {},
   "outputs": [
    {
     "data": {
      "text/plain": [
       "(0.9765692797223026, 0.6421752964998554)"
      ]
     },
     "execution_count": 178,
     "metadata": {},
     "output_type": "execute_result"
    }
   ],
   "source": [
    "pipeknn = Pipeline(\n",
    "    [\n",
    "    ('cv',CountVectorizer(stop_words=my_stop_words,tokenizer=lemma_tokenizer,ngram_range=[1,3],max_df=0.5,min_df=3)),\n",
    "    ('knc', KNeighborsClassifier(n_neighbors=3,weights='distance'))\n",
    "    ])\n",
    "\n",
    "pipeknn.fit(X_train,y_train_le)\n",
    "pipeknn.score(X_train,y_train_le),pipeknn.score(X_test,y_test_le)"
   ]
  },
  {
   "cell_type": "markdown",
   "id": "cd1060d9-03d3-4062-b135-aeea2c50c187",
   "metadata": {},
   "source": [
    "The KNN model performs worse than any model previously seen in this analysis."
   ]
  },
  {
   "cell_type": "markdown",
   "id": "cc848c84-23e2-4017-a44a-47e0c85ac4c0",
   "metadata": {},
   "source": [
    "### Decision Tree Classifier"
   ]
  },
  {
   "cell_type": "markdown",
   "id": "41750666-162f-4b89-af56-2d25006ade6d",
   "metadata": {},
   "source": [
    "Running a Decision Tree Classifier with tuned parameters."
   ]
  },
  {
   "cell_type": "code",
   "execution_count": 181,
   "id": "3cd71956-3c4f-4788-9c0b-8cfb1176e7d3",
   "metadata": {},
   "outputs": [
    {
     "data": {
      "text/plain": [
       "(0.592710442580272, 0.5840323980329766)"
      ]
     },
     "execution_count": 181,
     "metadata": {},
     "output_type": "execute_result"
    }
   ],
   "source": [
    "pipedtc = Pipeline(\n",
    "    [\n",
    "    ('cv',CountVectorizer(stop_words=my_stop_words,tokenizer=lemma_tokenizer,ngram_range=[1,3],max_df=0.5)),\n",
    "    ('dtc', DecisionTreeClassifier(random_state=2,max_depth=10))\n",
    "    ])\n",
    "\n",
    "pipedtc.fit(X_train,y_train_le)\n",
    "pipedtc.score(X_train,y_train_le),pipedtc.score(X_test,y_test_le)"
   ]
  },
  {
   "cell_type": "markdown",
   "id": "3bf27bbd-bd9a-4c53-be40-5150ec770ec1",
   "metadata": {},
   "source": [
    "This model performs worse than KNN."
   ]
  },
  {
   "cell_type": "markdown",
   "id": "e811a763-7e11-4c23-8e2b-290aeba0bb69",
   "metadata": {},
   "source": [
    "### Random Forest, Count Vectorized"
   ]
  },
  {
   "cell_type": "markdown",
   "id": "0a4a6551-4ee3-491e-8afb-a91aab451fee",
   "metadata": {},
   "source": [
    "Running a Random Forest model with count vectorized data and tuned hyperparameters. "
   ]
  },
  {
   "cell_type": "code",
   "execution_count": 205,
   "id": "95497b03-bc06-4f95-a796-0f9be61c99ef",
   "metadata": {},
   "outputs": [
    {
     "data": {
      "text/plain": [
       "(0.993732523382509, 0.7755279143766272)"
      ]
     },
     "execution_count": 205,
     "metadata": {},
     "output_type": "execute_result"
    }
   ],
   "source": [
    "piperfc = Pipeline(\n",
    "    [\n",
    "    ('cv',CountVectorizer(stop_words=my_stop_words,tokenizer=lemma_tokenizer,ngram_range=(1,2),max_df=0.5)),\n",
    "    ('rfc', RandomForestClassifier(random_state=2,n_estimators=400,min_samples_split=4,max_depth=None))\n",
    "    ])\n",
    "\n",
    "piperfc.fit(X_train,y_train_le)\n",
    "piperfc.score(X_train,y_train_le),piperfc.score(X_test,y_test_le)"
   ]
  },
  {
   "cell_type": "markdown",
   "id": "51ef81f1-4dd3-4ea6-901d-cb94b3a8a1dd",
   "metadata": {},
   "source": [
    "Fairly strong, not as strong as Bayes or strongest logistic."
   ]
  },
  {
   "cell_type": "markdown",
   "id": "46cfb7a4-031e-4388-b3bd-df516e12d069",
   "metadata": {},
   "source": [
    "### Random Forest, TF-IDF Vectorized"
   ]
  },
  {
   "cell_type": "markdown",
   "id": "08a4d560-b288-4c8e-b163-52374f8b7386",
   "metadata": {
    "tags": []
   },
   "source": [
    "Running  Random Forest model using the TF-IDF vectorization and tuned parameters."
   ]
  },
  {
   "cell_type": "code",
   "execution_count": 210,
   "id": "32e64414-5ec6-498b-8947-2a20e16cfcdb",
   "metadata": {},
   "outputs": [
    {
     "data": {
      "text/plain": [
       "(0.9945039051200463, 0.7639571883135666)"
      ]
     },
     "execution_count": 210,
     "metadata": {},
     "output_type": "execute_result"
    }
   ],
   "source": [
    "piperfct = Pipeline(\n",
    "    [\n",
    "    ('tf',TfidfVectorizer(stop_words=my_stop_words,ngram_range=[1,2],max_df=0.5,tokenizer=lemma_tokenizer)),\n",
    "    ('rfc', RandomForestClassifier(random_state=2,min_samples_split=5,n_estimators=400,max_depth=None))\n",
    "    ])\n",
    "\n",
    "piperfct.fit(X_train,y_train_le)\n",
    "piperfct.score(X_train,y_train_le),piperfct.score(X_test,y_test_le)"
   ]
  },
  {
   "cell_type": "markdown",
   "id": "dfcf754d-4c82-4322-bc6b-99b84b58e98a",
   "metadata": {},
   "source": [
    "Model does not perform as strongly as the count vectorized model."
   ]
  },
  {
   "cell_type": "markdown",
   "id": "c43dc00d-03c2-4ba7-bc8a-81f94b602a88",
   "metadata": {},
   "source": [
    "### Ada Booster"
   ]
  },
  {
   "cell_type": "markdown",
   "id": "3ff1bb96-a787-441c-8a76-374263b115c7",
   "metadata": {},
   "source": [
    "Running a tuned model using AdaBoost."
   ]
  },
  {
   "cell_type": "code",
   "execution_count": 227,
   "id": "b678bc63-aef8-46ad-838f-036c573acec6",
   "metadata": {},
   "outputs": [
    {
     "data": {
      "text/plain": [
       "(0.9201619901648829, 0.7526757304020827)"
      ]
     },
     "execution_count": 227,
     "metadata": {},
     "output_type": "execute_result"
    }
   ],
   "source": [
    "pipeada = Pipeline(\n",
    "    [\n",
    "    ('cv',CountVectorizer(stop_words=my_stop_words,ngram_range=[1,2],max_df=0.7,tokenizer=lemma_tokenizer,max_features=45000)),\n",
    "    ('abc', AdaBoostClassifier(random_state=2,n_estimators=2000))\n",
    "    ])\n",
    "\n",
    "pipeada.fit(X_train,y_train_le)\n",
    "pipeada.score(X_train,y_train_le),pipeada.score(X_test,y_test_le)"
   ]
  },
  {
   "cell_type": "markdown",
   "id": "30c4168a-c8d7-4122-8979-43ef121d17bc",
   "metadata": {},
   "source": [
    "Model does not perform as well as RFC, Bayes, or Logistic."
   ]
  },
  {
   "cell_type": "markdown",
   "id": "e85be642-3725-4cba-b178-9e1b3eebcded",
   "metadata": {},
   "source": [
    "Running similar analysis with TF-IDF data."
   ]
  },
  {
   "cell_type": "code",
   "execution_count": 225,
   "id": "d34bae9b-3d54-4ea0-90a2-caeadb217813",
   "metadata": {},
   "outputs": [
    {
     "data": {
      "text/plain": [
       "(0.9493780734741105, 0.7243274515475846)"
      ]
     },
     "execution_count": 225,
     "metadata": {},
     "output_type": "execute_result"
    }
   ],
   "source": [
    "pipeada = Pipeline(\n",
    "    [\n",
    "    ('tfi',TfidfVectorizer(stop_words=my_stop_words,ngram_range=[1,1],max_df=0.7,tokenizer=lemma_tokenizer,max_features=45000)),\n",
    "    ('abc', AdaBoostClassifier(random_state=2,n_estimators=2000))\n",
    "    ])\n",
    "\n",
    "pipeada.fit(X_train,y_train_le)\n",
    "pipeada.score(X_train,y_train_le),pipeada.score(X_test,y_test_le)"
   ]
  },
  {
   "cell_type": "markdown",
   "id": "637c7a77-8790-43e5-9072-7b45680bad67",
   "metadata": {},
   "source": [
    "Model does not perform as well as with count vectorized data."
   ]
  },
  {
   "cell_type": "markdown",
   "id": "f7634ce4-15fe-43c5-981f-a0e584d41915",
   "metadata": {},
   "source": [
    "### Ensemble Analysis"
   ]
  },
  {
   "cell_type": "markdown",
   "id": "270097d4-b8f0-4701-b084-e84c394272f9",
   "metadata": {},
   "source": [
    "Ensemble model built with Count Vectorized data, combining Logistic Regression, Multinomial Naive Bayes, and Random Forest Classifier."
   ]
  },
  {
   "cell_type": "code",
   "execution_count": 31,
   "id": "6bdd4c6f-9549-479e-b1c6-c3129e3ee38e",
   "metadata": {},
   "outputs": [
    {
     "data": {
      "text/plain": [
       "(0.9860187060071353, 0.7963552212901359)"
      ]
     },
     "execution_count": 31,
     "metadata": {},
     "output_type": "execute_result"
    }
   ],
   "source": [
    "vr1 = VotingClassifier(\n",
    "    [('lr',LogisticRegression(max_iter=10000)),\n",
    "     ('mnb', MultinomialNB()),\n",
    "     ('rfc', RandomForestClassifier(random_state=2,min_samples_split=4,n_estimators=250)),\n",
    "      ],\n",
    ")\n",
    "\n",
    "vr1.fit(X_train_cv,y_train_le)\n",
    "vr1.score(X_train_cv,y_train_le),vr1.score(X_test_cv,y_test_le)"
   ]
  },
  {
   "cell_type": "markdown",
   "id": "c206f13c-3a39-4539-8236-2785260078d0",
   "metadata": {},
   "source": [
    "This model was strong, but is slightly worse than the Naive Bayes Mode."
   ]
  },
  {
   "cell_type": "code",
   "execution_count": 31,
   "id": "bd78b130-6817-4bdd-b8c4-6a6d681bfa01",
   "metadata": {},
   "outputs": [
    {
     "data": {
      "text/plain": [
       "(0.9743515572268826, 0.8038761932311252)"
      ]
     },
     "execution_count": 31,
     "metadata": {},
     "output_type": "execute_result"
    }
   ],
   "source": [
    "vr2 = VotingClassifier(\n",
    "    [('lr',LogisticRegression(max_iter=10000)),\n",
    "     ('mnb', MultinomialNB()),\n",
    "     ('rfc', RandomForestClassifier(random_state=2,min_samples_split=4,n_estimators=250)),\n",
    "      ],\n",
    ")\n",
    "\n",
    "vr2.fit(X_train_tfi,y_train_le)\n",
    "vr2.score(X_train_tfi,y_train_le),vr2.score(X_test_tfi,y_test_le)"
   ]
  },
  {
   "cell_type": "markdown",
   "id": "faed98ef-d616-4f11-b46e-f078f5d530e7",
   "metadata": {},
   "source": [
    "Using TF-IFD vectorized data improves the model to 80.39% accuracy on the test set. This is the best model that has been produced thus far."
   ]
  },
  {
   "cell_type": "markdown",
   "id": "7210c269-d74f-48fe-b098-a60ad42e79c0",
   "metadata": {},
   "source": [
    "### Revisiting Naive Bayes"
   ]
  },
  {
   "cell_type": "markdown",
   "id": "0da9747f-f0f0-4b24-8a9c-6c383c1a40a6",
   "metadata": {},
   "source": [
    "Running a tuned model of Multinomial Naive Bayes with Count Vectroized data, trigrams, and max features of 70,000."
   ]
  },
  {
   "cell_type": "code",
   "execution_count": 37,
   "id": "b9c31654-52a8-475b-a2fc-51178f514908",
   "metadata": {},
   "outputs": [
    {
     "data": {
      "text/plain": [
       "(0.9662520489827403, 0.8278854498119756)"
      ]
     },
     "execution_count": 37,
     "metadata": {},
     "output_type": "execute_result"
    }
   ],
   "source": [
    "pipenb2 = Pipeline(\n",
    "    [\n",
    "    ('cv',CountVectorizer(stop_words=my_stop_words,strip_accents='unicode',tokenizer=lemma_tokenizer,min_df=1,max_df=0.6,max_features=70000,ngram_range=(1,3))),\n",
    "    ('nb',MultinomialNB())   \n",
    "    ])\n",
    "\n",
    "pipenb2.fit(X_train,y_train_le)\n",
    "pipenb2.score(X_train,y_train_le),pipenb2.score(X_test,y_test_le)"
   ]
  },
  {
   "cell_type": "markdown",
   "id": "78b5febf-96df-40c5-9540-39d9d8e4715f",
   "metadata": {},
   "source": [
    "This is the best model that has yet been produced."
   ]
  },
  {
   "cell_type": "markdown",
   "id": "3f879776-7844-40cf-be76-8e23bf0b98a2",
   "metadata": {},
   "source": [
    "Running tuned model of Multinomial Naive Bayes, using TF-IDF, with bigrams and max features of 64,000."
   ]
  },
  {
   "cell_type": "code",
   "execution_count": 38,
   "id": "98ffe4b5-20f2-4ec3-a24c-af845987acbc",
   "metadata": {},
   "outputs": [
    {
     "data": {
      "text/plain": [
       "(0.9765692797223026, 0.8319352039340469)"
      ]
     },
     "execution_count": 38,
     "metadata": {},
     "output_type": "execute_result"
    }
   ],
   "source": [
    "pipenb3 = Pipeline(\n",
    "    [\n",
    "    ('tfi',TfidfVectorizer(stop_words=my_stop_words,strip_accents='unicode',ngram_range=(1, 2),max_df=.4,tokenizer=lemma_tokenizer,max_features=64000)),\n",
    "    ('nb',MultinomialNB(alpha=1))   \n",
    "    ])\n",
    "\n",
    "pipenb3.fit(X_train,y_train_le)\n",
    "pipenb3.score(X_train,y_train_le),pipenb3.score(X_test,y_test_le)"
   ]
  },
  {
   "cell_type": "markdown",
   "id": "93d6b1b6-6dd9-42f8-9d2b-9f73c7252c7a",
   "metadata": {},
   "source": [
    "This is the best model, with 83.19% accuracy on test set. This will be the model we proceed with."
   ]
  },
  {
   "cell_type": "markdown",
   "id": "a2ef5506-2cd0-4994-878b-b87b80991645",
   "metadata": {},
   "source": [
    "### Further Analysis - Feature Importance and Adding StopWords"
   ]
  },
  {
   "cell_type": "markdown",
   "id": "91a2dc8d-d509-4ce0-8b95-1648a3fb7cc6",
   "metadata": {},
   "source": [
    "Identifying the features having the largest impact on the model."
   ]
  },
  {
   "cell_type": "code",
   "execution_count": 40,
   "id": "b5cfbc7d-2958-48a2-b8c3-4dcd5cd33749",
   "metadata": {},
   "outputs": [],
   "source": [
    "imps = pipenb3.named_steps['nb'].feature_log_prob_[1,:] - pipenb3.named_steps['nb'].feature_log_prob_[0,:]\n",
    "\n",
    "nb_feat_imp = pd.DataFrame(imps.T,\n",
    "            index=pipenb3.named_steps['tfi'].get_feature_names_out().T,\n",
    "            columns=['feature imps'])\n",
    "\n",
    "#code help from: https://donernesto.github.io/blog/notes-on-multinomial-naive-bayes/"
   ]
  },
  {
   "cell_type": "markdown",
   "id": "d73264f6-ee2d-485d-a407-041051db773d",
   "metadata": {},
   "source": [
    "These are the 25 features strongest associated with the 'futurology' subreddit. From here, additional words referencing the future will be added to stop-words. This will hurt performance but create less biased model."
   ]
  },
  {
   "cell_type": "code",
   "execution_count": 41,
   "id": "eca12c6f-1975-4634-b134-54d3230c2a85",
   "metadata": {},
   "outputs": [
    {
     "data": {
      "text/html": [
       "<div>\n",
       "<style scoped>\n",
       "    .dataframe tbody tr th:only-of-type {\n",
       "        vertical-align: middle;\n",
       "    }\n",
       "\n",
       "    .dataframe tbody tr th {\n",
       "        vertical-align: top;\n",
       "    }\n",
       "\n",
       "    .dataframe thead th {\n",
       "        text-align: right;\n",
       "    }\n",
       "</style>\n",
       "<table border=\"1\" class=\"dataframe\">\n",
       "  <thead>\n",
       "    <tr style=\"text-align: right;\">\n",
       "      <th></th>\n",
       "      <th>feature imps</th>\n",
       "    </tr>\n",
       "  </thead>\n",
       "  <tbody>\n",
       "    <tr>\n",
       "      <th>blockchain</th>\n",
       "      <td>-2.955593</td>\n",
       "    </tr>\n",
       "    <tr>\n",
       "      <th>ai</th>\n",
       "      <td>-2.911290</td>\n",
       "    </tr>\n",
       "    <tr>\n",
       "      <th>artificial</th>\n",
       "      <td>-2.747951</td>\n",
       "    </tr>\n",
       "    <tr>\n",
       "      <th>futurology</th>\n",
       "      <td>-2.529059</td>\n",
       "    </tr>\n",
       "    <tr>\n",
       "      <th>artificial intelligence</th>\n",
       "      <td>-2.444814</td>\n",
       "    </tr>\n",
       "    <tr>\n",
       "      <th>technology</th>\n",
       "      <td>-2.440723</td>\n",
       "    </tr>\n",
       "    <tr>\n",
       "      <th>machine</th>\n",
       "      <td>-2.369156</td>\n",
       "    </tr>\n",
       "    <tr>\n",
       "      <th>intelligence</th>\n",
       "      <td>-2.330655</td>\n",
       "    </tr>\n",
       "    <tr>\n",
       "      <th>immortality</th>\n",
       "      <td>-2.305131</td>\n",
       "    </tr>\n",
       "    <tr>\n",
       "      <th>automation</th>\n",
       "      <td>-2.249488</td>\n",
       "    </tr>\n",
       "    <tr>\n",
       "      <th>quantum</th>\n",
       "      <td>-2.186190</td>\n",
       "    </tr>\n",
       "    <tr>\n",
       "      <th>basic income</th>\n",
       "      <td>-2.155818</td>\n",
       "    </tr>\n",
       "    <tr>\n",
       "      <th>brain</th>\n",
       "      <td>-2.151774</td>\n",
       "    </tr>\n",
       "    <tr>\n",
       "      <th>robot</th>\n",
       "      <td>-2.117596</td>\n",
       "    </tr>\n",
       "    <tr>\n",
       "      <th>self-driving</th>\n",
       "      <td>-2.079945</td>\n",
       "    </tr>\n",
       "    <tr>\n",
       "      <th>aging</th>\n",
       "      <td>-2.051702</td>\n",
       "    </tr>\n",
       "    <tr>\n",
       "      <th>vr</th>\n",
       "      <td>-2.048140</td>\n",
       "    </tr>\n",
       "    <tr>\n",
       "      <th>future</th>\n",
       "      <td>-2.019199</td>\n",
       "    </tr>\n",
       "    <tr>\n",
       "      <th>3d</th>\n",
       "      <td>-2.016105</td>\n",
       "    </tr>\n",
       "    <tr>\n",
       "      <th>futuristic</th>\n",
       "      <td>-2.012246</td>\n",
       "    </tr>\n",
       "    <tr>\n",
       "      <th>computing</th>\n",
       "      <td>-2.005855</td>\n",
       "    </tr>\n",
       "    <tr>\n",
       "      <th>universal</th>\n",
       "      <td>-2.000162</td>\n",
       "    </tr>\n",
       "    <tr>\n",
       "      <th>car</th>\n",
       "      <td>-1.961295</td>\n",
       "    </tr>\n",
       "    <tr>\n",
       "      <th>virtual reality</th>\n",
       "      <td>-1.958374</td>\n",
       "    </tr>\n",
       "    <tr>\n",
       "      <th>future technology</th>\n",
       "      <td>-1.951594</td>\n",
       "    </tr>\n",
       "  </tbody>\n",
       "</table>\n",
       "</div>"
      ],
      "text/plain": [
       "                         feature imps\n",
       "blockchain                  -2.955593\n",
       "ai                          -2.911290\n",
       "artificial                  -2.747951\n",
       "futurology                  -2.529059\n",
       "artificial intelligence     -2.444814\n",
       "technology                  -2.440723\n",
       "machine                     -2.369156\n",
       "intelligence                -2.330655\n",
       "immortality                 -2.305131\n",
       "automation                  -2.249488\n",
       "quantum                     -2.186190\n",
       "basic income                -2.155818\n",
       "brain                       -2.151774\n",
       "robot                       -2.117596\n",
       "self-driving                -2.079945\n",
       "aging                       -2.051702\n",
       "vr                          -2.048140\n",
       "future                      -2.019199\n",
       "3d                          -2.016105\n",
       "futuristic                  -2.012246\n",
       "computing                   -2.005855\n",
       "universal                   -2.000162\n",
       "car                         -1.961295\n",
       "virtual reality             -1.958374\n",
       "future technology           -1.951594"
      ]
     },
     "execution_count": 41,
     "metadata": {},
     "output_type": "execute_result"
    }
   ],
   "source": [
    "nb_feat_imp.sort_values(by='feature imps').head(25)"
   ]
  },
  {
   "cell_type": "markdown",
   "id": "69e25c8e-6e97-47bb-a8f6-a282fb10411b",
   "metadata": {},
   "source": [
    "These are the 25 features strongest associated with the 'collapse' subreddit. From here, additional words referencing collapse will be added to stop-words. This will hurt performance but create less biased model."
   ]
  },
  {
   "cell_type": "code",
   "execution_count": 42,
   "id": "654987b6-59b0-4f44-88f2-e8a117bbad12",
   "metadata": {},
   "outputs": [
    {
     "data": {
      "text/html": [
       "<div>\n",
       "<style scoped>\n",
       "    .dataframe tbody tr th:only-of-type {\n",
       "        vertical-align: middle;\n",
       "    }\n",
       "\n",
       "    .dataframe tbody tr th {\n",
       "        vertical-align: top;\n",
       "    }\n",
       "\n",
       "    .dataframe thead th {\n",
       "        text-align: right;\n",
       "    }\n",
       "</style>\n",
       "<table border=\"1\" class=\"dataframe\">\n",
       "  <thead>\n",
       "    <tr style=\"text-align: right;\">\n",
       "      <th></th>\n",
       "      <th>feature imps</th>\n",
       "    </tr>\n",
       "  </thead>\n",
       "  <tbody>\n",
       "    <tr>\n",
       "      <th>megathread</th>\n",
       "      <td>1.750478</td>\n",
       "    </tr>\n",
       "    <tr>\n",
       "      <th>climate</th>\n",
       "      <td>1.761892</td>\n",
       "    </tr>\n",
       "    <tr>\n",
       "      <th>winter</th>\n",
       "      <td>1.779387</td>\n",
       "    </tr>\n",
       "    <tr>\n",
       "      <th>think collapse</th>\n",
       "      <td>1.785148</td>\n",
       "    </tr>\n",
       "    <tr>\n",
       "      <th>survival</th>\n",
       "      <td>1.786198</td>\n",
       "    </tr>\n",
       "    <tr>\n",
       "      <th>collapse link</th>\n",
       "      <td>1.798374</td>\n",
       "    </tr>\n",
       "    <tr>\n",
       "      <th>during collapse</th>\n",
       "      <td>1.846681</td>\n",
       "    </tr>\n",
       "    <tr>\n",
       "      <th>collapse inevitable</th>\n",
       "      <td>1.865059</td>\n",
       "    </tr>\n",
       "    <tr>\n",
       "      <th>t</th>\n",
       "      <td>1.872692</td>\n",
       "    </tr>\n",
       "    <tr>\n",
       "      <th>protest</th>\n",
       "      <td>1.896588</td>\n",
       "    </tr>\n",
       "    <tr>\n",
       "      <th>collapse happen</th>\n",
       "      <td>1.930134</td>\n",
       "    </tr>\n",
       "    <tr>\n",
       "      <th>daily collapse</th>\n",
       "      <td>1.957239</td>\n",
       "    </tr>\n",
       "    <tr>\n",
       "      <th>after collapse</th>\n",
       "      <td>1.988066</td>\n",
       "    </tr>\n",
       "    <tr>\n",
       "      <th>daily link</th>\n",
       "      <td>1.993338</td>\n",
       "    </tr>\n",
       "    <tr>\n",
       "      <th>shortage</th>\n",
       "      <td>2.023350</td>\n",
       "    </tr>\n",
       "    <tr>\n",
       "      <th>weekly observation</th>\n",
       "      <td>2.031296</td>\n",
       "    </tr>\n",
       "    <tr>\n",
       "      <th>see region</th>\n",
       "      <td>2.058547</td>\n",
       "    </tr>\n",
       "    <tr>\n",
       "      <th>collapse see</th>\n",
       "      <td>2.068178</td>\n",
       "    </tr>\n",
       "    <tr>\n",
       "      <th>economic collapse</th>\n",
       "      <td>2.070896</td>\n",
       "    </tr>\n",
       "    <tr>\n",
       "      <th>region</th>\n",
       "      <td>2.078488</td>\n",
       "    </tr>\n",
       "    <tr>\n",
       "      <th>collapsing</th>\n",
       "      <td>2.086778</td>\n",
       "    </tr>\n",
       "    <tr>\n",
       "      <th>collapse daily</th>\n",
       "      <td>2.218839</td>\n",
       "    </tr>\n",
       "    <tr>\n",
       "      <th>observation</th>\n",
       "      <td>2.241906</td>\n",
       "    </tr>\n",
       "    <tr>\n",
       "      <th>sign collapse</th>\n",
       "      <td>2.285318</td>\n",
       "    </tr>\n",
       "    <tr>\n",
       "      <th>collapse</th>\n",
       "      <td>4.151814</td>\n",
       "    </tr>\n",
       "  </tbody>\n",
       "</table>\n",
       "</div>"
      ],
      "text/plain": [
       "                     feature imps\n",
       "megathread               1.750478\n",
       "climate                  1.761892\n",
       "winter                   1.779387\n",
       "think collapse           1.785148\n",
       "survival                 1.786198\n",
       "collapse link            1.798374\n",
       "during collapse          1.846681\n",
       "collapse inevitable      1.865059\n",
       "t                        1.872692\n",
       "protest                  1.896588\n",
       "collapse happen          1.930134\n",
       "daily collapse           1.957239\n",
       "after collapse           1.988066\n",
       "daily link               1.993338\n",
       "shortage                 2.023350\n",
       "weekly observation       2.031296\n",
       "see region               2.058547\n",
       "collapse see             2.068178\n",
       "economic collapse        2.070896\n",
       "region                   2.078488\n",
       "collapsing               2.086778\n",
       "collapse daily           2.218839\n",
       "observation              2.241906\n",
       "sign collapse            2.285318\n",
       "collapse                 4.151814"
      ]
     },
     "execution_count": 42,
     "metadata": {},
     "output_type": "execute_result"
    }
   ],
   "source": [
    "nb_feat_imp.sort_values(by='feature imps').tail(25)"
   ]
  },
  {
   "cell_type": "markdown",
   "id": "66badd53-e856-4936-8b6d-7c5f17a10568",
   "metadata": {},
   "source": [
    "### Rerunning model after Additional StopWords Added"
   ]
  },
  {
   "cell_type": "markdown",
   "id": "fb3df61e-9429-49f3-a180-2ce0658e8c6e",
   "metadata": {},
   "source": [
    "Running best model with updated stopwords list."
   ]
  },
  {
   "cell_type": "code",
   "execution_count": 38,
   "id": "1576b158-d312-4035-8080-6d47a4849edd",
   "metadata": {},
   "outputs": [
    {
     "data": {
      "text/plain": [
       "(0.966637739851509, 0.8067688747468904)"
      ]
     },
     "execution_count": 38,
     "metadata": {},
     "output_type": "execute_result"
    }
   ],
   "source": [
    "pipenb4 = Pipeline(\n",
    "    [\n",
    "    ('tfi',TfidfVectorizer(stop_words=my_stop_words,strip_accents='unicode',ngram_range=(1, 2),max_df=.4,tokenizer=lemma_tokenizer,max_features=64000)),\n",
    "    ('nb',MultinomialNB(alpha=1.2))   \n",
    "    ])\n",
    "\n",
    "pipenb4.fit(X_train,y_train_le)\n",
    "pipenb4.score(X_train,y_train_le),pipenb4.score(X_test,y_test_le)"
   ]
  },
  {
   "cell_type": "markdown",
   "id": "f158ce1a-b5c6-43b3-a7ce-28734f063f1d",
   "metadata": {},
   "source": [
    "As expected, we see the performance fall to 80.67% accuracy on the test set."
   ]
  },
  {
   "cell_type": "markdown",
   "id": "35203be7-279c-4a5d-ad01-424e94ebfb5a",
   "metadata": {},
   "source": [
    "The model would perform at 82.3% accuracy if the additional stopwords had not been aded."
   ]
  },
  {
   "cell_type": "markdown",
   "id": "fce4ef86-ba82-4a41-ba83-37e8e907b2e7",
   "metadata": {},
   "source": [
    "### Running Model on Larger Dataset"
   ]
  },
  {
   "cell_type": "markdown",
   "id": "267ead3d-7fff-4d13-bb23-5f10187b06dd",
   "metadata": {},
   "source": [
    "Now running the model on the larger dataset, from which the 30% was extracted to perform the previous analysis above. Train/test split and label encoding done to facilitate this."
   ]
  },
  {
   "cell_type": "code",
   "execution_count": 43,
   "id": "6cad1ec9-7284-4d44-a073-ec3a86ee47cc",
   "metadata": {},
   "outputs": [],
   "source": [
    "X2 = df_main['title']\n",
    "y2 = df_main['subreddit']\n",
    "X_train2,X_test2,y_train2,y_test2 = train_test_split(X2,y2,random_state=2,stratify=y2)\n",
    "\n",
    "y_train_le2 = le.fit_transform(y_train2)\n",
    "y_test_le2 = le.transform(y_test2)"
   ]
  },
  {
   "cell_type": "code",
   "execution_count": 44,
   "id": "6d806db7-bf58-4d60-a296-a88a01d00b9a",
   "metadata": {},
   "outputs": [
    {
     "data": {
      "text/plain": [
       "(0.9047439976858548, 0.8282714335300243)"
      ]
     },
     "execution_count": 44,
     "metadata": {},
     "output_type": "execute_result"
    }
   ],
   "source": [
    "pipenb4.fit(X_train2,y_train_le2)\n",
    "pipenb4.score(X_train2,y_train_le2),pipenb4.score(X_test2,y_test_le2)"
   ]
  },
  {
   "cell_type": "markdown",
   "id": "102501e9-ba64-4d5d-ae88-a5e71fe7cc67",
   "metadata": {},
   "source": [
    "The performance on the largeer test dataset is to 82.8% accuracy. The model got better as it saw more data."
   ]
  },
  {
   "cell_type": "code",
   "execution_count": 220,
   "id": "bc47b635-610a-4d6c-a319-6e5da4de86d7",
   "metadata": {},
   "outputs": [],
   "source": [
    "imps2 = pipenb4.named_steps['nb'].feature_log_prob_[1,:] - pipenb4.named_steps['nb'].feature_log_prob_[0,:]\n",
    "nb_feat_imp2 = pd.DataFrame(imps2.T,\n",
    "            index=pipenb4.named_steps['tfi'].get_feature_names_out().T,\n",
    "            columns=['feature imps'])"
   ]
  },
  {
   "cell_type": "code",
   "execution_count": 221,
   "id": "6f02f13d-78b3-41fe-9582-04489d477ca4",
   "metadata": {},
   "outputs": [
    {
     "data": {
      "image/png": "[encoded data removed]",
      "text/plain": [
       "<Figure size 1440x720 with 1 Axes>"
      ]
     },
     "metadata": {},
     "output_type": "display_data"
    },
    {
     "data": {
      "text/plain": [
       "<Figure size 432x288 with 0 Axes>"
      ]
     },
     "metadata": {},
     "output_type": "display_data"
    }
   ],
   "source": [
    "fut_25 = nb_feat_imp2.sort_values(by='feature imps').head(25)\n",
    "\n",
    "ft25_dict = dict(zip(fut_25.index.tolist(), abs(fut_25['feature imps']).tolist()))\n",
    "\n",
    "\n",
    "word_cloud = WordCloud(width = 512, height = 512, background_color='white',colormap='viridis').generate_from_frequencies(ft25_dict)\n",
    "plt.figure(figsize=(20,10),facecolor = 'white', edgecolor='blue')\n",
    "plt.imshow(word_cloud, interpolation='bilinear')\n",
    "plt.title('r/Futurology Top Features Word Cloud\\n\\n',fontsize=25,color='blue')\n",
    "plt.axis('off')\n",
    "plt.tight_layout(pad=0)\n",
    "plt.show()\n",
    "plt.savefig('./images/futurwc.png');"
   ]
  },
  {
   "cell_type": "code",
   "execution_count": 222,
   "id": "c8c8ad90-12d7-4f27-b60e-7812c05fe503",
   "metadata": {},
   "outputs": [
    {
     "data": {
      "image/png": "[encoded data removed]",
      "text/plain": [
       "<Figure size 1440x720 with 1 Axes>"
      ]
     },
     "metadata": {},
     "output_type": "display_data"
    },
    {
     "data": {
      "text/plain": [
       "<Figure size 432x288 with 0 Axes>"
      ]
     },
     "metadata": {},
     "output_type": "display_data"
    }
   ],
   "source": [
    "col_25 = nb_feat_imp2.sort_values(by='feature imps').tail(25).sort_values(by='feature imps',ascending=False)\n",
    "col_25.rename(index={'fucked':'f*****','shit':'s***','shitpost':'s***post'},inplace=True)\n",
    "col25_dict = dict(zip(col_25.index.tolist(), abs(col_25['feature imps']).tolist()))\n",
    "\n",
    "word_cloud = WordCloud(width = 512, height = 512, background_color='white',colormap='cividis').generate_from_frequencies(col25_dict)\n",
    "plt.figure(figsize=(20,10),facecolor = 'white', edgecolor='blue')\n",
    "plt.imshow(word_cloud, interpolation='bilinear')\n",
    "plt.title('r/Collapse Top Features Word Cloud\\n\\n',fontsize=25,color='orange')\n",
    "plt.axis('off')\n",
    "plt.tight_layout(pad=0)\n",
    "plt.show()\n",
    "plt.savefig('./images/colwc.png');"
   ]
  },
  {
   "cell_type": "markdown",
   "id": "e1721c65-71ab-43b1-b698-344a65cf8e9b",
   "metadata": {},
   "source": [
    "### Running Model on the holdout set"
   ]
  },
  {
   "cell_type": "markdown",
   "id": "0fe86034-f0a9-48d3-aaf0-932cb4de6507",
   "metadata": {},
   "source": [
    "https://vitalflux.com/hold-out-method-for-training-machine-learning-model/"
   ]
  },
  {
   "cell_type": "code",
   "execution_count": 45,
   "id": "c3e5a5a0-96df-452a-9702-f4f6c261c02b",
   "metadata": {},
   "outputs": [
    {
     "data": {
      "text/plain": [
       "collapse      0.503341\n",
       "Futurology    0.496659\n",
       "Name: subreddit, dtype: float64"
      ]
     },
     "execution_count": 45,
     "metadata": {},
     "output_type": "execute_result"
    }
   ],
   "source": [
    "y_holdout.value_counts(normalize=True)"
   ]
  },
  {
   "cell_type": "markdown",
   "id": "f7f4103b-5f7c-43c7-8d4c-85fac5e96c64",
   "metadata": {},
   "source": [
    "The above shows the baseline rate for the holdout set. To be successful, the model will need to achieve an accuracy rate of higher than 50.3%, such that it performs better than choosing 'collapse' for each status."
   ]
  },
  {
   "cell_type": "code",
   "execution_count": 46,
   "id": "0ae0cfb1-5f30-4e31-9ac5-6d5b01004f72",
   "metadata": {},
   "outputs": [],
   "source": [
    "y_holdout_le = le.transform(y_holdout)"
   ]
  },
  {
   "cell_type": "code",
   "execution_count": 47,
   "id": "51a785d3-8f33-4126-b39f-f6ff7421bebb",
   "metadata": {},
   "outputs": [
    {
     "data": {
      "text/plain": [
       "0.8167143972923718"
      ]
     },
     "execution_count": 47,
     "metadata": {},
     "output_type": "execute_result"
    }
   ],
   "source": [
    "pipenb4.fit(X_train2,y_train_le2)\n",
    "pipenb4.score(X_holdout,y_holdout_le)"
   ]
  },
  {
   "cell_type": "markdown",
   "id": "72a4a591-8ca5-44de-8b93-62cd973e7c38",
   "metadata": {},
   "source": [
    "The model performs with 82% accuracy on the holdout set, which exceeds baseline rate of 50%. This model meets the intended goal of performing better than the baseline."
   ]
  },
  {
   "cell_type": "markdown",
   "id": "63d36127-0909-47b9-9510-832a4f866734",
   "metadata": {
    "tags": []
   },
   "source": [
    "### Analysis of Results"
   ]
  },
  {
   "cell_type": "markdown",
   "id": "64849e89-2194-4ff4-87d2-93784c3f4e5b",
   "metadata": {},
   "source": [
    "### Confusion Matrix"
   ]
  },
  {
   "cell_type": "code",
   "execution_count": 48,
   "id": "c4f485e1-1c98-4932-831c-16849a85f81a",
   "metadata": {},
   "outputs": [
    {
     "data": {
      "image/png": "[encoded data removed]",
      "text/plain": [
       "<Figure size 1440x720 with 2 Axes>"
      ]
     },
     "metadata": {
      "needs_background": "light"
     },
     "output_type": "display_data"
    }
   ],
   "source": [
    "f = plt.figure(figsize=(20,10))\n",
    "plt.rcParams.update({'font.size': 22})\n",
    "ax = plt.subplot()\n",
    "ConfusionMatrixDisplay.from_estimator(pipenb4,X_holdout,y_holdout_le,cmap='Blues',ax=ax,normalize='true')\n",
    "ax.set_xlabel('Predicted Labels',labelpad=20,fontsize=25)\n",
    "ax.set_ylabel('True Labels',labelpad=20,fontsize=25)\n",
    "ax.set_title('Confusion Matrix - Holdout Set',fontsize=25)\n",
    "ax.xaxis.set_ticklabels(['Futurology', 'Collapse'],fontsize=15)\n",
    "ax.yaxis.set_ticklabels(['Futurology', 'Collapse'],fontsize=15)\n",
    "plt.savefig('./images/confmatrix.png');"
   ]
  },
  {
   "cell_type": "markdown",
   "id": "6eb09f37-6f5c-4ada-a2b5-8aafcb59aa35",
   "metadata": {},
   "source": [
    "Above is the confusion matrix for the holdout set. Since accuracy is the only metric we care about, the important stastics are the proprtion of times the model predicts each classification out of the total number of times the class appears in our holdout data.\n",
    "\n",
    "Model achieves a better rate predicting Collapse than Futurology:\n",
    "Futurology Misclassification: 20% / Collapse Misclassification: 17%\n"
   ]
  },
  {
   "cell_type": "markdown",
   "id": "3d56fc7a-790b-4fba-a951-d5dce752ef15",
   "metadata": {},
   "source": [
    "### Misclassification DataFrame (via Holdout Set)"
   ]
  },
  {
   "cell_type": "markdown",
   "id": "bf28f007-72bd-4ce6-8372-a562e0ca3608",
   "metadata": {},
   "source": [
    "Creating a datframe for title in the holdout set that the model incorrectly predicted for further analysis."
   ]
  },
  {
   "cell_type": "code",
   "execution_count": 142,
   "id": "baec4eed-35dc-4ef8-b3a1-f47d9253bb24",
   "metadata": {},
   "outputs": [],
   "source": [
    "test_preds = pipenb4.predict(X_holdout)\n",
    "misclass = X_holdout.copy()\n",
    "misclass = pd.DataFrame(misclass,columns=['title'])\n",
    "\n",
    "\n",
    "misclass['true_class'] = y_holdout\n",
    "misclass['pred_class'] = ['collapse' if i == 1 else 'Futurology' for i in test_preds]\n",
    "misclassified = misclass[misclass['true_class'] != misclass['pred_class']]\n",
    "\n"
   ]
  },
  {
   "cell_type": "code",
   "execution_count": 188,
   "id": "0c4d2f3f-ba67-4fcb-aa0d-74b368856e67",
   "metadata": {},
   "outputs": [
    {
     "data": {
      "text/html": [
       "<div>\n",
       "<style scoped>\n",
       "    .dataframe tbody tr th:only-of-type {\n",
       "        vertical-align: middle;\n",
       "    }\n",
       "\n",
       "    .dataframe tbody tr th {\n",
       "        vertical-align: top;\n",
       "    }\n",
       "\n",
       "    .dataframe thead th {\n",
       "        text-align: right;\n",
       "    }\n",
       "</style>\n",
       "<table border=\"1\" class=\"dataframe\">\n",
       "  <thead>\n",
       "    <tr style=\"text-align: right;\">\n",
       "      <th></th>\n",
       "      <th>title</th>\n",
       "      <th>true_class</th>\n",
       "      <th>pred_class</th>\n",
       "    </tr>\n",
       "  </thead>\n",
       "  <tbody>\n",
       "    <tr>\n",
       "      <th>5656</th>\n",
       "      <td>Hospitality of the Future - long post alert</td>\n",
       "      <td>Futurology</td>\n",
       "      <td>collapse</td>\n",
       "    </tr>\n",
       "    <tr>\n",
       "      <th>19857</th>\n",
       "      <td>How do you think society is going to change in the 100 years?</td>\n",
       "      <td>Futurology</td>\n",
       "      <td>collapse</td>\n",
       "    </tr>\n",
       "    <tr>\n",
       "      <th>13105</th>\n",
       "      <td>45 out of the 51 busiest train stations in the world are located in Japan, and half of them in the Tokyo area alone</td>\n",
       "      <td>Futurology</td>\n",
       "      <td>collapse</td>\n",
       "    </tr>\n",
       "    <tr>\n",
       "      <th>23315</th>\n",
       "      <td>The OGs</td>\n",
       "      <td>collapse</td>\n",
       "      <td>Futurology</td>\n",
       "    </tr>\n",
       "    <tr>\n",
       "      <th>11373</th>\n",
       "      <td>Who would you rather have win?</td>\n",
       "      <td>collapse</td>\n",
       "      <td>Futurology</td>\n",
       "    </tr>\n",
       "  </tbody>\n",
       "</table>\n",
       "</div>"
      ],
      "text/plain": [
       "                                                                                                                     title  \\\n",
       "5656                                                                           Hospitality of the Future - long post alert   \n",
       "19857                                                        How do you think society is going to change in the 100 years?   \n",
       "13105  45 out of the 51 busiest train stations in the world are located in Japan, and half of them in the Tokyo area alone   \n",
       "23315                                                                                                              The OGs   \n",
       "11373                                                                                       Who would you rather have win?   \n",
       "\n",
       "       true_class  pred_class  \n",
       "5656   Futurology    collapse  \n",
       "19857  Futurology    collapse  \n",
       "13105  Futurology    collapse  \n",
       "23315    collapse  Futurology  \n",
       "11373    collapse  Futurology  "
      ]
     },
     "execution_count": 188,
     "metadata": {},
     "output_type": "execute_result"
    }
   ],
   "source": [
    "misclassified.head()"
   ]
  },
  {
   "cell_type": "markdown",
   "id": "777511ef-00f9-4881-8f35-89d10b0de36a",
   "metadata": {},
   "source": [
    "### Analyzing Length of Post"
   ]
  },
  {
   "cell_type": "code",
   "execution_count": 491,
   "id": "6fe9ce78-1816-4eda-8282-1c2d3182a001",
   "metadata": {},
   "outputs": [
    {
     "name": "stdout",
     "output_type": "stream",
     "text": [
      "50.0 56.0\n"
     ]
    },
    {
     "data": {
      "text/plain": [
       "(62.789373814041745, 68.07107524082271)"
      ]
     },
     "execution_count": 491,
     "metadata": {},
     "output_type": "execute_result"
    }
   ],
   "source": [
    "misclassified['title_length'] = [len(i) for i in misclassified['title']]\n",
    "df_holdout['title_length'] = [len(i) for i in df_holdout['title']]\n",
    "\n",
    "print(misclassified['title_length'].median(),df_holdout['title_length'].median())\n",
    "misclassified['title_length'].mean(),df_holdout['title_length'].mean()"
   ]
  },
  {
   "cell_type": "markdown",
   "id": "17643ed9-6892-4c34-a385-b856cb3159e5",
   "metadata": {},
   "source": [
    "The misclassified posts are shorter on average, and have a lower median size post than the average for the holdout set."
   ]
  },
  {
   "cell_type": "markdown",
   "id": "dc7f17e7-b45f-4b8c-8b3a-5ecc3a4d376b",
   "metadata": {},
   "source": [
    "### Reviewing the TF-IFD Vectorized Data for Misclassification DataFrame"
   ]
  },
  {
   "cell_type": "code",
   "execution_count": 103,
   "id": "0a729b74-7697-4c69-9c53-2e0e92b84f30",
   "metadata": {},
   "outputs": [],
   "source": [
    "misct = misclassified['title']"
   ]
  },
  {
   "cell_type": "code",
   "execution_count": 108,
   "id": "1f914d1b-b97b-43ae-9009-4d581d02745b",
   "metadata": {},
   "outputs": [],
   "source": [
    "tfmisc = TfidfVectorizer(stop_words=my_stop_words,strip_accents='unicode',ngram_range=(1, 2),tokenizer=lemma_tokenizer,min_df=3)\n",
    "misc_tf = tfmisc.fit_transform(misct)\n",
    "misc_tf = pd.DataFrame(misc_tf.A,columns=tfmisc.get_feature_names_out())"
   ]
  },
  {
   "cell_type": "code",
   "execution_count": 109,
   "id": "ad7ce901-ac7f-4a94-82d0-1e692a3ed33a",
   "metadata": {},
   "outputs": [
    {
     "data": {
      "text/plain": [
       "world             34.341812\n",
       "think             26.943313\n",
       "change            22.313082\n",
       "people            22.056505\n",
       "''                20.123600\n",
       "need              19.151521\n",
       "climate           18.068172\n",
       "human             17.287225\n",
       "time              16.945343\n",
       "life              16.278880\n",
       "good              15.809421\n",
       "know              15.264371\n",
       "best              14.991355\n",
       "idea              14.508312\n",
       "question          14.392093\n",
       "help              14.354422\n",
       "technology        13.896093\n",
       "next              13.861195\n",
       "see               13.646358\n",
       "society           13.418638\n",
       "look              13.319104\n",
       "civilization      12.239288\n",
       "job               12.238976\n",
       "end               12.216736\n",
       "which             11.653080\n",
       "energy            11.386918\n",
       "sub               11.231683\n",
       "way               11.169821\n",
       "want              11.106797\n",
       "going             10.977852\n",
       "system            10.969276\n",
       "go                10.808787\n",
       "climate change    10.734587\n",
       "power             10.609110\n",
       "being             10.285557\n",
       "humanity          10.120965\n",
       "reddit            10.106462\n",
       "subreddit          9.974647\n",
       "work               9.858421\n",
       "into               9.772410\n",
       "earth              9.746220\n",
       "long               9.493039\n",
       "guy                9.409896\n",
       "http               9.277059\n",
       "happen             9.173822\n",
       "their              9.060643\n",
       "everything         8.962123\n",
       "anyone             8.873618\n",
       "thought            8.868074\n",
       "country            8.805556\n",
       "dtype: float64"
      ]
     },
     "execution_count": 109,
     "metadata": {},
     "output_type": "execute_result"
    }
   ],
   "source": [
    "misc_tf.sum().sort_values(ascending=False).head(50)"
   ]
  },
  {
   "cell_type": "markdown",
   "id": "95fca70b-41ed-453a-8c21-80096007b94f",
   "metadata": {},
   "source": [
    "The words that show up most frequently in the misclassifcation, when analyzed using standard stopwords library, are the words that were included in our stopwords to keep from giving the model an advantage: future, collapse, futurology.\n",
    "\n",
    "When toggled to include my custom list of stopwords, 'climate', 'change' and 'climate change' are seen frequently. This could contribute to the more frequent misclassifcation of Futurology, as the model predicts many posts concerning climate change to be from collapse, so discussion around the subject do occur on Futurology, despite the rosier nature of the community."
   ]
  },
  {
   "cell_type": "markdown",
   "id": "c3ac2358-ba7f-4f30-8856-d8c6ad21386a",
   "metadata": {},
   "source": [
    "## Further Research"
   ]
  },
  {
   "cell_type": "markdown",
   "id": "afe9c52e-8314-4bbb-9990-224f78865772",
   "metadata": {},
   "source": [
    "### Analysis Using SelfText and Title"
   ]
  },
  {
   "cell_type": "markdown",
   "id": "018ca26d-1616-4bcf-8c85-60dd1e468928",
   "metadata": {},
   "source": [
    "I quickly analyzed how the model would perform if the available self-text was included in the analysis. Ran model without much additional tuning, adjusted to include trigrams, and allow for 80,000 features. Went through same process of splitting data into train, validation, and holdout sets. For quick study, the null values were replaced as blank text."
   ]
  },
  {
   "cell_type": "code",
   "execution_count": 229,
   "id": "874522e2-ffa7-4774-82a3-f630b2c4b154",
   "metadata": {},
   "outputs": [],
   "source": [
    "pipenb5 = Pipeline(\n",
    "    [\n",
    "    ('tfi',TfidfVectorizer(stop_words=my_stop_words,strip_accents='unicode',ngram_range=(1, 3),tokenizer=lemma_tokenizer,max_features=80000)),\n",
    "    ('nb',MultinomialNB())   \n",
    "    ])"
   ]
  },
  {
   "cell_type": "code",
   "execution_count": 282,
   "id": "0b28b393-9020-4fe8-87a4-4be9a4a94c51",
   "metadata": {},
   "outputs": [],
   "source": [
    "df_fut_cut2 = df_fut[['selftext','subreddit','title']]\n",
    "df_col_cut2 = df_col[['selftext','subreddit','title']]\n",
    "df_comb2 = pd.concat([df_col_cut2,df_fut_cut2])\n",
    "df_comb2['selftext'] = df_comb2['selftext'].replace('[removed]',' ')                                                \n",
    "df_comb2['alltext'] = df_comb2['selftext'] + df_comb2['title']\n",
    "df_comb2 = df_comb2.drop(columns=['selftext','title'])\n",
    "df_comb2 = df_comb2.sample(frac=1,random_state=2)\n",
    "df_comb2 = df_comb2.dropna()\n",
    "df_comb2 = df_comb2.drop_duplicates()\n",
    "df_holdout2 = df_comb2[0:10662]\n",
    "df_main2 = df_comb2[10662:]\n",
    "\n",
    "X3 = df_main2['alltext']\n",
    "y3 = df_main2['subreddit']\n",
    "\n"
   ]
  },
  {
   "cell_type": "code",
   "execution_count": 283,
   "id": "1cbe404d-a1ec-4833-90ac-011c311dea7d",
   "metadata": {},
   "outputs": [],
   "source": [
    "X_train3, X_test3, y_train3, y_test3 = train_test_split(X3,y3,random_state=2,stratify=y3)\n",
    "\n",
    "y_train_le3 = le.fit_transform(y_train3)\n",
    "y_test_le3 = le.transform(y_test3)"
   ]
  },
  {
   "cell_type": "code",
   "execution_count": 284,
   "id": "411c94b1-f918-4ecc-8ce2-c22015d0e0f9",
   "metadata": {},
   "outputs": [
    {
     "data": {
      "text/plain": [
       "collapse      0.512662\n",
       "Futurology    0.487338\n",
       "Name: subreddit, dtype: float64"
      ]
     },
     "execution_count": 284,
     "metadata": {},
     "output_type": "execute_result"
    }
   ],
   "source": [
    "y_test3.value_counts(normalize=True)"
   ]
  },
  {
   "cell_type": "markdown",
   "id": "284f7886-fe12-48af-b1c0-f2bdff229503",
   "metadata": {},
   "source": [
    "Generated baseline of 51.26% for comparison."
   ]
  },
  {
   "cell_type": "code",
   "execution_count": 285,
   "id": "ad2b6cac-61bb-445d-a9f7-f859c15fe931",
   "metadata": {},
   "outputs": [
    {
     "data": {
      "text/plain": [
       "(0.902235422854463, 0.8464640780341399)"
      ]
     },
     "execution_count": 285,
     "metadata": {},
     "output_type": "execute_result"
    }
   ],
   "source": [
    "pipenb5.fit(X_train3,y_train_le3)\n",
    "pipenb5.score(X_train3,y_train_le3),pipenb5.score(X_test3,y_test_le3)"
   ]
  },
  {
   "cell_type": "markdown",
   "id": "3a98dc53-24e2-4bee-acb7-d55453cfd049",
   "metadata": {},
   "source": [
    "The model performed with 84.64% accuracy on the validation set."
   ]
  },
  {
   "cell_type": "code",
   "execution_count": 286,
   "id": "c4b0ca09-e5f4-4ecc-a343-d9b4842e1f17",
   "metadata": {},
   "outputs": [
    {
     "data": {
      "text/plain": [
       "0.8504033014443819"
      ]
     },
     "execution_count": 286,
     "metadata": {},
     "output_type": "execute_result"
    }
   ],
   "source": [
    "X_hold2 = df_holdout2['alltext']\n",
    "y_hold2 = df_holdout2['subreddit']\n",
    "y_hold2_le = le.transform(y_hold2)\n",
    "\n",
    "pipenb5.score(X_hold2,y_hold2_le)"
   ]
  },
  {
   "cell_type": "markdown",
   "id": "e7cadf3d-acb2-42e6-871f-13eea7f54bc7",
   "metadata": {},
   "source": [
    "The model similarly scored 85% accuracy on the holdout set."
   ]
  },
  {
   "cell_type": "markdown",
   "id": "8d92cedb-f178-474a-832b-e25be9c6e633",
   "metadata": {},
   "source": [
    "The next steps in improving then model would be to further explore how well the model might perform if we fine-tune it using this additional data. More precision would have to be applied to how the null values are addressed."
   ]
  },
  {
   "cell_type": "markdown",
   "id": "d5e0d550-97ac-4f36-bd87-7f2cd1ed4eda",
   "metadata": {},
   "source": [
    "### Model's Probability Calculation for Inclusion in Presenation - Title/Holdout"
   ]
  },
  {
   "cell_type": "code",
   "execution_count": 213,
   "id": "fa1dd63c-b185-4b74-9e50-3543df13a7ce",
   "metadata": {
    "tags": []
   },
   "outputs": [
    {
     "data": {
      "text/plain": [
       "array([[0.62241583, 0.37758417],\n",
       "       [0.50228522, 0.49771478],\n",
       "       [0.50228522, 0.49771478]])"
      ]
     },
     "execution_count": 213,
     "metadata": {},
     "output_type": "execute_result"
    }
   ],
   "source": [
    "pipenb4.predict_proba(misclassified.loc[[7447]])"
   ]
  },
  {
   "cell_type": "code",
   "execution_count": 214,
   "id": "dca52456-07fe-4118-be65-53f44498767a",
   "metadata": {},
   "outputs": [
    {
     "data": {
      "text/plain": [
       "array([[0.90642234, 0.09357766],\n",
       "       [0.50228522, 0.49771478],\n",
       "       [0.95340096, 0.04659904]])"
      ]
     },
     "execution_count": 214,
     "metadata": {},
     "output_type": "execute_result"
    }
   ],
   "source": [
    "pipenb4.predict_proba(misclassified.loc[3701])"
   ]
  },
  {
   "cell_type": "code",
   "execution_count": 179,
   "id": "e395fee8-0355-4c90-92e3-9ea4b0c3935d",
   "metadata": {},
   "outputs": [
    {
     "data": {
      "text/plain": [
       "array([[0.70133966, 0.29866034],\n",
       "       [0.50228522, 0.49771478],\n",
       "       [0.95340096, 0.04659904]])"
      ]
     },
     "execution_count": 179,
     "metadata": {},
     "output_type": "execute_result"
    }
   ],
   "source": [
    "pipenb4.predict_proba(misclassified.loc[7138])"
   ]
  },
  {
   "cell_type": "code",
   "execution_count": 181,
   "id": "dc9c3e91-0dc9-4232-a962-e3cdd13d9b3a",
   "metadata": {},
   "outputs": [
    {
     "data": {
      "text/plain": [
       "array([[0.45785894, 0.54214106],\n",
       "       [0.95340096, 0.04659904],\n",
       "       [0.50228522, 0.49771478]])"
      ]
     },
     "execution_count": 181,
     "metadata": {},
     "output_type": "execute_result"
    }
   ],
   "source": [
    "pipenb4.predict_proba(misclassified.loc[26113])"
   ]
  },
  {
   "cell_type": "code",
   "execution_count": 182,
   "id": "31d2cb64-85e3-49e5-91d5-e70513d44d30",
   "metadata": {},
   "outputs": [
    {
     "data": {
      "text/plain": [
       "array([[0.30763275, 0.69236725],\n",
       "       [0.95340096, 0.04659904],\n",
       "       [0.50228522, 0.49771478]])"
      ]
     },
     "execution_count": 182,
     "metadata": {},
     "output_type": "execute_result"
    }
   ],
   "source": [
    "pipenb4.predict_proba(misclassified.loc[18386])"
   ]
  },
  {
   "cell_type": "code",
   "execution_count": 189,
   "id": "ed03ee44-dc33-4b07-ada0-bf850af19e36",
   "metadata": {},
   "outputs": [
    {
     "data": {
      "text/plain": [
       "array([[0.03361823, 0.96638177],\n",
       "       [0.95340096, 0.04659904],\n",
       "       [0.50228522, 0.49771478]])"
      ]
     },
     "execution_count": 189,
     "metadata": {},
     "output_type": "execute_result"
    }
   ],
   "source": [
    "pipenb4.predict_proba(misclassified.loc[9741])"
   ]
  },
  {
   "cell_type": "code",
   "execution_count": 183,
   "id": "2e4fd0ab-3840-4fda-89dc-b5e2cd6bd9eb",
   "metadata": {},
   "outputs": [
    {
     "data": {
      "text/html": [
       "<div>\n",
       "<style scoped>\n",
       "    .dataframe tbody tr th:only-of-type {\n",
       "        vertical-align: middle;\n",
       "    }\n",
       "\n",
       "    .dataframe tbody tr th {\n",
       "        vertical-align: top;\n",
       "    }\n",
       "\n",
       "    .dataframe thead th {\n",
       "        text-align: right;\n",
       "    }\n",
       "</style>\n",
       "<table border=\"1\" class=\"dataframe\">\n",
       "  <thead>\n",
       "    <tr style=\"text-align: right;\">\n",
       "      <th></th>\n",
       "      <th>feature imps</th>\n",
       "    </tr>\n",
       "  </thead>\n",
       "  <tbody>\n",
       "    <tr>\n",
       "      <th>autonomous</th>\n",
       "      <td>-2.793291</td>\n",
       "    </tr>\n",
       "    <tr>\n",
       "      <th>weapon</th>\n",
       "      <td>-0.306460</td>\n",
       "    </tr>\n",
       "    <tr>\n",
       "      <th>un</th>\n",
       "      <td>0.675385</td>\n",
       "    </tr>\n",
       "    <tr>\n",
       "      <th>automation</th>\n",
       "      <td>-2.393882</td>\n",
       "    </tr>\n",
       "    <tr>\n",
       "      <th>explosion</th>\n",
       "      <td>0.470907</td>\n",
       "    </tr>\n",
       "    <tr>\n",
       "      <th>usa</th>\n",
       "      <td>1.575752</td>\n",
       "    </tr>\n",
       "    <tr>\n",
       "      <th>vehicle</th>\n",
       "      <td>-1.789149</td>\n",
       "    </tr>\n",
       "    <tr>\n",
       "      <th>social</th>\n",
       "      <td>-0.318732</td>\n",
       "    </tr>\n",
       "    <tr>\n",
       "      <th>population growth</th>\n",
       "      <td>-0.474787</td>\n",
       "    </tr>\n",
       "    <tr>\n",
       "      <th>global population</th>\n",
       "      <td>1.514335</td>\n",
       "    </tr>\n",
       "    <tr>\n",
       "      <th>vertical farming</th>\n",
       "      <td>-0.948222</td>\n",
       "    </tr>\n",
       "    <tr>\n",
       "      <th>machine</th>\n",
       "      <td>-2.221373</td>\n",
       "    </tr>\n",
       "    <tr>\n",
       "      <th>huge</th>\n",
       "      <td>-0.011295</td>\n",
       "    </tr>\n",
       "    <tr>\n",
       "      <th>noticed</th>\n",
       "      <td>0.742548</td>\n",
       "    </tr>\n",
       "    <tr>\n",
       "      <th>owns</th>\n",
       "      <td>-0.017368</td>\n",
       "    </tr>\n",
       "    <tr>\n",
       "      <th>pacific</th>\n",
       "      <td>0.846881</td>\n",
       "    </tr>\n",
       "    <tr>\n",
       "      <th>atlantic</th>\n",
       "      <td>0.213617</td>\n",
       "    </tr>\n",
       "    <tr>\n",
       "      <th>atlantic ocean</th>\n",
       "      <td>0.067719</td>\n",
       "    </tr>\n",
       "    <tr>\n",
       "      <th>life</th>\n",
       "      <td>-0.260721</td>\n",
       "    </tr>\n",
       "    <tr>\n",
       "      <th>outer space</th>\n",
       "      <td>-0.737433</td>\n",
       "    </tr>\n",
       "    <tr>\n",
       "      <th>space</th>\n",
       "      <td>-1.750085</td>\n",
       "    </tr>\n",
       "    <tr>\n",
       "      <th>save</th>\n",
       "      <td>0.618575</td>\n",
       "    </tr>\n",
       "    <tr>\n",
       "      <th>disruption</th>\n",
       "      <td>0.068698</td>\n",
       "    </tr>\n",
       "    <tr>\n",
       "      <th>classified</th>\n",
       "      <td>-0.140576</td>\n",
       "    </tr>\n",
       "    <tr>\n",
       "      <th>happening</th>\n",
       "      <td>0.982900</td>\n",
       "    </tr>\n",
       "    <tr>\n",
       "      <th>take</th>\n",
       "      <td>0.026113</td>\n",
       "    </tr>\n",
       "    <tr>\n",
       "      <th>bridge</th>\n",
       "      <td>0.652172</td>\n",
       "    </tr>\n",
       "    <tr>\n",
       "      <th>build</th>\n",
       "      <td>-0.787896</td>\n",
       "    </tr>\n",
       "    <tr>\n",
       "      <th>worse</th>\n",
       "      <td>1.616960</td>\n",
       "    </tr>\n",
       "    <tr>\n",
       "      <th>hope</th>\n",
       "      <td>1.046138</td>\n",
       "    </tr>\n",
       "    <tr>\n",
       "      <th>brings</th>\n",
       "      <td>-0.258949</td>\n",
       "    </tr>\n",
       "    <tr>\n",
       "      <th>apocalyptic</th>\n",
       "      <td>1.257956</td>\n",
       "    </tr>\n",
       "  </tbody>\n",
       "</table>\n",
       "</div>"
      ],
      "text/plain": [
       "                   feature imps\n",
       "autonomous            -2.793291\n",
       "weapon                -0.306460\n",
       "un                     0.675385\n",
       "automation            -2.393882\n",
       "explosion              0.470907\n",
       "usa                    1.575752\n",
       "vehicle               -1.789149\n",
       "social                -0.318732\n",
       "population growth     -0.474787\n",
       "global population      1.514335\n",
       "vertical farming      -0.948222\n",
       "machine               -2.221373\n",
       "huge                  -0.011295\n",
       "noticed                0.742548\n",
       "owns                  -0.017368\n",
       "pacific                0.846881\n",
       "atlantic               0.213617\n",
       "atlantic ocean         0.067719\n",
       "life                  -0.260721\n",
       "outer space           -0.737433\n",
       "space                 -1.750085\n",
       "save                   0.618575\n",
       "disruption             0.068698\n",
       "classified            -0.140576\n",
       "happening              0.982900\n",
       "take                   0.026113\n",
       "bridge                 0.652172\n",
       "build                 -0.787896\n",
       "worse                  1.616960\n",
       "hope                   1.046138\n",
       "brings                -0.258949\n",
       "apocalyptic            1.257956"
      ]
     },
     "execution_count": 183,
     "metadata": {},
     "output_type": "execute_result"
    }
   ],
   "source": [
    "nb_feat_imp2.loc[['autonomous','weapon','un','automation','explosion','usa','vehicle','social','population growth',\\\n",
    "                 'global population','vertical farming','machine','huge','noticed','owns','pacific','atlantic','atlantic ocean',\\\n",
    "                 'life','outer space','space','save','disruption','classified','happening','take','bridge','build','worse','hope','brings',\\\n",
    "                  'apocalyptic']]"
   ]
  }
 ],
 "metadata": {
  "kernelspec": {
   "display_name": "Python 3 (ipykernel)",
   "language": "python",
   "name": "python3"
  },
  "language_info": {
   "codemirror_mode": {
    "name": "ipython",
    "version": 3
   },
   "file_extension": ".py",
   "mimetype": "text/x-python",
   "name": "python",
   "nbconvert_exporter": "python",
   "pygments_lexer": "ipython3",
   "version": "3.9.7"
  }
 },
 "nbformat": 4,
 "nbformat_minor": 5
}
