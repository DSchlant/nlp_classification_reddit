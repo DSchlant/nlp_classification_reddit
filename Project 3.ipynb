{
 "cells": [
  {
   "cell_type": "code",
   "execution_count": 116,
   "id": "53125333-f5e1-4abf-bee0-a4b632659663",
   "metadata": {},
   "outputs": [],
   "source": [
    "import requests\n",
    "import time\n",
    "import pandas as pd\n",
    "from bs4 import BeautifulSoup\n",
    "from sklearn.feature_extraction.text import CountVectorizer, TfidfVectorizer\n",
    "from sklearn.model_selection import train_test_split, GridSearchCV\n",
    "from sklearn.linear_model import LogisticRegression\n",
    "from sklearn.pipeline import Pipeline\n",
    "from sklearn.metrics import ConfusionMatrixDisplay\n",
    "import nltk\n",
    "from nltk import word_tokenize\n",
    "from nltk.stem import WordNetLemmatizer\n",
    "from sklearn.dummy import DummyClassifier, DummyRegressor\n",
    "from sklearn.preprocessing import LabelEncoder\n",
    "from sklearn.neighbors import KNeighborsClassifier, KNeighborsRegressor\n",
    "from sklearn.tree import plot_tree, DecisionTreeClassifier\n",
    "from sklearn.ensemble import VotingRegressor\n",
    "from sklearn.ensemble import VotingClassifier"
   ]
  },
  {
   "cell_type": "code",
   "execution_count": 3,
   "id": "68f6af72-4e9e-4fa2-8571-78e47edd9e96",
   "metadata": {},
   "outputs": [],
   "source": [
    "base_url = 'https://api.pushshift.io/reddit/search/'DummyRegressor"
   ]
  },
  {
   "cell_type": "code",
   "execution_count": 124,
   "id": "bff38a20-2e64-4fe8-b25a-7afd86ca6436",
   "metadata": {},
   "outputs": [],
   "source": [
    "pd.set_option('display.max_columns', None)\n",
    "#pd.set_option('display.max_rows', None)"
   ]
  },
  {
   "cell_type": "code",
   "execution_count": 5,
   "id": "62d1b7ee-e9e9-4d76-853e-4bf089a0cf61",
   "metadata": {},
   "outputs": [],
   "source": [
    "def pull_posts(base_url,subreddit,length):\n",
    "    data_pulls = pd.DataFrame()\n",
    "    before = 1650821963\n",
    "    for i in range(length):\n",
    "        parameters = {'subreddit': subreddit,\n",
    "                  'size': 100,\n",
    "                  'is_self' : True,\n",
    "                  'before': before}\n",
    "        try:\n",
    "            response = requests.get(base_url+'submission/',parameters)\n",
    "            if response.status_code != 200:\n",
    "                print('request failed')\n",
    "            else:\n",
    "                data = response.json()\n",
    "                posts = data['data']\n",
    "                posts = pd.DataFrame(posts)\n",
    "                data_pulls = pd.concat([data_pulls,posts])\n",
    "                time.sleep(5)\n",
    "                before = data_pulls['created_utc'].iloc[-1]\n",
    "        except:\n",
    "            print(\"Exception: {}\".format(type(exception).__name__))\n",
    "            print(\"Exception message: {}\".format(exception))\n",
    "            time.sleep(15)\n",
    "    return data_pulls"
   ]
  },
  {
   "cell_type": "code",
   "execution_count": 6,
   "id": "2801b257-d398-42dc-a278-6735281868fb",
   "metadata": {},
   "outputs": [],
   "source": [
    "#futurology_pulls = pull_posts(base_url,'futurology',289)\n",
    "#futurology_pulls.to_csv('futurology_pull.csv',index=False)"
   ]
  },
  {
   "cell_type": "code",
   "execution_count": 7,
   "id": "7a44b531-0c04-409d-8cdb-a4ca04b238fb",
   "metadata": {},
   "outputs": [],
   "source": [
    "#collapse_pulls = pull_posts(base_url,'collapse',288)\n",
    "#collapse_pulls.to_csv('collapse_pull.csv',index=False)"
   ]
  },
  {
   "cell_type": "code",
   "execution_count": 8,
   "id": "81337711-04f8-43e2-9491-83523587c0ba",
   "metadata": {},
   "outputs": [
    {
     "name": "stderr",
     "output_type": "stream",
     "text": [
      "/var/folders/pr/wgwfmfsx53n97rhpm9z12wqh0000gn/T/ipykernel_19929/2351499472.py:1: DtypeWarning: Columns (0,1,4,6,8,9,10,11,12,13,17,19,20,21,22,23,24,26,29,30,32,33,34,35,36,40,42,44,48,49,54,58,61,66,71,72,75,76,77,81,84,85,86,87,88,89,90,96,97) have mixed types. Specify dtype option on import or set low_memory=False.\n",
      "  df_fut = pd.read_csv('futurology_pull.csv')\n",
      "/var/folders/pr/wgwfmfsx53n97rhpm9z12wqh0000gn/T/ipykernel_19929/2351499472.py:2: DtypeWarning: Columns (0,1,8,9,10,11,12,13,17,19,20,21,22,23,24,26,27,29,33,34,35,41,45,49,50,51,59,67,70,72,74,76,78,79,80,81,82,83,87,88,89,90,96,97) have mixed types. Specify dtype option on import or set low_memory=False.\n",
      "  df_col = pd.read_csv('collapse_pull.csv')\n"
     ]
    }
   ],
   "source": [
    "df_fut = pd.read_csv('futurology_pull.csv')\n",
    "df_col = pd.read_csv('collapse_pull.csv')"
   ]
  },
  {
   "cell_type": "markdown",
   "id": "50c90ea5-c5a7-4ebf-b00f-b51fec3ee027",
   "metadata": {},
   "source": [
    "### Checking for duplicates"
   ]
  },
  {
   "cell_type": "code",
   "execution_count": 9,
   "id": "a40caa53-b1f9-4057-b7d8-1293d6e7475d",
   "metadata": {},
   "outputs": [],
   "source": [
    "df_fut = df_fut.drop_duplicates()\n",
    "df_col = df_col.drop_duplicates()"
   ]
  },
  {
   "cell_type": "markdown",
   "id": "00440798-87d3-43cd-8b92-976558fe2142",
   "metadata": {},
   "source": [
    "### Remvoing rows with titles less than 4 characters"
   ]
  },
  {
   "cell_type": "code",
   "execution_count": 10,
   "id": "9f6ff0b1-450e-48e1-9272-cf9986b98067",
   "metadata": {},
   "outputs": [],
   "source": [
    "df_fut['length'] = [len(i) for i in df_fut['title']]\n",
    "df_fut = df_fut[df_fut['length'] > 5]\n",
    "\n",
    "\n",
    "df_col['length'] = [len(i) for i in df_col['title']]\n",
    "df_col = df_col[df_col['length'] > 5]"
   ]
  },
  {
   "cell_type": "code",
   "execution_count": 11,
   "id": "faa03e3d-dfd6-49e4-ae46-a420c7183dd1",
   "metadata": {},
   "outputs": [],
   "source": [
    "df_fut_cut = df_fut[['subreddit','title']]\n",
    "df_col_cut = df_col[['subreddit','title']]"
   ]
  },
  {
   "cell_type": "markdown",
   "id": "a4ad8ef3-232f-4347-b7c9-d6967815e182",
   "metadata": {},
   "source": [
    "### Checking to see if any rows have no English text"
   ]
  },
  {
   "cell_type": "code",
   "execution_count": 89,
   "id": "8ceb848f-6abd-4edb-be0e-7c7e09144a11",
   "metadata": {},
   "outputs": [],
   "source": [
    "foreign_lang = ['분석/프로토',\\\n",
    "'분석/프로토 사이트/스포츠베팅/스포츠배팅/실시간스포츠배팅/스포츠배팅',\\\n",
    "'사다리/먹튀없는',\\\n",
    "'사이트/스포츠베팅/스포츠배팅/실시간스포츠배팅/스포츠배팅',\\\n",
    "'순위/토토사이트',\\\n",
    "'순위/토토사이트 추천/해외토토/해외토토사이트/해외토토중계/프로토/프로토',\\\n",
    "'순위/토토사이트 추천/해외토토/해외토토사이트/해외토토중계/프로토/프로토 팁/프로토승부식/프로토',\\\n",
    "'에이전시/해외',\\\n",
    "'추천/해외토토/해외토토사이트/해외토토중계/프로토/프로토',\\\n",
    "'추천/해외토토/해외토토사이트/해외토토중계/프로토/프로토 팁/프로토승부식/프로토',\\\n",
    "'추천/해외토토/해외토토사이트/해외토토중계/프로토/프로토 팁/프로토승부식/프로토 분석/프로토',\\\n",
    "'토토/토토사이트',\\\n",
    "'토토사이트/안전토토사이트/토토사이트검증/먹튀없는',\\\n",
    "'토토사이트/안전토토사이트/토토사이트검증/먹튀없는 토토/토토사이트,팁/프로토승부식/프로토',\\\n",
    "'팁/프로토승부식/프로토 분석/프로토,팁/프로토승부식/프로토 분석/프로토 사이트/스포츠베팅/스포츠배팅/실시간스포츠배팅/스포츠배팅']"
   ]
  },
  {
   "cell_type": "code",
   "execution_count": 126,
   "id": "a6509b27-e034-402d-8345-86e2ab3e97bd",
   "metadata": {},
   "outputs": [
    {
     "data": {
      "text/plain": [
       "\"Richard Wolff on Ukraine war's ominous historical parallels.\""
      ]
     },
     "execution_count": 126,
     "metadata": {},
     "output_type": "execute_result"
    }
   ],
   "source": [
    "df_col_cut['title'][1]"
   ]
  },
  {
   "cell_type": "markdown",
   "id": "8b5a9006-c2a0-4057-918c-03e595816792",
   "metadata": {
    "tags": []
   },
   "source": [
    "### Combining Dataframes"
   ]
  },
  {
   "cell_type": "code",
   "execution_count": 12,
   "id": "e84bf9dc-3f0c-4c0c-9392-9b406d516de3",
   "metadata": {},
   "outputs": [],
   "source": [
    "df_comb = pd.concat([df_col_cut,df_fut_cut])"
   ]
  },
  {
   "cell_type": "code",
   "execution_count": 13,
   "id": "97900f1e-6227-40f6-94c5-45b9564f2add",
   "metadata": {},
   "outputs": [
    {
     "data": {
      "text/plain": [
       "(57364, 2)"
      ]
     },
     "execution_count": 13,
     "metadata": {},
     "output_type": "execute_result"
    }
   ],
   "source": [
    "df_comb.shape"
   ]
  },
  {
   "cell_type": "markdown",
   "id": "a499fc5f-290b-427c-a113-3dbf50744c7a",
   "metadata": {},
   "source": [
    "Using 20% of the dataset for initial analysis."
   ]
  },
  {
   "cell_type": "code",
   "execution_count": 14,
   "id": "a84cb44b-0f8b-4d93-9f95-07e2060dda49",
   "metadata": {},
   "outputs": [],
   "source": [
    "df_sample = df_comb.sample(frac=0.2)"
   ]
  },
  {
   "cell_type": "markdown",
   "id": "26d2916a-3093-4613-8ba7-df35fa164fcd",
   "metadata": {},
   "source": [
    "### TTS"
   ]
  },
  {
   "cell_type": "code",
   "execution_count": 15,
   "id": "c1da68f0-307a-4bee-b48b-160ab226eb6a",
   "metadata": {},
   "outputs": [],
   "source": [
    "X = df_sample['title']\n",
    "y = df_sample['subreddit']"
   ]
  },
  {
   "cell_type": "code",
   "execution_count": 16,
   "id": "284cbdfd-7aac-4d67-b987-f6dd9761e0d7",
   "metadata": {},
   "outputs": [],
   "source": [
    "X_train,X_test,y_train,y_test = train_test_split(X,y,random_state=42,stratify=y)"
   ]
  },
  {
   "cell_type": "markdown",
   "id": "1368e5bf-576c-4b7b-bf49-11acfb7506cd",
   "metadata": {},
   "source": [
    "### Baseline Null"
   ]
  },
  {
   "cell_type": "code",
   "execution_count": 17,
   "id": "23c73e96-5d7a-4be6-8c02-7ede78a39e34",
   "metadata": {},
   "outputs": [
    {
     "data": {
      "text/plain": [
       "0.50644823980481"
      ]
     },
     "execution_count": 17,
     "metadata": {},
     "output_type": "execute_result"
    }
   ],
   "source": [
    "dc = DummyClassifier()\n",
    "dc.fit(X_train,y_train)\n",
    "dc.predict(X_test)\n",
    "dc.score(X_test,y_test)"
   ]
  },
  {
   "cell_type": "markdown",
   "id": "6892dd00-879f-4124-a910-6c299a76cfbd",
   "metadata": {},
   "source": [
    "### Initial LogReg Model Scores"
   ]
  },
  {
   "cell_type": "code",
   "execution_count": 18,
   "id": "044e1a0c-bd35-449f-8e01-e1e74b3f7c06",
   "metadata": {
    "tags": []
   },
   "outputs": [],
   "source": [
    "def lemma_tokenizer(doc):\n",
    "    wnl = WordNetLemmatizer()\n",
    "    return [wnl.lemmatize(w) for w in word_tokenize(doc)]"
   ]
  },
  {
   "cell_type": "code",
   "execution_count": 19,
   "id": "4f0082bc-24cb-4295-8143-e9813f0fa961",
   "metadata": {},
   "outputs": [],
   "source": [
    "# pipe = Pipeline(\n",
    "#     [\n",
    "#     ('cv',CountVectorizer(stop_words=my_stopwords,ngram_range=[1,2],min_df=3,tokenizer=lemma_tokenizer)), \n",
    "#     ('lr',LogisticRegression(max_iter=10000))   \n",
    "#     ])"
   ]
  },
  {
   "cell_type": "code",
   "execution_count": 20,
   "id": "74d1b7ee-9824-4159-bede-e47b904bcdc7",
   "metadata": {},
   "outputs": [],
   "source": [
    "# pipe.fit(X_train,y_train)\n",
    "# pipe.score(X_train,y_train), pipe.score(X_test,y_test)"
   ]
  },
  {
   "cell_type": "code",
   "execution_count": 21,
   "id": "63f2b973-4ba7-4200-b0f7-26f2c781098e",
   "metadata": {},
   "outputs": [],
   "source": [
    "# pipe2 = Pipeline(\n",
    "#     [\n",
    "#     ('tf',TfidfVectorizer(stop_words='english',ngram_range=[1,2],min_df=3,tokenizer=lemma_tokenizer)),\n",
    "#     ('lr',LogisticRegression(max_iter=10000))   \n",
    "#     ])"
   ]
  },
  {
   "cell_type": "code",
   "execution_count": 22,
   "id": "9d0608ee-b748-4a81-b360-3d679e6ffa32",
   "metadata": {},
   "outputs": [],
   "source": [
    "# pipe2.fit(X_train,y_train)\n",
    "# pipe2.score(X_train,y_train), pipe.score(X_test,y_test)"
   ]
  },
  {
   "cell_type": "code",
   "execution_count": null,
   "id": "9ad8335a-edf4-4d61-b9d7-e2f2a383bfc0",
   "metadata": {},
   "outputs": [],
   "source": []
  },
  {
   "cell_type": "markdown",
   "id": "dd899f5d-7426-4f0b-9e70-60ac40caca01",
   "metadata": {},
   "source": [
    "### Deeper Dive"
   ]
  },
  {
   "cell_type": "code",
   "execution_count": 68,
   "id": "8947dd5e-555e-44e8-aa26-37ccd8a39aaf",
   "metadata": {},
   "outputs": [
    {
     "name": "stderr",
     "output_type": "stream",
     "text": [
      "/Users/danielschlant/opt/anaconda3/lib/python3.9/site-packages/sklearn/feature_extraction/text.py:516: UserWarning: The parameter 'token_pattern' will not be used since 'tokenizer' is not None'\n",
      "  warnings.warn(\n"
     ]
    }
   ],
   "source": [
    "cvec = CountVectorizer(\n",
    "    stop_words=['english','ascii','?',',','.','(',')',':','!','u','\\'','i','are','that','the','on','and','is','to','a','of',\\\n",
    "               'in','what','for','will','you','it','be','this','with','do','n\\'t','-','\\'s','\\'','an',\\\n",
    "               '`','.',',','u','/r/futurology','/r/collapse','~','e','g','’','``','=','o','de','r/collapse','r/futurology',\\\n",
    "               'we','how','about','have','can','if','all','or','would','by','our','why','not','your','year','when',\\\n",
    "               'could','there','like','from','...','an','ha','haha','hahaha','[]','[',']','so','new','now','doe',\\\n",
    "               'my','more','just','any','but','who','at','some','me',';','they','no','yes','out','should','get',\\\n",
    "               'most','s','than','up','one','wa','make','here','thing','#','$','got',],\n",
    "    ngram_range=[1,3],min_df=3,tokenizer=lemma_tokenizer)\n",
    "cvec.fit(X_train)\n",
    "X_train_cv = cvec.transform(X_train)\n",
    "X_test_cv = cvec.transform(X_test)\n",
    "\n",
    "X_train_cvdf = pd.DataFrame(X_train_cv.A,columns=cvec.get_feature_names_out())\n",
    "X_test_cvdf = pd.DataFrame(X_test_cv.A,columns=cvec.get_feature_names_out())\n",
    "\n"
   ]
  },
  {
   "cell_type": "code",
   "execution_count": 69,
   "id": "f9ca4415-36c5-422e-8b48-977404aaa467",
   "metadata": {},
   "outputs": [],
   "source": [
    "le = LabelEncoder()\n",
    "y_train_le = le.fit_transform(y_train)\n",
    "y_test_le = le.transform(y_test)"
   ]
  },
  {
   "cell_type": "code",
   "execution_count": 70,
   "id": "82237807-58b5-4e48-b491-5b6e7e0ffcb6",
   "metadata": {},
   "outputs": [
    {
     "data": {
      "text/plain": [
       "collapse          932\n",
       "future            718\n",
       "think             370\n",
       "world             356\n",
       "''                335\n",
       "people            306\n",
       "climate           305\n",
       "change            297\n",
       "human             278\n",
       "ai                225\n",
       "technology        223\n",
       "climate change    185\n",
       "going             184\n",
       "time              184\n",
       "life              162\n",
       "need              162\n",
       "anyone            152\n",
       "help              146\n",
       "see               144\n",
       "energy            132\n",
       "question          131\n",
       "where             130\n",
       "into              126\n",
       "next              125\n",
       "global            124\n",
       "dtype: int64"
      ]
     },
     "execution_count": 70,
     "metadata": {},
     "output_type": "execute_result"
    }
   ],
   "source": [
    "X_train_cvdf.sum().sort_values(ascending=False).head(25)"
   ]
  },
  {
   "cell_type": "code",
   "execution_count": 71,
   "id": "48a13dc3-a1a8-4d62-a810-7dfe5e7d1c4d",
   "metadata": {},
   "outputs": [
    {
     "data": {
      "text/plain": [
       "(0.9119014411901442, 0.8034158243290345)"
      ]
     },
     "execution_count": 71,
     "metadata": {},
     "output_type": "execute_result"
    }
   ],
   "source": [
    "lr = LogisticRegression(max_iter=10_000)\n",
    "lr.fit(X_train_cvdf,y_train_le)\n",
    "lr.score(X_train_cvdf,y_train_le),lr.score(X_test_cvdf,y_test_le)"
   ]
  },
  {
   "cell_type": "code",
   "execution_count": 72,
   "id": "09952de5-1a18-44fe-9dec-d0291730a335",
   "metadata": {},
   "outputs": [
    {
     "data": {
      "text/plain": [
       "<sklearn.metrics._plot.confusion_matrix.ConfusionMatrixDisplay at 0x7fc5160da160>"
      ]
     },
     "execution_count": 72,
     "metadata": {},
     "output_type": "execute_result"
    },
    {
     "data": {
      "image/png": "[encoded data removed]",
      "text/plain": [
       "<Figure size 432x288 with 2 Axes>"
      ]
     },
     "metadata": {
      "needs_background": "light"
     },
     "output_type": "display_data"
    }
   ],
   "source": [
    "ConfusionMatrixDisplay.from_estimator(lr,X_test_cvdf,y_test_le,cmap='Blues')"
   ]
  },
  {
   "cell_type": "code",
   "execution_count": 37,
   "id": "68595af3-9a40-4e60-b480-0fb93ac9f6f7",
   "metadata": {},
   "outputs": [],
   "source": [
    "# knc = KNeighborsClassifier(n_neighbors=5)\n",
    "# knc.fit(X_train_cvdf,y_train_le)\n",
    "# knc.score(X_test_cvdf,y_test_le)"
   ]
  },
  {
   "cell_type": "code",
   "execution_count": 38,
   "id": "ce0128a9-18d1-4f03-9d89-533d4451ea5d",
   "metadata": {},
   "outputs": [],
   "source": [
    "coef_df = pd.DataFrame(lr.coef_[0],index=cvec.get_feature_names_out(),columns=['coef_val'])"
   ]
  },
  {
   "cell_type": "code",
   "execution_count": 39,
   "id": "e71b0de4-726c-45c0-83ef-c315727f2bf8",
   "metadata": {},
   "outputs": [
    {
     "data": {
      "text/html": [
       "<div>\n",
       "<style scoped>\n",
       "    .dataframe tbody tr th:only-of-type {\n",
       "        vertical-align: middle;\n",
       "    }\n",
       "\n",
       "    .dataframe tbody tr th {\n",
       "        vertical-align: top;\n",
       "    }\n",
       "\n",
       "    .dataframe thead th {\n",
       "        text-align: right;\n",
       "    }\n",
       "</style>\n",
       "<table border=\"1\" class=\"dataframe\">\n",
       "  <thead>\n",
       "    <tr style=\"text-align: right;\">\n",
       "      <th></th>\n",
       "      <th>coef_val</th>\n",
       "    </tr>\n",
       "  </thead>\n",
       "  <tbody>\n",
       "    <tr>\n",
       "      <th>wildfire</th>\n",
       "      <td>1.086341</td>\n",
       "    </tr>\n",
       "    <tr>\n",
       "      <th>sub</th>\n",
       "      <td>1.092099</td>\n",
       "    </tr>\n",
       "    <tr>\n",
       "      <th>prep</th>\n",
       "      <td>1.092553</td>\n",
       "    </tr>\n",
       "    <tr>\n",
       "      <th>saving</th>\n",
       "      <td>1.092625</td>\n",
       "    </tr>\n",
       "    <tr>\n",
       "      <th>there no</th>\n",
       "      <td>1.105920</td>\n",
       "    </tr>\n",
       "    <tr>\n",
       "      <th>northern</th>\n",
       "      <td>1.106827</td>\n",
       "    </tr>\n",
       "    <tr>\n",
       "      <th>chapter</th>\n",
       "      <td>1.116400</td>\n",
       "    </tr>\n",
       "    <tr>\n",
       "      <th>inside</th>\n",
       "      <td>1.126193</td>\n",
       "    </tr>\n",
       "    <tr>\n",
       "      <th>denial</th>\n",
       "      <td>1.129534</td>\n",
       "    </tr>\n",
       "    <tr>\n",
       "      <th>extinction</th>\n",
       "      <td>1.130776</td>\n",
       "    </tr>\n",
       "    <tr>\n",
       "      <th>america</th>\n",
       "      <td>1.148732</td>\n",
       "    </tr>\n",
       "    <tr>\n",
       "      <th>sea</th>\n",
       "      <td>1.166968</td>\n",
       "    </tr>\n",
       "    <tr>\n",
       "      <th>mask</th>\n",
       "      <td>1.170468</td>\n",
       "    </tr>\n",
       "    <tr>\n",
       "      <th>carbon capture</th>\n",
       "      <td>1.171932</td>\n",
       "    </tr>\n",
       "    <tr>\n",
       "      <th>collapsed</th>\n",
       "      <td>1.171986</td>\n",
       "    </tr>\n",
       "    <tr>\n",
       "      <th>peak</th>\n",
       "      <td>1.187573</td>\n",
       "    </tr>\n",
       "    <tr>\n",
       "      <th>conspiracy</th>\n",
       "      <td>1.190137</td>\n",
       "    </tr>\n",
       "    <tr>\n",
       "      <th>even</th>\n",
       "      <td>1.190906</td>\n",
       "    </tr>\n",
       "    <tr>\n",
       "      <th>hurricane</th>\n",
       "      <td>1.196720</td>\n",
       "    </tr>\n",
       "    <tr>\n",
       "      <th>worse</th>\n",
       "      <td>1.202359</td>\n",
       "    </tr>\n",
       "    <tr>\n",
       "      <th>apocalypse</th>\n",
       "      <td>1.210374</td>\n",
       "    </tr>\n",
       "    <tr>\n",
       "      <th>observation</th>\n",
       "      <td>1.239150</td>\n",
       "    </tr>\n",
       "    <tr>\n",
       "      <th>shortage</th>\n",
       "      <td>1.256545</td>\n",
       "    </tr>\n",
       "    <tr>\n",
       "      <th>methane</th>\n",
       "      <td>1.270287</td>\n",
       "    </tr>\n",
       "    <tr>\n",
       "      <th>shtf</th>\n",
       "      <td>1.303659</td>\n",
       "    </tr>\n",
       "    <tr>\n",
       "      <th>doom</th>\n",
       "      <td>1.306746</td>\n",
       "    </tr>\n",
       "    <tr>\n",
       "      <th>friday</th>\n",
       "      <td>1.325636</td>\n",
       "    </tr>\n",
       "    <tr>\n",
       "      <th>bubble</th>\n",
       "      <td>1.333616</td>\n",
       "    </tr>\n",
       "    <tr>\n",
       "      <th>doomed</th>\n",
       "      <td>1.342893</td>\n",
       "    </tr>\n",
       "    <tr>\n",
       "      <th>prepare</th>\n",
       "      <td>1.345949</td>\n",
       "    </tr>\n",
       "    <tr>\n",
       "      <th>another article</th>\n",
       "      <td>1.354331</td>\n",
       "    </tr>\n",
       "    <tr>\n",
       "      <th>thread</th>\n",
       "      <td>1.355445</td>\n",
       "    </tr>\n",
       "    <tr>\n",
       "      <th>shit</th>\n",
       "      <td>1.361869</td>\n",
       "    </tr>\n",
       "    <tr>\n",
       "      <th>local</th>\n",
       "      <td>1.382210</td>\n",
       "    </tr>\n",
       "    <tr>\n",
       "      <th>riot</th>\n",
       "      <td>1.401527</td>\n",
       "    </tr>\n",
       "    <tr>\n",
       "      <th>election</th>\n",
       "      <td>1.424276</td>\n",
       "    </tr>\n",
       "    <tr>\n",
       "      <th>kill</th>\n",
       "      <td>1.424636</td>\n",
       "    </tr>\n",
       "    <tr>\n",
       "      <th>co2</th>\n",
       "      <td>1.429326</td>\n",
       "    </tr>\n",
       "    <tr>\n",
       "      <th>climate</th>\n",
       "      <td>1.472303</td>\n",
       "    </tr>\n",
       "    <tr>\n",
       "      <th>ipcc</th>\n",
       "      <td>1.486783</td>\n",
       "    </tr>\n",
       "    <tr>\n",
       "      <th>survival</th>\n",
       "      <td>1.538328</td>\n",
       "    </tr>\n",
       "    <tr>\n",
       "      <th>debt</th>\n",
       "      <td>1.560441</td>\n",
       "    </tr>\n",
       "    <tr>\n",
       "      <th>fire</th>\n",
       "      <td>1.574430</td>\n",
       "    </tr>\n",
       "    <tr>\n",
       "      <th>fails</th>\n",
       "      <td>1.581665</td>\n",
       "    </tr>\n",
       "    <tr>\n",
       "      <th>collapsing</th>\n",
       "      <td>1.588864</td>\n",
       "    </tr>\n",
       "    <tr>\n",
       "      <th>war</th>\n",
       "      <td>1.590783</td>\n",
       "    </tr>\n",
       "    <tr>\n",
       "      <th>american</th>\n",
       "      <td>1.698061</td>\n",
       "    </tr>\n",
       "    <tr>\n",
       "      <th>oil</th>\n",
       "      <td>1.710899</td>\n",
       "    </tr>\n",
       "    <tr>\n",
       "      <th>post-collapse</th>\n",
       "      <td>2.219689</td>\n",
       "    </tr>\n",
       "    <tr>\n",
       "      <th>collapse</th>\n",
       "      <td>4.718276</td>\n",
       "    </tr>\n",
       "  </tbody>\n",
       "</table>\n",
       "</div>"
      ],
      "text/plain": [
       "                 coef_val\n",
       "wildfire         1.086341\n",
       "sub              1.092099\n",
       "prep             1.092553\n",
       "saving           1.092625\n",
       "there no         1.105920\n",
       "northern         1.106827\n",
       "chapter          1.116400\n",
       "inside           1.126193\n",
       "denial           1.129534\n",
       "extinction       1.130776\n",
       "america          1.148732\n",
       "sea              1.166968\n",
       "mask             1.170468\n",
       "carbon capture   1.171932\n",
       "collapsed        1.171986\n",
       "peak             1.187573\n",
       "conspiracy       1.190137\n",
       "even             1.190906\n",
       "hurricane        1.196720\n",
       "worse            1.202359\n",
       "apocalypse       1.210374\n",
       "observation      1.239150\n",
       "shortage         1.256545\n",
       "methane          1.270287\n",
       "shtf             1.303659\n",
       "doom             1.306746\n",
       "friday           1.325636\n",
       "bubble           1.333616\n",
       "doomed           1.342893\n",
       "prepare          1.345949\n",
       "another article  1.354331\n",
       "thread           1.355445\n",
       "shit             1.361869\n",
       "local            1.382210\n",
       "riot             1.401527\n",
       "election         1.424276\n",
       "kill             1.424636\n",
       "co2              1.429326\n",
       "climate          1.472303\n",
       "ipcc             1.486783\n",
       "survival         1.538328\n",
       "debt             1.560441\n",
       "fire             1.574430\n",
       "fails            1.581665\n",
       "collapsing       1.588864\n",
       "war              1.590783\n",
       "american         1.698061\n",
       "oil              1.710899\n",
       "post-collapse    2.219689\n",
       "collapse         4.718276"
      ]
     },
     "execution_count": 39,
     "metadata": {},
     "output_type": "execute_result"
    }
   ],
   "source": [
    "coef_df.sort_values(by='coef_val').tail(50)"
   ]
  },
  {
   "cell_type": "code",
   "execution_count": 32,
   "id": "27786863-1929-4c16-b014-2d3c16c49c05",
   "metadata": {},
   "outputs": [
    {
     "data": {
      "text/html": [
       "<div>\n",
       "<style scoped>\n",
       "    .dataframe tbody tr th:only-of-type {\n",
       "        vertical-align: middle;\n",
       "    }\n",
       "\n",
       "    .dataframe tbody tr th {\n",
       "        vertical-align: top;\n",
       "    }\n",
       "\n",
       "    .dataframe thead th {\n",
       "        text-align: right;\n",
       "    }\n",
       "</style>\n",
       "<table border=\"1\" class=\"dataframe\">\n",
       "  <thead>\n",
       "    <tr style=\"text-align: right;\">\n",
       "      <th></th>\n",
       "      <th>coef_val</th>\n",
       "    </tr>\n",
       "  </thead>\n",
       "  <tbody>\n",
       "    <tr>\n",
       "      <th>futurology</th>\n",
       "      <td>-3.119285</td>\n",
       "    </tr>\n",
       "    <tr>\n",
       "      <th>ai</th>\n",
       "      <td>-3.058618</td>\n",
       "    </tr>\n",
       "    <tr>\n",
       "      <th>robot</th>\n",
       "      <td>-2.292663</td>\n",
       "    </tr>\n",
       "    <tr>\n",
       "      <th>technology</th>\n",
       "      <td>-2.251978</td>\n",
       "    </tr>\n",
       "    <tr>\n",
       "      <th>future</th>\n",
       "      <td>-2.226263</td>\n",
       "    </tr>\n",
       "    <tr>\n",
       "      <th>blockchain</th>\n",
       "      <td>-2.160889</td>\n",
       "    </tr>\n",
       "    <tr>\n",
       "      <th>immortality</th>\n",
       "      <td>-2.055459</td>\n",
       "    </tr>\n",
       "    <tr>\n",
       "      <th>brain</th>\n",
       "      <td>-1.952412</td>\n",
       "    </tr>\n",
       "    <tr>\n",
       "      <th>singularity</th>\n",
       "      <td>-1.936764</td>\n",
       "    </tr>\n",
       "    <tr>\n",
       "      <th>tesla</th>\n",
       "      <td>-1.899797</td>\n",
       "    </tr>\n",
       "    <tr>\n",
       "      <th>moon</th>\n",
       "      <td>-1.813330</td>\n",
       "    </tr>\n",
       "    <tr>\n",
       "      <th>futurist</th>\n",
       "      <td>-1.790228</td>\n",
       "    </tr>\n",
       "    <tr>\n",
       "      <th>mar</th>\n",
       "      <td>-1.774717</td>\n",
       "    </tr>\n",
       "    <tr>\n",
       "      <th>ubi</th>\n",
       "      <td>-1.773541</td>\n",
       "    </tr>\n",
       "    <tr>\n",
       "      <th>computer</th>\n",
       "      <td>-1.754123</td>\n",
       "    </tr>\n",
       "    <tr>\n",
       "      <th>futuristic</th>\n",
       "      <td>-1.746145</td>\n",
       "    </tr>\n",
       "    <tr>\n",
       "      <th>artificial</th>\n",
       "      <td>-1.727834</td>\n",
       "    </tr>\n",
       "    <tr>\n",
       "      <th>machine</th>\n",
       "      <td>-1.718144</td>\n",
       "    </tr>\n",
       "    <tr>\n",
       "      <th>r/futurology</th>\n",
       "      <td>-1.691533</td>\n",
       "    </tr>\n",
       "    <tr>\n",
       "      <th>simulation</th>\n",
       "      <td>-1.657418</td>\n",
       "    </tr>\n",
       "    <tr>\n",
       "      <th>automation</th>\n",
       "      <td>-1.644284</td>\n",
       "    </tr>\n",
       "    <tr>\n",
       "      <th>alien</th>\n",
       "      <td>-1.616550</td>\n",
       "    </tr>\n",
       "    <tr>\n",
       "      <th>online</th>\n",
       "      <td>-1.594639</td>\n",
       "    </tr>\n",
       "    <tr>\n",
       "      <th>technological</th>\n",
       "      <td>-1.551382</td>\n",
       "    </tr>\n",
       "    <tr>\n",
       "      <th>consciousness</th>\n",
       "      <td>-1.551308</td>\n",
       "    </tr>\n",
       "    <tr>\n",
       "      <th>futurism</th>\n",
       "      <td>-1.515264</td>\n",
       "    </tr>\n",
       "    <tr>\n",
       "      <th>lifetime</th>\n",
       "      <td>-1.507190</td>\n",
       "    </tr>\n",
       "    <tr>\n",
       "      <th>innovation</th>\n",
       "      <td>-1.490877</td>\n",
       "    </tr>\n",
       "    <tr>\n",
       "      <th>intelligence</th>\n",
       "      <td>-1.460968</td>\n",
       "    </tr>\n",
       "    <tr>\n",
       "      <th>aging</th>\n",
       "      <td>-1.436602</td>\n",
       "    </tr>\n",
       "    <tr>\n",
       "      <th>research</th>\n",
       "      <td>-1.420180</td>\n",
       "    </tr>\n",
       "    <tr>\n",
       "      <th>agi</th>\n",
       "      <td>-1.390787</td>\n",
       "    </tr>\n",
       "    <tr>\n",
       "      <th>space</th>\n",
       "      <td>-1.360897</td>\n",
       "    </tr>\n",
       "    <tr>\n",
       "      <th>virtual</th>\n",
       "      <td>-1.353588</td>\n",
       "    </tr>\n",
       "    <tr>\n",
       "      <th>drone</th>\n",
       "      <td>-1.343498</td>\n",
       "    </tr>\n",
       "    <tr>\n",
       "      <th>type</th>\n",
       "      <td>-1.341525</td>\n",
       "    </tr>\n",
       "    <tr>\n",
       "      <th>immortal</th>\n",
       "      <td>-1.322200</td>\n",
       "    </tr>\n",
       "    <tr>\n",
       "      <th>universe</th>\n",
       "      <td>-1.317609</td>\n",
       "    </tr>\n",
       "    <tr>\n",
       "      <th>privacy</th>\n",
       "      <td>-1.296196</td>\n",
       "    </tr>\n",
       "    <tr>\n",
       "      <th>quantum</th>\n",
       "      <td>-1.294769</td>\n",
       "    </tr>\n",
       "    <tr>\n",
       "      <th>automated</th>\n",
       "      <td>-1.293873</td>\n",
       "    </tr>\n",
       "    <tr>\n",
       "      <th>vr</th>\n",
       "      <td>-1.282199</td>\n",
       "    </tr>\n",
       "    <tr>\n",
       "      <th>crypto</th>\n",
       "      <td>-1.274021</td>\n",
       "    </tr>\n",
       "    <tr>\n",
       "      <th>driving</th>\n",
       "      <td>-1.273668</td>\n",
       "    </tr>\n",
       "    <tr>\n",
       "      <th>3d</th>\n",
       "      <td>-1.271223</td>\n",
       "    </tr>\n",
       "    <tr>\n",
       "      <th>alive</th>\n",
       "      <td>-1.257317</td>\n",
       "    </tr>\n",
       "    <tr>\n",
       "      <th>reactor</th>\n",
       "      <td>-1.255661</td>\n",
       "    </tr>\n",
       "    <tr>\n",
       "      <th>rate</th>\n",
       "      <td>-1.235144</td>\n",
       "    </tr>\n",
       "    <tr>\n",
       "      <th>neuralink</th>\n",
       "      <td>-1.234855</td>\n",
       "    </tr>\n",
       "    <tr>\n",
       "      <th>autonomous</th>\n",
       "      <td>-1.227601</td>\n",
       "    </tr>\n",
       "  </tbody>\n",
       "</table>\n",
       "</div>"
      ],
      "text/plain": [
       "               coef_val\n",
       "futurology    -3.119285\n",
       "ai            -3.058618\n",
       "robot         -2.292663\n",
       "technology    -2.251978\n",
       "future        -2.226263\n",
       "blockchain    -2.160889\n",
       "immortality   -2.055459\n",
       "brain         -1.952412\n",
       "singularity   -1.936764\n",
       "tesla         -1.899797\n",
       "moon          -1.813330\n",
       "futurist      -1.790228\n",
       "mar           -1.774717\n",
       "ubi           -1.773541\n",
       "computer      -1.754123\n",
       "futuristic    -1.746145\n",
       "artificial    -1.727834\n",
       "machine       -1.718144\n",
       "r/futurology  -1.691533\n",
       "simulation    -1.657418\n",
       "automation    -1.644284\n",
       "alien         -1.616550\n",
       "online        -1.594639\n",
       "technological -1.551382\n",
       "consciousness -1.551308\n",
       "futurism      -1.515264\n",
       "lifetime      -1.507190\n",
       "innovation    -1.490877\n",
       "intelligence  -1.460968\n",
       "aging         -1.436602\n",
       "research      -1.420180\n",
       "agi           -1.390787\n",
       "space         -1.360897\n",
       "virtual       -1.353588\n",
       "drone         -1.343498\n",
       "type          -1.341525\n",
       "immortal      -1.322200\n",
       "universe      -1.317609\n",
       "privacy       -1.296196\n",
       "quantum       -1.294769\n",
       "automated     -1.293873\n",
       "vr            -1.282199\n",
       "crypto        -1.274021\n",
       "driving       -1.273668\n",
       "3d            -1.271223\n",
       "alive         -1.257317\n",
       "reactor       -1.255661\n",
       "rate          -1.235144\n",
       "neuralink     -1.234855\n",
       "autonomous    -1.227601"
      ]
     },
     "execution_count": 32,
     "metadata": {},
     "output_type": "execute_result"
    }
   ],
   "source": [
    "coef_df.sort_values(by='coef_val').head(50)"
   ]
  },
  {
   "cell_type": "markdown",
   "id": "657715c3-320f-42b7-b971-dd827cde0fd4",
   "metadata": {},
   "source": [
    "### What should we be attempting to optimize for?\n"
   ]
  },
  {
   "cell_type": "code",
   "execution_count": null,
   "id": "527aa230-f365-42cf-b025-4140f76d8b2f",
   "metadata": {},
   "outputs": [],
   "source": []
  },
  {
   "cell_type": "code",
   "execution_count": 79,
   "id": "5a67a790-e411-460e-a153-c371b2d9a35a",
   "metadata": {},
   "outputs": [
    {
     "data": {
      "text/plain": [
       "(0.643305439330544, 0.6371558034158243)"
      ]
     },
     "execution_count": 79,
     "metadata": {},
     "output_type": "execute_result"
    }
   ],
   "source": [
    "params = {\n",
    "    'max_depth' : range(2,9)\n",
    "}\n",
    "\n",
    "gs = GridSearchCV(DecisionTreeClassifier(),params)\n",
    "gs.fit(X_train_cvdf,y_train_le)\n",
    "gs.score(X_train_cvdf,y_train_le), gs.score(X_test_cvdf,y_test_le)"
   ]
  },
  {
   "cell_type": "code",
   "execution_count": 80,
   "id": "f8df8af6-309d-4dfe-aece-ae4072428e9d",
   "metadata": {},
   "outputs": [
    {
     "data": {
      "text/plain": [
       "DecisionTreeClassifier(max_depth=8)"
      ]
     },
     "execution_count": 80,
     "metadata": {},
     "output_type": "execute_result"
    }
   ],
   "source": [
    "gs.best_estimator_"
   ]
  },
  {
   "cell_type": "code",
   "execution_count": 81,
   "id": "9294918c-3a72-4ba2-8da1-d3f43de11d2c",
   "metadata": {},
   "outputs": [
    {
     "data": {
      "text/plain": [
       "array([0., 0., 0., ..., 0., 0., 0.])"
      ]
     },
     "execution_count": 81,
     "metadata": {},
     "output_type": "execute_result"
    }
   ],
   "source": [
    "gs.best_estimator_.feature_importances_"
   ]
  },
  {
   "cell_type": "code",
   "execution_count": 95,
   "id": "205b98f4-2861-4bf3-b37f-51fd9fcd12bd",
   "metadata": {
    "tags": []
   },
   "outputs": [],
   "source": [
    "gs_df = pd.DataFrame(gs.best_estimator_.feature_importances_,index=X_test_cvdf.columns,columns=['feature imps'])"
   ]
  },
  {
   "cell_type": "code",
   "execution_count": 99,
   "id": "f8e4253b-b258-44eb-9192-4dff982aca5d",
   "metadata": {},
   "outputs": [
    {
     "data": {
      "text/html": [
       "<div>\n",
       "<style scoped>\n",
       "    .dataframe tbody tr th:only-of-type {\n",
       "        vertical-align: middle;\n",
       "    }\n",
       "\n",
       "    .dataframe tbody tr th {\n",
       "        vertical-align: top;\n",
       "    }\n",
       "\n",
       "    .dataframe thead th {\n",
       "        text-align: right;\n",
       "    }\n",
       "</style>\n",
       "<table border=\"1\" class=\"dataframe\">\n",
       "  <thead>\n",
       "    <tr style=\"text-align: right;\">\n",
       "      <th></th>\n",
       "      <th>feature imps</th>\n",
       "    </tr>\n",
       "  </thead>\n",
       "  <tbody>\n",
       "    <tr>\n",
       "      <th>collapse</th>\n",
       "      <td>0.488208</td>\n",
       "    </tr>\n",
       "    <tr>\n",
       "      <th>future</th>\n",
       "      <td>0.155823</td>\n",
       "    </tr>\n",
       "    <tr>\n",
       "      <th>climate</th>\n",
       "      <td>0.084399</td>\n",
       "    </tr>\n",
       "    <tr>\n",
       "      <th>ai</th>\n",
       "      <td>0.068974</td>\n",
       "    </tr>\n",
       "    <tr>\n",
       "      <th>technology</th>\n",
       "      <td>0.063776</td>\n",
       "    </tr>\n",
       "    <tr>\n",
       "      <th>robot</th>\n",
       "      <td>0.032577</td>\n",
       "    </tr>\n",
       "    <tr>\n",
       "      <th>war</th>\n",
       "      <td>0.024440</td>\n",
       "    </tr>\n",
       "    <tr>\n",
       "      <th>artificial</th>\n",
       "      <td>0.023769</td>\n",
       "    </tr>\n",
       "    <tr>\n",
       "      <th>anyone</th>\n",
       "      <td>0.004185</td>\n",
       "    </tr>\n",
       "    <tr>\n",
       "      <th>save</th>\n",
       "      <td>0.003506</td>\n",
       "    </tr>\n",
       "    <tr>\n",
       "      <th>keeping</th>\n",
       "      <td>0.003205</td>\n",
       "    </tr>\n",
       "    <tr>\n",
       "      <th>ipcc</th>\n",
       "      <td>0.003186</td>\n",
       "    </tr>\n",
       "    <tr>\n",
       "      <th>chapter</th>\n",
       "      <td>0.003167</td>\n",
       "    </tr>\n",
       "    <tr>\n",
       "      <th>response</th>\n",
       "      <td>0.003148</td>\n",
       "    </tr>\n",
       "    <tr>\n",
       "      <th>dangerous</th>\n",
       "      <td>0.003129</td>\n",
       "    </tr>\n",
       "    <tr>\n",
       "      <th>trend</th>\n",
       "      <td>0.002536</td>\n",
       "    </tr>\n",
       "    <tr>\n",
       "      <th>quantum computer</th>\n",
       "      <td>0.001931</td>\n",
       "    </tr>\n",
       "    <tr>\n",
       "      <th>intention</th>\n",
       "      <td>0.001927</td>\n",
       "    </tr>\n",
       "    <tr>\n",
       "      <th>ubi</th>\n",
       "      <td>0.001923</td>\n",
       "    </tr>\n",
       "    <tr>\n",
       "      <th>8</th>\n",
       "      <td>0.001923</td>\n",
       "    </tr>\n",
       "    <tr>\n",
       "      <th>edition</th>\n",
       "      <td>0.001919</td>\n",
       "    </tr>\n",
       "    <tr>\n",
       "      <th>another article</th>\n",
       "      <td>0.001909</td>\n",
       "    </tr>\n",
       "    <tr>\n",
       "      <th>got</th>\n",
       "      <td>0.001902</td>\n",
       "    </tr>\n",
       "    <tr>\n",
       "      <th>solar radiation</th>\n",
       "      <td>0.001881</td>\n",
       "    </tr>\n",
       "    <tr>\n",
       "      <th>think</th>\n",
       "      <td>0.001824</td>\n",
       "    </tr>\n",
       "    <tr>\n",
       "      <th>critical</th>\n",
       "      <td>0.001806</td>\n",
       "    </tr>\n",
       "    <tr>\n",
       "      <th>rather</th>\n",
       "      <td>0.001785</td>\n",
       "    </tr>\n",
       "    <tr>\n",
       "      <th>reduce</th>\n",
       "      <td>0.001602</td>\n",
       "    </tr>\n",
       "    <tr>\n",
       "      <th>environment</th>\n",
       "      <td>0.001589</td>\n",
       "    </tr>\n",
       "    <tr>\n",
       "      <th>deal climate change</th>\n",
       "      <td>0.001576</td>\n",
       "    </tr>\n",
       "    <tr>\n",
       "      <th>standard living</th>\n",
       "      <td>0.001563</td>\n",
       "    </tr>\n",
       "    <tr>\n",
       "      <th>anyone else</th>\n",
       "      <td>0.001473</td>\n",
       "    </tr>\n",
       "    <tr>\n",
       "      <th>near</th>\n",
       "      <td>0.001289</td>\n",
       "    </tr>\n",
       "    <tr>\n",
       "      <th>current</th>\n",
       "      <td>0.001289</td>\n",
       "    </tr>\n",
       "    <tr>\n",
       "      <th>theoretical</th>\n",
       "      <td>0.000863</td>\n",
       "    </tr>\n",
       "    <tr>\n",
       "      <th>please explain</th>\n",
       "      <td>0.000000</td>\n",
       "    </tr>\n",
       "    <tr>\n",
       "      <th>plausible</th>\n",
       "      <td>0.000000</td>\n",
       "    </tr>\n",
       "    <tr>\n",
       "      <th>play</th>\n",
       "      <td>0.000000</td>\n",
       "    </tr>\n",
       "    <tr>\n",
       "      <th>phd</th>\n",
       "      <td>0.000000</td>\n",
       "    </tr>\n",
       "    <tr>\n",
       "      <th>phase</th>\n",
       "      <td>0.000000</td>\n",
       "    </tr>\n",
       "    <tr>\n",
       "      <th>peter</th>\n",
       "      <td>0.000000</td>\n",
       "    </tr>\n",
       "    <tr>\n",
       "      <th>play game</th>\n",
       "      <td>0.000000</td>\n",
       "    </tr>\n",
       "    <tr>\n",
       "      <th>player</th>\n",
       "      <td>0.000000</td>\n",
       "    </tr>\n",
       "    <tr>\n",
       "      <th>playing</th>\n",
       "      <td>0.000000</td>\n",
       "    </tr>\n",
       "    <tr>\n",
       "      <th>pessimistic</th>\n",
       "      <td>0.000000</td>\n",
       "    </tr>\n",
       "    <tr>\n",
       "      <th>please</th>\n",
       "      <td>0.000000</td>\n",
       "    </tr>\n",
       "    <tr>\n",
       "      <th>perspective</th>\n",
       "      <td>0.000000</td>\n",
       "    </tr>\n",
       "    <tr>\n",
       "      <th>pic</th>\n",
       "      <td>0.000000</td>\n",
       "    </tr>\n",
       "    <tr>\n",
       "      <th>platform</th>\n",
       "      <td>0.000000</td>\n",
       "    </tr>\n",
       "    <tr>\n",
       "      <th>please help</th>\n",
       "      <td>0.000000</td>\n",
       "    </tr>\n",
       "  </tbody>\n",
       "</table>\n",
       "</div>"
      ],
      "text/plain": [
       "                     feature imps\n",
       "collapse                 0.488208\n",
       "future                   0.155823\n",
       "climate                  0.084399\n",
       "ai                       0.068974\n",
       "technology               0.063776\n",
       "robot                    0.032577\n",
       "war                      0.024440\n",
       "artificial               0.023769\n",
       "anyone                   0.004185\n",
       "save                     0.003506\n",
       "keeping                  0.003205\n",
       "ipcc                     0.003186\n",
       "chapter                  0.003167\n",
       "response                 0.003148\n",
       "dangerous                0.003129\n",
       "trend                    0.002536\n",
       "quantum computer         0.001931\n",
       "intention                0.001927\n",
       "ubi                      0.001923\n",
       "8                        0.001923\n",
       "edition                  0.001919\n",
       "another article          0.001909\n",
       "got                      0.001902\n",
       "solar radiation          0.001881\n",
       "think                    0.001824\n",
       "critical                 0.001806\n",
       "rather                   0.001785\n",
       "reduce                   0.001602\n",
       "environment              0.001589\n",
       "deal climate change      0.001576\n",
       "standard living          0.001563\n",
       "anyone else              0.001473\n",
       "near                     0.001289\n",
       "current                  0.001289\n",
       "theoretical              0.000863\n",
       "please explain           0.000000\n",
       "plausible                0.000000\n",
       "play                     0.000000\n",
       "phd                      0.000000\n",
       "phase                    0.000000\n",
       "peter                    0.000000\n",
       "play game                0.000000\n",
       "player                   0.000000\n",
       "playing                  0.000000\n",
       "pessimistic              0.000000\n",
       "please                   0.000000\n",
       "perspective              0.000000\n",
       "pic                      0.000000\n",
       "platform                 0.000000\n",
       "please help              0.000000"
      ]
     },
     "execution_count": 99,
     "metadata": {},
     "output_type": "execute_result"
    }
   ],
   "source": [
    "gs_df.sort_values(by='feature imps',ascending=False).head(50)"
   ]
  },
  {
   "cell_type": "code",
   "execution_count": null,
   "id": "71444ffa-6535-401c-bfdd-dc697e37cac5",
   "metadata": {},
   "outputs": [],
   "source": []
  },
  {
   "cell_type": "code",
   "execution_count": null,
   "id": "e769761a-0128-4197-a5bd-d0e00d64eea4",
   "metadata": {},
   "outputs": [],
   "source": []
  },
  {
   "cell_type": "code",
   "execution_count": null,
   "id": "8ef976cd-bb2c-41a7-a0f6-ad909f15f85d",
   "metadata": {},
   "outputs": [],
   "source": []
  },
  {
   "cell_type": "code",
   "execution_count": null,
   "id": "f45765d4-22d8-4e63-8a36-5409efdf49ad",
   "metadata": {},
   "outputs": [],
   "source": []
  },
  {
   "cell_type": "code",
   "execution_count": null,
   "id": "79d52e22-3f6b-4205-b9d6-ac19c05add2b",
   "metadata": {},
   "outputs": [],
   "source": []
  },
  {
   "cell_type": "code",
   "execution_count": 101,
   "id": "c687717c-4adb-4bd5-a6ae-c2b311ff0055",
   "metadata": {},
   "outputs": [
    {
     "data": {
      "text/plain": [
       "(0.9867503486750349, 0.7577553154409202)"
      ]
     },
     "execution_count": 101,
     "metadata": {},
     "output_type": "execute_result"
    }
   ],
   "source": [
    "dtc = DecisionTreeClassifier()\n",
    "dtc.fit(X_train_cvdf,y_train_le)\n",
    "dtc.score(X_train_cvdf,y_train_le),dtc.score(X_test_cvdf,y_test_le)"
   ]
  },
  {
   "cell_type": "code",
   "execution_count": 102,
   "id": "2452f672-fe80-4202-be66-e1cf2f290d65",
   "metadata": {},
   "outputs": [
    {
     "data": {
      "text/plain": [
       "array([0.0002324 , 0.        , 0.00057867, ..., 0.        , 0.        ,\n",
       "       0.        ])"
      ]
     },
     "execution_count": 102,
     "metadata": {},
     "output_type": "execute_result"
    }
   ],
   "source": [
    "dtc.feature_importances_"
   ]
  },
  {
   "cell_type": "code",
   "execution_count": 104,
   "id": "41d92246-8e0c-45ed-ad44-41a5262b1d0d",
   "metadata": {},
   "outputs": [
    {
     "data": {
      "text/plain": [
       "<sklearn.metrics._plot.confusion_matrix.ConfusionMatrixDisplay at 0x7fc517a76ee0>"
      ]
     },
     "execution_count": 104,
     "metadata": {},
     "output_type": "execute_result"
    },
    {
     "data": {
      "image/png": "[encoded data removed]",
      "text/plain": [
       "<Figure size 432x288 with 2 Axes>"
      ]
     },
     "metadata": {
      "needs_background": "light"
     },
     "output_type": "display_data"
    }
   ],
   "source": [
    "ConfusionMatrixDisplay.from_estimator(dtc,X_test_cvdf,y_test_le)"
   ]
  },
  {
   "cell_type": "code",
   "execution_count": null,
   "id": "92b18b35-de6d-4b9b-a8a1-0a3502cb0905",
   "metadata": {},
   "outputs": [],
   "source": []
  },
  {
   "cell_type": "code",
   "execution_count": 121,
   "id": "30898a31-a590-4a9b-bc1b-d14b7fb50697",
   "metadata": {},
   "outputs": [],
   "source": [
    "vr1 = VotingClassifier(\n",
    "    [('lr',LogisticRegression()),\n",
    "     ('knn',KNeighborsClassifier(n_neighbors=5)),\n",
    "     ('dtc', DecisionTreeClassifier())   \n",
    "    ])"
   ]
  },
  {
   "cell_type": "code",
   "execution_count": 122,
   "id": "6cfbfcf9-5cb0-4487-b696-206ccc8bf2b0",
   "metadata": {},
   "outputs": [
    {
     "data": {
      "text/plain": [
       "(0.9521152952115295, 0.7856395956779365)"
      ]
     },
     "execution_count": 122,
     "metadata": {},
     "output_type": "execute_result"
    }
   ],
   "source": [
    "vr1.fit(X_train_cvdf,y_train_le)\n",
    "vr1.score(X_train_cvdf,y_train_le),vr1.score(X_test_cvdf,y_test_le)"
   ]
  },
  {
   "cell_type": "code",
   "execution_count": null,
   "id": "8f7d01e3-6bce-4e25-8624-b0ed556d0edb",
   "metadata": {},
   "outputs": [],
   "source": []
  },
  {
   "cell_type": "code",
   "execution_count": null,
   "id": "cd3616c0-7d17-4d11-834d-3667220af296",
   "metadata": {},
   "outputs": [],
   "source": []
  }
 ],
 "metadata": {
  "kernelspec": {
   "display_name": "Python 3 (ipykernel)",
   "language": "python",
   "name": "python3"
  },
  "language_info": {
   "codemirror_mode": {
    "name": "ipython",
    "version": 3
   },
   "file_extension": ".py",
   "mimetype": "text/x-python",
   "name": "python",
   "nbconvert_exporter": "python",
   "pygments_lexer": "ipython3",
   "version": "3.9.7"
  }
 },
 "nbformat": 4,
 "nbformat_minor": 5
}
