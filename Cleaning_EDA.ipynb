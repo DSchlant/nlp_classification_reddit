{
 "cells": [
  {
   "cell_type": "code",
   "execution_count": 3,
   "id": "53125333-f5e1-4abf-bee0-a4b632659663",
   "metadata": {},
   "outputs": [],
   "source": [
    "import pandas as pd\n",
    "import numpy as np\n",
    "import matplotlib.pyplot as plt  \n",
    "import seaborn as sns"
   ]
  },
  {
   "cell_type": "code",
   "execution_count": 4,
   "id": "bff38a20-2e64-4fe8-b25a-7afd86ca6436",
   "metadata": {},
   "outputs": [],
   "source": [
    "pd.set_option('display.max_columns', None)\n",
    "pd.set_option('display.max_rows', None)\n",
    "pd.set_option('display.max_colwidth',200)"
   ]
  },
  {
   "cell_type": "markdown",
   "id": "91681902-8ffc-4fda-a263-c249f1b1056e",
   "metadata": {},
   "source": [
    "### Read in CSVs"
   ]
  },
  {
   "cell_type": "code",
   "execution_count": 5,
   "id": "81337711-04f8-43e2-9491-83523587c0ba",
   "metadata": {},
   "outputs": [
    {
     "name": "stderr",
     "output_type": "stream",
     "text": [
      "/var/folders/pr/wgwfmfsx53n97rhpm9z12wqh0000gn/T/ipykernel_84686/2868400789.py:1: DtypeWarning: Columns (0,1,4,6,8,9,10,11,12,13,17,19,20,21,22,23,24,26,29,30,32,33,34,35,36,40,42,44,48,49,54,58,61,66,71,72,75,76,77,81,84,85,86,87,88,89,90,96,97) have mixed types. Specify dtype option on import or set low_memory=False.\n",
      "  df_fut = pd.read_csv('datasets/futurology_pull.csv')\n",
      "/var/folders/pr/wgwfmfsx53n97rhpm9z12wqh0000gn/T/ipykernel_84686/2868400789.py:2: DtypeWarning: Columns (0,1,8,9,10,11,12,13,17,19,20,21,22,23,24,26,27,29,33,34,35,41,45,49,50,51,59,67,70,72,74,76,78,79,80,81,82,83,87,88,89,90,96,97) have mixed types. Specify dtype option on import or set low_memory=False.\n",
      "  df_col = pd.read_csv('datasets/collapse_pull.csv')\n"
     ]
    }
   ],
   "source": [
    "df_fut = pd.read_csv('datasets/futurology_pull.csv')\n",
    "df_col = pd.read_csv('datasets/collapse_pull.csv')"
   ]
  },
  {
   "cell_type": "code",
   "execution_count": 6,
   "id": "c0470f1e-f57d-445c-b5e9-f90e343d97ed",
   "metadata": {},
   "outputs": [
    {
     "data": {
      "text/plain": [
       "(28741, 28876)"
      ]
     },
     "execution_count": 6,
     "metadata": {},
     "output_type": "execute_result"
    }
   ],
   "source": [
    "len(df_col), len(df_fut)"
   ]
  },
  {
   "cell_type": "markdown",
   "id": "d66f2679-6481-4b47-92ad-629baf0c6e4b",
   "metadata": {},
   "source": [
    "The datasets are of fairly similar lengths."
   ]
  },
  {
   "cell_type": "code",
   "execution_count": 7,
   "id": "adcfadb0-6407-4ecf-8867-106de494bd96",
   "metadata": {},
   "outputs": [
    {
     "name": "stdout",
     "output_type": "stream",
     "text": [
      "7323\n",
      "11008\n"
     ]
    }
   ],
   "source": [
    "print(len(df_col[df_col['selftext'] == '[removed]']))\n",
    "print(len(df_fut[df_fut['selftext'] == '[removed]']))"
   ]
  },
  {
   "cell_type": "markdown",
   "id": "a584fabe-dc20-468d-b6e3-703c8229ff20",
   "metadata": {},
   "source": [
    "The significant amount of removed self-text for both subreddits led me to the analysis of submissions based on title alone."
   ]
  },
  {
   "cell_type": "markdown",
   "id": "50c90ea5-c5a7-4ebf-b00f-b51fec3ee027",
   "metadata": {},
   "source": [
    "### Checking for duplicates"
   ]
  },
  {
   "cell_type": "code",
   "execution_count": 8,
   "id": "f08ad26d-b19a-423a-bf6d-778e351e2721",
   "metadata": {},
   "outputs": [
    {
     "data": {
      "text/plain": [
       "0"
      ]
     },
     "execution_count": 8,
     "metadata": {},
     "output_type": "execute_result"
    }
   ],
   "source": [
    "df_fut.duplicated().sum()"
   ]
  },
  {
   "cell_type": "code",
   "execution_count": 9,
   "id": "a0476bad-ba96-40e7-add9-9fcfca353e9e",
   "metadata": {},
   "outputs": [
    {
     "data": {
      "text/plain": [
       "0"
      ]
     },
     "execution_count": 9,
     "metadata": {},
     "output_type": "execute_result"
    }
   ],
   "source": [
    "df_col.duplicated().sum()"
   ]
  },
  {
   "cell_type": "markdown",
   "id": "3a2a3293-e9c9-4814-824e-95498815b5f5",
   "metadata": {},
   "source": [
    "No duplicates found in datasets."
   ]
  },
  {
   "cell_type": "markdown",
   "id": "50e86baf-b7f5-404b-9ef6-8d2650cb01ac",
   "metadata": {},
   "source": [
    "### Dropping unnecessary columns, keeping only Subreddit and Title"
   ]
  },
  {
   "cell_type": "code",
   "execution_count": 10,
   "id": "faa03e3d-dfd6-49e4-ae46-a420c7183dd1",
   "metadata": {},
   "outputs": [],
   "source": [
    "df_fut_cut = df_fut[['subreddit','title']]\n",
    "df_col_cut = df_col[['subreddit','title']]"
   ]
  },
  {
   "cell_type": "markdown",
   "id": "f51d6c62-72ba-4c38-a753-b26aa83e1464",
   "metadata": {},
   "source": [
    "### Exploratory Data Analysis"
   ]
  },
  {
   "cell_type": "code",
   "execution_count": 11,
   "id": "ba5c419b-014c-4287-9749-6a5c4d505817",
   "metadata": {},
   "outputs": [
    {
     "name": "stderr",
     "output_type": "stream",
     "text": [
      "/var/folders/pr/wgwfmfsx53n97rhpm9z12wqh0000gn/T/ipykernel_84686/2431652260.py:1: SettingWithCopyWarning: \n",
      "A value is trying to be set on a copy of a slice from a DataFrame.\n",
      "Try using .loc[row_indexer,col_indexer] = value instead\n",
      "\n",
      "See the caveats in the documentation: https://pandas.pydata.org/pandas-docs/stable/user_guide/indexing.html#returning-a-view-versus-a-copy\n",
      "  df_fut_cut['title_length'] = [len(i) for i in df_fut_cut['title']]\n"
     ]
    }
   ],
   "source": [
    "df_fut_cut['title_length'] = [len(i) for i in df_fut_cut['title']]"
   ]
  },
  {
   "cell_type": "code",
   "execution_count": 12,
   "id": "4c08c77e-3970-4456-b93f-d6e335473dd1",
   "metadata": {},
   "outputs": [
    {
     "data": {
      "text/plain": [
       "68.53632774622524"
      ]
     },
     "execution_count": 12,
     "metadata": {},
     "output_type": "execute_result"
    }
   ],
   "source": [
    "df_fut_cut['title_length'].mean()"
   ]
  },
  {
   "cell_type": "markdown",
   "id": "e5072193-5c1e-4e1b-8009-82f143bfa2c7",
   "metadata": {},
   "source": [
    "The average length of post title on Futurology subreddit is 68.5 characters."
   ]
  },
  {
   "cell_type": "code",
   "execution_count": 13,
   "id": "c830587c-1168-414f-92e3-ac943649f974",
   "metadata": {},
   "outputs": [
    {
     "name": "stderr",
     "output_type": "stream",
     "text": [
      "/var/folders/pr/wgwfmfsx53n97rhpm9z12wqh0000gn/T/ipykernel_84686/298689707.py:1: SettingWithCopyWarning: \n",
      "A value is trying to be set on a copy of a slice from a DataFrame.\n",
      "Try using .loc[row_indexer,col_indexer] = value instead\n",
      "\n",
      "See the caveats in the documentation: https://pandas.pydata.org/pandas-docs/stable/user_guide/indexing.html#returning-a-view-versus-a-copy\n",
      "  df_col_cut['title_length'] = [len(i) for i in df_col_cut['title']]\n"
     ]
    }
   ],
   "source": [
    "df_col_cut['title_length'] = [len(i) for i in df_col_cut['title']]"
   ]
  },
  {
   "cell_type": "code",
   "execution_count": 14,
   "id": "73148668-65bc-46a1-8e66-9da92571c32a",
   "metadata": {},
   "outputs": [
    {
     "data": {
      "text/plain": [
       "68.07310114470617"
      ]
     },
     "execution_count": 14,
     "metadata": {},
     "output_type": "execute_result"
    }
   ],
   "source": [
    "df_col_cut['title_length'].mean()"
   ]
  },
  {
   "cell_type": "markdown",
   "id": "fe1d34f4-2ccc-4f7d-ba00-930b5f2b84c4",
   "metadata": {},
   "source": [
    "The average length of post on Collapse subreddit, by character, is 68."
   ]
  },
  {
   "cell_type": "code",
   "execution_count": 15,
   "id": "37980761-0bfa-4bc4-a9c2-d1567011c65c",
   "metadata": {},
   "outputs": [
    {
     "name": "stderr",
     "output_type": "stream",
     "text": [
      "/var/folders/pr/wgwfmfsx53n97rhpm9z12wqh0000gn/T/ipykernel_84686/4160939821.py:1: SettingWithCopyWarning: \n",
      "A value is trying to be set on a copy of a slice from a DataFrame.\n",
      "Try using .loc[row_indexer,col_indexer] = value instead\n",
      "\n",
      "See the caveats in the documentation: https://pandas.pydata.org/pandas-docs/stable/user_guide/indexing.html#returning-a-view-versus-a-copy\n",
      "  df_fut_cut['word_length'] = [len(i.split(' ')) for i in df_fut_cut['title']]\n"
     ]
    }
   ],
   "source": [
    "df_fut_cut['word_length'] = [len(i.split(' ')) for i in df_fut_cut['title']]"
   ]
  },
  {
   "cell_type": "code",
   "execution_count": 16,
   "id": "f1751468-39e7-4a16-9846-ac295eed3733",
   "metadata": {},
   "outputs": [
    {
     "data": {
      "text/plain": [
       "11.389770051253636"
      ]
     },
     "execution_count": 16,
     "metadata": {},
     "output_type": "execute_result"
    }
   ],
   "source": [
    "df_fut_cut['word_length'].mean()"
   ]
  },
  {
   "cell_type": "markdown",
   "id": "dbb2a5c5-a8eb-46b7-8899-31a675be9d7a",
   "metadata": {},
   "source": [
    "The mean length of Futurology post title by word count is 11.4 words."
   ]
  },
  {
   "cell_type": "code",
   "execution_count": 17,
   "id": "2a8406cf-30ef-4997-aaf1-1a95905f6481",
   "metadata": {},
   "outputs": [
    {
     "name": "stderr",
     "output_type": "stream",
     "text": [
      "/var/folders/pr/wgwfmfsx53n97rhpm9z12wqh0000gn/T/ipykernel_84686/1919396762.py:1: SettingWithCopyWarning: \n",
      "A value is trying to be set on a copy of a slice from a DataFrame.\n",
      "Try using .loc[row_indexer,col_indexer] = value instead\n",
      "\n",
      "See the caveats in the documentation: https://pandas.pydata.org/pandas-docs/stable/user_guide/indexing.html#returning-a-view-versus-a-copy\n",
      "  df_col_cut['word_length'] = [len(i.split(' ')) for i in df_col_cut['title']]\n"
     ]
    }
   ],
   "source": [
    "df_col_cut['word_length'] = [len(i.split(' ')) for i in df_col_cut['title']]"
   ]
  },
  {
   "cell_type": "code",
   "execution_count": 18,
   "id": "b94f2e2d-29fa-46ce-96c4-be74b37fd988",
   "metadata": {},
   "outputs": [
    {
     "data": {
      "text/plain": [
       "11.6184544727045"
      ]
     },
     "execution_count": 18,
     "metadata": {},
     "output_type": "execute_result"
    }
   ],
   "source": [
    "df_col_cut['word_length'].mean()"
   ]
  },
  {
   "cell_type": "markdown",
   "id": "c0cd885f-38c3-497a-8128-e6c77c32c32b",
   "metadata": {},
   "source": [
    "The mean length of Collapse post title by word count is 11.6 words."
   ]
  },
  {
   "cell_type": "markdown",
   "id": "5f614253-4390-4144-8730-35dfafb6eb9e",
   "metadata": {},
   "source": [
    "Removing posts that contain url's."
   ]
  },
  {
   "cell_type": "code",
   "execution_count": 19,
   "id": "7794fdf6-6ba4-43af-b73a-a866f31d794a",
   "metadata": {},
   "outputs": [],
   "source": [
    "df_col_cut = df_col_cut[~df_col_cut['title'].str.contains(\"https\")]"
   ]
  },
  {
   "cell_type": "code",
   "execution_count": 20,
   "id": "3e00cfbc-5de9-490f-b2d7-e93c11acacdd",
   "metadata": {},
   "outputs": [],
   "source": [
    "df_fut_cut = df_fut_cut[~df_fut_cut['title'].str.contains(\"https\")]"
   ]
  },
  {
   "cell_type": "code",
   "execution_count": 21,
   "id": "133c4e1f-b9d7-4633-b132-587993f9d905",
   "metadata": {},
   "outputs": [
    {
     "data": {
      "image/png": "[encoded data removed]",
      "text/plain": [
       "<Figure size 432x288 with 1 Axes>"
      ]
     },
     "metadata": {
      "needs_background": "light"
     },
     "output_type": "display_data"
    }
   ],
   "source": [
    "sns.histplot(df_col_cut['word_length'],bins=25)\n",
    "plt.title('Distribution of Post Title Lengths by Word Count - Collapse Subreddit');"
   ]
  },
  {
   "cell_type": "code",
   "execution_count": 22,
   "id": "82340870-9608-4f2d-aea8-2ebcfc410929",
   "metadata": {},
   "outputs": [
    {
     "data": {
      "image/png": "[encoded data removed]",
      "text/plain": [
       "<Figure size 432x288 with 1 Axes>"
      ]
     },
     "metadata": {
      "needs_background": "light"
     },
     "output_type": "display_data"
    }
   ],
   "source": [
    "sns.histplot(df_fut_cut['word_length'],bins=25)\n",
    "plt.title('Distribution of Post Title Lengths by Word Count - Futurology Subreddit');"
   ]
  },
  {
   "cell_type": "markdown",
   "id": "8b5a9006-c2a0-4057-918c-03e595816792",
   "metadata": {
    "tags": []
   },
   "source": [
    "### Combining Dataframes"
   ]
  },
  {
   "cell_type": "code",
   "execution_count": 23,
   "id": "a206bbbb-3fa7-4e6e-8fbb-22a43a6d7391",
   "metadata": {},
   "outputs": [
    {
     "data": {
      "text/plain": [
       "28763"
      ]
     },
     "execution_count": 23,
     "metadata": {},
     "output_type": "execute_result"
    }
   ],
   "source": [
    "len(df_fut_cut)"
   ]
  },
  {
   "cell_type": "code",
   "execution_count": 24,
   "id": "522dbf3a-5024-41cb-97f7-7ef4ee51a266",
   "metadata": {},
   "outputs": [
    {
     "data": {
      "text/plain": [
       "28682"
      ]
     },
     "execution_count": 24,
     "metadata": {},
     "output_type": "execute_result"
    }
   ],
   "source": [
    "len(df_col_cut)"
   ]
  },
  {
   "cell_type": "markdown",
   "id": "1f96aac7-e1fb-4938-a8eb-ec8ef443a5e2",
   "metadata": {},
   "source": [
    "Concatenate the dataframe on top of one another."
   ]
  },
  {
   "cell_type": "code",
   "execution_count": 25,
   "id": "e84bf9dc-3f0c-4c0c-9392-9b406d516de3",
   "metadata": {
    "tags": []
   },
   "outputs": [],
   "source": [
    "df_comb = pd.concat([df_col_cut,df_fut_cut])"
   ]
  },
  {
   "cell_type": "code",
   "execution_count": 26,
   "id": "97900f1e-6227-40f6-94c5-45b9564f2add",
   "metadata": {},
   "outputs": [
    {
     "data": {
      "text/plain": [
       "(57445, 4)"
      ]
     },
     "execution_count": 26,
     "metadata": {},
     "output_type": "execute_result"
    }
   ],
   "source": [
    "df_comb.shape"
   ]
  },
  {
   "cell_type": "markdown",
   "id": "053ff6a4-4d58-405a-b3d3-0cb9dc9eace0",
   "metadata": {},
   "source": [
    "### Shuffling and Splitting Dataset into Holdout"
   ]
  },
  {
   "cell_type": "markdown",
   "id": "aabfc428-3757-43d9-b2e7-54075bf37014",
   "metadata": {},
   "source": [
    "Shuffles dataset."
   ]
  },
  {
   "cell_type": "code",
   "execution_count": 27,
   "id": "6cee7b47-954c-450a-ab10-1d449b891172",
   "metadata": {},
   "outputs": [],
   "source": [
    "df_comb = df_comb.sample(frac=1,random_state=2)"
   ]
  },
  {
   "cell_type": "markdown",
   "id": "9cb41247-954d-4603-93e4-35f386618e77",
   "metadata": {},
   "source": [
    "Creates holdout dataset."
   ]
  },
  {
   "cell_type": "code",
   "execution_count": 28,
   "id": "44b17fd4-5ca9-4485-b995-fe1dcbaa0d94",
   "metadata": {},
   "outputs": [],
   "source": [
    "df_holdout = df_comb[0:11523]\n",
    "X_holdout = df_holdout['title']\n",
    "y_holdout = df_holdout['subreddit']"
   ]
  },
  {
   "cell_type": "code",
   "execution_count": 29,
   "id": "de76f1cb-7b3d-4f13-a2e9-f757e60f179f",
   "metadata": {},
   "outputs": [],
   "source": [
    "df_main = df_comb[11523:]"
   ]
  },
  {
   "cell_type": "code",
   "execution_count": 30,
   "id": "597d9150-d155-4133-95e5-ceafedf83fb7",
   "metadata": {},
   "outputs": [
    {
     "data": {
      "text/plain": [
       "((11523, 4), (45922, 4))"
      ]
     },
     "execution_count": 30,
     "metadata": {},
     "output_type": "execute_result"
    }
   ],
   "source": [
    "df_holdout.shape, df_main.shape"
   ]
  },
  {
   "cell_type": "markdown",
   "id": "a499fc5f-290b-427c-a113-3dbf50744c7a",
   "metadata": {},
   "source": [
    "Using 30% of the dataset for initial analysis."
   ]
  },
  {
   "cell_type": "code",
   "execution_count": 31,
   "id": "a84cb44b-0f8b-4d93-9f95-07e2060dda49",
   "metadata": {},
   "outputs": [],
   "source": [
    "df_sample = df_main.sample(frac=0.3,random_state=2)"
   ]
  },
  {
   "cell_type": "code",
   "execution_count": 32,
   "id": "1da76a9d-f9c0-4fd8-9b0e-37c38c114323",
   "metadata": {},
   "outputs": [
    {
     "data": {
      "text/plain": [
       "collapse      0.500327\n",
       "Futurology    0.499673\n",
       "Name: subreddit, dtype: float64"
      ]
     },
     "execution_count": 32,
     "metadata": {},
     "output_type": "execute_result"
    }
   ],
   "source": [
    "df_sample['subreddit'].value_counts(normalize=True)"
   ]
  },
  {
   "cell_type": "markdown",
   "id": "0994e1d7-b6af-404f-8147-d0e980226a1d",
   "metadata": {},
   "source": [
    "Fairly even split of dataset."
   ]
  },
  {
   "cell_type": "code",
   "execution_count": 33,
   "id": "fd95554d-db41-47ee-b233-ce1b95aad449",
   "metadata": {},
   "outputs": [
    {
     "data": {
      "text/plain": [
       "collapse      6893\n",
       "Futurology    6884\n",
       "Name: subreddit, dtype: int64"
      ]
     },
     "execution_count": 33,
     "metadata": {},
     "output_type": "execute_result"
    }
   ],
   "source": [
    "df_sample['subreddit'].value_counts()"
   ]
  },
  {
   "cell_type": "code",
   "execution_count": 34,
   "id": "9389b136-eb30-4eb5-ac4f-17d841c063b5",
   "metadata": {},
   "outputs": [],
   "source": [
    "df_sample.to_csv('./datasets/df_sample.csv',index=False)\n",
    "df_holdout.to_csv('./datasets/df_holdout.csv',index=False)\n",
    "df_main.to_csv('./datasets/df_main.csv',index=False)"
   ]
  }
 ],
 "metadata": {
  "kernelspec": {
   "display_name": "Python 3 (ipykernel)",
   "language": "python",
   "name": "python3"
  },
  "language_info": {
   "codemirror_mode": {
    "name": "ipython",
    "version": 3
   },
   "file_extension": ".py",
   "mimetype": "text/x-python",
   "name": "python",
   "nbconvert_exporter": "python",
   "pygments_lexer": "ipython3",
   "version": "3.9.12"
  }
 },
 "nbformat": 4,
 "nbformat_minor": 5
}
