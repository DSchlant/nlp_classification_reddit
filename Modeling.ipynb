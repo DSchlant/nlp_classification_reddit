{
 "cells": [
  {
   "cell_type": "code",
   "execution_count": 1,
   "id": "5bf7fdc5-0dac-4378-bc53-cab0a433696c",
   "metadata": {},
   "outputs": [],
   "source": [
    "#pip install wordcloud"
   ]
  },
  {
   "cell_type": "code",
   "execution_count": 2,
   "id": "53125333-f5e1-4abf-bee0-a4b632659663",
   "metadata": {},
   "outputs": [],
   "source": [
    "import pandas as pd\n",
    "from sklearn.feature_extraction.text import CountVectorizer, TfidfVectorizer\n",
    "from sklearn.model_selection import train_test_split, GridSearchCV\n",
    "from sklearn.linear_model import LogisticRegression\n",
    "from sklearn.pipeline import Pipeline\n",
    "from sklearn.metrics import ConfusionMatrixDisplay, f1_score, precision_score,recall_score\n",
    "import nltk\n",
    "from nltk import word_tokenize\n",
    "from nltk.stem import WordNetLemmatizer\n",
    "from sklearn.dummy import DummyClassifier, DummyRegressor\n",
    "from sklearn.preprocessing import LabelEncoder\n",
    "from sklearn.neighbors import KNeighborsClassifier, KNeighborsRegressor\n",
    "from sklearn.tree import plot_tree, DecisionTreeClassifier\n",
    "from sklearn.ensemble import VotingRegressor\n",
    "from sklearn.ensemble import VotingClassifier\n",
    "from sklearn.preprocessing import StandardScaler\n",
    "from sklearn.naive_bayes import GaussianNB, MultinomialNB\n",
    "from sklearn.ensemble import ExtraTreesClassifier, RandomForestClassifier\n",
    "import warnings\n",
    "from sklearn.ensemble import ExtraTreesClassifier\n",
    "from sklearn.ensemble import RandomForestClassifier\n",
    "from sklearn. compose import ColumnTransformer\n",
    "import numpy as np\n",
    "from sklearn.ensemble import AdaBoostClassifier\n",
    "import matplotlib.pyplot as plt  \n",
    "from wordcloud import WordCloud\n",
    "import seaborn as sns"
   ]
  },
  {
   "cell_type": "code",
   "execution_count": 3,
   "id": "be0efc70-ffd8-4831-acf5-2b93d26ee5dc",
   "metadata": {},
   "outputs": [],
   "source": [
    "# nltk.download('punkt')\n",
    "# nltk.download('wordnet')\n",
    "# nltk.download('omw-1.4')"
   ]
  },
  {
   "cell_type": "code",
   "execution_count": 4,
   "id": "31f41fca-b1f5-4808-8cd7-da926305e7d6",
   "metadata": {},
   "outputs": [],
   "source": [
    "warnings.filterwarnings('ignore')"
   ]
  },
  {
   "cell_type": "code",
   "execution_count": 5,
   "id": "bff38a20-2e64-4fe8-b25a-7afd86ca6436",
   "metadata": {},
   "outputs": [],
   "source": [
    "pd.set_option('display.max_columns', None)\n",
    "pd.set_option('display.max_rows', None)\n",
    "pd.set_option('display.max_colwidth',200)"
   ]
  },
  {
   "cell_type": "markdown",
   "id": "91681902-8ffc-4fda-a263-c249f1b1056e",
   "metadata": {},
   "source": [
    "### Read in CSVs"
   ]
  },
  {
   "cell_type": "code",
   "execution_count": 6,
   "id": "81337711-04f8-43e2-9491-83523587c0ba",
   "metadata": {},
   "outputs": [],
   "source": [
    "df_sample = pd.read_csv('datasets/df_sample.csv')\n",
    "df_main = pd.read_csv('datasets/df_main.csv')\n",
    "df_holdout = pd.read_csv('datasets/df_holdout.csv')"
   ]
  },
  {
   "cell_type": "markdown",
   "id": "26d2916a-3093-4613-8ba7-df35fa164fcd",
   "metadata": {},
   "source": [
    "### TTS"
   ]
  },
  {
   "cell_type": "code",
   "execution_count": 7,
   "id": "c1da68f0-307a-4bee-b48b-160ab226eb6a",
   "metadata": {},
   "outputs": [],
   "source": [
    "X = df_sample['title']\n",
    "y = df_sample['subreddit']"
   ]
  },
  {
   "cell_type": "code",
   "execution_count": 8,
   "id": "284cbdfd-7aac-4d67-b987-f6dd9761e0d7",
   "metadata": {},
   "outputs": [],
   "source": [
    "X_train,X_test,y_train,y_test = train_test_split(X,y,random_state=2,stratify=y)"
   ]
  },
  {
   "cell_type": "markdown",
   "id": "1368e5bf-576c-4b7b-bf49-11acfb7506cd",
   "metadata": {},
   "source": [
    "### Baseline Null"
   ]
  },
  {
   "cell_type": "markdown",
   "id": "ac9af7ee-78b2-416b-abd6-44631d4d5595",
   "metadata": {},
   "source": [
    "The below is our baseline score, against which the accuracy metrics of the model will be assessed. As this is the dataset's percentage of the majority class, the model will need to demonstrate the ability to choose the correct subreddit of origin at a higher rate than merely choosing 'Futurology' each time."
   ]
  },
  {
   "cell_type": "code",
   "execution_count": 9,
   "id": "23c73e96-5d7a-4be6-8c02-7ede78a39e34",
   "metadata": {},
   "outputs": [
    {
     "data": {
      "text/plain": [
       "0.5004354136429608"
      ]
     },
     "execution_count": 9,
     "metadata": {},
     "output_type": "execute_result"
    }
   ],
   "source": [
    "dc = DummyClassifier()\n",
    "dc.fit(X_train,y_train)\n",
    "dc.predict(X_test)\n",
    "dc.score(X_test,y_test)"
   ]
  },
  {
   "cell_type": "markdown",
   "id": "6892dd00-879f-4124-a910-6c299a76cfbd",
   "metadata": {},
   "source": [
    "### Tokenize/Lemmatize"
   ]
  },
  {
   "cell_type": "code",
   "execution_count": 10,
   "id": "044e1a0c-bd35-449f-8e01-e1e74b3f7c06",
   "metadata": {
    "tags": []
   },
   "outputs": [],
   "source": [
    "def lemma_tokenizer(doc):\n",
    "    wnl = WordNetLemmatizer()\n",
    "    return [wnl.lemmatize(w) for w in word_tokenize(doc)]"
   ]
  },
  {
   "cell_type": "markdown",
   "id": "745271c2-1e58-4d3e-b092-4219515b00a2",
   "metadata": {},
   "source": [
    "### Stopwords"
   ]
  },
  {
   "cell_type": "markdown",
   "id": "9ed0b73a-89f8-4ec7-8ace-ca5f9f0b9a93",
   "metadata": {},
   "source": [
    "Sourced a helpful list of english stop words from github on below thread.\n",
    "\n",
    "https://gist.github.com/sebleier/554280"
   ]
  },
  {
   "cell_type": "code",
   "execution_count": 11,
   "id": "85767983-047f-4fc8-9f80-89f16f6b266c",
   "metadata": {},
   "outputs": [],
   "source": [
    "stop_words = [\"0o\", \"0s\", \"3a\", \"3b\", \"3d\", \"6b\", \"6o\", \"a\", \"a1\", \"a2\", \"a3\", \"a4\", \"ab\", \"able\", \"about\", \"above\", \"abst\", \"ac\",\n",
    "              \"accordance\", \"according\", \"accordingly\", \"across\", \"act\", \"actually\", \"ad\", \"added\", \"adj\", \"ae\", \"af\", \"affected\", \"affecting\", \"affects\", \n",
    "              \"after\", \"afterwards\", \"ag\", \"again\", \"against\", \"ah\", \"ain\", \"ain't\", \"aj\", \"al\", \"all\", \"allow\", \"allows\", \"almost\", \"alone\", \"along\", \"already\", \"also\",\n",
    "              \"although\", \"always\", \"am\", \"among\", \"amongst\", \"amoungst\", \"amount\", \"an\", \"and\", \"announce\", \"another\", \"any\", \"anybody\", \"anyhow\", \"anymore\",\n",
    "              \"anyone\", \"anything\", \"anyway\", \"anyways\", \"anywhere\", \"ao\", \"ap\", \"apart\", \"apparently\", \"appear\", \"appreciate\", \"appropriate\", \"approximately\", \"ar\", \"are\",\n",
    "              \"aren\", \"arent\", \"aren't\", \"arise\", \"around\", \"as\", \"a's\", \"aside\", \"ask\", \"asking\", \"associated\", \"at\", \"au\", \"auth\", \"av\", \"available\", \"aw\", \"away\", \"awfully\",\n",
    "              \"ax\", \"ay\", \"az\", \"b\", \"b1\", \"b2\", \"b3\", \"ba\", \"back\", \"bc\", \"bd\", \"be\", \"became\", \"because\", \"become\", \"becomes\", \"becoming\", \"been\", \"before\", \"beforehand\", \"begin\",\n",
    "              \"beginning\", \"beginnings\", \"begins\", \"behind\", \"being\", \"believe\", \"below\", \"beside\", \"besides\", \"best\", \"better\", \"between\", \"beyond\", \"bi\", \"bill\", \"biol\", \"bj\", \"bk\",\n",
    "              \"bl\", \"bn\", \"both\", \"bottom\", \"bp\", \"br\", \"brief\", \"briefly\", \"bs\", \"bt\", \"bu\", \"but\", \"bx\", \"by\", \"c\", \"c1\", \"c2\", \"c3\", \"ca\", \"call\", \"came\", \"can\", \"cannot\", \"cant\",\n",
    "              \"can't\", \"cause\", \"causes\", \"cc\", \"cd\", \"ce\", \"certain\", \"certainly\", \"cf\", \"cg\", \"ch\", \"changes\", \"ci\", \"cit\", \"cj\", \"cl\", \"clearly\", \"cm\", \"c'mon\", \"cn\", \"co\", \"com\",\n",
    "              \"come\", \"comes\", \"con\", \"concerning\", \"consequently\", \"consider\", \"considering\", \"contain\", \"containing\", \"contains\", \"corresponding\", \"could\", \"couldn\", \"couldnt\",\n",
    "              \"couldn't\", \"course\", \"cp\", \"cq\", \"cr\", \"cry\", \"cs\", \"c's\", \"ct\", \"cu\", \"currently\", \"cv\", \"cx\", \"cy\", \"cz\", \"d\", \"d2\", \"da\", \"date\", \"dc\", \"dd\", \"de\", \"definitely\",\n",
    "              \"describe\", \"described\", \"despite\", \"detail\", \"df\", \"di\", \"did\", \"didn\", \"didn't\", \"different\", \"dj\", \"dk\", \"dl\", \"do\", \"does\", \"doesn\", \"doesn't\", \"doing\", \"don\", \"done\",\n",
    "              \"don't\", \"down\", \"downwards\", \"dp\", \"dr\", \"ds\", \"dt\", \"du\", \"due\", \"during\", \"dx\", \"dy\", \"e\", \"e2\", \"e3\", \"ea\", \"each\", \"ec\", \"ed\", \"edu\", \"ee\", \"ef\", \"effect\", \"eg\",\n",
    "              \"ei\", \"eight\", \"eighty\", \"either\", \"ej\", \"el\", \"eleven\", \"else\", \"elsewhere\", \"em\", \"empty\", \"en\", \"end\", \"ending\", \"enough\", \"entirely\", \"eo\", \"ep\", \"eq\", \"er\", \"es\",\n",
    "              \"especially\", \"est\", \"et\", \"et-al\", \"etc\", \"eu\", \"ev\", \"even\", \"ever\", \"every\", \"everybody\", \"everyone\", \"everything\", \"everywhere\", \"ex\", \"exactly\", \"example\", \"except\",\n",
    "              \"ey\", \"f\", \"f2\", \"fa\", \"far\", \"fc\", \"few\", \"ff\", \"fi\", \"fifteen\", \"fifth\", \"fify\", \"fill\", \"find\", \"fire\", \"first\", \"five\", \"fix\", \"fj\", \"fl\", \"fn\", \"fo\", \"followed\",\n",
    "              \"following\", \"follows\", \"for\", \"former\", \"formerly\", \"forth\", \"forty\", \"found\", \"four\", \"fr\", \"from\", \"front\", \"fs\", \"ft\", \"fu\", \"full\", \"further\", \"furthermore\", \"fy\",\n",
    "              \"g\", \"ga\", \"gave\", \"ge\", \"get\", \"gets\", \"getting\", \"gi\", \"give\", \"given\", \"gives\", \"giving\", \"gj\", \"gl\", \"go\", \"goes\", \"going\", \"gone\", \"got\", \"gotten\", \"gr\", \"greetings\",\n",
    "              \"gs\", \"gy\", \"h\", \"h2\", \"h3\", \"had\", \"hadn\", \"hadn't\", \"happens\", \"hardly\", \"has\", \"hasn\", \"hasnt\", \"hasn't\", \"have\", \"haven\", \"haven't\", \"having\", \"he\", \"hed\", \"he'd\",\n",
    "              \"he'll\", \"hello\", \"help\", \"hence\", \"her\", \"here\", \"hereafter\", \"hereby\", \"herein\", \"heres\", \"here's\", \"hereupon\", \"hers\", \"herself\", \"hes\", \"he's\", \"hh\", \"hi\", \"hid\",\n",
    "              \"him\", \"himself\", \"his\", \"hither\", \"hj\", \"ho\", \"home\", \"hopefully\", \"how\", \"howbeit\", \"however\", \"how's\", \"hr\", \"hs\", \"http\", \"hu\", \"hundred\", \"hy\", \"i\", \"i2\", \"i3\", \"i4\",\n",
    "              \"i6\", \"i7\", \"i8\", \"ia\", \"ib\", \"ibid\", \"ic\", \"id\", \"i'd\", \"ie\", \"if\", \"ig\", \"ignored\", \"ih\", \"ii\", \"ij\", \"il\", \"i'll\", \"im\", \"i'm\", \"immediate\", \"immediately\", \"importance\",\n",
    "              \"important\", \"in\", \"inasmuch\", \"inc\", \"indeed\", \"index\", \"indicate\", \"indicated\", \"indicates\", \"information\", \"inner\", \"insofar\", \"instead\", \"interest\", \"into\", \"invention\",\n",
    "              \"inward\", \"io\", \"ip\", \"iq\", \"ir\", \"is\", \"isn\", \"isn't\", \"it\", \"itd\", \"it'd\", \"it'll\", \"its\", \"it's\", \"itself\", \"iv\", \"i've\", \"ix\", \"iy\", \"iz\", \"j\", \"jj\", \"jr\", \"js\", \"jt\",\n",
    "              \"ju\", \"just\", \"k\", \"ke\", \"keep\", \"keeps\", \"kept\", \"kg\", \"kj\", \"km\", \"know\", \"known\", \"knows\", \"ko\", \"l\", \"l2\", \"la\", \"largely\", \"last\", \"lately\", \"later\", \"latter\",\n",
    "              \"latterly\", \"lb\", \"lc\", \"le\", \"least\", \"les\", \"less\", \"lest\", \"let\", \"lets\", \"let's\", \"lf\", \"like\", \"liked\", \"likely\", \"line\", \"little\", \"lj\", \"ll\", \"ll\", \"ln\",\n",
    "              \"lo\", \"look\", \"looking\", \"looks\", \"los\", \"lr\", \"ls\", \"lt\", \"ltd\", \"m\", \"m2\", \"ma\", \"made\", \"mainly\", \"make\", \"makes\", \"many\", \"may\", \"maybe\", \"me\", \"mean\", \"means\",\n",
    "              \"meantime\", \"meanwhile\", \"merely\", \"mg\", \"might\", \"mightn\", \"mightn't\", \"mill\", \"million\", \"mine\", \"miss\", \"ml\", \"mn\", \"mo\", \"more\", \"moreover\", \"most\", \"mostly\",\n",
    "              \"move\", \"mr\", \"mrs\", \"ms\", \"mt\", \"mu\", \"much\", \"mug\", \"must\", \"mustn\", \"mustn't\", \"my\", \"myself\", \"n\", \"n2\", \"na\", \"name\", \"namely\", \"nay\", \"nc\", \"nd\", \"ne\", \"near\",\n",
    "              \"nearly\", \"necessarily\", \"necessary\", \"need\", \"needn\", \"needn't\", \"needs\", \"neither\", \"never\", \"nevertheless\", \"new\", \"next\", \"ng\", \"ni\", \"nine\", \"ninety\", \"nj\",\n",
    "              \"nl\", \"nn\", \"no\", \"nobody\", \"non\", \"none\", \"nonetheless\", \"noone\", \"nor\", \"normally\", \"nos\", \"not\", \"noted\", \"nothing\", \"novel\", \"now\", \"nowhere\", \"nr\", \"ns\",\n",
    "              \"nt\", \"ny\", \"o\", \"oa\", \"ob\", \"obtain\", \"obtained\", \"obviously\", \"oc\", \"od\", \"of\", \"off\", \"often\", \"og\", \"oh\", \"oi\", \"oj\", \"ok\", \"okay\", \"ol\", \"old\", \"om\",\n",
    "              \"omitted\", \"on\", \"once\", \"one\", \"ones\", \"only\", \"onto\", \"oo\", \"op\", \"oq\", \"or\", \"ord\", \"os\", \"ot\", \"other\", \"others\", \"otherwise\", \"ou\", \"ought\", \"our\", \"ours\",\n",
    "              \"ourselves\", \"out\", \"outside\", \"over\", \"overall\", \"ow\", \"owing\", \"own\", \"ox\", \"oz\", \"p\", \"p1\", \"p2\", \"p3\", \"page\", \"pagecount\", \"pages\", \"par\", \"part\", \"particular\",\n",
    "              \"particularly\", \"pas\", \"past\", \"pc\", \"pd\", \"pe\", \"per\", \"perhaps\", \"pf\", \"ph\", \"pi\", \"pj\", \"pk\", \"pl\", \"placed\", \"please\", \"plus\", \"pm\", \"pn\", \"po\", \"poorly\", \"possible\",\n",
    "              \"possibly\", \"potentially\", \"pp\", \"pq\", \"pr\", \"predominantly\", \"present\", \"presumably\", \"previously\", \"primarily\", \"probably\", \"promptly\", \"proud\", \"provides\", \"ps\", \"pt\",\n",
    "              \"pu\", \"put\", \"py\", \"q\", \"qj\", \"qu\", \"que\", \"quickly\", \"quite\", \"qv\", \"r\", \"r2\", \"ra\", \"ran\", \"rather\", \"rc\", \"rd\", \"re\", \"readily\", \"really\", \"reasonably\", \"recent\",\n",
    "              \"recently\", \"ref\", \"refs\", \"regarding\", \"regardless\", \"regards\", \"related\", \"relatively\", \"research\", \"research-articl\", \"respectively\", \"resulted\", \"resulting\",\n",
    "              \"results\", \"rf\", \"rh\", \"ri\", \"right\", \"rj\", \"rl\", \"rm\", \"rn\", \"ro\", \"rq\", \"rr\", \"rs\", \"rt\", \"ru\", \"run\", \"rv\", \"ry\", \"s\", \"s2\", \"sa\", \"said\", \"same\", \"saw\", \"say\",\n",
    "              \"saying\", \"says\", \"sc\", \"sd\", \"se\", \"sec\", \"second\", \"secondly\", \"section\", \"see\", \"seeing\", \"seem\", \"seemed\", \"seeming\", \"seems\", \"seen\", \"self\", \"selves\", \"sensible\",\n",
    "              \"sent\", \"serious\", \"seriously\", \"seven\", \"several\", \"sf\", \"shall\", \"shan\", \"shan't\", \"she\", \"shed\", \"she'd\", \"she'll\", \"shes\", \"she's\", \"should\", \"shouldn\", \"shouldn't\",\n",
    "              \"should've\", \"show\", \"showed\", \"shown\", \"showns\", \"shows\", \"si\", \"side\", \"significant\", \"significantly\", \"similar\", \"similarly\", \"since\", \"sincere\", \"six\", \"sixty\",\n",
    "              \"sj\", \"sl\", \"slightly\", \"sm\", \"sn\", \"so\", \"some\", \"somebody\", \"somehow\", \"someone\", \"somethan\", \"something\", \"sometime\", \"sometimes\", \"somewhat\", \"somewhere\", \"soon\",\n",
    "              \"sorry\", \"sp\", \"specifically\", \"specified\", \"specify\", \"specifying\", \"sq\", \"sr\", \"ss\", \"st\", \"still\", \"stop\", \"strongly\", \"sub\", \"substantially\", \"successfully\",\n",
    "              \"such\", \"sufficiently\", \"suggest\", \"sup\", \"sure\", \"sy\", \"system\", \"sz\", \"t\", \"t1\", \"t2\", \"t3\", \"take\", \"taken\", \"taking\", \"tb\", \"tc\", \"td\", \"te\", \"tell\", \"ten\", \"tends\",\n",
    "              \"tf\", \"th\", \"than\", \"thank\", \"thanks\", \"thanx\", \"that\", \"that'll\", \"thats\", \"that's\", \"that've\", \"the\", \"their\", \"theirs\", \"them\", \"themselves\", \"then\", \"thence\",\n",
    "              \"there\", \"thereafter\", \"thereby\", \"thered\", \"therefore\", \"therein\", \"there'll\", \"thereof\", \"therere\", \"theres\", \"there's\", \"thereto\", \"thereupon\", \"there've\", \"these\",\n",
    "              \"they\", \"theyd\", \"they'd\", \"they'll\", \"theyre\", \"they're\", \"they've\", \"thickv\", \"thin\", \"think\", \"third\", \"this\", \"thorough\", \"thoroughly\", \"those\", \"thou\", \"though\",\n",
    "              \"thoughh\", \"thousand\", \"three\", \"throug\", \"through\", \"throughout\", \"thru\", \"thus\", \"ti\", \"til\", \"tip\", \"tj\", \"tl\", \"tm\", \"tn\", \"to\", \"together\", \"too\", \"took\", \"top\",\n",
    "              \"toward\", \"towards\", \"tp\", \"tq\", \"tr\", \"tried\", \"tries\", \"truly\", \"try\", \"trying\", \"ts\", \"t's\", \"tt\", \"tv\", \"twelve\", \"twenty\", \"twice\", \"two\", \"tx\", \"u\", \"u201d\", \"ue\",\n",
    "              \"ui\", \"uj\", \"uk\", \"um\", \"un\", \"under\", \"unfortunately\", \"unless\", \"unlike\", \"unlikely\", \"until\", \"unto\", \"uo\", \"up\", \"upon\", \"ups\", \"ur\", \"us\", \"use\", \"used\", \"useful\",\n",
    "              \"usefully\", \"usefulness\", \"uses\", \"using\", \"usually\", \"ut\", \"v\", \"va\", \"value\", \"various\", \"vd\", \"ve\", \"ve\", \"very\", \"via\", \"viz\", \"vj\", \"vo\", \"vol\", \"vols\", \"volumtype\",\n",
    "              \"vq\", \"vs\", \"vt\", \"vu\", \"w\", \"wa\", \"want\", \"wants\", \"was\", \"wasn\", \"wasnt\", \"wasn't\", \"way\", \"we\", \"wed\", \"we'd\", \"welcome\", \"well\", \"we'll\", \"well-b\", \"went\", \"were\",\n",
    "              \"we're\", \"weren\", \"werent\", \"weren't\", \"we've\", \"what\", \"whatever\", \"what'll\", \"whats\", \"what's\", \"when\", \"whence\", \"whenever\", \"when's\", \"where\", \"whereafter\",\n",
    "              \"whereas\", \"whereby\", \"wherein\", \"wheres\", \"where's\", \"whereupon\", \"wherever\", \"whether\", \"which\", \"while\", \"whim\", \"whither\", \"who\", \"whod\", \"whoever\", \"whole\",\n",
    "              \"who'll\", \"whom\", \"whomever\", \"whos\", \"who's\", \"whose\", \"why\", \"why's\", \"wi\", \"widely\", \"will\", \"willing\", \"wish\", \"with\", \"within\", \"without\", \"wo\", \"won\", \"wonder\",\n",
    "              \"wont\", \"won't\", \"words\", \"world\", \"would\", \"wouldn\", \"wouldnt\", \"wouldn't\", \"www\", \"x\", \"x1\", \"x2\", \"x3\", \"xf\", \"xi\", \"xj\", \"xk\", \"xl\", \"xn\", \"xo\", \"xs\", \"xt\",\n",
    "              \"xv\", \"xx\", \"y\", \"y2\", \"yes\", \"yet\", \"yj\", \"yl\", \"you\", \"youd\", \"you'd\", \"you'll\", \"your\", \"youre\", \"you're\", \"yours\", \"yourself\", \"yourselves\", \"you've\", \"yr\", \"ys\",\n",
    "              \"yt\", \"z\", \"zero\", \"zi\", \"zz\",]\n"
   ]
  },
  {
   "cell_type": "markdown",
   "id": "bc4e6242-915e-4b4f-ac51-0c1d45a88d76",
   "metadata": {},
   "source": [
    "### Creating Own List of Stopwords"
   ]
  },
  {
   "cell_type": "markdown",
   "id": "bcdf1631-71e4-4a74-b299-8761a91a8122",
   "metadata": {},
   "source": [
    "Creating additional list of stopwords that includes punctuation, the reddit thread title, and the various forms of the words future/collapse so as not to give the model an advantage."
   ]
  },
  {
   "cell_type": "code",
   "execution_count": 126,
   "id": "a4e582d4-7044-4349-bc1f-f630f8a9f368",
   "metadata": {},
   "outputs": [],
   "source": [
    "my_stop_words = stop_words + ['?',',','.','(',')',':','!','u','\\'','/r/futurology',\n",
    "                              '/r/collapse','~','’','``','=','r/collapse','r/futurology',\n",
    "                              '...','[]','[',']',';','#','$','&','*','futurology','future','\\'''','%',\n",
    "                              '/r/futorology','“','collapsing','futurist','collapse','post-collapse','region','collapsed',\n",
    "                              'link','in-depth','futuristic','\\'s','-','n\\'t','collapses']"
   ]
  },
  {
   "cell_type": "markdown",
   "id": "dd899f5d-7426-4f0b-9e70-60ac40caca01",
   "metadata": {},
   "source": [
    "### Count Vectorize"
   ]
  },
  {
   "cell_type": "code",
   "execution_count": 127,
   "id": "8947dd5e-555e-44e8-aa26-37ccd8a39aaf",
   "metadata": {},
   "outputs": [],
   "source": [
    "cvec = CountVectorizer(strip_accents='unicode',stop_words=my_stop_words,ngram_range=(1,2),tokenizer=lemma_tokenizer)\n",
    "cvec.fit(X_train)\n",
    "X_train_cv = cvec.transform(X_train)\n",
    "X_test_cv = cvec.transform(X_test)\n",
    "\n",
    "X_train_cv = pd.DataFrame(X_train_cv.A,columns=cvec.get_feature_names_out())\n",
    "X_test_cv = pd.DataFrame(X_test_cv.A,columns=cvec.get_feature_names_out())\n"
   ]
  },
  {
   "cell_type": "markdown",
   "id": "b7786beb-a74c-4ecd-bc73-353f5efd4849",
   "metadata": {},
   "source": [
    "### TF-IDF Vectorize"
   ]
  },
  {
   "cell_type": "code",
   "execution_count": 128,
   "id": "641a5630-1525-4c7f-ac7a-a8ee1ef9e6f0",
   "metadata": {},
   "outputs": [],
   "source": [
    "tfi = TfidfVectorizer(strip_accents='unicode',stop_words=my_stop_words,ngram_range=(1,2),tokenizer=lemma_tokenizer)\n",
    "tfi.fit(X_train)\n",
    "X_train_tfi = tfi.transform(X_train)\n",
    "X_test_tfi = tfi.transform(X_test)\n",
    "\n",
    "X_train_tfi = pd.DataFrame(X_train_tfi.A,columns=tfi.get_feature_names_out())\n",
    "X_test_tfi = pd.DataFrame(X_test_tfi.A,columns=tfi.get_feature_names_out())"
   ]
  },
  {
   "cell_type": "markdown",
   "id": "13aec3ac-abb1-4f06-ab1e-0ad1ba94fad3",
   "metadata": {},
   "source": [
    "### Label Encoding Y"
   ]
  },
  {
   "cell_type": "code",
   "execution_count": 129,
   "id": "f9ca4415-36c5-422e-8b48-977404aaa467",
   "metadata": {},
   "outputs": [],
   "source": [
    "le = LabelEncoder()\n",
    "y_train_le = le.fit_transform(y_train)\n",
    "y_test_le = le.transform(y_test)"
   ]
  },
  {
   "cell_type": "code",
   "execution_count": 130,
   "id": "9794a21a-37a4-4831-8c88-1028e456f4af",
   "metadata": {},
   "outputs": [
    {
     "data": {
      "text/plain": [
       "0.5002903600464577"
      ]
     },
     "execution_count": 130,
     "metadata": {},
     "output_type": "execute_result"
    }
   ],
   "source": [
    "y_train_le.mean()"
   ]
  },
  {
   "cell_type": "markdown",
   "id": "e0afae6e-1b48-45c8-80c3-d3e672a36e4c",
   "metadata": {},
   "source": [
    "Collapse = 1"
   ]
  },
  {
   "cell_type": "markdown",
   "id": "8ecf25ec-09c3-4d4f-8b2a-70267818ec06",
   "metadata": {},
   "source": [
    "### Reviewing Most Frequent Features in Training Set"
   ]
  },
  {
   "cell_type": "markdown",
   "id": "4061a478-517f-499c-b3aa-9d911a0f7ba6",
   "metadata": {},
   "source": [
    "The most commonly features in the vectorized model."
   ]
  },
  {
   "cell_type": "code",
   "execution_count": 131,
   "id": "82237807-58b5-4e48-b491-5b6e7e0ffcb6",
   "metadata": {},
   "outputs": [
    {
     "data": {
      "text/plain": [
       "''                490\n",
       "year              413\n",
       "climate           358\n",
       "people            352\n",
       "change            321\n",
       "human             312\n",
       "technology        282\n",
       "ai                274\n",
       "ha                237\n",
       "time              216\n",
       "climate change    214\n",
       "doe               211\n",
       "life              207\n",
       "thing             160\n",
       "question          159\n",
       "society           157\n",
       "global            149\n",
       "job               148\n",
       "thought           140\n",
       "good              138\n",
       "robot             136\n",
       "long              135\n",
       "car               123\n",
       "energy            122\n",
       "humanity          121\n",
       "dtype: int64"
      ]
     },
     "execution_count": 131,
     "metadata": {},
     "output_type": "execute_result"
    }
   ],
   "source": [
    "X_train_cv.sum().sort_values(ascending=False).head(25)"
   ]
  },
  {
   "cell_type": "markdown",
   "id": "5b9186dc-b3e6-4cda-8c6a-c4b83c4d9ecb",
   "metadata": {},
   "source": [
    "### Multinomial Bayes"
   ]
  },
  {
   "cell_type": "markdown",
   "id": "9b1204d4-faa8-48af-8960-728d5fd52781",
   "metadata": {},
   "source": [
    "Running Multinomial Naive Bayes on lemmatized, countvectorized data. Model not shown dropped lemmatizer and model worsened."
   ]
  },
  {
   "cell_type": "code",
   "execution_count": 132,
   "id": "21d8da60-1f59-4fd8-a7a9-7ce905069569",
   "metadata": {},
   "outputs": [
    {
     "data": {
      "text/plain": [
       "(0.8974061169183121, 0.7820029027576197)"
      ]
     },
     "execution_count": 132,
     "metadata": {},
     "output_type": "execute_result"
    }
   ],
   "source": [
    "pipenb = Pipeline(\n",
    "    [\n",
    "    ('cv',CountVectorizer(stop_words=my_stop_words,strip_accents='unicode',tokenizer=lemma_tokenizer)),\n",
    "    ('nb',MultinomialNB())   \n",
    "    ])\n",
    "\n",
    "pipenb.fit(X_train,y_train_le)\n",
    "pipenb.score(X_train,y_train_le),pipenb.score(X_test,y_test_le)"
   ]
  },
  {
   "cell_type": "markdown",
   "id": "c832fc13-8823-4cfb-96de-45e320527e8e",
   "metadata": {},
   "source": [
    "Naive Bayes model achieved accuracy rate of 78.2% on validation set."
   ]
  },
  {
   "cell_type": "code",
   "execution_count": 133,
   "id": "69bd965f-5285-49fc-8637-00ab53bad3e8",
   "metadata": {},
   "outputs": [],
   "source": [
    "pipenb_params = {\n",
    "    'cv__ngram_range' : [(1,1), (1,2), (2,2), (1,3), (2,3)],\n",
    "    'cv__min_df': [1,2,3],\n",
    "    'cv__max_df': [0.6,0.5,0.4],\n",
    "}"
   ]
  },
  {
   "cell_type": "code",
   "execution_count": 134,
   "id": "4812d337-cddf-46a8-8f82-be1139dcb3e4",
   "metadata": {},
   "outputs": [
    {
     "data": {
      "text/plain": [
       "(0.9584785133565621, 0.7796806966618287)"
      ]
     },
     "execution_count": 134,
     "metadata": {},
     "output_type": "execute_result"
    }
   ],
   "source": [
    "gsnb = GridSearchCV(pipenb,param_grid=pipenb_params)\n",
    "gsnb.fit(X_train,y_train_le)\n",
    "gsnb.score(X_train,y_train_le),gsnb.score(X_test,y_test_le)"
   ]
  },
  {
   "cell_type": "code",
   "execution_count": 135,
   "id": "9a590ab9-95c5-41fe-ac0c-227a2e7d8653",
   "metadata": {},
   "outputs": [
    {
     "data": {
      "text/plain": [
       "{'cv__max_df': 0.6, 'cv__min_df': 1, 'cv__ngram_range': (1, 2)}"
      ]
     },
     "execution_count": 135,
     "metadata": {},
     "output_type": "execute_result"
    }
   ],
   "source": [
    "gsnb.best_params_"
   ]
  },
  {
   "cell_type": "markdown",
   "id": "ed336b02-b992-4381-9a5e-9e41307bc33f",
   "metadata": {},
   "source": [
    "The gridsearch did not yield an improved model, with a validation accuracy score of 77.96%."
   ]
  },
  {
   "cell_type": "markdown",
   "id": "8164a1a5-b9de-4e0e-97a9-1f547e37b90d",
   "metadata": {},
   "source": [
    "### Gaussian Bayes"
   ]
  },
  {
   "cell_type": "markdown",
   "id": "dc37e364-c962-48f9-b70c-0ca0fbfed18e",
   "metadata": {},
   "source": [
    "Scoring The TF-IDF vectorized data on Gaussian Naive Bayes. Multinomial Naive Bayes is suited for count-vectorized, Gaussian to data vectorized using TF-IDF."
   ]
  },
  {
   "cell_type": "code",
   "execution_count": 136,
   "id": "d472efba-917a-438a-a626-d40278b93fee",
   "metadata": {},
   "outputs": [
    {
     "data": {
      "text/plain": [
       "(0.974351529229578, 0.6757619738751814)"
      ]
     },
     "execution_count": 136,
     "metadata": {},
     "output_type": "execute_result"
    }
   ],
   "source": [
    "gnb = GaussianNB()\n",
    "\n",
    "gnb.fit(X_train_tfi,y_train_le)\n",
    "gnb.score(X_train_tfi,y_train_le),gnb.score(X_test_tfi,y_test_le)"
   ]
  },
  {
   "cell_type": "markdown",
   "id": "0a3065d2-cab0-4c24-b2b2-805d177666e3",
   "metadata": {
    "tags": []
   },
   "source": [
    "The Gaussian Naive Bayes performs much worse than the Multinomial, with accuracy on validation set of 67.6%."
   ]
  },
  {
   "cell_type": "markdown",
   "id": "32a1b6cf-bd2a-4a73-b219-4336a402252e",
   "metadata": {},
   "source": [
    "### Logistic, Count Vectorized"
   ]
  },
  {
   "cell_type": "markdown",
   "id": "567ff0da-e8cf-47c1-9946-18fab96759f2",
   "metadata": {},
   "source": [
    "Running fairly basic Logistic Regression. CV data. Performs worse than Naive Bayes."
   ]
  },
  {
   "cell_type": "code",
   "execution_count": 137,
   "id": "299f0da9-84e2-41b2-9a41-1ed220b7bd3c",
   "metadata": {},
   "outputs": [
    {
     "data": {
      "text/plain": [
       "(0.924506387921022, 0.7660377358490567)"
      ]
     },
     "execution_count": 137,
     "metadata": {},
     "output_type": "execute_result"
    }
   ],
   "source": [
    "logregpipe = Pipeline(\n",
    "    [\n",
    "    ('cv',CountVectorizer(stop_words=my_stop_words,strip_accents='unicode',tokenizer=lemma_tokenizer)),\n",
    "    ('lr',LogisticRegression(max_iter=10000))   \n",
    "    ])\n",
    "\n",
    "logregpipe.fit(X_train,y_train_le)\n",
    "logregpipe.score(X_train,y_train_le),logregpipe.score(X_test,y_test_le)"
   ]
  },
  {
   "cell_type": "markdown",
   "id": "417440ee-ca0e-411d-83f2-e698309c9f94",
   "metadata": {},
   "source": [
    "The model does not perform as well as Naive Bayes, with 76.6% accuracy on validation set. Conducting gridsearch to tune hyperparamaters."
   ]
  },
  {
   "cell_type": "code",
   "execution_count": 138,
   "id": "9c797737-4247-4a37-83b8-4abf706b63c6",
   "metadata": {},
   "outputs": [],
   "source": [
    "logregpipe_params = {\n",
    "    'cv__ngram_range' : [(1,1), (1,2), (2,2), (1,3), (2,3)],\n",
    "    'cv__min_df': [1,2,3],\n",
    "    'cv__max_df': [0.4,0.5,0.6],\n",
    "    'lr__C': [.1,1,10,100]\n",
    "}"
   ]
  },
  {
   "cell_type": "code",
   "execution_count": 139,
   "id": "e15e72bb-7890-4de3-8632-a359dada73e3",
   "metadata": {},
   "outputs": [
    {
     "data": {
      "text/plain": [
       "(0.9751258226867983, 0.7669085631349782)"
      ]
     },
     "execution_count": 139,
     "metadata": {},
     "output_type": "execute_result"
    }
   ],
   "source": [
    "gslogreg = GridSearchCV(logregpipe,param_grid=logregpipe_params)\n",
    "gslogreg.fit(X_train,y_train)\n",
    "gslogreg.score(X_train,y_train), gslogreg.score(X_test,y_test)"
   ]
  },
  {
   "cell_type": "code",
   "execution_count": 140,
   "id": "d3a99b11-38bc-4697-ac6a-f519a850574e",
   "metadata": {},
   "outputs": [
    {
     "data": {
      "text/plain": [
       "{'cv__max_df': 0.4, 'cv__min_df': 1, 'cv__ngram_range': (1, 2), 'lr__C': 1}"
      ]
     },
     "execution_count": 140,
     "metadata": {},
     "output_type": "execute_result"
    }
   ],
   "source": [
    "gslogreg.best_params_"
   ]
  },
  {
   "cell_type": "markdown",
   "id": "935d02b5-c037-4c13-b056-2352251e009d",
   "metadata": {},
   "source": [
    "The gridsearch produces a model that tunes several paramaters and produces a validation accuracy of 76.7%. Not as strong as Naive Bayes model."
   ]
  },
  {
   "cell_type": "markdown",
   "id": "d8178a02-2948-402c-8d67-33b2c8c3a969",
   "metadata": {},
   "source": [
    "Attempting to improve model via setting a max feature limit at 60,000."
   ]
  },
  {
   "cell_type": "code",
   "execution_count": 141,
   "id": "c66e8ba8-1ae4-4a55-bc64-a77f3ea291fc",
   "metadata": {},
   "outputs": [
    {
     "data": {
      "text/plain": [
       "(0.9751258226867983, 0.7669085631349782)"
      ]
     },
     "execution_count": 141,
     "metadata": {},
     "output_type": "execute_result"
    }
   ],
   "source": [
    "logregpipe2 = Pipeline(\n",
    "    [\n",
    "    ('cv',CountVectorizer(stop_words=my_stop_words,strip_accents='unicode',tokenizer=lemma_tokenizer,max_df=0.4,ngram_range=(1, 2),max_features=60000)),\n",
    "    ('lr',LogisticRegression(max_iter=10000))   \n",
    "    ])\n",
    "\n",
    "logregpipe2.fit(X_train,y_train_le)\n",
    "logregpipe2.score(X_train,y_train_le),logregpipe2.score(X_test,y_test_le)"
   ]
  },
  {
   "cell_type": "markdown",
   "id": "50548b22-b5b0-4eca-8d26-e4aa9255489d",
   "metadata": {},
   "source": [
    "Efforts to improve score via implementing max features were unsuccessful, achieving the same validation accuracy as previously."
   ]
  },
  {
   "cell_type": "markdown",
   "id": "6b629999-0036-4e7d-a801-6c14f8ba26ee",
   "metadata": {},
   "source": [
    "### Logistic, TF-IDF"
   ]
  },
  {
   "cell_type": "markdown",
   "id": "c8950135-53a4-4f35-97f0-07c6f2da84fa",
   "metadata": {},
   "source": [
    "Running similar analysis, with TF-IDF vectorizing."
   ]
  },
  {
   "cell_type": "code",
   "execution_count": 142,
   "id": "63f2b973-4ba7-4200-b0f7-26f2c781098e",
   "metadata": {},
   "outputs": [
    {
     "data": {
      "text/plain": [
       "(0.8994386372435152, 0.7701015965166909)"
      ]
     },
     "execution_count": 142,
     "metadata": {},
     "output_type": "execute_result"
    }
   ],
   "source": [
    "lgtpipe = Pipeline(\n",
    "    [\n",
    "    ('tf',TfidfVectorizer(stop_words=my_stop_words,tokenizer=lemma_tokenizer)),\n",
    "    ('lr',LogisticRegression(max_iter=10000))   \n",
    "    ])\n",
    "\n",
    "lgtpipe.fit(X_train,y_train_le)\n",
    "lgtpipe.score(X_train,y_train_le),lgtpipe.score(X_test,y_test_le)"
   ]
  },
  {
   "cell_type": "markdown",
   "id": "c69c66ce-2cc9-4668-8c68-9c6606fec25f",
   "metadata": {},
   "source": [
    "A fairly standard model performs slightly better than the gridsearched count-vectorized model, with 77% accuracy."
   ]
  },
  {
   "cell_type": "markdown",
   "id": "e431a978-a9c8-4a59-a81e-58ab84a96d16",
   "metadata": {},
   "source": [
    "Building gridsearch to try to build better model."
   ]
  },
  {
   "cell_type": "code",
   "execution_count": 143,
   "id": "356993e9-44df-428c-95b6-168eea06bbe1",
   "metadata": {},
   "outputs": [],
   "source": [
    "lgtpipe_params = {\n",
    "    'tf__min_df': [1, 2, 3,4],\n",
    "    'tf__max_df': [.4, .5],\n",
    "    'tf__ngram_range': [[1,1], [1,2], [2,2], [1,3]],\n",
    "    'lr__C': [.1,1,10]\n",
    "}"
   ]
  },
  {
   "cell_type": "code",
   "execution_count": 144,
   "id": "b5be15ec-06d6-41dc-9abd-143b326ecef5",
   "metadata": {},
   "outputs": [
    {
     "data": {
      "text/plain": [
       "(0.8994386372435152, 0.7701015965166909)"
      ]
     },
     "execution_count": 144,
     "metadata": {},
     "output_type": "execute_result"
    }
   ],
   "source": [
    "gslgt = GridSearchCV(lgtpipe,param_grid=lgtpipe_params)\n",
    "gslgt.fit(X_train,y_train)\n",
    "gslgt.score(X_train,y_train), gslgt.score(X_test,y_test)"
   ]
  },
  {
   "cell_type": "code",
   "execution_count": 145,
   "id": "1709439c-b036-4889-8c23-ff35002c285b",
   "metadata": {},
   "outputs": [
    {
     "data": {
      "text/plain": [
       "{'lr__C': 1, 'tf__max_df': 0.4, 'tf__min_df': 1, 'tf__ngram_range': [1, 1]}"
      ]
     },
     "execution_count": 145,
     "metadata": {},
     "output_type": "execute_result"
    }
   ],
   "source": [
    "gslgt.best_params_"
   ]
  },
  {
   "cell_type": "markdown",
   "id": "4ee3cc48-ccbf-4fc0-a168-31cc75c4599f",
   "metadata": {},
   "source": [
    "Utilizing the best parameters from the gridsearch to run new logistic model that incorporates max features of 69,000 to see if performance improves."
   ]
  },
  {
   "cell_type": "code",
   "execution_count": 146,
   "id": "486b72b0-7de5-42da-82d0-46cb91985f78",
   "metadata": {},
   "outputs": [
    {
     "data": {
      "text/plain": [
       "(0.9441540843979869, 0.772133526850508)"
      ]
     },
     "execution_count": 146,
     "metadata": {},
     "output_type": "execute_result"
    }
   ],
   "source": [
    "lgtpipe2 = Pipeline(\n",
    "    [\n",
    "    ('tf',TfidfVectorizer(stop_words=my_stop_words,tokenizer=lemma_tokenizer,max_df=0.4,ngram_range=[1, 3],max_features=69000)),\n",
    "    ('lr',LogisticRegression(max_iter=10000))   \n",
    "    ])\n",
    "\n",
    "lgtpipe2.fit(X_train,y_train_le)\n",
    "lgtpipe2.score(X_train,y_train_le),lgtpipe2.score(X_test,y_test_le)"
   ]
  },
  {
   "cell_type": "markdown",
   "id": "3c004e01-922b-49e8-b17b-bade8665b253",
   "metadata": {},
   "source": [
    "After running gridsearch, a better model is identified with a max feature parameter of 69,000. Accuracy on test set of 77.2% .This is the best Logistic Regression model, but not as strong as the Naive Bayes."
   ]
  },
  {
   "cell_type": "markdown",
   "id": "31bad8db-4fd1-46e1-961b-91a12fbd6625",
   "metadata": {},
   "source": [
    "### KNN Model"
   ]
  },
  {
   "cell_type": "markdown",
   "id": "ae5d6032-6e2a-4234-8f1b-77c3dbb70d79",
   "metadata": {},
   "source": [
    "KNN model with tuned parameters."
   ]
  },
  {
   "cell_type": "code",
   "execution_count": 147,
   "id": "da1e2647-b277-4ebe-88a2-24dd301db300",
   "metadata": {},
   "outputs": [
    {
     "data": {
      "text/plain": [
       "(0.9628339140534262, 0.6563134978229318)"
      ]
     },
     "execution_count": 147,
     "metadata": {},
     "output_type": "execute_result"
    }
   ],
   "source": [
    "pipeknn = Pipeline(\n",
    "    [\n",
    "    ('cv',CountVectorizer(stop_words=my_stop_words,tokenizer=lemma_tokenizer,ngram_range=[1,3],max_df=0.5,min_df=3)),\n",
    "    ('knc', KNeighborsClassifier(n_neighbors=3,weights='distance'))\n",
    "    ])\n",
    "\n",
    "pipeknn.fit(X_train,y_train_le)\n",
    "pipeknn.score(X_train,y_train_le),pipeknn.score(X_test,y_test_le)"
   ]
  },
  {
   "cell_type": "markdown",
   "id": "cd1060d9-03d3-4062-b135-aeea2c50c187",
   "metadata": {},
   "source": [
    "The KNN model performs worse than any model previously seen in this analysis."
   ]
  },
  {
   "cell_type": "markdown",
   "id": "cc848c84-23e2-4017-a44a-47e0c85ac4c0",
   "metadata": {},
   "source": [
    "### Decision Tree Classifier"
   ]
  },
  {
   "cell_type": "markdown",
   "id": "41750666-162f-4b89-af56-2d25006ade6d",
   "metadata": {},
   "source": [
    "Decision Tree Classifier with tuned parameters."
   ]
  },
  {
   "cell_type": "code",
   "execution_count": 148,
   "id": "3cd71956-3c4f-4788-9c0b-8cfb1176e7d3",
   "metadata": {},
   "outputs": [
    {
     "data": {
      "text/plain": [
       "(0.5977545489740612, 0.5872278664731495)"
      ]
     },
     "execution_count": 148,
     "metadata": {},
     "output_type": "execute_result"
    }
   ],
   "source": [
    "pipedtc = Pipeline(\n",
    "    [\n",
    "    ('cv',CountVectorizer(stop_words=my_stop_words,tokenizer=lemma_tokenizer,ngram_range=[1,3],max_df=0.5)),\n",
    "    ('dtc', DecisionTreeClassifier(random_state=2,max_depth=10))\n",
    "    ])\n",
    "\n",
    "pipedtc.fit(X_train,y_train_le)\n",
    "pipedtc.score(X_train,y_train_le),pipedtc.score(X_test,y_test_le)"
   ]
  },
  {
   "cell_type": "markdown",
   "id": "3bf27bbd-bd9a-4c53-be40-5150ec770ec1",
   "metadata": {},
   "source": [
    "This model performs worse than KNN."
   ]
  },
  {
   "cell_type": "markdown",
   "id": "e811a763-7e11-4c23-8e2b-290aeba0bb69",
   "metadata": {},
   "source": [
    "### Random Forest, Count Vectorized"
   ]
  },
  {
   "cell_type": "markdown",
   "id": "0a4a6551-4ee3-491e-8afb-a91aab451fee",
   "metadata": {},
   "source": [
    "Random Forest model with count vectorized data and tuned hyperparameters. "
   ]
  },
  {
   "cell_type": "code",
   "execution_count": 149,
   "id": "95497b03-bc06-4f95-a796-0f9be61c99ef",
   "metadata": {},
   "outputs": [
    {
     "data": {
      "text/plain": [
       "(0.9878048780487805, 0.7544267053701016)"
      ]
     },
     "execution_count": 149,
     "metadata": {},
     "output_type": "execute_result"
    }
   ],
   "source": [
    "piperfc = Pipeline(\n",
    "    [\n",
    "    ('cv',CountVectorizer(stop_words=my_stop_words,tokenizer=lemma_tokenizer,ngram_range=(1,2),max_df=0.5)),\n",
    "    ('rfc', RandomForestClassifier(random_state=2,n_estimators=400,min_samples_split=4,max_depth=None))\n",
    "    ])\n",
    "\n",
    "piperfc.fit(X_train,y_train_le)\n",
    "piperfc.score(X_train,y_train_le),piperfc.score(X_test,y_test_le)"
   ]
  },
  {
   "cell_type": "markdown",
   "id": "51ef81f1-4dd3-4ea6-901d-cb94b3a8a1dd",
   "metadata": {},
   "source": [
    "Validation accuracy of 75.4% not as strong as Bayes or strongest logistic."
   ]
  },
  {
   "cell_type": "markdown",
   "id": "46cfb7a4-031e-4388-b3bd-df516e12d069",
   "metadata": {},
   "source": [
    "### Random Forest, TF-IDF Vectorized"
   ]
  },
  {
   "cell_type": "markdown",
   "id": "08a4d560-b288-4c8e-b163-52374f8b7386",
   "metadata": {
    "tags": []
   },
   "source": [
    "Random Forest model using the TF-IDF vectorization and tuned parameters."
   ]
  },
  {
   "cell_type": "code",
   "execution_count": 150,
   "id": "32e64414-5ec6-498b-8947-2a20e16cfcdb",
   "metadata": {},
   "outputs": [
    {
     "data": {
      "text/plain": [
       "(0.9878048780487805, 0.7523947750362845)"
      ]
     },
     "execution_count": 150,
     "metadata": {},
     "output_type": "execute_result"
    }
   ],
   "source": [
    "piperfct = Pipeline(\n",
    "    [\n",
    "    ('tf',TfidfVectorizer(stop_words=my_stop_words,ngram_range=[1,2],max_df=0.5,tokenizer=lemma_tokenizer)),\n",
    "    ('rfc', RandomForestClassifier(random_state=2,min_samples_split=5,n_estimators=400,max_depth=None))\n",
    "    ])\n",
    "\n",
    "piperfct.fit(X_train,y_train_le)\n",
    "piperfct.score(X_train,y_train_le),piperfct.score(X_test,y_test_le)"
   ]
  },
  {
   "cell_type": "markdown",
   "id": "dfcf754d-4c82-4322-bc6b-99b84b58e98a",
   "metadata": {},
   "source": [
    "Model does not perform as strongly as the count vectorized model."
   ]
  },
  {
   "cell_type": "markdown",
   "id": "c43dc00d-03c2-4ba7-bc8a-81f94b602a88",
   "metadata": {},
   "source": [
    "### Ada Booster"
   ]
  },
  {
   "cell_type": "markdown",
   "id": "3ff1bb96-a787-441c-8a76-374263b115c7",
   "metadata": {},
   "source": [
    "Tuned model using AdaBoost."
   ]
  },
  {
   "cell_type": "code",
   "execution_count": 151,
   "id": "b678bc63-aef8-46ad-838f-036c573acec6",
   "metadata": {},
   "outputs": [
    {
     "data": {
      "text/plain": [
       "(0.9121176926054975, 0.7242380261248186)"
      ]
     },
     "execution_count": 151,
     "metadata": {},
     "output_type": "execute_result"
    }
   ],
   "source": [
    "pipeada = Pipeline(\n",
    "    [\n",
    "    ('cv',CountVectorizer(stop_words=my_stop_words,ngram_range=[1,2],max_df=0.7,tokenizer=lemma_tokenizer,max_features=45000)),\n",
    "    ('abc', AdaBoostClassifier(random_state=2,n_estimators=2000))\n",
    "    ])\n",
    "\n",
    "pipeada.fit(X_train,y_train_le)\n",
    "pipeada.score(X_train,y_train_le),pipeada.score(X_test,y_test_le)"
   ]
  },
  {
   "cell_type": "markdown",
   "id": "30c4168a-c8d7-4122-8979-43ef121d17bc",
   "metadata": {},
   "source": [
    "Validation accuracy of 72.4%. Model does not perform as well as RFC, Bayes, or Logistic."
   ]
  },
  {
   "cell_type": "markdown",
   "id": "e85be642-3725-4cba-b178-9e1b3eebcded",
   "metadata": {},
   "source": [
    "Running similar analysis with TF-IDF data."
   ]
  },
  {
   "cell_type": "code",
   "execution_count": 152,
   "id": "d34bae9b-3d54-4ea0-90a2-caeadb217813",
   "metadata": {},
   "outputs": [
    {
     "data": {
      "text/plain": [
       "(0.9302168021680217, 0.7149492017416545)"
      ]
     },
     "execution_count": 152,
     "metadata": {},
     "output_type": "execute_result"
    }
   ],
   "source": [
    "pipeada = Pipeline(\n",
    "    [\n",
    "    ('tfi',TfidfVectorizer(stop_words=my_stop_words,ngram_range=[1,1],max_df=0.7,tokenizer=lemma_tokenizer,max_features=45000)),\n",
    "    ('abc', AdaBoostClassifier(random_state=2,n_estimators=2000))\n",
    "    ])\n",
    "\n",
    "pipeada.fit(X_train,y_train_le)\n",
    "pipeada.score(X_train,y_train_le),pipeada.score(X_test,y_test_le)"
   ]
  },
  {
   "cell_type": "markdown",
   "id": "637c7a77-8790-43e5-9072-7b45680bad67",
   "metadata": {},
   "source": [
    "Model does not perform as well as with count vectorized data."
   ]
  },
  {
   "cell_type": "markdown",
   "id": "f7634ce4-15fe-43c5-981f-a0e584d41915",
   "metadata": {},
   "source": [
    "### Ensemble Analysis"
   ]
  },
  {
   "cell_type": "markdown",
   "id": "270097d4-b8f0-4701-b084-e84c394272f9",
   "metadata": {},
   "source": [
    "Ensemble model built with Count Vectorized data, combining Logistic Regression, Multinomial Naive Bayes, and Random Forest Classifier."
   ]
  },
  {
   "cell_type": "code",
   "execution_count": 153,
   "id": "6bdd4c6f-9549-479e-b1c6-c3129e3ee38e",
   "metadata": {},
   "outputs": [
    {
     "data": {
      "text/plain": [
       "(0.9765776229190863, 0.7779390420899854)"
      ]
     },
     "execution_count": 153,
     "metadata": {},
     "output_type": "execute_result"
    }
   ],
   "source": [
    "vr1 = VotingClassifier(\n",
    "    [('lr',LogisticRegression(max_iter=10000)),\n",
    "     ('mnb', MultinomialNB()),\n",
    "     ('rfc', RandomForestClassifier(random_state=2,min_samples_split=4,n_estimators=250)),\n",
    "      ],\n",
    ")\n",
    "\n",
    "vr1.fit(X_train_cv,y_train_le)\n",
    "vr1.score(X_train_cv,y_train_le),vr1.score(X_test_cv,y_test_le)"
   ]
  },
  {
   "cell_type": "markdown",
   "id": "c206f13c-3a39-4539-8236-2785260078d0",
   "metadata": {},
   "source": [
    "This model was strong - validation accuracy of 77.8%, but is slightly worse than the Naive Bayes Mode."
   ]
  },
  {
   "cell_type": "markdown",
   "id": "896de76c-5fc5-4507-ae5f-2aef19e6abad",
   "metadata": {},
   "source": [
    "Same ensemble, using TF-IDF vectorized data."
   ]
  },
  {
   "cell_type": "code",
   "execution_count": 154,
   "id": "bd78b130-6817-4bdd-b8c4-6a6d681bfa01",
   "metadata": {},
   "outputs": [
    {
     "data": {
      "text/plain": [
       "(0.9669957413859853, 0.7735849056603774)"
      ]
     },
     "execution_count": 154,
     "metadata": {},
     "output_type": "execute_result"
    }
   ],
   "source": [
    "vr2 = VotingClassifier(\n",
    "    [('lr',LogisticRegression(max_iter=10000)),\n",
    "     ('mnb', MultinomialNB()),\n",
    "     ('rfc', RandomForestClassifier(random_state=2,min_samples_split=4,n_estimators=250)),\n",
    "      ],\n",
    ")\n",
    "\n",
    "vr2.fit(X_train_tfi,y_train_le)\n",
    "vr2.score(X_train_tfi,y_train_le),vr2.score(X_test_tfi,y_test_le)"
   ]
  },
  {
   "cell_type": "markdown",
   "id": "faed98ef-d616-4f11-b46e-f078f5d530e7",
   "metadata": {},
   "source": [
    "Using TF-IFD vectorized data slightly worsens performance to 77.35% on test set."
   ]
  },
  {
   "cell_type": "markdown",
   "id": "7210c269-d74f-48fe-b098-a60ad42e79c0",
   "metadata": {},
   "source": [
    "### Revisiting Naive Bayes"
   ]
  },
  {
   "cell_type": "markdown",
   "id": "0da9747f-f0f0-4b24-8a9c-6c383c1a40a6",
   "metadata": {},
   "source": [
    "Running a tuned model of Multinomial Naive Bayes with Count Vectorized data, max features of 70,000, and lemmatizer removed."
   ]
  },
  {
   "cell_type": "code",
   "execution_count": 155,
   "id": "b9c31654-52a8-475b-a2fc-51178f514908",
   "metadata": {},
   "outputs": [
    {
     "data": {
      "text/plain": [
       "(0.9003097173828881, 0.7834542815674891)"
      ]
     },
     "execution_count": 155,
     "metadata": {},
     "output_type": "execute_result"
    }
   ],
   "source": [
    "pipenb2 = Pipeline(\n",
    "    [\n",
    "    ('cv',CountVectorizer(stop_words=my_stop_words,strip_accents='unicode',min_df=1,max_df=.1,max_features=70000,ngram_range=(1,1))),\n",
    "    ('nb',MultinomialNB(alpha=1))   \n",
    "    ])\n",
    "\n",
    "pipenb2.fit(X_train,y_train_le)\n",
    "pipenb2.score(X_train,y_train_le),pipenb2.score(X_test,y_test_le)"
   ]
  },
  {
   "cell_type": "markdown",
   "id": "78b5febf-96df-40c5-9540-39d9d8e4715f",
   "metadata": {},
   "source": [
    "Test set accuracy improves to 78.35%."
   ]
  },
  {
   "cell_type": "markdown",
   "id": "3f879776-7844-40cf-be76-8e23bf0b98a2",
   "metadata": {},
   "source": [
    "Tuned model of Multinomial Naive Bayes, using TF-IDF, with bigrams, removed lemmatizer and max features of 70,000."
   ]
  },
  {
   "cell_type": "code",
   "execution_count": 156,
   "id": "98ffe4b5-20f2-4ec3-a24c-af845987acbc",
   "metadata": {},
   "outputs": [
    {
     "data": {
      "text/plain": [
       "(0.9634146341463414, 0.7878084179970972)"
      ]
     },
     "execution_count": 156,
     "metadata": {},
     "output_type": "execute_result"
    }
   ],
   "source": [
    "pipenb3 = Pipeline(\n",
    "    [\n",
    "    ('tfi',TfidfVectorizer(stop_words=my_stop_words,strip_accents='unicode',ngram_range=(1, 2),max_df=0.5,min_df=1,max_features=70000)),\n",
    "    ('nb',MultinomialNB(alpha=1))   \n",
    "    ])\n",
    "\n",
    "pipenb3.fit(X_train,y_train_le)\n",
    "pipenb3.score(X_train,y_train_le),pipenb3.score(X_test,y_test_le)"
   ]
  },
  {
   "cell_type": "markdown",
   "id": "93d6b1b6-6dd9-42f8-9d2b-9f73c7252c7a",
   "metadata": {},
   "source": [
    "This is the best model, with 78.78% accuracy on test set."
   ]
  },
  {
   "cell_type": "markdown",
   "id": "0d665c9b-d88e-4f6f-87bb-d04a4f2ef0cf",
   "metadata": {},
   "source": [
    "Setting up gridsearch on the TF-IDF multinomial Bayes pipeline."
   ]
  },
  {
   "cell_type": "code",
   "execution_count": 157,
   "id": "e9154016-a2d0-4a84-9b18-8c8027b964d3",
   "metadata": {},
   "outputs": [
    {
     "data": {
      "text/plain": [
       "(0.907859078590786, 0.7843251088534108)"
      ]
     },
     "execution_count": 157,
     "metadata": {},
     "output_type": "execute_result"
    }
   ],
   "source": [
    "pipenb4 = Pipeline(\n",
    "    [\n",
    "    ('tfi',TfidfVectorizer(stop_words=my_stop_words,strip_accents='unicode')),\n",
    "    ('nb',MultinomialNB())   \n",
    "    ])\n",
    "\n",
    "pipenb4.fit(X_train,y_train_le)\n",
    "pipenb4.score(X_train,y_train_le),pipenb4.score(X_test,y_test_le)"
   ]
  },
  {
   "cell_type": "code",
   "execution_count": 158,
   "id": "17eaaf1d-02bb-40a4-ba55-b70e4cc72009",
   "metadata": {},
   "outputs": [
    {
     "data": {
      "text/plain": [
       "(0.9634146341463414, 0.7878084179970972)"
      ]
     },
     "execution_count": 158,
     "metadata": {},
     "output_type": "execute_result"
    }
   ],
   "source": [
    "pipenb4_params = {\n",
    "    'tfi__ngram_range' : [(1,1), (1,2), (2,2), (1,3), (2,3)],\n",
    "    'tfi__min_df': [1,2,3],\n",
    "    'tfi__max_df': [0.8,0.7,0.6,0.5,0.4],\n",
    "    'nb__alpha': [.01,.1,1,2,10]\n",
    "}\n",
    "\n",
    "gsnb4 = GridSearchCV(pipenb4,param_grid=pipenb4_params)\n",
    "gsnb4.fit(X_train,y_train)\n",
    "gsnb4.score(X_train,y_train), gsnb4.score(X_test,y_test)"
   ]
  },
  {
   "cell_type": "code",
   "execution_count": 159,
   "id": "b682300c-5c60-45e5-bdf7-08a8fef2d91f",
   "metadata": {},
   "outputs": [
    {
     "data": {
      "text/plain": [
       "{'nb__alpha': 1,\n",
       " 'tfi__max_df': 0.8,\n",
       " 'tfi__min_df': 1,\n",
       " 'tfi__ngram_range': (1, 2)}"
      ]
     },
     "execution_count": 159,
     "metadata": {},
     "output_type": "execute_result"
    }
   ],
   "source": [
    "gsnb4.best_params_"
   ]
  },
  {
   "cell_type": "markdown",
   "id": "03adab4c-6e43-44ff-8ab3-e0d8f76ec260",
   "metadata": {},
   "source": [
    "The best parameters in the gridsearch are very similar to the pipeline previously created for TF-IDF Multinomial Bayes, with the same validation accuracy score."
   ]
  },
  {
   "cell_type": "markdown",
   "id": "fce4ef86-ba82-4a41-ba83-37e8e907b2e7",
   "metadata": {},
   "source": [
    "### Testing Model on Larger Dataset"
   ]
  },
  {
   "cell_type": "markdown",
   "id": "267ead3d-7fff-4d13-bb23-5f10187b06dd",
   "metadata": {},
   "source": [
    "Now running the model on the larger dataset, from which the 30% was extracted to perform the previous analysis above. Train/test split and label encoding done to facilitate this."
   ]
  },
  {
   "cell_type": "code",
   "execution_count": 168,
   "id": "6cad1ec9-7284-4d44-a073-ec3a86ee47cc",
   "metadata": {},
   "outputs": [],
   "source": [
    "X_main = df_main['title']\n",
    "y_main = df_main['subreddit']\n",
    "X_train_main,X_test_main,y_train_main,y_test_main = train_test_split(X_main,y_main,random_state=2,stratify=y_main)\n",
    "\n",
    "y_train_main_le = le.fit_transform(y_train_main)\n",
    "y_test_main_le = le.transform(y_test_main)"
   ]
  },
  {
   "cell_type": "code",
   "execution_count": 169,
   "id": "6d806db7-bf58-4d60-a296-a88a01d00b9a",
   "metadata": {},
   "outputs": [
    {
     "data": {
      "text/plain": [
       "(0.9093812607067159, 0.816827802456232)"
      ]
     },
     "execution_count": 169,
     "metadata": {},
     "output_type": "execute_result"
    }
   ],
   "source": [
    "pipenb3.fit(X_train_main,y_train_main_le)\n",
    "pipenb3.score(X_train_main,y_train_main_le),pipenb3.score(X_test_main,y_test_main_le)"
   ]
  },
  {
   "cell_type": "markdown",
   "id": "102501e9-ba64-4d5d-ae88-a5e71fe7cc67",
   "metadata": {},
   "source": [
    "The performance on the larger test dataset improves to 81.68% accuracy. The model improved as it saw more data."
   ]
  },
  {
   "cell_type": "markdown",
   "id": "e1721c65-71ab-43b1-b698-344a65cf8e9b",
   "metadata": {},
   "source": [
    "### Testing Model on Holdout Set"
   ]
  },
  {
   "cell_type": "code",
   "execution_count": 173,
   "id": "46b009a8-04d5-4507-b785-2e7ec3376b74",
   "metadata": {},
   "outputs": [],
   "source": [
    "X_holdout = df_holdout['title']\n",
    "y_holdout = df_holdout['subreddit']\n",
    "# X_train_holdout,X_test_holdout,y_train_holdout,y_test_holdout = train_test_split(X_holdout,y_holdout,random_state=2,stratify=y_holdout)\n",
    "\n",
    "# y_train_holdout_le = le.fit_transform(y_train_holdout)\n",
    "# y_test_holdout_le = le.transform(y_test_holdout)"
   ]
  },
  {
   "cell_type": "code",
   "execution_count": 174,
   "id": "c3e5a5a0-96df-452a-9702-f4f6c261c02b",
   "metadata": {},
   "outputs": [
    {
     "data": {
      "text/plain": [
       "collapse      0.503168\n",
       "Futurology    0.496832\n",
       "Name: subreddit, dtype: float64"
      ]
     },
     "execution_count": 174,
     "metadata": {},
     "output_type": "execute_result"
    }
   ],
   "source": [
    "y_holdout.value_counts(normalize=True)"
   ]
  },
  {
   "cell_type": "markdown",
   "id": "f7f4103b-5f7c-43c7-8d4c-85fac5e96c64",
   "metadata": {},
   "source": [
    "The above shows the baseline rate for the holdout set. To be successful, the model will need to achieve an accuracy rate of higher than 50.3%, such that it performs better than choosing 'collapse' for each status."
   ]
  },
  {
   "cell_type": "code",
   "execution_count": 175,
   "id": "ba4f5b0f-dd14-464d-9808-089f3ddaf2d6",
   "metadata": {},
   "outputs": [],
   "source": [
    "y_holdout_le = le.transform(y_holdout)"
   ]
  },
  {
   "cell_type": "code",
   "execution_count": 176,
   "id": "51a785d3-8f33-4126-b39f-f6ff7421bebb",
   "metadata": {},
   "outputs": [
    {
     "data": {
      "text/plain": [
       "0.8128959472359628"
      ]
     },
     "execution_count": 176,
     "metadata": {},
     "output_type": "execute_result"
    }
   ],
   "source": [
    "pipenb3.score(X_holdout,y_holdout_le)"
   ]
  },
  {
   "cell_type": "markdown",
   "id": "72a4a591-8ca5-44de-8b93-62cd973e7c38",
   "metadata": {},
   "source": [
    "The model performs with 81.2% accuracy on the holdout set, which exceeds baseline rate of 50%. This model meets the intended goal of performing better than the baseline."
   ]
  },
  {
   "cell_type": "markdown",
   "id": "63d36127-0909-47b9-9510-832a4f866734",
   "metadata": {
    "tags": []
   },
   "source": [
    "## Analysis of Results"
   ]
  },
  {
   "cell_type": "markdown",
   "id": "64849e89-2194-4ff4-87d2-93784c3f4e5b",
   "metadata": {},
   "source": [
    "### Confusion Matrix - Holdout Set"
   ]
  },
  {
   "cell_type": "code",
   "execution_count": 187,
   "id": "c4f485e1-1c98-4932-831c-16849a85f81a",
   "metadata": {},
   "outputs": [
    {
     "data": {
      "image/png": "[encoded data removed]",
      "text/plain": [
       "<Figure size 1440x720 with 2 Axes>"
      ]
     },
     "metadata": {
      "needs_background": "light"
     },
     "output_type": "display_data"
    }
   ],
   "source": [
    "f = plt.figure(figsize=(20,10))\n",
    "plt.rcParams.update({'font.size': 22})\n",
    "ax = plt.subplot()\n",
    "ConfusionMatrixDisplay.from_estimator(pipenb3,X_holdout,y_holdout_le,cmap='Blues',ax=ax,normalize='true')\n",
    "ax.set_xlabel('Predicted Labels',labelpad=20,fontsize=25)\n",
    "ax.set_ylabel('True Labels',labelpad=20,fontsize=25)\n",
    "ax.set_title('Confusion Matrix - Holdout Set',fontsize=25)\n",
    "ax.xaxis.set_ticklabels(['Futurology', 'Collapse'],fontsize=15)\n",
    "ax.yaxis.set_ticklabels(['Futurology', 'Collapse'],fontsize=15);"
   ]
  },
  {
   "cell_type": "markdown",
   "id": "6eb09f37-6f5c-4ada-a2b5-8aafcb59aa35",
   "metadata": {},
   "source": [
    "Above is the confusion matrix for the holdout set. Since accuracy is the only metric we care about, the important stastics are the proprtion of times the model predicts each classification out of the total number of times the class appears in our holdout data.\n",
    "\n",
    "Model achieves a better rate predicting Collapse than Futurology:\n",
    "Futurology Misclassification: 19% / Collapse Misclassification: 18%\n"
   ]
  },
  {
   "cell_type": "markdown",
   "id": "3d56fc7a-790b-4fba-a951-d5dce752ef15",
   "metadata": {},
   "source": [
    "### Misclassification DataFrame (via Holdout Set)"
   ]
  },
  {
   "cell_type": "markdown",
   "id": "bf28f007-72bd-4ce6-8372-a562e0ca3608",
   "metadata": {},
   "source": [
    "Creating a datframe for title in the holdout set that the model incorrectly predicted for further analysis."
   ]
  },
  {
   "cell_type": "code",
   "execution_count": 179,
   "id": "baec4eed-35dc-4ef8-b3a1-f47d9253bb24",
   "metadata": {},
   "outputs": [],
   "source": [
    "test_preds = pipenb3.predict(X_holdout)\n",
    "misclass = X_holdout.copy()\n",
    "misclass = pd.DataFrame(misclass,columns=['title'])\n",
    "\n",
    "\n",
    "misclass['true_class'] = y_holdout\n",
    "misclass['pred_class'] = ['collapse' if i == 1 else 'Futurology' for i in test_preds]\n",
    "misclassified = misclass[misclass['true_class'] != misclass['pred_class']]\n",
    "\n"
   ]
  },
  {
   "cell_type": "markdown",
   "id": "777511ef-00f9-4881-8f35-89d10b0de36a",
   "metadata": {},
   "source": [
    "### Analyzing Length of Post"
   ]
  },
  {
   "cell_type": "code",
   "execution_count": 183,
   "id": "6fe9ce78-1816-4eda-8282-1c2d3182a001",
   "metadata": {},
   "outputs": [
    {
     "name": "stdout",
     "output_type": "stream",
     "text": [
      "47.5 56.0\n",
      "60.39100185528757 68.34999566085222\n"
     ]
    }
   ],
   "source": [
    "misclassified['title_length'] = [len(i) for i in misclassified['title']]\n",
    "\n",
    "print(misclassified['title_length'].median(),df_holdout['title_length'].median())\n",
    "print(misclassified['title_length'].mean(),df_holdout['title_length'].mean())"
   ]
  },
  {
   "cell_type": "markdown",
   "id": "17643ed9-6892-4c34-a385-b856cb3159e5",
   "metadata": {},
   "source": [
    "The misclassified posts are shorter on average, and have a lower median size post than the average for the holdout set."
   ]
  },
  {
   "cell_type": "markdown",
   "id": "dc7f17e7-b45f-4b8c-8b3a-5ecc3a4d376b",
   "metadata": {},
   "source": [
    "### Reviewing the TF-IFD Vectorized Data for Misclassification DataFrame"
   ]
  },
  {
   "cell_type": "code",
   "execution_count": 184,
   "id": "0a729b74-7697-4c69-9c53-2e0e92b84f30",
   "metadata": {},
   "outputs": [],
   "source": [
    "misct = misclassified['title']"
   ]
  },
  {
   "cell_type": "code",
   "execution_count": 185,
   "id": "1f914d1b-b97b-43ae-9009-4d581d02745b",
   "metadata": {},
   "outputs": [],
   "source": [
    "tfmisc = TfidfVectorizer(stop_words=my_stop_words,strip_accents='unicode',ngram_range=(1, 2),tokenizer=lemma_tokenizer,min_df=3)\n",
    "misc_tf = tfmisc.fit_transform(misct)\n",
    "misc_tf = pd.DataFrame(misc_tf.A,columns=tfmisc.get_feature_names_out())"
   ]
  },
  {
   "cell_type": "code",
   "execution_count": 186,
   "id": "ad7ce901-ac7f-4a94-82d0-1e692a3ed33a",
   "metadata": {},
   "outputs": [
    {
     "data": {
      "text/plain": [
       "people            36.151194\n",
       "year              31.817148\n",
       "''                31.508386\n",
       "doe               24.119060\n",
       "change            22.038473\n",
       "ha                21.303874\n",
       "human             20.121152\n",
       "time              19.884666\n",
       "question          19.657594\n",
       "climate           18.619935\n",
       "life              18.357351\n",
       "thing             16.576475\n",
       "'m                16.513576\n",
       "society           16.431797\n",
       "good              15.964793\n",
       "work              14.648848\n",
       "idea              14.459238\n",
       "prediction        13.782848\n",
       "day               13.122510\n",
       "happen            13.101426\n",
       "reddit            12.872872\n",
       "earth             12.788964\n",
       "live              12.460121\n",
       "climate change    12.404759\n",
       "energy            12.162084\n",
       "news              12.148858\n",
       "living            11.711445\n",
       "thought           11.588966\n",
       "coming            11.563121\n",
       "civilization      11.561482\n",
       "job               11.471641\n",
       "post              11.345064\n",
       "guy               11.117137\n",
       "community         10.989610\n",
       "feel              10.920832\n",
       "place             10.751247\n",
       "book              10.717375\n",
       "population        10.649717\n",
       "test              10.569166\n",
       "problem           10.499060\n",
       "technology        10.466512\n",
       "'re               10.317166\n",
       "long              10.284775\n",
       "global             9.815760\n",
       "save               9.585827\n",
       "economy            9.518100\n",
       "government         9.419936\n",
       "humanity           8.853790\n",
       "planet             8.749434\n",
       "discussion         8.408891\n",
       "dtype: float64"
      ]
     },
     "execution_count": 186,
     "metadata": {},
     "output_type": "execute_result"
    }
   ],
   "source": [
    "misc_tf.sum().sort_values(ascending=False).head(50)"
   ]
  },
  {
   "cell_type": "markdown",
   "id": "e67f4cd0-87ae-4e14-b447-a0253936f09d",
   "metadata": {},
   "source": [
    "Terms such as climate and climate change show up frequently in misclassifications, indicating that a primary source of misclassifications may be the model misclassifying a post in Futurology concerning the climate or climate change as belonging to the Collapse subreddit."
   ]
  },
  {
   "cell_type": "markdown",
   "id": "a2ef5506-2cd0-4994-878b-b87b80991645",
   "metadata": {},
   "source": [
    "## Feature Importance"
   ]
  },
  {
   "cell_type": "markdown",
   "id": "91a2dc8d-d509-4ce0-8b95-1648a3fb7cc6",
   "metadata": {},
   "source": [
    "Identifying the features having the largest impact on the model.\n",
    "\n",
    "Code help from: \n",
    "https://donernesto.github.io/blog/notes-on-multinomial-naive-bayes/"
   ]
  },
  {
   "cell_type": "code",
   "execution_count": 160,
   "id": "b5cfbc7d-2958-48a2-b8c3-4dcd5cd33749",
   "metadata": {},
   "outputs": [],
   "source": [
    "imps = pipenb3.named_steps['nb'].feature_log_prob_[1,:] - pipenb3.named_steps['nb'].feature_log_prob_[0,:]\n",
    "\n",
    "nb_feat_imp = pd.DataFrame(imps.T,\n",
    "            index=pipenb3.named_steps['tfi'].get_feature_names_out().T,\n",
    "            columns=['feature imps'])\n"
   ]
  },
  {
   "cell_type": "markdown",
   "id": "d73264f6-ee2d-485d-a407-041051db773d",
   "metadata": {},
   "source": [
    "Below are the 25 features strongest associated with the 'futurology' subreddit."
   ]
  },
  {
   "cell_type": "code",
   "execution_count": 197,
   "id": "eca12c6f-1975-4634-b134-54d3230c2a85",
   "metadata": {},
   "outputs": [
    {
     "data": {
      "text/html": [
       "<div>\n",
       "<style scoped>\n",
       "    .dataframe tbody tr th:only-of-type {\n",
       "        vertical-align: middle;\n",
       "    }\n",
       "\n",
       "    .dataframe tbody tr th {\n",
       "        vertical-align: top;\n",
       "    }\n",
       "\n",
       "    .dataframe thead th {\n",
       "        text-align: right;\n",
       "    }\n",
       "</style>\n",
       "<table border=\"1\" class=\"dataframe\">\n",
       "  <thead>\n",
       "    <tr style=\"text-align: right;\">\n",
       "      <th></th>\n",
       "      <th>feature imps</th>\n",
       "    </tr>\n",
       "  </thead>\n",
       "  <tbody>\n",
       "    <tr>\n",
       "      <th>blockchain</th>\n",
       "      <td>-3.148428</td>\n",
       "    </tr>\n",
       "    <tr>\n",
       "      <th>ai</th>\n",
       "      <td>-2.499567</td>\n",
       "    </tr>\n",
       "    <tr>\n",
       "      <th>artificial</th>\n",
       "      <td>-2.480243</td>\n",
       "    </tr>\n",
       "    <tr>\n",
       "      <th>cars</th>\n",
       "      <td>-2.442677</td>\n",
       "    </tr>\n",
       "    <tr>\n",
       "      <th>driving</th>\n",
       "      <td>-2.429417</td>\n",
       "    </tr>\n",
       "    <tr>\n",
       "      <th>artificial intelligence</th>\n",
       "      <td>-2.377395</td>\n",
       "    </tr>\n",
       "    <tr>\n",
       "      <th>technologies</th>\n",
       "      <td>-2.355618</td>\n",
       "    </tr>\n",
       "    <tr>\n",
       "      <th>immortality</th>\n",
       "      <td>-2.336032</td>\n",
       "    </tr>\n",
       "    <tr>\n",
       "      <th>driving cars</th>\n",
       "      <td>-2.279984</td>\n",
       "    </tr>\n",
       "    <tr>\n",
       "      <th>virtual</th>\n",
       "      <td>-2.276199</td>\n",
       "    </tr>\n",
       "    <tr>\n",
       "      <th>automation</th>\n",
       "      <td>-2.208832</td>\n",
       "    </tr>\n",
       "    <tr>\n",
       "      <th>brain</th>\n",
       "      <td>-2.174760</td>\n",
       "    </tr>\n",
       "    <tr>\n",
       "      <th>virtual reality</th>\n",
       "      <td>-2.168328</td>\n",
       "    </tr>\n",
       "    <tr>\n",
       "      <th>technology</th>\n",
       "      <td>-2.159682</td>\n",
       "    </tr>\n",
       "    <tr>\n",
       "      <th>smart</th>\n",
       "      <td>-2.156303</td>\n",
       "    </tr>\n",
       "    <tr>\n",
       "      <th>vr</th>\n",
       "      <td>-2.155796</td>\n",
       "    </tr>\n",
       "    <tr>\n",
       "      <th>autonomous</th>\n",
       "      <td>-2.122504</td>\n",
       "    </tr>\n",
       "    <tr>\n",
       "      <th>computer</th>\n",
       "      <td>-2.106295</td>\n",
       "    </tr>\n",
       "    <tr>\n",
       "      <th>machine</th>\n",
       "      <td>-2.102655</td>\n",
       "    </tr>\n",
       "    <tr>\n",
       "      <th>robot</th>\n",
       "      <td>-2.089854</td>\n",
       "    </tr>\n",
       "    <tr>\n",
       "      <th>automated</th>\n",
       "      <td>-2.073602</td>\n",
       "    </tr>\n",
       "    <tr>\n",
       "      <th>computers</th>\n",
       "      <td>-2.048920</td>\n",
       "    </tr>\n",
       "    <tr>\n",
       "      <th>design</th>\n",
       "      <td>-2.007757</td>\n",
       "    </tr>\n",
       "    <tr>\n",
       "      <th>universal</th>\n",
       "      <td>-1.985845</td>\n",
       "    </tr>\n",
       "    <tr>\n",
       "      <th>longevity</th>\n",
       "      <td>-1.958395</td>\n",
       "    </tr>\n",
       "  </tbody>\n",
       "</table>\n",
       "</div>"
      ],
      "text/plain": [
       "                         feature imps\n",
       "blockchain                  -3.148428\n",
       "ai                          -2.499567\n",
       "artificial                  -2.480243\n",
       "cars                        -2.442677\n",
       "driving                     -2.429417\n",
       "artificial intelligence     -2.377395\n",
       "technologies                -2.355618\n",
       "immortality                 -2.336032\n",
       "driving cars                -2.279984\n",
       "virtual                     -2.276199\n",
       "automation                  -2.208832\n",
       "brain                       -2.174760\n",
       "virtual reality             -2.168328\n",
       "technology                  -2.159682\n",
       "smart                       -2.156303\n",
       "vr                          -2.155796\n",
       "autonomous                  -2.122504\n",
       "computer                    -2.106295\n",
       "machine                     -2.102655\n",
       "robot                       -2.089854\n",
       "automated                   -2.073602\n",
       "computers                   -2.048920\n",
       "design                      -2.007757\n",
       "universal                   -1.985845\n",
       "longevity                   -1.958395"
      ]
     },
     "execution_count": 197,
     "metadata": {},
     "output_type": "execute_result"
    }
   ],
   "source": [
    "fut_impt = pd.DataFrame(nb_feat_imp.sort_values(by='feature imps').head(25))\n",
    "fut_impt"
   ]
  },
  {
   "cell_type": "markdown",
   "id": "69e25c8e-6e97-47bb-a8f6-a282fb10411b",
   "metadata": {},
   "source": [
    "These are the 25 features strongest associated with the 'collapse' subreddit."
   ]
  },
  {
   "cell_type": "code",
   "execution_count": 198,
   "id": "654987b6-59b0-4f44-88f2-e8a117bbad12",
   "metadata": {},
   "outputs": [
    {
     "data": {
      "text/html": [
       "<div>\n",
       "<style scoped>\n",
       "    .dataframe tbody tr th:only-of-type {\n",
       "        vertical-align: middle;\n",
       "    }\n",
       "\n",
       "    .dataframe tbody tr th {\n",
       "        vertical-align: top;\n",
       "    }\n",
       "\n",
       "    .dataframe thead th {\n",
       "        text-align: right;\n",
       "    }\n",
       "</style>\n",
       "<table border=\"1\" class=\"dataframe\">\n",
       "  <thead>\n",
       "    <tr style=\"text-align: right;\">\n",
       "      <th></th>\n",
       "      <th>feature imps</th>\n",
       "    </tr>\n",
       "  </thead>\n",
       "  <tbody>\n",
       "    <tr>\n",
       "      <th>imminent</th>\n",
       "      <td>1.653124</td>\n",
       "    </tr>\n",
       "    <tr>\n",
       "      <th>aware</th>\n",
       "      <td>1.664481</td>\n",
       "    </tr>\n",
       "    <tr>\n",
       "      <th>nuclear war</th>\n",
       "      <td>1.664511</td>\n",
       "    </tr>\n",
       "    <tr>\n",
       "      <th>observations signs</th>\n",
       "      <td>1.671532</td>\n",
       "    </tr>\n",
       "    <tr>\n",
       "      <th>climate crisis</th>\n",
       "      <td>1.680068</td>\n",
       "    </tr>\n",
       "    <tr>\n",
       "      <th>american</th>\n",
       "      <td>1.685876</td>\n",
       "    </tr>\n",
       "    <tr>\n",
       "      <th>peak oil</th>\n",
       "      <td>1.695714</td>\n",
       "    </tr>\n",
       "    <tr>\n",
       "      <th>hopium</th>\n",
       "      <td>1.710201</td>\n",
       "    </tr>\n",
       "    <tr>\n",
       "      <th>shortages</th>\n",
       "      <td>1.739862</td>\n",
       "    </tr>\n",
       "    <tr>\n",
       "      <th>civil</th>\n",
       "      <td>1.754314</td>\n",
       "    </tr>\n",
       "    <tr>\n",
       "      <th>protests</th>\n",
       "      <td>1.770578</td>\n",
       "    </tr>\n",
       "    <tr>\n",
       "      <th>ipcc</th>\n",
       "      <td>1.781888</td>\n",
       "    </tr>\n",
       "    <tr>\n",
       "      <th>climate</th>\n",
       "      <td>1.804453</td>\n",
       "    </tr>\n",
       "    <tr>\n",
       "      <th>climate change</th>\n",
       "      <td>1.823010</td>\n",
       "    </tr>\n",
       "    <tr>\n",
       "      <th>war</th>\n",
       "      <td>1.876762</td>\n",
       "    </tr>\n",
       "    <tr>\n",
       "      <th>coping</th>\n",
       "      <td>1.889740</td>\n",
       "    </tr>\n",
       "    <tr>\n",
       "      <th>crisis</th>\n",
       "      <td>1.910209</td>\n",
       "    </tr>\n",
       "    <tr>\n",
       "      <th>civil war</th>\n",
       "      <td>1.914891</td>\n",
       "    </tr>\n",
       "    <tr>\n",
       "      <th>daily links</th>\n",
       "      <td>1.916000</td>\n",
       "    </tr>\n",
       "    <tr>\n",
       "      <th>weekly</th>\n",
       "      <td>1.982238</td>\n",
       "    </tr>\n",
       "    <tr>\n",
       "      <th>extinction</th>\n",
       "      <td>2.025724</td>\n",
       "    </tr>\n",
       "    <tr>\n",
       "      <th>peak</th>\n",
       "      <td>2.051141</td>\n",
       "    </tr>\n",
       "    <tr>\n",
       "      <th>weekly observations</th>\n",
       "      <td>2.138660</td>\n",
       "    </tr>\n",
       "    <tr>\n",
       "      <th>signs</th>\n",
       "      <td>2.143879</td>\n",
       "    </tr>\n",
       "    <tr>\n",
       "      <th>observations</th>\n",
       "      <td>2.318782</td>\n",
       "    </tr>\n",
       "  </tbody>\n",
       "</table>\n",
       "</div>"
      ],
      "text/plain": [
       "                     feature imps\n",
       "imminent                 1.653124\n",
       "aware                    1.664481\n",
       "nuclear war              1.664511\n",
       "observations signs       1.671532\n",
       "climate crisis           1.680068\n",
       "american                 1.685876\n",
       "peak oil                 1.695714\n",
       "hopium                   1.710201\n",
       "shortages                1.739862\n",
       "civil                    1.754314\n",
       "protests                 1.770578\n",
       "ipcc                     1.781888\n",
       "climate                  1.804453\n",
       "climate change           1.823010\n",
       "war                      1.876762\n",
       "coping                   1.889740\n",
       "crisis                   1.910209\n",
       "civil war                1.914891\n",
       "daily links              1.916000\n",
       "weekly                   1.982238\n",
       "extinction               2.025724\n",
       "peak                     2.051141\n",
       "weekly observations      2.138660\n",
       "signs                    2.143879\n",
       "observations             2.318782"
      ]
     },
     "execution_count": 198,
     "metadata": {},
     "output_type": "execute_result"
    }
   ],
   "source": [
    "col_impt = pd.DataFrame(nb_feat_imp.sort_values(by='feature imps').tail(25))\n",
    "col_impt"
   ]
  },
  {
   "cell_type": "code",
   "execution_count": 203,
   "id": "57d133ab-419f-43a2-8642-425c3d17f27c",
   "metadata": {},
   "outputs": [],
   "source": [
    "impts = pd.concat([fut_impt,col_impt]).reset_index()"
   ]
  },
  {
   "cell_type": "code",
   "execution_count": 215,
   "id": "a85c1b8b-f114-44bb-9659-9138dfdbae39",
   "metadata": {},
   "outputs": [
    {
     "data": {
      "image/png": "[encoded data removed]",
      "text/plain": [
       "<Figure size 2160x1440 with 1 Axes>"
      ]
     },
     "metadata": {
      "needs_background": "light"
     },
     "output_type": "display_data"
    }
   ],
   "source": [
    "impts.plot.barh(x='index', y='feature imps', title=\"Magnitude of top 25 feature importances (pos are Collapse, negative are future)\",figsize=(30,20));"
   ]
  },
  {
   "cell_type": "markdown",
   "id": "c3ac2358-ba7f-4f30-8856-d8c6ad21386a",
   "metadata": {},
   "source": [
    "## Further Research"
   ]
  },
  {
   "cell_type": "markdown",
   "id": "afe9c52e-8314-4bbb-9990-224f78865772",
   "metadata": {},
   "source": [
    "### Analysis Using SelfText and Title"
   ]
  },
  {
   "cell_type": "markdown",
   "id": "018ca26d-1616-4bcf-8c85-60dd1e468928",
   "metadata": {},
   "source": [
    "I quickly analyzed how the model would perform if the available self-text was included in the analysis. I ran the model without much additional tuning, adjusted to include trigrams, and allowed for 80,000 features. Went through same process of splitting data into train, validation, and holdout sets. For quick study, the null values were replaced as blank text."
   ]
  },
  {
   "cell_type": "code",
   "execution_count": 188,
   "id": "874522e2-ffa7-4774-82a3-f630b2c4b154",
   "metadata": {},
   "outputs": [],
   "source": [
    "pipenb5 = Pipeline(\n",
    "    [\n",
    "    ('tfi',TfidfVectorizer(stop_words=my_stop_words,strip_accents='unicode',ngram_range=(1, 3),tokenizer=lemma_tokenizer,max_features=80000)),\n",
    "    ('nb',MultinomialNB())   \n",
    "    ])"
   ]
  },
  {
   "cell_type": "code",
   "execution_count": 190,
   "id": "0b28b393-9020-4fe8-87a4-4be9a4a94c51",
   "metadata": {},
   "outputs": [],
   "source": [
    "df_fut_all = pd.read_csv('datasets/futurology_pull.csv')\n",
    "df_col_all = pd.read_csv('datasets/collapse_pull.csv')\n",
    "\n",
    "df_fut_all = df_fut_all[['selftext','subreddit','title']]\n",
    "df_col_all = df_col_all[['selftext','subreddit','title']]\n",
    "df_comb2 = pd.concat([df_fut_all,df_col_all])\n",
    "df_comb2['selftext'] = df_comb2['selftext'].replace('[removed]',' ')                                                \n",
    "df_comb2['alltext'] = df_comb2['selftext'] + df_comb2['title']\n",
    "df_comb2 = df_comb2.drop(columns=['selftext','title'])\n",
    "df_comb2 = df_comb2.sample(frac=1,random_state=2)\n",
    "df_comb2 = df_comb2.dropna()\n",
    "df_comb2 = df_comb2.drop_duplicates()\n",
    "df_holdout2 = df_comb2[0:10662]\n",
    "df_main2 = df_comb2[10662:]\n",
    "\n",
    "X3 = df_main2['alltext']\n",
    "y3 = df_main2['subreddit']\n"
   ]
  },
  {
   "cell_type": "code",
   "execution_count": 191,
   "id": "1cbe404d-a1ec-4833-90ac-011c311dea7d",
   "metadata": {},
   "outputs": [],
   "source": [
    "X_train3, X_test3, y_train3, y_test3 = train_test_split(X3,y3,random_state=2,stratify=y3)\n",
    "\n",
    "y_train_le3 = le.fit_transform(y_train3)\n",
    "y_test_le3 = le.transform(y_test3)"
   ]
  },
  {
   "cell_type": "code",
   "execution_count": 192,
   "id": "411c94b1-f918-4ecc-8ce2-c22015d0e0f9",
   "metadata": {},
   "outputs": [
    {
     "data": {
      "text/plain": [
       "collapse      0.514444\n",
       "Futurology    0.485556\n",
       "Name: subreddit, dtype: float64"
      ]
     },
     "execution_count": 192,
     "metadata": {},
     "output_type": "execute_result"
    }
   ],
   "source": [
    "y_test3.value_counts(normalize=True)"
   ]
  },
  {
   "cell_type": "markdown",
   "id": "284f7886-fe12-48af-b1c0-f2bdff229503",
   "metadata": {},
   "source": [
    "Generated baseline of 51.44% for comparison."
   ]
  },
  {
   "cell_type": "code",
   "execution_count": 193,
   "id": "ad2b6cac-61bb-445d-a9f7-f859c15fe931",
   "metadata": {},
   "outputs": [
    {
     "data": {
      "text/plain": [
       "(0.8973581366265437, 0.8471206152691803)"
      ]
     },
     "execution_count": 193,
     "metadata": {},
     "output_type": "execute_result"
    }
   ],
   "source": [
    "pipenb5.fit(X_train3,y_train_le3)\n",
    "pipenb5.score(X_train3,y_train_le3),pipenb5.score(X_test3,y_test_le3)"
   ]
  },
  {
   "cell_type": "markdown",
   "id": "3a98dc53-24e2-4bee-acb7-d55453cfd049",
   "metadata": {},
   "source": [
    "The model performed with 84.71% accuracy on the validation set."
   ]
  },
  {
   "cell_type": "code",
   "execution_count": 194,
   "id": "c4b0ca09-e5f4-4ecc-a343-d9b4842e1f17",
   "metadata": {},
   "outputs": [
    {
     "data": {
      "text/plain": [
       "0.8460889138998312"
      ]
     },
     "execution_count": 194,
     "metadata": {},
     "output_type": "execute_result"
    }
   ],
   "source": [
    "X_hold2 = df_holdout2['alltext']\n",
    "y_hold2 = df_holdout2['subreddit']\n",
    "y_hold2_le = le.transform(y_hold2)\n",
    "\n",
    "pipenb5.score(X_hold2,y_hold2_le)"
   ]
  },
  {
   "cell_type": "markdown",
   "id": "e7cadf3d-acb2-42e6-871f-13eea7f54bc7",
   "metadata": {},
   "source": [
    "The model similarly scored 84.6% accuracy on the holdout set."
   ]
  },
  {
   "cell_type": "markdown",
   "id": "8d92cedb-f178-474a-832b-e25be9c6e633",
   "metadata": {},
   "source": [
    "The next steps in improving then model would be to further explore how well the model might perform if we fine-tune it using this additional data. More precision would have to be applied to how the null values are addressed."
   ]
  }
 ],
 "metadata": {
  "kernelspec": {
   "display_name": "Python 3 (ipykernel)",
   "language": "python",
   "name": "python3"
  },
  "language_info": {
   "codemirror_mode": {
    "name": "ipython",
    "version": 3
   },
   "file_extension": ".py",
   "mimetype": "text/x-python",
   "name": "python",
   "nbconvert_exporter": "python",
   "pygments_lexer": "ipython3",
   "version": "3.9.12"
  }
 },
 "nbformat": 4,
 "nbformat_minor": 5
}
