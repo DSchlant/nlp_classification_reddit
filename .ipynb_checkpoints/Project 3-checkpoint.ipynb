{
 "cells": [
  {
   "cell_type": "code",
   "execution_count": 198,
   "id": "53125333-f5e1-4abf-bee0-a4b632659663",
   "metadata": {},
   "outputs": [],
   "source": [
    "import requests\n",
    "import time\n",
    "import pandas as pd\n",
    "from bs4 import BeautifulSoup\n",
    "from sklearn.feature_extraction.text import CountVectorizer, TfidfVectorizer\n",
    "from sklearn.model_selection import train_test_split, GridSearchCV\n",
    "from sklearn.linear_model import LogisticRegression\n",
    "from sklearn.pipeline import Pipeline\n",
    "from sklearn.metrics import ConfusionMatrixDisplay, f1_score, precision_score,recall_score\n",
    "import nltk\n",
    "from nltk import word_tokenize\n",
    "from nltk.stem import WordNetLemmatizer\n",
    "from sklearn.dummy import DummyClassifier, DummyRegressor\n",
    "from sklearn.preprocessing import LabelEncoder\n",
    "from sklearn.neighbors import KNeighborsClassifier, KNeighborsRegressor\n",
    "from sklearn.tree import plot_tree, DecisionTreeClassifier\n",
    "from sklearn.ensemble import VotingRegressor\n",
    "from sklearn.ensemble import VotingClassifier\n",
    "from sklearn.preprocessing import StandardScaler\n",
    "from sklearn.naive_bayes import GaussianNB, MultinomialNB\n",
    "from sklearn.ensemble import ExtraTreesClassifier, RandomForestClassifier\n",
    "import warnings\n",
    "from sklearn.ensemble import ExtraTreesClassifier\n",
    "from sklearn.ensemble import RandomForestClassifier\n",
    "from sklearn. compose import ColumnTransformer"
   ]
  },
  {
   "cell_type": "code",
   "execution_count": 86,
   "id": "31f41fca-b1f5-4808-8cd7-da926305e7d6",
   "metadata": {},
   "outputs": [],
   "source": [
    "warnings.filterwarnings('ignore')"
   ]
  },
  {
   "cell_type": "code",
   "execution_count": 2,
   "id": "68f6af72-4e9e-4fa2-8571-78e47edd9e96",
   "metadata": {},
   "outputs": [],
   "source": [
    "base_url = 'https://api.pushshift.io/reddit/search/'"
   ]
  },
  {
   "cell_type": "code",
   "execution_count": 3,
   "id": "bff38a20-2e64-4fe8-b25a-7afd86ca6436",
   "metadata": {},
   "outputs": [],
   "source": [
    "pd.set_option('display.max_columns', None)\n",
    "#pd.set_option('display.max_rows', None)"
   ]
  },
  {
   "cell_type": "code",
   "execution_count": 4,
   "id": "62d1b7ee-e9e9-4d76-853e-4bf089a0cf61",
   "metadata": {},
   "outputs": [],
   "source": [
    "def pull_posts(base_url,subreddit,length):\n",
    "    data_pulls = pd.DataFrame()\n",
    "    before = 1650821963\n",
    "    for i in range(length):\n",
    "        parameters = {'subreddit': subreddit,\n",
    "                  'size': 100,\n",
    "                  'is_self' : True,\n",
    "                  'before': before}\n",
    "        try:\n",
    "            response = requests.get(base_url+'submission/',parameters)\n",
    "            if response.status_code != 200:\n",
    "                print('request failed')\n",
    "            else:\n",
    "                data = response.json()\n",
    "                posts = data['data']\n",
    "                posts = pd.DataFrame(posts)\n",
    "                data_pulls = pd.concat([data_pulls,posts])\n",
    "                time.sleep(5)\n",
    "                before = data_pulls['created_utc'].iloc[-1]\n",
    "        except:\n",
    "            print(\"Exception: {}\".format(type(exception).__name__))\n",
    "            print(\"Exception message: {}\".format(exception))\n",
    "            time.sleep(15)\n",
    "    return data_pulls"
   ]
  },
  {
   "cell_type": "code",
   "execution_count": 5,
   "id": "2801b257-d398-42dc-a278-6735281868fb",
   "metadata": {},
   "outputs": [],
   "source": [
    "#futurology_pulls = pull_posts(base_url,'futurology',289)\n",
    "#futurology_pulls.to_csv('futurology_pull.csv',index=False)"
   ]
  },
  {
   "cell_type": "code",
   "execution_count": 6,
   "id": "7a44b531-0c04-409d-8cdb-a4ca04b238fb",
   "metadata": {},
   "outputs": [],
   "source": [
    "#collapse_pulls = pull_posts(base_url,'collapse',288)\n",
    "#collapse_pulls.to_csv('collapse_pull.csv',index=False)"
   ]
  },
  {
   "cell_type": "code",
   "execution_count": 7,
   "id": "81337711-04f8-43e2-9491-83523587c0ba",
   "metadata": {},
   "outputs": [
    {
     "name": "stderr",
     "output_type": "stream",
     "text": [
      "/var/folders/pr/wgwfmfsx53n97rhpm9z12wqh0000gn/T/ipykernel_29370/2351499472.py:1: DtypeWarning: Columns (0,1,4,6,8,9,10,11,12,13,17,19,20,21,22,23,24,26,29,30,32,33,34,35,36,40,42,44,48,49,54,58,61,66,71,72,75,76,77,81,84,85,86,87,88,89,90,96,97) have mixed types. Specify dtype option on import or set low_memory=False.\n",
      "  df_fut = pd.read_csv('futurology_pull.csv')\n",
      "/var/folders/pr/wgwfmfsx53n97rhpm9z12wqh0000gn/T/ipykernel_29370/2351499472.py:2: DtypeWarning: Columns (0,1,8,9,10,11,12,13,17,19,20,21,22,23,24,26,27,29,33,34,35,41,45,49,50,51,59,67,70,72,74,76,78,79,80,81,82,83,87,88,89,90,96,97) have mixed types. Specify dtype option on import or set low_memory=False.\n",
      "  df_col = pd.read_csv('collapse_pull.csv')\n"
     ]
    }
   ],
   "source": [
    "df_fut = pd.read_csv('futurology_pull.csv')\n",
    "df_col = pd.read_csv('collapse_pull.csv')"
   ]
  },
  {
   "cell_type": "markdown",
   "id": "50c90ea5-c5a7-4ebf-b00f-b51fec3ee027",
   "metadata": {},
   "source": [
    "### Checking for duplicates"
   ]
  },
  {
   "cell_type": "code",
   "execution_count": 8,
   "id": "a40caa53-b1f9-4057-b7d8-1293d6e7475d",
   "metadata": {},
   "outputs": [],
   "source": [
    "df_fut = df_fut.drop_duplicates()\n",
    "df_col = df_col.drop_duplicates()"
   ]
  },
  {
   "cell_type": "markdown",
   "id": "00440798-87d3-43cd-8b92-976558fe2142",
   "metadata": {},
   "source": [
    "### Remvoing rows with titles less than 4 characters"
   ]
  },
  {
   "cell_type": "code",
   "execution_count": 9,
   "id": "9f6ff0b1-450e-48e1-9272-cf9986b98067",
   "metadata": {},
   "outputs": [],
   "source": [
    "df_fut['length'] = [len(i) for i in df_fut['title']]\n",
    "df_fut = df_fut[df_fut['length'] > 5]\n",
    "\n",
    "\n",
    "df_col['length'] = [len(i) for i in df_col['title']]\n",
    "df_col = df_col[df_col['length'] > 5]"
   ]
  },
  {
   "cell_type": "code",
   "execution_count": 10,
   "id": "faa03e3d-dfd6-49e4-ae46-a420c7183dd1",
   "metadata": {},
   "outputs": [],
   "source": [
    "df_fut_cut = df_fut[['subreddit','title']]\n",
    "df_col_cut = df_col[['subreddit','title']]"
   ]
  },
  {
   "cell_type": "markdown",
   "id": "a4ad8ef3-232f-4347-b7c9-d6967815e182",
   "metadata": {},
   "source": [
    "### Checking to see if any rows have no English text"
   ]
  },
  {
   "cell_type": "code",
   "execution_count": 11,
   "id": "8ceb848f-6abd-4edb-be0e-7c7e09144a11",
   "metadata": {},
   "outputs": [],
   "source": [
    "foreign_lang = ['분석/프로토',\\\n",
    "'분석/프로토 사이트/스포츠베팅/스포츠배팅/실시간스포츠배팅/스포츠배팅',\\\n",
    "'사다리/먹튀없는',\\\n",
    "'사이트/스포츠베팅/스포츠배팅/실시간스포츠배팅/스포츠배팅',\\\n",
    "'순위/토토사이트',\\\n",
    "'순위/토토사이트 추천/해외토토/해외토토사이트/해외토토중계/프로토/프로토',\\\n",
    "'순위/토토사이트 추천/해외토토/해외토토사이트/해외토토중계/프로토/프로토 팁/프로토승부식/프로토',\\\n",
    "'에이전시/해외',\\\n",
    "'추천/해외토토/해외토토사이트/해외토토중계/프로토/프로토',\\\n",
    "'추천/해외토토/해외토토사이트/해외토토중계/프로토/프로토 팁/프로토승부식/프로토',\\\n",
    "'추천/해외토토/해외토토사이트/해외토토중계/프로토/프로토 팁/프로토승부식/프로토 분석/프로토',\\\n",
    "'토토/토토사이트',\\\n",
    "'토토사이트/안전토토사이트/토토사이트검증/먹튀없는',\\\n",
    "'토토사이트/안전토토사이트/토토사이트검증/먹튀없는 토토/토토사이트,팁/프로토승부식/프로토',\\\n",
    "'팁/프로토승부식/프로토 분석/프로토,팁/프로토승부식/프로토 분석/프로토 사이트/스포츠베팅/스포츠배팅/실시간스포츠배팅/스포츠배팅']"
   ]
  },
  {
   "cell_type": "markdown",
   "id": "8b5a9006-c2a0-4057-918c-03e595816792",
   "metadata": {
    "tags": []
   },
   "source": [
    "### Combining Dataframes"
   ]
  },
  {
   "cell_type": "code",
   "execution_count": 12,
   "id": "e84bf9dc-3f0c-4c0c-9392-9b406d516de3",
   "metadata": {
    "tags": []
   },
   "outputs": [],
   "source": [
    "df_comb = pd.concat([df_col_cut,df_fut_cut])"
   ]
  },
  {
   "cell_type": "code",
   "execution_count": 13,
   "id": "97900f1e-6227-40f6-94c5-45b9564f2add",
   "metadata": {},
   "outputs": [
    {
     "data": {
      "text/plain": [
       "(57364, 2)"
      ]
     },
     "execution_count": 13,
     "metadata": {},
     "output_type": "execute_result"
    }
   ],
   "source": [
    "df_comb.shape"
   ]
  },
  {
   "cell_type": "markdown",
   "id": "a499fc5f-290b-427c-a113-3dbf50744c7a",
   "metadata": {},
   "source": [
    "Using 20% of the dataset for initial analysis."
   ]
  },
  {
   "cell_type": "code",
   "execution_count": 14,
   "id": "a84cb44b-0f8b-4d93-9f95-07e2060dda49",
   "metadata": {},
   "outputs": [],
   "source": [
    "df_sample = df_comb.sample(frac=0.3)"
   ]
  },
  {
   "cell_type": "code",
   "execution_count": 15,
   "id": "1da76a9d-f9c0-4fd8-9b0e-37c38c114323",
   "metadata": {},
   "outputs": [
    {
     "data": {
      "text/plain": [
       "collapse      0.502295\n",
       "Futurology    0.497705\n",
       "Name: subreddit, dtype: float64"
      ]
     },
     "execution_count": 15,
     "metadata": {},
     "output_type": "execute_result"
    }
   ],
   "source": [
    "df_sample['subreddit'].value_counts(normalize=True)"
   ]
  },
  {
   "cell_type": "markdown",
   "id": "26d2916a-3093-4613-8ba7-df35fa164fcd",
   "metadata": {},
   "source": [
    "### TTS"
   ]
  },
  {
   "cell_type": "code",
   "execution_count": 16,
   "id": "c1da68f0-307a-4bee-b48b-160ab226eb6a",
   "metadata": {},
   "outputs": [],
   "source": [
    "X = df_sample['title']\n",
    "y = df_sample['subreddit']"
   ]
  },
  {
   "cell_type": "code",
   "execution_count": 17,
   "id": "284cbdfd-7aac-4d67-b987-f6dd9761e0d7",
   "metadata": {},
   "outputs": [],
   "source": [
    "X_train,X_test,y_train,y_test = train_test_split(X,y,random_state=42,stratify=y)"
   ]
  },
  {
   "cell_type": "markdown",
   "id": "1368e5bf-576c-4b7b-bf49-11acfb7506cd",
   "metadata": {},
   "source": [
    "### Baseline Null"
   ]
  },
  {
   "cell_type": "code",
   "execution_count": 18,
   "id": "23c73e96-5d7a-4be6-8c02-7ede78a39e34",
   "metadata": {},
   "outputs": [
    {
     "data": {
      "text/plain": [
       "0.5022077620264932"
      ]
     },
     "execution_count": 18,
     "metadata": {},
     "output_type": "execute_result"
    }
   ],
   "source": [
    "dc = DummyClassifier()\n",
    "dc.fit(X_train,y_train)\n",
    "dc.predict(X_test)\n",
    "dc.score(X_test,y_test)"
   ]
  },
  {
   "cell_type": "markdown",
   "id": "6892dd00-879f-4124-a910-6c299a76cfbd",
   "metadata": {},
   "source": [
    "### Tokenize/Lemmatize"
   ]
  },
  {
   "cell_type": "code",
   "execution_count": 19,
   "id": "044e1a0c-bd35-449f-8e01-e1e74b3f7c06",
   "metadata": {
    "tags": []
   },
   "outputs": [],
   "source": [
    "def lemma_tokenizer(doc):\n",
    "    wnl = WordNetLemmatizer()\n",
    "    return [wnl.lemmatize(w) for w in word_tokenize(doc)]"
   ]
  },
  {
   "cell_type": "code",
   "execution_count": 82,
   "id": "a4e582d4-7044-4349-bc1f-f630f8a9f368",
   "metadata": {},
   "outputs": [],
   "source": [
    "my_stop_words=['english','ascii','?',',','.','(',')',':','!','u','\\'','i','are','that','the','on','and','is','to','a','of',\\\n",
    "               'in','what','for','will','you','it','be','this','with','do','n\\'t','-','\\'s','\\'','an',\\\n",
    "               '`','.',',','u','/r/futurology','/r/collapse','~','e','g','’','``','=','o','de','r/collapse','r/futurology',\\\n",
    "               'we','how','about','have','can','if','all','or','would','by','our','why','not','your','year','when',\\\n",
    "               'could','there','like','from','...','an','ha','haha','hahaha','[]','[',']','so','new','now','doe',\\\n",
    "               'my','more','just','any','but','who','at','some','me',';','they','no','yes','out','should','get',\\\n",
    "               'most','s','than','up','one','wa','make','here','thing','#','$','got','&','*','where','anyone','collapse'\\\n",
    "              'futurology']"
   ]
  },
  {
   "cell_type": "markdown",
   "id": "dd899f5d-7426-4f0b-9e70-60ac40caca01",
   "metadata": {},
   "source": [
    "### Count Vectorize"
   ]
  },
  {
   "cell_type": "code",
   "execution_count": 24,
   "id": "8947dd5e-555e-44e8-aa26-37ccd8a39aaf",
   "metadata": {},
   "outputs": [
    {
     "name": "stderr",
     "output_type": "stream",
     "text": [
      "/Users/danielschlant/opt/anaconda3/lib/python3.9/site-packages/sklearn/feature_extraction/text.py:516: UserWarning: The parameter 'token_pattern' will not be used since 'tokenizer' is not None'\n",
      "  warnings.warn(\n"
     ]
    }
   ],
   "source": [
    "cvec = CountVectorizer(lowercase=True,strip_accents='unicode',stop_words=my_stop_words,ngram_range=[1,3],min_df=3,tokenizer=lemma_tokenizer)\n",
    "cvec.fit(X_train)\n",
    "X_train_cv = cvec.transform(X_train)\n",
    "X_test_cv = cvec.transform(X_test)\n",
    "\n",
    "X_train_cv = pd.DataFrame(X_train_cv.A,columns=cvec.get_feature_names_out())\n",
    "X_test_cv = pd.DataFrame(X_test_cv.A,columns=cvec.get_feature_names_out())\n",
    "\n"
   ]
  },
  {
   "cell_type": "code",
   "execution_count": 25,
   "id": "641a5630-1525-4c7f-ac7a-a8ee1ef9e6f0",
   "metadata": {},
   "outputs": [
    {
     "name": "stderr",
     "output_type": "stream",
     "text": [
      "/Users/danielschlant/opt/anaconda3/lib/python3.9/site-packages/sklearn/feature_extraction/text.py:516: UserWarning: The parameter 'token_pattern' will not be used since 'tokenizer' is not None'\n",
      "  warnings.warn(\n"
     ]
    }
   ],
   "source": [
    "tfi = TfidfVectorizer(lowercase=True,strip_accents='unicode',stop_words=my_stop_words,ngram_range=[1,3],min_df=3,tokenizer=lemma_tokenizer)\n",
    "tfi.fit(X_train)\n",
    "X_train_tfi = tfi.transform(X_train)\n",
    "X_test_tfi = tfi.transform(X_test)\n",
    "\n",
    "X_train_tfi = pd.DataFrame(X_train_tfi.A,columns=cvec.get_feature_names_out())\n",
    "X_test_tfi = pd.DataFrame(X_test_tfi.A,columns=cvec.get_feature_names_out())"
   ]
  },
  {
   "cell_type": "markdown",
   "id": "13aec3ac-abb1-4f06-ab1e-0ad1ba94fad3",
   "metadata": {},
   "source": [
    "### Label Encoding Y"
   ]
  },
  {
   "cell_type": "code",
   "execution_count": 26,
   "id": "f9ca4415-36c5-422e-8b48-977404aaa467",
   "metadata": {},
   "outputs": [],
   "source": [
    "le = LabelEncoder()\n",
    "y_train_le = le.fit_transform(y_train)\n",
    "y_test_le = le.transform(y_test)"
   ]
  },
  {
   "cell_type": "markdown",
   "id": "8ecf25ec-09c3-4d4f-8b2a-70267818ec06",
   "metadata": {},
   "source": [
    "### Reviewing Most Frequent Features"
   ]
  },
  {
   "cell_type": "code",
   "execution_count": 28,
   "id": "82237807-58b5-4e48-b491-5b6e7e0ffcb6",
   "metadata": {},
   "outputs": [
    {
     "data": {
      "text/plain": [
       "collapse          1463\n",
       "future            1064\n",
       "''                 604\n",
       "world              540\n",
       "think              540\n",
       "people             464\n",
       "climate            446\n",
       "change             444\n",
       "human              423\n",
       "ai                 342\n",
       "technology         301\n",
       "time               285\n",
       "climate change     276\n",
       "life               264\n",
       "going              259\n",
       "need               257\n",
       "next               224\n",
       "see                223\n",
       "way                191\n",
       "best               190\n",
       "their              184\n",
       "question           183\n",
       "job                183\n",
       "car                182\n",
       "help               176\n",
       "dtype: int64"
      ]
     },
     "execution_count": 28,
     "metadata": {},
     "output_type": "execute_result"
    }
   ],
   "source": [
    "X_train_cv.sum().sort_values(ascending=False).head(25)"
   ]
  },
  {
   "cell_type": "markdown",
   "id": "5b9186dc-b3e6-4cda-8c6a-c4b83c4d9ecb",
   "metadata": {},
   "source": [
    "### Gaussian Naive Bayes"
   ]
  },
  {
   "cell_type": "code",
   "execution_count": 107,
   "id": "bb2b57c6-a44e-41d6-9e50-bb2efe7242f2",
   "metadata": {},
   "outputs": [],
   "source": [
    "gnb = GaussianNB\n",
    "nb = MultinomialNB()"
   ]
  },
  {
   "cell_type": "code",
   "execution_count": 108,
   "id": "bd7adfba-715c-4057-95e9-a8e4f1612ae0",
   "metadata": {},
   "outputs": [
    {
     "data": {
      "text/plain": [
       "(0.8192313652564699, 0.7280966767371602)"
      ]
     },
     "execution_count": 108,
     "metadata": {},
     "output_type": "execute_result"
    }
   ],
   "source": [
    "nb.fit(X_train_cv,y_train_le)\n",
    "nb.score(X_train_cv,y_train_le),nb.score(X_test_cv,y_test_le)"
   ]
  },
  {
   "cell_type": "code",
   "execution_count": 109,
   "id": "2a6a743c-e70a-45d0-95b6-71af0012e720",
   "metadata": {},
   "outputs": [
    {
     "data": {
      "text/plain": [
       "(0.8568882690221602, 0.7346037648152451)"
      ]
     },
     "execution_count": 109,
     "metadata": {},
     "output_type": "execute_result"
    }
   ],
   "source": [
    "gnb.fit(X_train_tfi,y_train_le)\n",
    "gnb.score(X_train_tfi,y_train_le),gnb.score(X_test_tfi,y_test_le)"
   ]
  },
  {
   "cell_type": "markdown",
   "id": "ab256589-4fcf-455c-85bc-173b2b94ca50",
   "metadata": {},
   "source": [
    "### Logistic Regression"
   ]
  },
  {
   "cell_type": "code",
   "execution_count": 30,
   "id": "48a13dc3-a1a8-4d62-a810-7dfe5e7d1c4d",
   "metadata": {},
   "outputs": [
    {
     "data": {
      "text/plain": [
       "(0.9154656748799008, 0.8180339298164072)"
      ]
     },
     "execution_count": 30,
     "metadata": {},
     "output_type": "execute_result"
    }
   ],
   "source": [
    "lr = LogisticRegression(max_iter=10_000)\n",
    "lr.fit(X_train_cvdf,y_train_le)\n",
    "lr.score(X_train_cvdf,y_train_le),lr.score(X_test_cvdf,y_test_le)"
   ]
  },
  {
   "cell_type": "code",
   "execution_count": 31,
   "id": "09952de5-1a18-44fe-9dec-d0291730a335",
   "metadata": {},
   "outputs": [
    {
     "data": {
      "image/png": "[encoded data removed]",
      "text/plain": [
       "<Figure size 432x288 with 2 Axes>"
      ]
     },
     "metadata": {
      "needs_background": "light"
     },
     "output_type": "display_data"
    }
   ],
   "source": [
    "ConfusionMatrixDisplay.from_estimator(lr,X_test_cvdf,y_test_le,cmap='Blues');"
   ]
  },
  {
   "cell_type": "code",
   "execution_count": 32,
   "id": "27b17c5f-abdb-467c-b3a7-2390fcb821df",
   "metadata": {},
   "outputs": [],
   "source": [
    "preds = lr.predict(X_test_cvdf)"
   ]
  },
  {
   "cell_type": "code",
   "execution_count": 33,
   "id": "78a9db1a-108e-41ac-974a-629e06db02f0",
   "metadata": {},
   "outputs": [
    {
     "data": {
      "text/plain": [
       "0.8219240391175802"
      ]
     },
     "execution_count": 33,
     "metadata": {},
     "output_type": "execute_result"
    }
   ],
   "source": [
    "f1_score(y_test_le, preds, pos_label=1)"
   ]
  },
  {
   "cell_type": "markdown",
   "id": "32a1b6cf-bd2a-4a73-b219-4336a402252e",
   "metadata": {},
   "source": [
    "### Logistic"
   ]
  },
  {
   "cell_type": "code",
   "execution_count": 62,
   "id": "d14d6dd2-16d2-4763-9d2c-2deddc6d7852",
   "metadata": {},
   "outputs": [],
   "source": [
    "pipe = Pipeline(\n",
    "    [\n",
    "    ('cv',CountVectorizer(stop_words=my_stop_words,tokenizer=lemma_tokenizer,lowercase=True,strip_accents='unicode')),\n",
    "    ('lr',LogisticRegression(max_iter=10000))   \n",
    "    ])"
   ]
  },
  {
   "cell_type": "code",
   "execution_count": 63,
   "id": "bf2dfa50-1d27-46a7-8e8d-eb80fdcf3a64",
   "metadata": {},
   "outputs": [
    {
     "data": {
      "text/plain": [
       "(0.9472338447233845, 0.8122240297466884)"
      ]
     },
     "execution_count": 63,
     "metadata": {},
     "output_type": "execute_result"
    }
   ],
   "source": [
    "pipe.fit(X_train,y_train_le)\n",
    "pipe.score(X_train,y_train_le),pipe.score(X_test,y_test_le)"
   ]
  },
  {
   "cell_type": "code",
   "execution_count": 64,
   "id": "c9fc824f-c592-4886-a121-737e1544bba0",
   "metadata": {},
   "outputs": [],
   "source": [
    "pipe2 = Pipeline(\n",
    "    [\n",
    "    ('cv',CountVectorizer(stop_words=my_stop_words,lowercase=True,strip_accents='unicode')),\n",
    "    ('lr',LogisticRegression(max_iter=10000))   \n",
    "    ])"
   ]
  },
  {
   "cell_type": "code",
   "execution_count": 65,
   "id": "fa8c7cc6-b97a-453b-8c9e-3fc5777487e2",
   "metadata": {},
   "outputs": [
    {
     "name": "stderr",
     "output_type": "stream",
     "text": [
      "/Users/danielschlant/opt/anaconda3/lib/python3.9/site-packages/sklearn/feature_extraction/text.py:396: UserWarning: Your stop_words may be inconsistent with your preprocessing. Tokenizing the stop words generated tokens ['collapse', 'futurology'] not in stop_words.\n",
      "  warnings.warn(\n"
     ]
    },
    {
     "data": {
      "text/plain": [
       "(0.9515729118239579, 0.8217522658610272)"
      ]
     },
     "execution_count": 65,
     "metadata": {},
     "output_type": "execute_result"
    }
   ],
   "source": [
    "pipe2.fit(X_train,y_train_le)\n",
    "pipe2.score(X_train,y_train_le),pipe2.score(X_test,y_test_le)"
   ]
  },
  {
   "cell_type": "markdown",
   "id": "b749bdff-b43f-45d2-a226-7efc3162f4b9",
   "metadata": {},
   "source": [
    "The model performed better without lemmatizing, this was removed."
   ]
  },
  {
   "cell_type": "code",
   "execution_count": 79,
   "id": "613c9e99-d919-4cb5-ba9c-f4f5967d6704",
   "metadata": {},
   "outputs": [],
   "source": [
    "pipe2_params = {\n",
    "    'cv__ngram_range' : [(1,1), (1,2), (1,3), (2,2), (2,3), (3,3)],\n",
    "    'cv__min_df' : [1, 2, 3],\n",
    "    'cv__max_df': [.7, .8, .9, 1.0],\n",
    "    'lr__C' : [.0001, .001, .01, 0.1, 1, 10, 100, 1000]\n",
    "}"
   ]
  },
  {
   "cell_type": "code",
   "execution_count": 87,
   "id": "e15e72bb-7890-4de3-8632-a359dada73e3",
   "metadata": {},
   "outputs": [],
   "source": [
    "gs2 = GridSearchCV(pipe2,param_grid=pipe2_params)"
   ]
  },
  {
   "cell_type": "code",
   "execution_count": 89,
   "id": "67698da0-1de2-435e-87ec-0c52b90fcc7f",
   "metadata": {},
   "outputs": [
    {
     "data": {
      "text/plain": [
       "(0.9889198822253216, 0.8257029979084359)"
      ]
     },
     "execution_count": 89,
     "metadata": {},
     "output_type": "execute_result"
    }
   ],
   "source": [
    "# gs2.fit(X_train,y_train)\n",
    "# gs2.score(X_train,y_train), gs2.score(X_test,y_test)"
   ]
  },
  {
   "cell_type": "code",
   "execution_count": 92,
   "id": "2f61ca5b-0563-40e6-9bb9-9568d1644db1",
   "metadata": {},
   "outputs": [
    {
     "data": {
      "text/plain": [
       "{'cv__max_df': 0.7, 'cv__min_df': 1, 'cv__ngram_range': (1, 2), 'lr__C': 1}"
      ]
     },
     "execution_count": 92,
     "metadata": {},
     "output_type": "execute_result"
    }
   ],
   "source": [
    "gs2.best_params_"
   ]
  },
  {
   "cell_type": "code",
   "execution_count": null,
   "id": "37016964-2384-4182-9a3a-9aae395c05b4",
   "metadata": {},
   "outputs": [],
   "source": [
    "# gs2.best_params\n",
    "# gs2.best_score\n",
    "# pd.CountVectorizerrame(gs2.cv_results_)\n",
    "# gs1.best_estimator_\n",
    "# gs1.best_estimator_.named_steps\n",
    "# gs1.best_estimator_.named_steps['logisticregression'].coef_\n",
    "# ConfusionMatrixDisplay.from_estimator(gs1,X_test,y_test_encoded);"
   ]
  },
  {
   "cell_type": "code",
   "execution_count": 102,
   "id": "63f2b973-4ba7-4200-b0f7-26f2c781098e",
   "metadata": {},
   "outputs": [],
   "source": [
    "pipe3 = Pipeline(\n",
    "    [\n",
    "    ('tf',TfidfVectorizer(stop_words=my_stop_words,ngram_range=[1,2],max_df=0.7)),\n",
    "    ('lr',LogisticRegression(max_iter=10000))   \n",
    "    ])"
   ]
  },
  {
   "cell_type": "code",
   "execution_count": 103,
   "id": "c336f127-b2fd-4e0e-b0cc-aeedc16c520f",
   "metadata": {},
   "outputs": [
    {
     "data": {
      "text/plain": [
       "(0.9593987292732062, 0.8391819660701836)"
      ]
     },
     "execution_count": 103,
     "metadata": {},
     "output_type": "execute_result"
    }
   ],
   "source": [
    "pipe3.fit(X_train,y_train_le)\n",
    "pipe3.score(X_train,y_train_le),pipe3.score(X_test,y_test_le)"
   ]
  },
  {
   "cell_type": "code",
   "execution_count": 114,
   "id": "356993e9-44df-428c-95b6-168eea06bbe1",
   "metadata": {},
   "outputs": [],
   "source": [
    "pipe3_params = {\n",
    "    'tf__max_df': [.4, .5, .6, .7]\n",
    "}"
   ]
  },
  {
   "cell_type": "code",
   "execution_count": 115,
   "id": "b5be15ec-06d6-41dc-9abd-143b326ecef5",
   "metadata": {},
   "outputs": [],
   "source": [
    "gs3 = GridSearchCV(pipe3,param_grid=pipe3_params)"
   ]
  },
  {
   "cell_type": "code",
   "execution_count": 116,
   "id": "5d7d6a2e-4c1c-4092-98d2-7153e282faf9",
   "metadata": {},
   "outputs": [
    {
     "data": {
      "text/plain": [
       "(0.9593987292732062, 0.8391819660701836)"
      ]
     },
     "execution_count": 116,
     "metadata": {},
     "output_type": "execute_result"
    }
   ],
   "source": [
    "gs3.fit(X_train,y_train)\n",
    "gs3.score(X_train,y_train), gs3.score(X_test,y_test)"
   ]
  },
  {
   "cell_type": "code",
   "execution_count": 118,
   "id": "13825f11-3fab-4ec8-852a-4a76f3f7a5b9",
   "metadata": {},
   "outputs": [
    {
     "data": {
      "text/plain": [
       "{'tf__max_df': 0.4}"
      ]
     },
     "execution_count": 118,
     "metadata": {},
     "output_type": "execute_result"
    }
   ],
   "source": [
    "gs3.best_params_"
   ]
  },
  {
   "cell_type": "code",
   "execution_count": 104,
   "id": "c6655b6f-055f-4422-b739-7d646c0f8d33",
   "metadata": {
    "tags": []
   },
   "outputs": [
    {
     "data": {
      "image/png": "[encoded data removed]",
      "text/plain": [
       "<Figure size 432x288 with 2 Axes>"
      ]
     },
     "metadata": {
      "needs_background": "light"
     },
     "output_type": "display_data"
    }
   ],
   "source": [
    "ConfusionMatrixDisplay.from_estimator(pipe3,X_test,y_test_le,cmap='Blues');"
   ]
  },
  {
   "cell_type": "markdown",
   "id": "31bad8db-4fd1-46e1-961b-91a12fbd6625",
   "metadata": {},
   "source": [
    "### KNN Model"
   ]
  },
  {
   "cell_type": "code",
   "execution_count": 123,
   "id": "da1e2647-b277-4ebe-88a2-24dd301db300",
   "metadata": {},
   "outputs": [],
   "source": [
    "pipe4 = Pipeline(\n",
    "    [\n",
    "    ('cv',CountVectorizer(stop_words=my_stop_words,ngram_range=[1,2],max_df=0.7)),\n",
    "    ('knc', KNeighborsClassifier())\n",
    "    ])"
   ]
  },
  {
   "cell_type": "code",
   "execution_count": 124,
   "id": "3764c91e-1846-41ba-9e27-98f238c714c4",
   "metadata": {},
   "outputs": [
    {
     "data": {
      "text/plain": [
       "(0.7272586393925307, 0.6295607715547292)"
      ]
     },
     "execution_count": 124,
     "metadata": {},
     "output_type": "execute_result"
    }
   ],
   "source": [
    "pipe4.fit(X_train,y_train_le)\n",
    "pipe4.score(X_train,y_train_le),pipe4.score(X_test,y_test_le)"
   ]
  },
  {
   "cell_type": "code",
   "execution_count": 127,
   "id": "ce0088b5-8901-4649-9431-0114d6619fde",
   "metadata": {},
   "outputs": [],
   "source": [
    "pipe5 = Pipeline(\n",
    "    [\n",
    "    ('tf',TfidfVectorizer(stop_words=my_stop_words,ngram_range=[1,2],max_df=0.7)),\n",
    "    ('knc', KNeighborsClassifier())\n",
    "    ])"
   ]
  },
  {
   "cell_type": "code",
   "execution_count": 128,
   "id": "f21af136-20dc-4e17-a4f3-06bde69f92a9",
   "metadata": {},
   "outputs": [
    {
     "data": {
      "text/plain": [
       "(0.6218038121803812, 0.5326516383918196)"
      ]
     },
     "execution_count": 128,
     "metadata": {},
     "output_type": "execute_result"
    }
   ],
   "source": [
    "pipe5.fit(X_train,y_train_le)\n",
    "pipe5.score(X_train,y_train_le),pipe5.score(X_test,y_test_le)"
   ]
  },
  {
   "cell_type": "code",
   "execution_count": 147,
   "id": "71e3f90a-05fc-4de4-acba-315c45a4a924",
   "metadata": {},
   "outputs": [],
   "source": [
    "pipe4_params = {\n",
    "    'knc__n_neighbors': [3, 5, 7, 9],\n",
    "    'knc__weights' : ['uniform','distance']\n",
    "}"
   ]
  },
  {
   "cell_type": "code",
   "execution_count": 148,
   "id": "13a05e00-bec6-4a47-89df-f54d6fa82e44",
   "metadata": {},
   "outputs": [],
   "source": [
    "gs4 = GridSearchCV(pipe4,param_grid=pipe5_params)"
   ]
  },
  {
   "cell_type": "code",
   "execution_count": 149,
   "id": "af20eade-f8f5-489f-8214-944ab9b833e5",
   "metadata": {},
   "outputs": [
    {
     "data": {
      "text/plain": [
       "(0.998372849837285, 0.6762723681152684)"
      ]
     },
     "execution_count": 149,
     "metadata": {},
     "output_type": "execute_result"
    }
   ],
   "source": [
    "gs4.fit(X_train,y_train_le)\n",
    "gs4.score(X_train,y_train_le),gs4.score(X_test,y_test_le)"
   ]
  },
  {
   "cell_type": "code",
   "execution_count": 150,
   "id": "612d515a-6038-45f9-964d-ad25627b2fe8",
   "metadata": {},
   "outputs": [
    {
     "data": {
      "text/plain": [
       "{'knc__n_neighbors': 3, 'knc__weights': 'distance'}"
      ]
     },
     "execution_count": 150,
     "metadata": {},
     "output_type": "execute_result"
    }
   ],
   "source": [
    "gs4.best_params_"
   ]
  },
  {
   "cell_type": "markdown",
   "id": "cc848c84-23e2-4017-a44a-47e0c85ac4c0",
   "metadata": {},
   "source": [
    "### Decision Tree Classifier"
   ]
  },
  {
   "cell_type": "code",
   "execution_count": null,
   "id": "0b2bf491-88e3-436b-829a-6b6ca277a0e9",
   "metadata": {},
   "outputs": [],
   "source": [
    "tree = DecisionTreeClassifier(random_state=42,max_depth=3)"
   ]
  },
  {
   "cell_type": "code",
   "execution_count": 151,
   "id": "3cd71956-3c4f-4788-9c0b-8cfb1176e7d3",
   "metadata": {},
   "outputs": [],
   "source": [
    "pipe6 = Pipeline(\n",
    "    [\n",
    "    ('cv',CountVectorizer(stop_words=my_stop_words,ngram_range=[1,2],max_df=0.7)),\n",
    "    ('dtc', DecisionTreeClassifier(random_state=42,max_depth=3))\n",
    "    ])"
   ]
  },
  {
   "cell_type": "code",
   "execution_count": 152,
   "id": "d875098d-e6ed-49dc-a7b8-7f0a28a00b67",
   "metadata": {},
   "outputs": [
    {
     "data": {
      "text/plain": [
       "(0.6135130946846428, 0.6174761794097141)"
      ]
     },
     "execution_count": 152,
     "metadata": {},
     "output_type": "execute_result"
    }
   ],
   "source": [
    "pipe6.fit(X_train,y_train_le)\n",
    "pipe6.score(X_train,y_train_le),pipe6.score(X_test,y_test_le)"
   ]
  },
  {
   "cell_type": "code",
   "execution_count": 154,
   "id": "fe4e0d2f-b40c-4320-995a-92a4502eba7b",
   "metadata": {},
   "outputs": [],
   "source": [
    "pipe6_params = {\n",
    "    'dtc__max_depth': range(1,11)\n",
    "}"
   ]
  },
  {
   "cell_type": "code",
   "execution_count": 155,
   "id": "18fa8f33-54c4-4076-a694-a974c562cfc1",
   "metadata": {},
   "outputs": [],
   "source": [
    "gs6 = GridSearchCV(pipe6,param_grid=pipe6_params)"
   ]
  },
  {
   "cell_type": "code",
   "execution_count": 156,
   "id": "4e139762-c793-4a6c-abbf-7165cdc67162",
   "metadata": {},
   "outputs": [
    {
     "data": {
      "text/plain": [
       "(0.6365256469858981, 0.6367650476411806)"
      ]
     },
     "execution_count": 156,
     "metadata": {},
     "output_type": "execute_result"
    }
   ],
   "source": [
    "gs6.fit(X_train,y_train_le)\n",
    "gs6.score(X_train,y_train_le),gs6.score(X_test,y_test_le)"
   ]
  },
  {
   "cell_type": "code",
   "execution_count": 157,
   "id": "cf4922b9-f155-4d8c-8c33-dface5c0fea3",
   "metadata": {},
   "outputs": [
    {
     "data": {
      "text/plain": [
       "{'dtc__max_depth': 7}"
      ]
     },
     "execution_count": 157,
     "metadata": {},
     "output_type": "execute_result"
    }
   ],
   "source": [
    "gs6.best_params_"
   ]
  },
  {
   "cell_type": "code",
   "execution_count": 158,
   "id": "e2a7be85-3124-4647-9445-b4caf9342771",
   "metadata": {},
   "outputs": [],
   "source": [
    "pipe7 = Pipeline(\n",
    "    [\n",
    "    ('cv',CountVectorizer(stop_words=my_stop_words,ngram_range=[1,2],max_df=0.7)),\n",
    "    ('dtc', DecisionTreeClassifier(random_state=42,max_depth=7))\n",
    "    ])"
   ]
  },
  {
   "cell_type": "code",
   "execution_count": 159,
   "id": "3db6f9fa-bce4-44e2-bfcb-79310a8c72df",
   "metadata": {},
   "outputs": [
    {
     "data": {
      "text/plain": [
       "(0.6365256469858981, 0.6367650476411806)"
      ]
     },
     "execution_count": 159,
     "metadata": {},
     "output_type": "execute_result"
    }
   ],
   "source": [
    "pipe7.fit(X_train,y_train_le)\n",
    "pipe7.score(X_train,y_train_le),pipe7.score(X_test,y_test_le)"
   ]
  },
  {
   "cell_type": "code",
   "execution_count": 161,
   "id": "2b6ab15c-1671-4625-aaa0-addbfc8a8bbe",
   "metadata": {},
   "outputs": [],
   "source": [
    "pipe8 = Pipeline(\n",
    "    [\n",
    "    ('tf',TfidfVectorizer(stop_words=my_stop_words,ngram_range=[1,2],max_df=0.7)),\n",
    "    ('dtc', DecisionTreeClassifier(random_state=42,max_depth=7))\n",
    "    ])"
   ]
  },
  {
   "cell_type": "code",
   "execution_count": 162,
   "id": "1d08a625-1cd5-48fb-b097-2da6d171a51d",
   "metadata": {},
   "outputs": [
    {
     "data": {
      "text/plain": [
       "(0.6366806136680614, 0.6369974436439694)"
      ]
     },
     "execution_count": 162,
     "metadata": {},
     "output_type": "execute_result"
    }
   ],
   "source": [
    "pipe8.fit(X_train,y_train_le)\n",
    "pipe8.score(X_train,y_train_le),pipe8.score(X_test,y_test_le)"
   ]
  },
  {
   "cell_type": "markdown",
   "id": "e811a763-7e11-4c23-8e2b-290aeba0bb69",
   "metadata": {},
   "source": [
    "### Random Forest"
   ]
  },
  {
   "cell_type": "code",
   "execution_count": 165,
   "id": "95497b03-bc06-4f95-a796-0f9be61c99ef",
   "metadata": {},
   "outputs": [],
   "source": [
    "pipe9 = Pipeline(\n",
    "    [\n",
    "    ('cv',CountVectorizer(stop_words=my_stop_words,ngram_range=[1,2],max_df=0.7)),\n",
    "    ('rfc', RandomForestClassifier(random_state=42))\n",
    "    ])"
   ]
  },
  {
   "cell_type": "code",
   "execution_count": 166,
   "id": "4345810c-1655-4da2-b205-3a78b7c8de12",
   "metadata": {},
   "outputs": [
    {
     "data": {
      "text/plain": [
       "(0.9988377498837749, 0.7964211015570533)"
      ]
     },
     "execution_count": 166,
     "metadata": {},
     "output_type": "execute_result"
    }
   ],
   "source": [
    "pipe9.fit(X_train,y_train_le)\n",
    "pipe9.score(X_train,y_train_le),pipe9.score(X_test,y_test_le)"
   ]
  },
  {
   "cell_type": "code",
   "execution_count": 168,
   "id": "93d9dcbe-de73-4fcb-8a37-1bd9ca9ab77d",
   "metadata": {},
   "outputs": [],
   "source": [
    "pipe9_params = {\n",
    "    'rfc__max_depth': [None,5,7,10,12,15],\n",
    "    'rfc__n_estimators' : [50,100,150,200],\n",
    "    'rfc__min_samples_split': [2,3,4]\n",
    "}"
   ]
  },
  {
   "cell_type": "code",
   "execution_count": 169,
   "id": "eebf121e-b552-4805-a906-5f4210746766",
   "metadata": {},
   "outputs": [],
   "source": [
    "gs9 = GridSearchCV(pipe9,param_grid=pipe9_params)"
   ]
  },
  {
   "cell_type": "code",
   "execution_count": 170,
   "id": "c6a2efd7-ef1b-4b36-b5c0-e9eb92296649",
   "metadata": {},
   "outputs": [
    {
     "data": {
      "text/plain": [
       "(0.9971331163799783, 0.7982802695793633)"
      ]
     },
     "execution_count": 170,
     "metadata": {},
     "output_type": "execute_result"
    }
   ],
   "source": [
    "gs9.fit(X_train,y_train_le)\n",
    "gs9.score(X_train,y_train_le),gs9.score(X_test,y_test_le)"
   ]
  },
  {
   "cell_type": "code",
   "execution_count": 172,
   "id": "8d5e9cec-ba8b-4885-a0c1-6c138982df81",
   "metadata": {},
   "outputs": [
    {
     "data": {
      "text/plain": [
       "{'rfc__max_depth': None, 'rfc__min_samples_split': 4, 'rfc__n_estimators': 200}"
      ]
     },
     "execution_count": 172,
     "metadata": {},
     "output_type": "execute_result"
    }
   ],
   "source": [
    "gs9.best_params_"
   ]
  },
  {
   "cell_type": "code",
   "execution_count": 175,
   "id": "32e64414-5ec6-498b-8947-2a20e16cfcdb",
   "metadata": {},
   "outputs": [],
   "source": [
    "pipe10 = Pipeline(\n",
    "    [\n",
    "    ('tf',TfidfVectorizer(stop_words=my_stop_words,ngram_range=[1,2],max_df=0.7)),\n",
    "    ('rfc', RandomForestClassifier(random_state=42,min_samples_split=4,n_estimators=200))\n",
    "    ])"
   ]
  },
  {
   "cell_type": "code",
   "execution_count": 176,
   "id": "3c879399-8f14-4966-8599-8469bcbee57f",
   "metadata": {},
   "outputs": [
    {
     "data": {
      "text/plain": [
       "(0.998372849837285, 0.7987450615849407)"
      ]
     },
     "execution_count": 176,
     "metadata": {},
     "output_type": "execute_result"
    }
   ],
   "source": [
    "pipe10.fit(X_train,y_train_le)\n",
    "pipe10.score(X_train,y_train_le),pipe10.score(X_test,y_test_le)"
   ]
  },
  {
   "cell_type": "markdown",
   "id": "f7634ce4-15fe-43c5-981f-a0e584d41915",
   "metadata": {},
   "source": [
    "### Ensemble Analysis"
   ]
  },
  {
   "cell_type": "code",
   "execution_count": null,
   "id": "faf65e07-b125-4923-b45b-99dce5e73b02",
   "metadata": {},
   "outputs": [],
   "source": [
    "# ctx1 = ColumnTransformer(\n",
    "#     ('cv',CountVectorizer(stop_words=my_stop_words,ngram_range=[1,2],max_df=0.7),['title']),\n",
    "#     remainder='passthrough'\n",
    "# )\n",
    "\n",
    "# ctx2 = ColumnTransformer(\n",
    "#     ('tfi',TfidfVectorizer(stop_words=my_stop_words,ngram_range=[1,2],max_df=0.7),['title']),\n",
    "#     remainder='passthrough'\n",
    "# )\n",
    "\n",
    "# pipe11 = Pipeline([\n",
    "#     ('ct',ctx1),\n",
    "#     ('vc',vr1)\n",
    "# ]\n",
    "# )"
   ]
  },
  {
   "cell_type": "code",
   "execution_count": 192,
   "id": "b3a917aa-06c4-4c7d-a22a-8077ec1e237b",
   "metadata": {},
   "outputs": [],
   "source": [
    "vr1 = VotingClassifier(\n",
    "    [('lr',LogisticRegression(max_iter=10000)),\n",
    "     ('knn',KNeighborsClassifier(n_neighbors=3)),\n",
    "     ('rfc', RandomForestClassifier(random_state=42,min_samples_split=4,n_estimators=200))   \n",
    "    ])"
   ]
  },
  {
   "cell_type": "code",
   "execution_count": 197,
   "id": "32397a04-5eb8-4fc1-b441-00368bb1ec55",
   "metadata": {},
   "outputs": [
    {
     "data": {
      "text/plain": [
       "(0.9600960793429413, 0.7989774575877295)"
      ]
     },
     "execution_count": 197,
     "metadata": {},
     "output_type": "execute_result"
    }
   ],
   "source": [
    "vr1.fit(X_train_cv,y_train_le)\n",
    "vr1.score(X_train_cv,y_train_le),vr1.score(X_test_cv,y_test_le)"
   ]
  },
  {
   "cell_type": "code",
   "execution_count": 199,
   "id": "598cdb4a-8350-4de0-9408-a8ed5921a363",
   "metadata": {},
   "outputs": [],
   "source": [
    "vr2 = VotingClassifier(\n",
    "    [('lr',LogisticRegression(max_iter=10000)),\n",
    "     ('knn',KNeighborsClassifier(n_neighbors=3)),\n",
    "     ('mnb', MultinomialNB())   \n",
    "    ])"
   ]
  },
  {
   "cell_type": "code",
   "execution_count": 200,
   "id": "08ef7279-eb3e-4b8a-9f33-9d82d217136d",
   "metadata": {},
   "outputs": [
    {
     "data": {
      "text/plain": [
       "(0.9107391910739191, 0.8145479897745759)"
      ]
     },
     "execution_count": 200,
     "metadata": {},
     "output_type": "execute_result"
    }
   ],
   "source": [
    "vr2.fit(X_train_cv,y_train_le)\n",
    "vr2.score(X_train_cv,y_train_le),vr2.score(X_test_cv,y_test_le)"
   ]
  },
  {
   "cell_type": "code",
   "execution_count": 206,
   "id": "6bdd4c6f-9549-479e-b1c6-c3129e3ee38e",
   "metadata": {},
   "outputs": [],
   "source": [
    "vr3 = VotingClassifier(\n",
    "    [('lr',LogisticRegression(max_iter=10000)),\n",
    "     ('knn',KNeighborsClassifier(n_neighbors=3)),\n",
    "     ('mnb', MultinomialNB()),\n",
    "     ('rfc', RandomForestClassifier(random_state=42,min_samples_split=4,n_estimators=200)),\n",
    "     ('dtc', DecisionTreeClassifier(random_state=42,max_depth=7))\n",
    "      ])"
   ]
  },
  {
   "cell_type": "code",
   "execution_count": 207,
   "id": "7e461ac6-9713-4f69-80ab-879c4f77577d",
   "metadata": {},
   "outputs": [
    {
     "data": {
      "text/plain": [
       "(0.9384007438400744, 0.8052521496630258)"
      ]
     },
     "execution_count": 207,
     "metadata": {},
     "output_type": "execute_result"
    }
   ],
   "source": [
    "vr3.fit(X_train_cv,y_train_le)\n",
    "vr3.score(X_train_cv,y_train_le),vr3.score(X_test_cv,y_test_le)"
   ]
  },
  {
   "cell_type": "code",
   "execution_count": 208,
   "id": "31160840-ae03-4ef8-80d9-f61a0725004a",
   "metadata": {},
   "outputs": [],
   "source": [
    "vr4 = VotingClassifier(\n",
    "    [('lr',LogisticRegression(max_iter=10000)),\n",
    "     ('knn',KNeighborsClassifier(n_neighbors=3)),\n",
    "     ('mnb', MultinomialNB()),\n",
    "     ('rfc', RandomForestClassifier(random_state=42,min_samples_split=4,n_estimators=200)),\n",
    "      ])"
   ]
  },
  {
   "cell_type": "code",
   "execution_count": 209,
   "id": "3b8df65b-0ca6-493e-b7a1-85899ff92d5a",
   "metadata": {},
   "outputs": [
    {
     "data": {
      "text/plain": [
       "(0.9388656438865643, 0.8052521496630258)"
      ]
     },
     "execution_count": 209,
     "metadata": {},
     "output_type": "execute_result"
    }
   ],
   "source": [
    "vr4.fit(X_train_cv,y_train_le)\n",
    "vr4.score(X_train_cv,y_train_le),vr4.score(X_test_cv,y_test_le)"
   ]
  },
  {
   "cell_type": "code",
   "execution_count": 210,
   "id": "75034f14-ed12-4700-a5cb-d0625a0d9bb1",
   "metadata": {},
   "outputs": [],
   "source": [
    "vr5 = VotingClassifier(\n",
    "    [('lr',LogisticRegression(max_iter=10000)),\n",
    "     ('mnb', MultinomialNB()),\n",
    "     ('rfc', RandomForestClassifier(random_state=42,min_samples_split=4,n_estimators=200)),\n",
    "      ])"
   ]
  },
  {
   "cell_type": "code",
   "execution_count": 211,
   "id": "78161926-1876-4d50-b20c-29e3d9bea844",
   "metadata": {},
   "outputs": [
    {
     "data": {
      "text/plain": [
       "(0.9236014256934759, 0.8124564257494771)"
      ]
     },
     "execution_count": 211,
     "metadata": {},
     "output_type": "execute_result"
    }
   ],
   "source": [
    "vr5.fit(X_train_cv,y_train_le)\n",
    "vr5.score(X_train_cv,y_train_le),vr5.score(X_test_cv,y_test_le)"
   ]
  },
  {
   "cell_type": "code",
   "execution_count": 212,
   "id": "bda57cb3-301a-4679-a5be-fc3fe6f63230",
   "metadata": {},
   "outputs": [],
   "source": [
    "vr6 = VotingClassifier(\n",
    "    [('knn',KNeighborsClassifier(n_neighbors=3)),\n",
    "     ('mnb', MultinomialNB()),\n",
    "     ('rfc', RandomForestClassifier(random_state=42,min_samples_split=4,n_estimators=200)),\n",
    "      ])"
   ]
  },
  {
   "cell_type": "code",
   "execution_count": 213,
   "id": "2b68da15-ebb0-41bd-a781-3ae8aa045bae",
   "metadata": {},
   "outputs": [
    {
     "data": {
      "text/plain": [
       "(0.9523477452347745, 0.8001394376016733)"
      ]
     },
     "execution_count": 213,
     "metadata": {},
     "output_type": "execute_result"
    }
   ],
   "source": [
    "vr6.fit(X_train_cv,y_train_le)\n",
    "vr6.score(X_train_cv,y_train_le),vr6.score(X_test_cv,y_test_le)"
   ]
  },
  {
   "cell_type": "markdown",
   "id": "1edcb2bc-4d3a-4ecd-88e6-57cb6b3dabed",
   "metadata": {},
   "source": [
    "### Checking top performing enseble with TFI-DF"
   ]
  },
  {
   "cell_type": "code",
   "execution_count": 214,
   "id": "d9affc00-34d6-4b3f-bd72-9a3766fe7238",
   "metadata": {},
   "outputs": [],
   "source": [
    "vr7 = VotingClassifier(\n",
    "    [('lr',LogisticRegression(max_iter=10000)),\n",
    "     ('knn',KNeighborsClassifier(n_neighbors=3)),\n",
    "     ('mnb', MultinomialNB())   \n",
    "    ])"
   ]
  },
  {
   "cell_type": "code",
   "execution_count": 215,
   "id": "3e62981d-f0cb-41c6-a7be-b094e7013377",
   "metadata": {},
   "outputs": [
    {
     "data": {
      "text/plain": [
       "(0.8990392065705873, 0.8085056937020684)"
      ]
     },
     "execution_count": 215,
     "metadata": {},
     "output_type": "execute_result"
    }
   ],
   "source": [
    "vr7.fit(X_train_tfi,y_train_le)\n",
    "vr7.score(X_train_tfi,y_train_le),vr7.score(X_test_tfi,y_test_le)"
   ]
  },
  {
   "cell_type": "code",
   "execution_count": null,
   "id": "4557602e-5b8f-406b-89b6-7cf769b6a08e",
   "metadata": {},
   "outputs": [],
   "source": []
  },
  {
   "cell_type": "code",
   "execution_count": null,
   "id": "0c82e7a5-caf4-48af-a298-eb1af3232cbe",
   "metadata": {},
   "outputs": [],
   "source": []
  },
  {
   "cell_type": "code",
   "execution_count": null,
   "id": "476e40fa-bfa7-4acc-bdff-ec8a5e40edb6",
   "metadata": {},
   "outputs": [],
   "source": []
  },
  {
   "cell_type": "code",
   "execution_count": null,
   "id": "99f4b6f2-0ae7-4ef7-85b2-bc8a88758466",
   "metadata": {},
   "outputs": [],
   "source": []
  },
  {
   "cell_type": "code",
   "execution_count": null,
   "id": "e5e6b077-dd42-45ea-96dc-a60a4494cdee",
   "metadata": {},
   "outputs": [],
   "source": []
  },
  {
   "cell_type": "code",
   "execution_count": null,
   "id": "ce0128a9-18d1-4f03-9d89-533d4451ea5d",
   "metadata": {},
   "outputs": [],
   "source": [
    "coef_df = pd.DataFrame(lr.coef_[0],index=cvec.get_feature_names_out(),columns=['coef_val'])"
   ]
  },
  {
   "cell_type": "code",
   "execution_count": null,
   "id": "e71b0de4-726c-45c0-83ef-c315727f2bf8",
   "metadata": {},
   "outputs": [],
   "source": [
    "coef_df.sort_values(by='coef_val').tail(50)"
   ]
  },
  {
   "cell_type": "code",
   "execution_count": null,
   "id": "27786863-1929-4c16-b014-2d3c16c49c05",
   "metadata": {},
   "outputs": [],
   "source": [
    "coef_df.sort_values(by='coef_val').head(50)"
   ]
  },
  {
   "cell_type": "code",
   "execution_count": null,
   "id": "5a67a790-e411-460e-a153-c371b2d9a35a",
   "metadata": {},
   "outputs": [],
   "source": [
    "params = {\n",
    "    'max_depth' : range(2,9)\n",
    "}\n",
    "\n",
    "gs = GridSearchCV(DecisionTreeClassifier(),params)\n",
    "gs.fit(X_train_cvdf,y_train_le)\n",
    "gs.score(X_train_cvdf,y_train_le), gs.score(X_test_cvdf,y_test_le)"
   ]
  },
  {
   "cell_type": "code",
   "execution_count": null,
   "id": "f8df8af6-309d-4dfe-aece-ae4072428e9d",
   "metadata": {},
   "outputs": [],
   "source": [
    "gs.best_estimator_"
   ]
  },
  {
   "cell_type": "code",
   "execution_count": null,
   "id": "9294918c-3a72-4ba2-8da1-d3f43de11d2c",
   "metadata": {},
   "outputs": [],
   "source": [
    "gs.best_estimator_.feature_importances_"
   ]
  },
  {
   "cell_type": "code",
   "execution_count": null,
   "id": "205b98f4-2861-4bf3-b37f-51fd9fcd12bd",
   "metadata": {
    "tags": []
   },
   "outputs": [],
   "source": [
    "gs_df = pd.DataFrame(gs.best_estimator_.feature_importances_,index=X_test_cvdf.columns,columns=['feature imps'])"
   ]
  },
  {
   "cell_type": "code",
   "execution_count": null,
   "id": "f8e4253b-b258-44eb-9192-4dff982aca5d",
   "metadata": {},
   "outputs": [],
   "source": [
    "gs_df.sort_values(by='feature imps',ascending=False).head(50)"
   ]
  },
  {
   "cell_type": "code",
   "execution_count": null,
   "id": "71444ffa-6535-401c-bfdd-dc697e37cac5",
   "metadata": {},
   "outputs": [],
   "source": []
  },
  {
   "cell_type": "code",
   "execution_count": null,
   "id": "e769761a-0128-4197-a5bd-d0e00d64eea4",
   "metadata": {},
   "outputs": [],
   "source": [
    "balanced_accuracy_score(y_test_encoded,dc.predict(X_test))"
   ]
  },
  {
   "cell_type": "code",
   "execution_count": null,
   "id": "8ef976cd-bb2c-41a7-a0f6-ad909f15f85d",
   "metadata": {},
   "outputs": [],
   "source": []
  },
  {
   "cell_type": "code",
   "execution_count": null,
   "id": "f45765d4-22d8-4e63-8a36-5409efdf49ad",
   "metadata": {},
   "outputs": [],
   "source": []
  },
  {
   "cell_type": "code",
   "execution_count": null,
   "id": "79d52e22-3f6b-4205-b9d6-ac19c05add2b",
   "metadata": {},
   "outputs": [],
   "source": []
  },
  {
   "cell_type": "code",
   "execution_count": null,
   "id": "2452f672-fe80-4202-be66-e1cf2f290d65",
   "metadata": {},
   "outputs": [],
   "source": [
    "dtc.feature_importances_"
   ]
  },
  {
   "cell_type": "code",
   "execution_count": null,
   "id": "41d92246-8e0c-45ed-ad44-41a5262b1d0d",
   "metadata": {},
   "outputs": [],
   "source": [
    "ConfusionMatrixDisplay.from_estimator(dtc,X_test_cvdf,y_test_le)"
   ]
  },
  {
   "cell_type": "code",
   "execution_count": null,
   "id": "92b18b35-de6d-4b9b-a8a1-0a3502cb0905",
   "metadata": {},
   "outputs": [],
   "source": []
  },
  {
   "cell_type": "code",
   "execution_count": null,
   "id": "8f7d01e3-6bce-4e25-8624-b0ed556d0edb",
   "metadata": {},
   "outputs": [],
   "source": []
  }
 ],
 "metadata": {
  "kernelspec": {
   "display_name": "Python 3 (ipykernel)",
   "language": "python",
   "name": "python3"
  },
  "language_info": {
   "codemirror_mode": {
    "name": "ipython",
    "version": 3
   },
   "file_extension": ".py",
   "mimetype": "text/x-python",
   "name": "python",
   "nbconvert_exporter": "python",
   "pygments_lexer": "ipython3",
   "version": "3.9.7"
  }
 },
 "nbformat": 4,
 "nbformat_minor": 5
}
