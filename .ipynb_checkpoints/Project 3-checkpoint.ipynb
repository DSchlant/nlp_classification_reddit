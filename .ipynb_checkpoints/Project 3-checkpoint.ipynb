{
 "cells": [
  {
   "cell_type": "code",
   "execution_count": 1,
   "id": "53125333-f5e1-4abf-bee0-a4b632659663",
   "metadata": {},
   "outputs": [],
   "source": [
    "import requests\n",
    "import time\n",
    "import pandas as pd\n",
    "from bs4 import BeautifulSoup\n",
    "from sklearn.feature_extraction.text import CountVectorizer, TfidfVectorizer\n",
    "from sklearn.model_selection import train_test_split, GridSearchCV\n",
    "from sklearn.linear_model import LogisticRegression\n",
    "from sklearn.pipeline import Pipeline\n",
    "from sklearn.metrics import ConfusionMatrixDisplay, f1_score, precision_score,recall_score\n",
    "import nltk\n",
    "from nltk import word_tokenize\n",
    "from nltk.stem import WordNetLemmatizer\n",
    "from sklearn.dummy import DummyClassifier, DummyRegressor\n",
    "from sklearn.preprocessing import LabelEncoder\n",
    "from sklearn.neighbors import KNeighborsClassifier, KNeighborsRegressor\n",
    "from sklearn.tree import plot_tree, DecisionTreeClassifier\n",
    "from sklearn.ensemble import VotingRegressor\n",
    "from sklearn.ensemble import VotingClassifier\n",
    "from sklearn.preprocessing import StandardScaler\n",
    "from sklearn.naive_bayes import GaussianNB, MultinomialNB\n",
    "from sklearn.ensemble import ExtraTreesClassifier, RandomForestClassifier\n",
    "import warnings\n",
    "from sklearn.ensemble import ExtraTreesClassifier\n",
    "from sklearn.ensemble import RandomForestClassifier\n",
    "from sklearn. compose import ColumnTransformer\n",
    "import numpy as np\n",
    "from sklearn.ensemble import AdaBoostClassifier"
   ]
  },
  {
   "cell_type": "code",
   "execution_count": 2,
   "id": "31f41fca-b1f5-4808-8cd7-da926305e7d6",
   "metadata": {},
   "outputs": [],
   "source": [
    "warnings.filterwarnings('ignore')"
   ]
  },
  {
   "cell_type": "code",
   "execution_count": 3,
   "id": "68f6af72-4e9e-4fa2-8571-78e47edd9e96",
   "metadata": {},
   "outputs": [],
   "source": [
    "base_url = 'https://api.pushshift.io/reddit/search/'"
   ]
  },
  {
   "cell_type": "code",
   "execution_count": 4,
   "id": "bff38a20-2e64-4fe8-b25a-7afd86ca6436",
   "metadata": {},
   "outputs": [],
   "source": [
    "pd.set_option('display.max_columns', None)\n",
    "#pd.set_option('display.max_rows', None)"
   ]
  },
  {
   "cell_type": "markdown",
   "id": "254c3b50-fa45-4ef0-9588-40735895d6fd",
   "metadata": {},
   "source": [
    "### Pulling in Posts from Reddit Pushshift API"
   ]
  },
  {
   "cell_type": "code",
   "execution_count": 5,
   "id": "62d1b7ee-e9e9-4d76-853e-4bf089a0cf61",
   "metadata": {},
   "outputs": [],
   "source": [
    "def pull_posts(base_url,subreddit,length):\n",
    "    data_pulls = pd.DataFrame()\n",
    "    before = 1650821963\n",
    "    for i in range(length):\n",
    "        parameters = {'subreddit': subreddit,\n",
    "                  'size': 100,\n",
    "                  'is_self' : True,\n",
    "                  'before': before}\n",
    "        try:\n",
    "            response = requests.get(base_url+'submission/',parameters)\n",
    "            if response.status_code != 200:\n",
    "                print('request failed')\n",
    "            else:\n",
    "                data = response.json()\n",
    "                posts = data['data']\n",
    "                posts = pd.DataFrame(posts)\n",
    "                data_pulls = pd.concat([data_pulls,posts])\n",
    "                time.sleep(5)\n",
    "                before = data_pulls['created_utc'].iloc[-1]\n",
    "        except:\n",
    "            print(\"Exception: {}\".format(type(exception).__name__))\n",
    "            print(\"Exception message: {}\".format(exception))\n",
    "            time.sleep(15)\n",
    "    return data_pulls\n",
    "\n",
    "#futurology_pulls = pull_posts(base_url,'futurology',289)\n",
    "#futurology_pulls.to_csv('futurology_pull.csv',index=False)\n",
    "\n",
    "#collapse_pulls = pull_posts(base_url,'collapse',288)\n",
    "#collapse_pulls.to_csv('collapse_pull.csv',index=False)"
   ]
  },
  {
   "cell_type": "code",
   "execution_count": 6,
   "id": "81337711-04f8-43e2-9491-83523587c0ba",
   "metadata": {},
   "outputs": [],
   "source": [
    "df_fut = pd.read_csv('futurology_pull.csv')\n",
    "df_col = pd.read_csv('collapse_pull.csv')"
   ]
  },
  {
   "cell_type": "code",
   "execution_count": 7,
   "id": "c0470f1e-f57d-445c-b5e9-f90e343d97ed",
   "metadata": {},
   "outputs": [
    {
     "data": {
      "text/plain": [
       "(28741, 28876)"
      ]
     },
     "execution_count": 7,
     "metadata": {},
     "output_type": "execute_result"
    }
   ],
   "source": [
    "len(df_col), len(df_fut)"
   ]
  },
  {
   "cell_type": "markdown",
   "id": "61881672-e160-4026-a894-bbcd90c00b5f",
   "metadata": {},
   "source": [
    "### Checking missing self-text"
   ]
  },
  {
   "cell_type": "code",
   "execution_count": 8,
   "id": "e85125e8-3e91-4558-8e1d-81ee581c260d",
   "metadata": {},
   "outputs": [
    {
     "data": {
      "text/plain": [
       "(11008, 7323)"
      ]
     },
     "execution_count": 8,
     "metadata": {},
     "output_type": "execute_result"
    }
   ],
   "source": [
    "len(df_fut[df_fut['selftext'] == '[removed]']), len(df_col[df_col['selftext'] == '[removed]'])"
   ]
  },
  {
   "cell_type": "markdown",
   "id": "50c90ea5-c5a7-4ebf-b00f-b51fec3ee027",
   "metadata": {},
   "source": [
    "### Checking for duplicates"
   ]
  },
  {
   "cell_type": "code",
   "execution_count": 9,
   "id": "a40caa53-b1f9-4057-b7d8-1293d6e7475d",
   "metadata": {},
   "outputs": [],
   "source": [
    "df_fut = df_fut.drop_duplicates()\n",
    "df_col = df_col.drop_duplicates()"
   ]
  },
  {
   "cell_type": "markdown",
   "id": "50e86baf-b7f5-404b-9ef6-8d2650cb01ac",
   "metadata": {},
   "source": [
    "### Dropping unnecessary columns"
   ]
  },
  {
   "cell_type": "code",
   "execution_count": 10,
   "id": "faa03e3d-dfd6-49e4-ae46-a420c7183dd1",
   "metadata": {},
   "outputs": [],
   "source": [
    "df_fut_cut = df_fut[['subreddit','title']]\n",
    "df_col_cut = df_col[['subreddit','title']]"
   ]
  },
  {
   "cell_type": "markdown",
   "id": "a4ad8ef3-232f-4347-b7c9-d6967815e182",
   "metadata": {},
   "source": [
    "### Checking to see if any rows have no English text"
   ]
  },
  {
   "cell_type": "code",
   "execution_count": null,
   "id": "2c94881d-8b63-43e0-b58d-4d743d9e3da9",
   "metadata": {},
   "outputs": [],
   "source": []
  },
  {
   "cell_type": "markdown",
   "id": "8b5a9006-c2a0-4057-918c-03e595816792",
   "metadata": {
    "tags": []
   },
   "source": [
    "### Combining Dataframes"
   ]
  },
  {
   "cell_type": "code",
   "execution_count": 11,
   "id": "e84bf9dc-3f0c-4c0c-9392-9b406d516de3",
   "metadata": {
    "tags": []
   },
   "outputs": [],
   "source": [
    "df_comb = pd.concat([df_col_cut,df_fut_cut])"
   ]
  },
  {
   "cell_type": "code",
   "execution_count": 12,
   "id": "97900f1e-6227-40f6-94c5-45b9564f2add",
   "metadata": {},
   "outputs": [
    {
     "data": {
      "text/plain": [
       "(57617, 2)"
      ]
     },
     "execution_count": 12,
     "metadata": {},
     "output_type": "execute_result"
    }
   ],
   "source": [
    "df_comb.shape"
   ]
  },
  {
   "cell_type": "markdown",
   "id": "053ff6a4-4d58-405a-b3d3-0cb9dc9eace0",
   "metadata": {},
   "source": [
    "### Shuffling and Splitting Dataset into Holdout"
   ]
  },
  {
   "cell_type": "code",
   "execution_count": 13,
   "id": "6cee7b47-954c-450a-ab10-1d449b891172",
   "metadata": {},
   "outputs": [],
   "source": [
    "df_comb = df_comb.sample(frac=1,random_state=2)"
   ]
  },
  {
   "cell_type": "code",
   "execution_count": 14,
   "id": "44b17fd4-5ca9-4485-b995-fe1dcbaa0d94",
   "metadata": {},
   "outputs": [],
   "source": [
    "df_holdout = df_comb[0:11523]\n",
    "X_holdout = df_holdout['title']\n",
    "y_holdout = df_holdout['subreddit']"
   ]
  },
  {
   "cell_type": "code",
   "execution_count": 15,
   "id": "de76f1cb-7b3d-4f13-a2e9-f757e60f179f",
   "metadata": {},
   "outputs": [],
   "source": [
    "df_main = df_comb[11523:]"
   ]
  },
  {
   "cell_type": "code",
   "execution_count": 16,
   "id": "597d9150-d155-4133-95e5-ceafedf83fb7",
   "metadata": {},
   "outputs": [
    {
     "data": {
      "text/plain": [
       "((11523, 2), (46094, 2))"
      ]
     },
     "execution_count": 16,
     "metadata": {},
     "output_type": "execute_result"
    }
   ],
   "source": [
    "df_holdout.shape, df_main.shape"
   ]
  },
  {
   "cell_type": "markdown",
   "id": "a499fc5f-290b-427c-a113-3dbf50744c7a",
   "metadata": {},
   "source": [
    "Using 30% of the dataset for initial analysis."
   ]
  },
  {
   "cell_type": "code",
   "execution_count": 17,
   "id": "a84cb44b-0f8b-4d93-9f95-07e2060dda49",
   "metadata": {},
   "outputs": [],
   "source": [
    "df_sample = df_main.sample(frac=0.3,random_state=2)"
   ]
  },
  {
   "cell_type": "code",
   "execution_count": 18,
   "id": "1da76a9d-f9c0-4fd8-9b0e-37c38c114323",
   "metadata": {},
   "outputs": [
    {
     "data": {
      "text/plain": [
       "Futurology    0.500434\n",
       "collapse      0.499566\n",
       "Name: subreddit, dtype: float64"
      ]
     },
     "execution_count": 18,
     "metadata": {},
     "output_type": "execute_result"
    }
   ],
   "source": [
    "df_sample['subreddit'].value_counts(normalize=True)"
   ]
  },
  {
   "cell_type": "code",
   "execution_count": 19,
   "id": "fd95554d-db41-47ee-b233-ce1b95aad449",
   "metadata": {},
   "outputs": [
    {
     "data": {
      "text/plain": [
       "Futurology    6920\n",
       "collapse      6908\n",
       "Name: subreddit, dtype: int64"
      ]
     },
     "execution_count": 19,
     "metadata": {},
     "output_type": "execute_result"
    }
   ],
   "source": [
    "df_sample['subreddit'].value_counts()"
   ]
  },
  {
   "cell_type": "markdown",
   "id": "26d2916a-3093-4613-8ba7-df35fa164fcd",
   "metadata": {},
   "source": [
    "### TTS"
   ]
  },
  {
   "cell_type": "code",
   "execution_count": 20,
   "id": "c1da68f0-307a-4bee-b48b-160ab226eb6a",
   "metadata": {},
   "outputs": [],
   "source": [
    "X = df_sample['title']\n",
    "y = df_sample['subreddit']"
   ]
  },
  {
   "cell_type": "code",
   "execution_count": 21,
   "id": "284cbdfd-7aac-4d67-b987-f6dd9761e0d7",
   "metadata": {},
   "outputs": [],
   "source": [
    "X_train,X_test,y_train,y_test = train_test_split(X,y,random_state=2,stratify=y)"
   ]
  },
  {
   "cell_type": "markdown",
   "id": "1368e5bf-576c-4b7b-bf49-11acfb7506cd",
   "metadata": {},
   "source": [
    "### Baseline Null"
   ]
  },
  {
   "cell_type": "markdown",
   "id": "ac9af7ee-78b2-416b-abd6-44631d4d5595",
   "metadata": {},
   "source": [
    "The below is our baseline score, against which the accuracy metrics of the model will be assessed. As this is the dataset's percentage of the majority class, the model will need to demonstrate the ability to choose the correct subreddit of origin at a higher rate than merely choosing 'Futurology' each time."
   ]
  },
  {
   "cell_type": "code",
   "execution_count": 22,
   "id": "23c73e96-5d7a-4be6-8c02-7ede78a39e34",
   "metadata": {},
   "outputs": [
    {
     "data": {
      "text/plain": [
       "0.5004339022273647"
      ]
     },
     "execution_count": 22,
     "metadata": {},
     "output_type": "execute_result"
    }
   ],
   "source": [
    "dc = DummyClassifier()\n",
    "dc.fit(X_train,y_train)\n",
    "dc.predict(X_test)\n",
    "dc.score(X_test,y_test)"
   ]
  },
  {
   "cell_type": "markdown",
   "id": "6892dd00-879f-4124-a910-6c299a76cfbd",
   "metadata": {},
   "source": [
    "### Tokenize/Lemmatize"
   ]
  },
  {
   "cell_type": "code",
   "execution_count": 23,
   "id": "044e1a0c-bd35-449f-8e01-e1e74b3f7c06",
   "metadata": {
    "tags": []
   },
   "outputs": [],
   "source": [
    "def lemma_tokenizer(doc):\n",
    "    wnl = WordNetLemmatizer()\n",
    "    return [wnl.lemmatize(w) for w in word_tokenize(doc)]"
   ]
  },
  {
   "cell_type": "markdown",
   "id": "bc4e6242-915e-4b4f-ac51-0c1d45a88d76",
   "metadata": {},
   "source": [
    "### Creating Own List of Stopwords"
   ]
  },
  {
   "cell_type": "markdown",
   "id": "bcdf1631-71e4-4a74-b299-8761a91a8122",
   "metadata": {},
   "source": [
    "Creating my own list of stopwords in an effort to cut through some of the noise the model may encounter from words that should ultimately not be important towards its classification of the posts. The words future/collapse, as well as the various forms the subreddits themselves may be referenced in the posts included in the stopwords so as not to give the model an advantage."
   ]
  },
  {
   "cell_type": "code",
   "execution_count": 24,
   "id": "a4e582d4-7044-4349-bc1f-f630f8a9f368",
   "metadata": {},
   "outputs": [],
   "source": [
    "my_stop_words=['?',',','.','(',')',':','!','u','\\'','i','are','that','the','on','and','is','to','a','of',\\\n",
    "               'in','what','for','will','you','it','be','this','with','do','n\\'t','-','\\'s','\\'','an',\\\n",
    "               '`','.',',','u','/r/futurology','/r/collapse','~','e','g','’','``','=','o','de','r/collapse','r/futurology',\\\n",
    "               'we','how','about','have','can','if','all','or','would','by','our','why','not','your','year','when',\\\n",
    "               'could','there','like','from','...','an','ha','haha','hahaha','[]','[',']','so','new','now','doe',\\\n",
    "               'my','more','just','any','but','who','at','some','me',';','they','no','yes','out','should','get',\\\n",
    "               'most','s','than','up','one','wa','make','here','thing','#','$','got','&','*','where','anyone','collapse'\\\n",
    "              'futurology','collapse','future','\\'''']"
   ]
  },
  {
   "cell_type": "markdown",
   "id": "dd899f5d-7426-4f0b-9e70-60ac40caca01",
   "metadata": {},
   "source": [
    "### Count Vectorize"
   ]
  },
  {
   "cell_type": "code",
   "execution_count": 25,
   "id": "8947dd5e-555e-44e8-aa26-37ccd8a39aaf",
   "metadata": {},
   "outputs": [],
   "source": [
    "cvec = CountVectorizer(strip_accents='unicode',stop_words=my_stop_words,ngram_range=(1,2),tokenizer=lemma_tokenizer)\n",
    "cvec.fit(X_train)\n",
    "X_train_cv = cvec.transform(X_train)\n",
    "X_test_cv = cvec.transform(X_test)\n",
    "\n",
    "X_train_cv = pd.DataFrame(X_train_cv.A,columns=cvec.get_feature_names_out())\n",
    "X_test_cv = pd.DataFrame(X_test_cv.A,columns=cvec.get_feature_names_out())\n",
    "\n"
   ]
  },
  {
   "cell_type": "markdown",
   "id": "b7786beb-a74c-4ecd-bc73-353f5efd4849",
   "metadata": {},
   "source": [
    "### TF-IDF Vectorize"
   ]
  },
  {
   "cell_type": "code",
   "execution_count": 26,
   "id": "641a5630-1525-4c7f-ac7a-a8ee1ef9e6f0",
   "metadata": {},
   "outputs": [],
   "source": [
    "tfi = TfidfVectorizer(strip_accents='unicode',stop_words=my_stop_words,ngram_range=(1,2),tokenizer=lemma_tokenizer)\n",
    "tfi.fit(X_train)\n",
    "X_train_tfi = tfi.transform(X_train)\n",
    "X_test_tfi = tfi.transform(X_test)\n",
    "\n",
    "X_train_tfi = pd.DataFrame(X_train_tfi.A,columns=tfi.get_feature_names_out())\n",
    "X_test_tfi = pd.DataFrame(X_test_tfi.A,columns=tfi.get_feature_names_out())"
   ]
  },
  {
   "cell_type": "markdown",
   "id": "13aec3ac-abb1-4f06-ab1e-0ad1ba94fad3",
   "metadata": {},
   "source": [
    "### Label Encoding Y"
   ]
  },
  {
   "cell_type": "code",
   "execution_count": 27,
   "id": "f9ca4415-36c5-422e-8b48-977404aaa467",
   "metadata": {},
   "outputs": [],
   "source": [
    "le = LabelEncoder()\n",
    "y_train_le = le.fit_transform(y_train)\n",
    "y_test_le = le.transform(y_test)"
   ]
  },
  {
   "cell_type": "code",
   "execution_count": 28,
   "id": "9794a21a-37a4-4831-8c88-1028e456f4af",
   "metadata": {},
   "outputs": [
    {
     "data": {
      "text/plain": [
       "0.4995660977726352"
      ]
     },
     "execution_count": 28,
     "metadata": {},
     "output_type": "execute_result"
    }
   ],
   "source": [
    "y_train_le.mean()"
   ]
  },
  {
   "cell_type": "markdown",
   "id": "e0afae6e-1b48-45c8-80c3-d3e672a36e4c",
   "metadata": {},
   "source": [
    "Collapse = 1"
   ]
  },
  {
   "cell_type": "markdown",
   "id": "4061a478-517f-499c-b3aa-9d911a0f7ba6",
   "metadata": {},
   "source": [
    "The most commonly features in the vectorized model is reviewed in order to add words to the custom stopwords list."
   ]
  },
  {
   "cell_type": "markdown",
   "id": "8ecf25ec-09c3-4d4f-8b2a-70267818ec06",
   "metadata": {},
   "source": [
    "### Reviewing Most Frequent Features"
   ]
  },
  {
   "cell_type": "code",
   "execution_count": 29,
   "id": "82237807-58b5-4e48-b491-5b6e7e0ffcb6",
   "metadata": {},
   "outputs": [
    {
     "data": {
      "text/plain": [
       "think             454\n",
       "''                441\n",
       "world             427\n",
       "people            393\n",
       "human             379\n",
       "climate           353\n",
       "change            333\n",
       "technology        254\n",
       "ai                253\n",
       "going             227\n",
       "climate change    218\n",
       "time              199\n",
       "life              191\n",
       "next              187\n",
       "need              178\n",
       "thought           178\n",
       "see               177\n",
       "society           164\n",
       "good              153\n",
       "job               152\n",
       "question          152\n",
       "global            150\n",
       "car               149\n",
       "their             148\n",
       "help              148\n",
       "dtype: int64"
      ]
     },
     "execution_count": 29,
     "metadata": {},
     "output_type": "execute_result"
    }
   ],
   "source": [
    "X_train_cv.sum().sort_values(ascending=False).head(25)"
   ]
  },
  {
   "cell_type": "markdown",
   "id": "5b9186dc-b3e6-4cda-8c6a-c4b83c4d9ecb",
   "metadata": {},
   "source": [
    "### Naive Bayes"
   ]
  },
  {
   "cell_type": "markdown",
   "id": "9b1204d4-faa8-48af-8960-728d5fd52781",
   "metadata": {},
   "source": [
    "Running Multinomial Naive Bayes on lemmatized, countvectorized data. Model not shown dropped lemmatizer and model worsened."
   ]
  },
  {
   "cell_type": "code",
   "execution_count": 99,
   "id": "21d8da60-1f59-4fd8-a7a9-7ce905069569",
   "metadata": {},
   "outputs": [
    {
     "data": {
      "text/plain": [
       "(0.898177610645068, 0.798090830199595)"
      ]
     },
     "execution_count": 99,
     "metadata": {},
     "output_type": "execute_result"
    }
   ],
   "source": [
    "pipenb = Pipeline(\n",
    "    [\n",
    "    ('cv',CountVectorizer(stop_words=my_stop_words,strip_accents='unicode',tokenizer=lemma_tokenizer)),\n",
    "    ('nb',MultinomialNB())   \n",
    "    ])\n",
    "\n",
    "pipenb.fit(X_train,y_train_le)\n",
    "pipenb.score(X_train,y_train_le),pipenb.score(X_test,y_test_le)"
   ]
  },
  {
   "cell_type": "code",
   "execution_count": 100,
   "id": "69bd965f-5285-49fc-8637-00ab53bad3e8",
   "metadata": {},
   "outputs": [],
   "source": [
    "pipenb_params = {\n",
    "    'cv__ngram_range' : [(1,1), (1,2), (2,2), (1,3), (2,3)],\n",
    "    'cv__min_df': [1,2,3],\n",
    "    'cv__max_df': [0.6,0.5,0.4],\n",
    "}"
   ]
  },
  {
   "cell_type": "code",
   "execution_count": 102,
   "id": "4812d337-cddf-46a8-8f82-be1139dcb3e4",
   "metadata": {},
   "outputs": [
    {
     "data": {
      "text/plain": [
       "(0.9684697714781603, 0.8021405843216662)"
      ]
     },
     "execution_count": 102,
     "metadata": {},
     "output_type": "execute_result"
    }
   ],
   "source": [
    "gsnb = GridSearchCV(pipenb,param_grid=pipenb_params)\n",
    "gsnb.fit(X_train,y_train_le)\n",
    "gsnb.score(X_train,y_train_le),gsnb.score(X_test,y_test_le)"
   ]
  },
  {
   "cell_type": "code",
   "execution_count": 103,
   "id": "e580201d-1b02-4fe3-8df2-fa2a707d634f",
   "metadata": {},
   "outputs": [
    {
     "data": {
      "text/plain": [
       "Pipeline(steps=[('cv',\n",
       "                 CountVectorizer(max_df=0.6, ngram_range=(1, 2),\n",
       "                                 stop_words=['?', ',', '.', '(', ')', ':', '!',\n",
       "                                             'u', \"'\", 'i', 'are', 'that',\n",
       "                                             'the', 'on', 'and', 'is', 'to',\n",
       "                                             'a', 'of', 'in', 'what', 'for',\n",
       "                                             'will', 'you', 'it', 'be', 'this',\n",
       "                                             'with', 'do', \"n't\", ...],\n",
       "                                 strip_accents='unicode',\n",
       "                                 tokenizer=<function lemma_tokenizer at 0x7f82d49a2940>)),\n",
       "                ('nb', MultinomialNB())])"
      ]
     },
     "execution_count": 103,
     "metadata": {},
     "output_type": "execute_result"
    }
   ],
   "source": [
    "gsnb.best_estimator_"
   ]
  },
  {
   "cell_type": "markdown",
   "id": "ed336b02-b992-4381-9a5e-9e41307bc33f",
   "metadata": {},
   "source": [
    "The gridsearch yielded an improved model, with an accuracy score of 80.21%."
   ]
  },
  {
   "cell_type": "markdown",
   "id": "dc37e364-c962-48f9-b70c-0ca0fbfed18e",
   "metadata": {},
   "source": [
    "Scoring The TF-IDF vectorized data on Gaussian Naive Bayes. Multinomial Naive Bayes is suited for count-vectorized, Gaussian to data vectorized using TF-IDF."
   ]
  },
  {
   "cell_type": "code",
   "execution_count": 108,
   "id": "d472efba-917a-438a-a626-d40278b93fee",
   "metadata": {},
   "outputs": [
    {
     "data": {
      "text/plain": [
       "(0.9865008195930961, 0.6901938096615563)"
      ]
     },
     "execution_count": 108,
     "metadata": {},
     "output_type": "execute_result"
    }
   ],
   "source": [
    "gnb = GaussianNB()\n",
    "\n",
    "gnb.fit(X_train_tfi,y_train_le)\n",
    "gnb.score(X_train_tfi,y_train_le),gnb.score(X_test_tfi,y_test_le)"
   ]
  },
  {
   "cell_type": "markdown",
   "id": "0a3065d2-cab0-4c24-b2b2-805d177666e3",
   "metadata": {
    "tags": []
   },
   "source": [
    "The Gaussian Naive Bayes performs much worse than the Multinomial."
   ]
  },
  {
   "cell_type": "markdown",
   "id": "32a1b6cf-bd2a-4a73-b219-4336a402252e",
   "metadata": {},
   "source": [
    "### Logistic, Count Vectorized"
   ]
  },
  {
   "cell_type": "markdown",
   "id": "567ff0da-e8cf-47c1-9946-18fab96759f2",
   "metadata": {},
   "source": [
    "Running fairly basic Logistic Regression. CV data. Performs worse than Naive Bayes."
   ]
  },
  {
   "cell_type": "code",
   "execution_count": 111,
   "id": "299f0da9-84e2-41b2-9a41-1ed220b7bd3c",
   "metadata": {},
   "outputs": [
    {
     "data": {
      "text/plain": [
       "(0.9300935300356764, 0.7839166907723459)"
      ]
     },
     "execution_count": 111,
     "metadata": {},
     "output_type": "execute_result"
    }
   ],
   "source": [
    "logregpipe = Pipeline(\n",
    "    [\n",
    "    ('cv',CountVectorizer(stop_words=my_stop_words,strip_accents='unicode',tokenizer=lemma_tokenizer)),\n",
    "    ('lr',LogisticRegression(max_iter=10000))   \n",
    "    ])\n",
    "\n",
    "logregpipe.fit(X_train,y_train_le)\n",
    "logregpipe.score(X_train,y_train_le),logregpipe.score(X_test,y_test_le)"
   ]
  },
  {
   "cell_type": "markdown",
   "id": "417440ee-ca0e-411d-83f2-e698309c9f94",
   "metadata": {},
   "source": [
    "The model does not perform as well as Naive Bayes. Conducting gridsearch to tune hyperparamters."
   ]
  },
  {
   "cell_type": "code",
   "execution_count": 114,
   "id": "9c797737-4247-4a37-83b8-4abf706b63c6",
   "metadata": {},
   "outputs": [],
   "source": [
    "logregpipe_params = {\n",
    "    'cv__ngram_range' : [(1,1), (1,2), (2,2), (1,3), (2,3)],\n",
    "    'cv__min_df': [1,2,3],\n",
    "    'cv__max_df': [0.4,0.5,0.6],\n",
    "    'lr__C': [.1,1,10,100]\n",
    "}"
   ]
  },
  {
   "cell_type": "code",
   "execution_count": 115,
   "id": "e15e72bb-7890-4de3-8632-a359dada73e3",
   "metadata": {},
   "outputs": [
    {
     "data": {
      "text/plain": [
       "(0.9846687879664449, 0.7914376627133353)"
      ]
     },
     "execution_count": 115,
     "metadata": {},
     "output_type": "execute_result"
    }
   ],
   "source": [
    "gslogreg = GridSearchCV(logregpipe,param_grid=logregpipe_params)\n",
    "gslogreg.fit(X_train,y_train)\n",
    "gslogreg.score(X_train,y_train), gslogreg.score(X_test,y_test)"
   ]
  },
  {
   "cell_type": "code",
   "execution_count": 116,
   "id": "d3a99b11-38bc-4697-ac6a-f519a850574e",
   "metadata": {},
   "outputs": [
    {
     "data": {
      "text/plain": [
       "Pipeline(steps=[('cv',\n",
       "                 CountVectorizer(max_df=0.4, ngram_range=(1, 2),\n",
       "                                 stop_words=['?', ',', '.', '(', ')', ':', '!',\n",
       "                                             'u', \"'\", 'i', 'are', 'that',\n",
       "                                             'the', 'on', 'and', 'is', 'to',\n",
       "                                             'a', 'of', 'in', 'what', 'for',\n",
       "                                             'will', 'you', 'it', 'be', 'this',\n",
       "                                             'with', 'do', \"n't\", ...],\n",
       "                                 strip_accents='unicode',\n",
       "                                 tokenizer=<function lemma_tokenizer at 0x7f82d49a2940>)),\n",
       "                ('lr', LogisticRegression(C=1, max_iter=10000))])"
      ]
     },
     "execution_count": 116,
     "metadata": {},
     "output_type": "execute_result"
    }
   ],
   "source": [
    "gslogreg.best_estimator_"
   ]
  },
  {
   "cell_type": "markdown",
   "id": "935d02b5-c037-4c13-b056-2352251e009d",
   "metadata": {},
   "source": [
    "The gridsearch produces a model that tunes several paramters and produces an accuracy of 79.14%. Not as strong as Naive Bayes model."
   ]
  },
  {
   "cell_type": "code",
   "execution_count": 129,
   "id": "c66e8ba8-1ae4-4a55-bc64-a77f3ea291fc",
   "metadata": {},
   "outputs": [
    {
     "data": {
      "text/plain": [
       "(0.9835117153601388, 0.7885449811975701)"
      ]
     },
     "execution_count": 129,
     "metadata": {},
     "output_type": "execute_result"
    }
   ],
   "source": [
    "logregpipe2 = Pipeline(\n",
    "    [\n",
    "    ('cv',CountVectorizer(stop_words=my_stop_words,strip_accents='unicode',tokenizer=lemma_tokenizer,max_df=0.4,ngram_range=(1, 2),max_features=60000)),\n",
    "    ('lr',LogisticRegression(max_iter=10000))   \n",
    "    ])\n",
    "\n",
    "logregpipe2.fit(X_train,y_train_le)\n",
    "logregpipe2.score(X_train,y_train_le),logregpipe2.score(X_test,y_test_le)"
   ]
  },
  {
   "cell_type": "markdown",
   "id": "50548b22-b5b0-4eca-8d26-e4aa9255489d",
   "metadata": {},
   "source": [
    "Efforts to improve score via implementing max features were unsuccessful."
   ]
  },
  {
   "cell_type": "markdown",
   "id": "6b629999-0036-4e7d-a801-6c14f8ba26ee",
   "metadata": {},
   "source": [
    "### Logistic, TF-IDF"
   ]
  },
  {
   "cell_type": "markdown",
   "id": "c8950135-53a4-4f35-97f0-07c6f2da84fa",
   "metadata": {},
   "source": [
    "Running similar analysis, with TF-IDF vectorizing."
   ]
  },
  {
   "cell_type": "code",
   "execution_count": 130,
   "id": "63f2b973-4ba7-4200-b0f7-26f2c781098e",
   "metadata": {},
   "outputs": [
    {
     "data": {
      "text/plain": [
       "(0.8961527335840324, 0.7943303442291004)"
      ]
     },
     "execution_count": 130,
     "metadata": {},
     "output_type": "execute_result"
    }
   ],
   "source": [
    "lgtpipe = Pipeline(\n",
    "    [\n",
    "    ('tf',TfidfVectorizer(stop_words=my_stop_words,tokenizer=lemma_tokenizer)),\n",
    "    ('lr',LogisticRegression(max_iter=10000))   \n",
    "    ])\n",
    "\n",
    "lgtpipe.fit(X_train,y_train_le)\n",
    "lgtpipe.score(X_train,y_train_le),lgtpipe.score(X_test,y_test_le)"
   ]
  },
  {
   "cell_type": "markdown",
   "id": "c69c66ce-2cc9-4668-8c68-9c6606fec25f",
   "metadata": {},
   "source": [
    "A fairly standard model performs better than the gridsearched count-vectorized model, with a 79.43% accuracy."
   ]
  },
  {
   "cell_type": "markdown",
   "id": "e431a978-a9c8-4a59-a81e-58ab84a96d16",
   "metadata": {},
   "source": [
    "Building gridsearch to try to build better model."
   ]
  },
  {
   "cell_type": "code",
   "execution_count": 134,
   "id": "356993e9-44df-428c-95b6-168eea06bbe1",
   "metadata": {},
   "outputs": [],
   "source": [
    "lgtpipe_params = {\n",
    "    'tf__min_df': [1, 2, 3,4],\n",
    "    'tf__max_df': [.4, .5],\n",
    "    'tf__ngram_range': [[1,1], [1,2], [2,2], [1,3]],\n",
    "    'lr__C': [.1,1,10]\n",
    "}"
   ]
  },
  {
   "cell_type": "code",
   "execution_count": 135,
   "id": "b5be15ec-06d6-41dc-9abd-143b326ecef5",
   "metadata": {},
   "outputs": [
    {
     "data": {
      "text/plain": [
       "(0.9595988814964805, 0.7931732716227944)"
      ]
     },
     "execution_count": 135,
     "metadata": {},
     "output_type": "execute_result"
    }
   ],
   "source": [
    "gslgt = GridSearchCV(lgtpipe,param_grid=lgtpipe_params)\n",
    "gslgt.fit(X_train,y_train)\n",
    "gslgt.score(X_train,y_train), gslgt.score(X_test,y_test)"
   ]
  },
  {
   "cell_type": "code",
   "execution_count": 136,
   "id": "1709439c-b036-4889-8c23-ff35002c285b",
   "metadata": {},
   "outputs": [
    {
     "data": {
      "text/plain": [
       "Pipeline(steps=[('tf',\n",
       "                 TfidfVectorizer(max_df=0.4, ngram_range=[1, 3],\n",
       "                                 stop_words=['?', ',', '.', '(', ')', ':', '!',\n",
       "                                             'u', \"'\", 'i', 'are', 'that',\n",
       "                                             'the', 'on', 'and', 'is', 'to',\n",
       "                                             'a', 'of', 'in', 'what', 'for',\n",
       "                                             'will', 'you', 'it', 'be', 'this',\n",
       "                                             'with', 'do', \"n't\", ...],\n",
       "                                 tokenizer=<function lemma_tokenizer at 0x7f82d49a2940>)),\n",
       "                ('lr', LogisticRegression(C=1, max_iter=10000))])"
      ]
     },
     "execution_count": 136,
     "metadata": {},
     "output_type": "execute_result"
    }
   ],
   "source": [
    "gslgt.best_estimator_"
   ]
  },
  {
   "cell_type": "code",
   "execution_count": 150,
   "id": "486b72b0-7de5-42da-82d0-46cb91985f78",
   "metadata": {},
   "outputs": [
    {
     "data": {
      "text/plain": [
       "(0.9407964516440074, 0.795776684986983)"
      ]
     },
     "execution_count": 150,
     "metadata": {},
     "output_type": "execute_result"
    }
   ],
   "source": [
    "lgtpipe2 = Pipeline(\n",
    "    [\n",
    "    ('tf',TfidfVectorizer(stop_words=my_stop_words,tokenizer=lemma_tokenizer,max_df=0.4,ngram_range=[1, 3],max_features=69000)),\n",
    "    ('lr',LogisticRegression(max_iter=10000))   \n",
    "    ])\n",
    "\n",
    "lgtpipe2.fit(X_train,y_train_le)\n",
    "lgtpipe2.score(X_train,y_train_le),lgtpipe2.score(X_test,y_test_le)"
   ]
  },
  {
   "cell_type": "markdown",
   "id": "3c004e01-922b-49e8-b17b-bade8665b253",
   "metadata": {},
   "source": [
    "After running gridsearch, a better model is identified with a max feature parameter of 69,000. This is the best Logistic Regression model, but not as strong as the Naive Bayes."
   ]
  },
  {
   "cell_type": "markdown",
   "id": "31bad8db-4fd1-46e1-961b-91a12fbd6625",
   "metadata": {},
   "source": [
    "### KNN Model"
   ]
  },
  {
   "cell_type": "markdown",
   "id": "ae5d6032-6e2a-4234-8f1b-77c3dbb70d79",
   "metadata": {},
   "source": [
    "Running a KNN model with tuned parameters."
   ]
  },
  {
   "cell_type": "code",
   "execution_count": 178,
   "id": "da1e2647-b277-4ebe-88a2-24dd301db300",
   "metadata": {},
   "outputs": [
    {
     "data": {
      "text/plain": [
       "(0.9765692797223026, 0.6421752964998554)"
      ]
     },
     "execution_count": 178,
     "metadata": {},
     "output_type": "execute_result"
    }
   ],
   "source": [
    "pipeknn = Pipeline(\n",
    "    [\n",
    "    ('cv',CountVectorizer(stop_words=my_stop_words,tokenizer=lemma_tokenizer,ngram_range=[1,3],max_df=0.5,min_df=3)),\n",
    "    ('knc', KNeighborsClassifier(n_neighbors=3,weights='distance'))\n",
    "    ])\n",
    "\n",
    "pipeknn.fit(X_train,y_train_le)\n",
    "pipeknn.score(X_train,y_train_le),pipeknn.score(X_test,y_test_le)"
   ]
  },
  {
   "cell_type": "markdown",
   "id": "cd1060d9-03d3-4062-b135-aeea2c50c187",
   "metadata": {},
   "source": [
    "The KNN model performs worse than any model previously seen in this analysis."
   ]
  },
  {
   "cell_type": "markdown",
   "id": "cc848c84-23e2-4017-a44a-47e0c85ac4c0",
   "metadata": {},
   "source": [
    "### Decision Tree Classifier"
   ]
  },
  {
   "cell_type": "markdown",
   "id": "41750666-162f-4b89-af56-2d25006ade6d",
   "metadata": {},
   "source": [
    "Running a Decision Tree Classifier with tuned parameters."
   ]
  },
  {
   "cell_type": "code",
   "execution_count": 181,
   "id": "3cd71956-3c4f-4788-9c0b-8cfb1176e7d3",
   "metadata": {},
   "outputs": [
    {
     "data": {
      "text/plain": [
       "(0.592710442580272, 0.5840323980329766)"
      ]
     },
     "execution_count": 181,
     "metadata": {},
     "output_type": "execute_result"
    }
   ],
   "source": [
    "pipedtc = Pipeline(\n",
    "    [\n",
    "    ('cv',CountVectorizer(stop_words=my_stop_words,tokenizer=lemma_tokenizer,ngram_range=[1,3],max_df=0.5)),\n",
    "    ('dtc', DecisionTreeClassifier(random_state=2,max_depth=10))\n",
    "    ])\n",
    "\n",
    "pipedtc.fit(X_train,y_train_le)\n",
    "pipedtc.score(X_train,y_train_le),pipedtc.score(X_test,y_test_le)"
   ]
  },
  {
   "cell_type": "markdown",
   "id": "3bf27bbd-bd9a-4c53-be40-5150ec770ec1",
   "metadata": {},
   "source": [
    "This model performs worse than KNN."
   ]
  },
  {
   "cell_type": "markdown",
   "id": "e811a763-7e11-4c23-8e2b-290aeba0bb69",
   "metadata": {},
   "source": [
    "### Random Forest, Count Vectorized"
   ]
  },
  {
   "cell_type": "markdown",
   "id": "0a4a6551-4ee3-491e-8afb-a91aab451fee",
   "metadata": {},
   "source": [
    "Running a Random Forest model with count vectorized data and tuned hyperparameters. "
   ]
  },
  {
   "cell_type": "code",
   "execution_count": 205,
   "id": "95497b03-bc06-4f95-a796-0f9be61c99ef",
   "metadata": {},
   "outputs": [
    {
     "data": {
      "text/plain": [
       "(0.993732523382509, 0.7755279143766272)"
      ]
     },
     "execution_count": 205,
     "metadata": {},
     "output_type": "execute_result"
    }
   ],
   "source": [
    "piperfc = Pipeline(\n",
    "    [\n",
    "    ('cv',CountVectorizer(stop_words=my_stop_words,tokenizer=lemma_tokenizer,ngram_range=(1,2),max_df=0.5)),\n",
    "    ('rfc', RandomForestClassifier(random_state=2,n_estimators=400,min_samples_split=4,max_depth=None))\n",
    "    ])\n",
    "\n",
    "piperfc.fit(X_train,y_train_le)\n",
    "piperfc.score(X_train,y_train_le),piperfc.score(X_test,y_test_le)"
   ]
  },
  {
   "cell_type": "markdown",
   "id": "51ef81f1-4dd3-4ea6-901d-cb94b3a8a1dd",
   "metadata": {},
   "source": [
    "Fairly strong, not as strong as Bayes or strongest logistic."
   ]
  },
  {
   "cell_type": "markdown",
   "id": "46cfb7a4-031e-4388-b3bd-df516e12d069",
   "metadata": {},
   "source": [
    "### Random Forest, TF-IDF Vectorized"
   ]
  },
  {
   "cell_type": "markdown",
   "id": "08a4d560-b288-4c8e-b163-52374f8b7386",
   "metadata": {
    "tags": []
   },
   "source": [
    "Running  Random Forest model using the TF-IDF vectorization and tuned parameters."
   ]
  },
  {
   "cell_type": "code",
   "execution_count": 210,
   "id": "32e64414-5ec6-498b-8947-2a20e16cfcdb",
   "metadata": {},
   "outputs": [
    {
     "data": {
      "text/plain": [
       "(0.9945039051200463, 0.7639571883135666)"
      ]
     },
     "execution_count": 210,
     "metadata": {},
     "output_type": "execute_result"
    }
   ],
   "source": [
    "piperfct = Pipeline(\n",
    "    [\n",
    "    ('tf',TfidfVectorizer(stop_words=my_stop_words,ngram_range=[1,2],max_df=0.5,tokenizer=lemma_tokenizer)),\n",
    "    ('rfc', RandomForestClassifier(random_state=2,min_samples_split=5,n_estimators=400,max_depth=None))\n",
    "    ])\n",
    "\n",
    "piperfct.fit(X_train,y_train_le)\n",
    "piperfct.score(X_train,y_train_le),piperfct.score(X_test,y_test_le)"
   ]
  },
  {
   "cell_type": "markdown",
   "id": "dfcf754d-4c82-4322-bc6b-99b84b58e98a",
   "metadata": {},
   "source": [
    "Model does not perform as strongly as the count vectorized model."
   ]
  },
  {
   "cell_type": "markdown",
   "id": "c43dc00d-03c2-4ba7-bc8a-81f94b602a88",
   "metadata": {},
   "source": [
    "### Ada Booster"
   ]
  },
  {
   "cell_type": "markdown",
   "id": "3ff1bb96-a787-441c-8a76-374263b115c7",
   "metadata": {},
   "source": [
    "Running a tuned model using AdaBoost."
   ]
  },
  {
   "cell_type": "code",
   "execution_count": 227,
   "id": "b678bc63-aef8-46ad-838f-036c573acec6",
   "metadata": {},
   "outputs": [
    {
     "data": {
      "text/plain": [
       "(0.9201619901648829, 0.7526757304020827)"
      ]
     },
     "execution_count": 227,
     "metadata": {},
     "output_type": "execute_result"
    }
   ],
   "source": [
    "pipeada = Pipeline(\n",
    "    [\n",
    "    ('cv',CountVectorizer(stop_words=my_stop_words,ngram_range=[1,2],max_df=0.7,tokenizer=lemma_tokenizer,max_features=45000)),\n",
    "    ('abc', AdaBoostClassifier(random_state=2,n_estimators=2000))\n",
    "    ])\n",
    "\n",
    "pipeada.fit(X_train,y_train_le)\n",
    "pipeada.score(X_train,y_train_le),pipeada.score(X_test,y_test_le)"
   ]
  },
  {
   "cell_type": "markdown",
   "id": "30c4168a-c8d7-4122-8979-43ef121d17bc",
   "metadata": {},
   "source": [
    "Model does not perform as well as RFC, Bayes, or Logistic."
   ]
  },
  {
   "cell_type": "markdown",
   "id": "e85be642-3725-4cba-b178-9e1b3eebcded",
   "metadata": {},
   "source": [
    "Running similar analysis with TF-IDF data."
   ]
  },
  {
   "cell_type": "code",
   "execution_count": 225,
   "id": "d34bae9b-3d54-4ea0-90a2-caeadb217813",
   "metadata": {},
   "outputs": [
    {
     "data": {
      "text/plain": [
       "(0.9493780734741105, 0.7243274515475846)"
      ]
     },
     "execution_count": 225,
     "metadata": {},
     "output_type": "execute_result"
    }
   ],
   "source": [
    "pipeada = Pipeline(\n",
    "    [\n",
    "    ('tfi',TfidfVectorizer(stop_words=my_stop_words,ngram_range=[1,1],max_df=0.7,tokenizer=lemma_tokenizer,max_features=45000)),\n",
    "    ('abc', AdaBoostClassifier(random_state=2,n_estimators=2000))\n",
    "    ])\n",
    "\n",
    "pipeada.fit(X_train,y_train_le)\n",
    "pipeada.score(X_train,y_train_le),pipeada.score(X_test,y_test_le)"
   ]
  },
  {
   "cell_type": "markdown",
   "id": "637c7a77-8790-43e5-9072-7b45680bad67",
   "metadata": {},
   "source": [
    "Model does not perform as well as with count vectorized data."
   ]
  },
  {
   "cell_type": "markdown",
   "id": "f7634ce4-15fe-43c5-981f-a0e584d41915",
   "metadata": {},
   "source": [
    "### Ensemble Analysis"
   ]
  },
  {
   "cell_type": "markdown",
   "id": "270097d4-b8f0-4701-b084-e84c394272f9",
   "metadata": {},
   "source": [
    "Ensemble model built with Count Vectorized data, combining Logistic Regression, Multinomial Naive Bayes, and Random Forest Classifier."
   ]
  },
  {
   "cell_type": "code",
   "execution_count": 31,
   "id": "6bdd4c6f-9549-479e-b1c6-c3129e3ee38e",
   "metadata": {},
   "outputs": [
    {
     "data": {
      "text/plain": [
       "(0.9860187060071353, 0.7963552212901359)"
      ]
     },
     "execution_count": 31,
     "metadata": {},
     "output_type": "execute_result"
    }
   ],
   "source": [
    "vr1 = VotingClassifier(\n",
    "    [('lr',LogisticRegression(max_iter=10000)),\n",
    "     ('mnb', MultinomialNB()),\n",
    "     ('rfc', RandomForestClassifier(random_state=2,min_samples_split=4,n_estimators=250)),\n",
    "      ],\n",
    ")\n",
    "\n",
    "vr1.fit(X_train_cv,y_train_le)\n",
    "vr1.score(X_train_cv,y_train_le),vr1.score(X_test_cv,y_test_le)"
   ]
  },
  {
   "cell_type": "markdown",
   "id": "c206f13c-3a39-4539-8236-2785260078d0",
   "metadata": {},
   "source": [
    "This model was strong, but is slightly worse than the Naive Bayes Mode."
   ]
  },
  {
   "cell_type": "markdown",
   "id": "7210c269-d74f-48fe-b098-a60ad42e79c0",
   "metadata": {},
   "source": [
    "### Revisiting Naive Bayes"
   ]
  },
  {
   "cell_type": "code",
   "execution_count": 138,
   "id": "b9173a0a-ee68-4399-b07f-2e8eef47ff9a",
   "metadata": {},
   "outputs": [
    {
     "data": {
      "text/plain": [
       "(0.9776299296114165, 0.8030083887763957)"
      ]
     },
     "execution_count": 138,
     "metadata": {},
     "output_type": "execute_result"
    }
   ],
   "source": [
    "nb_cv = Pipeline(\n",
    "    [\n",
    "    ('cv',CountVectorizer(stop_words=my_stop_words,strip_accents='unicode',ngram_range=(1, 3),max_df=.5,tokenizer=lemma_tokenizer)),\n",
    "    ('nb',MultinomialNB())   \n",
    "    ])\n",
    "\n",
    "nb_cv.fit(X_train,y_train_le)\n",
    "nb_cv.score(X_train,y_train_le),nb_cv.score(X_test,y_test_le)"
   ]
  },
  {
   "cell_type": "code",
   "execution_count": 134,
   "id": "fad9e402-efef-422f-90d6-7a42696ac170",
   "metadata": {},
   "outputs": [],
   "source": [
    "nbcv_params = {\n",
    "    'cv__ngram_range': [(1,1),(1,2),(1,3),(2,3)],\n",
    "    'cv__max_df' : [0.4,0.5,0.6,0.9],\n",
    "}"
   ]
  },
  {
   "cell_type": "code",
   "execution_count": 135,
   "id": "71954716-53b2-4e0a-9772-04a7aa12a001",
   "metadata": {},
   "outputs": [],
   "source": [
    "nb_cv_gs = GridSearchCV(nb_cv,param_grid=nbcv_params)"
   ]
  },
  {
   "cell_type": "code",
   "execution_count": 136,
   "id": "e6cf2a60-16c8-4c34-a7cc-91c2769370c0",
   "metadata": {},
   "outputs": [
    {
     "data": {
      "text/plain": [
       "(0.9684697714781603, 0.8021405843216662)"
      ]
     },
     "execution_count": 136,
     "metadata": {},
     "output_type": "execute_result"
    }
   ],
   "source": [
    "nb_cv_gs.fit(X_train,y_train_le)\n",
    "nb_cv_gs.score(X_train,y_train_le),nb_cv_gs.score(X_test,y_test_le)"
   ]
  },
  {
   "cell_type": "code",
   "execution_count": 137,
   "id": "fe86219a-ba57-4d42-a60a-801216734f49",
   "metadata": {},
   "outputs": [
    {
     "data": {
      "text/plain": [
       "{'cv__max_df': 0.4, 'cv__ngram_range': (1, 2)}"
      ]
     },
     "execution_count": 137,
     "metadata": {},
     "output_type": "execute_result"
    }
   ],
   "source": [
    "nb_cv_gs.best_params_"
   ]
  },
  {
   "cell_type": "code",
   "execution_count": 39,
   "id": "475e381f-ae9a-4873-bd77-91afb1161adc",
   "metadata": {},
   "outputs": [
    {
     "data": {
      "text/plain": [
       "(0.9684697714781603, 0.8021405843216662)"
      ]
     },
     "execution_count": 39,
     "metadata": {},
     "output_type": "execute_result"
    }
   ],
   "source": [
    "nb_cv2 = Pipeline(\n",
    "    [\n",
    "    ('cv',CountVectorizer(stop_words=my_stop_words,strip_accents='unicode',ngram_range=(1, 2),max_df=.4,tokenizer=lemma_tokenizer)),\n",
    "    ('nb',MultinomialNB())   \n",
    "    ])\n",
    "\n",
    "nb_cv2.fit(X_train,y_train_le)\n",
    "nb_cv2.score(X_train,y_train_le),nb_cv2.score(X_test,y_test_le)"
   ]
  },
  {
   "cell_type": "code",
   "execution_count": 75,
   "id": "98ffe4b5-20f2-4ec3-a24c-af845987acbc",
   "metadata": {},
   "outputs": [
    {
     "data": {
      "text/plain": [
       "(0.9333719024202102, 0.8070581428984669)"
      ]
     },
     "execution_count": 75,
     "metadata": {},
     "output_type": "execute_result"
    }
   ],
   "source": [
    "nb_cv3 = Pipeline(\n",
    "    [\n",
    "    ('tfi',TfidfVectorizer(stop_words=my_stop_words,strip_accents='unicode',ngram_range=(1, 2),max_df=.4,tokenizer=lemma_tokenizer,max_features=30000)),\n",
    "    ('nb',MultinomialNB())   \n",
    "    ])\n",
    "\n",
    "nb_cv3.fit(X_train,y_train_le)\n",
    "nb_cv3.score(X_train,y_train_le),nb_cv3.score(X_test,y_test_le)"
   ]
  },
  {
   "cell_type": "code",
   "execution_count": 107,
   "id": "c4f485e1-1c98-4932-831c-16849a85f81a",
   "metadata": {},
   "outputs": [
    {
     "data": {
      "text/plain": [
       "<sklearn.metrics._plot.confusion_matrix.ConfusionMatrixDisplay at 0x7faf39ca2520>"
      ]
     },
     "execution_count": 107,
     "metadata": {},
     "output_type": "execute_result"
    },
    {
     "data": {
      "image/png": "[encoded data removed]",
      "text/plain": [
       "<Figure size 432x288 with 2 Axes>"
      ]
     },
     "metadata": {
      "needs_background": "light"
     },
     "output_type": "display_data"
    }
   ],
   "source": [
    "ConfusionMatrixDisplay.from_estimator(nb_cv3,X_test,y_test_le,cmap='Blues')"
   ]
  },
  {
   "cell_type": "code",
   "execution_count": 46,
   "id": "9438ef35-5001-4f4b-ad6f-69bfa238e1ee",
   "metadata": {},
   "outputs": [
    {
     "data": {
      "text/plain": [
       "array([[ -9.41366778, -11.06336029, -11.14149595, ..., -10.79762824,\n",
       "        -11.01078255, -11.01078255],\n",
       "       [ -8.72623   , -11.27867397, -11.11382707, ..., -11.27867397,\n",
       "        -11.27867397, -11.27867397]])"
      ]
     },
     "execution_count": 46,
     "metadata": {},
     "output_type": "execute_result"
    }
   ],
   "source": [
    "nb_cv3.named_steps['nb'].feature_log_prob_"
   ]
  },
  {
   "cell_type": "code",
   "execution_count": 90,
   "id": "a6f447e3-d1ce-4d39-b2e7-73bf67dfcd7c",
   "metadata": {},
   "outputs": [
    {
     "data": {
      "text/plain": [
       "30000"
      ]
     },
     "execution_count": 90,
     "metadata": {},
     "output_type": "execute_result"
    }
   ],
   "source": [
    "nb_cv3.named_steps['nb'].n_features_in_"
   ]
  },
  {
   "cell_type": "code",
   "execution_count": 114,
   "id": "9ea74196-a533-4002-b97a-80a1b408f531",
   "metadata": {},
   "outputs": [
    {
     "ename": "AttributeError",
     "evalue": "'MultinomialNB' object has no attribute 'feature_names_in_'",
     "output_type": "error",
     "traceback": [
      "\u001b[0;31m---------------------------------------------------------------------------\u001b[0m",
      "\u001b[0;31mAttributeError\u001b[0m                            Traceback (most recent call last)",
      "\u001b[0;32m/var/folders/pr/wgwfmfsx53n97rhpm9z12wqh0000gn/T/ipykernel_2509/598742687.py\u001b[0m in \u001b[0;36m<module>\u001b[0;34m\u001b[0m\n\u001b[0;32m----> 1\u001b[0;31m \u001b[0mnb_cv3\u001b[0m\u001b[0;34m.\u001b[0m\u001b[0mnamed_steps\u001b[0m\u001b[0;34m[\u001b[0m\u001b[0;34m'nb'\u001b[0m\u001b[0;34m]\u001b[0m\u001b[0;34m.\u001b[0m\u001b[0mfeature_names_in_\u001b[0m\u001b[0;34m\u001b[0m\u001b[0;34m\u001b[0m\u001b[0m\n\u001b[0m",
      "\u001b[0;31mAttributeError\u001b[0m: 'MultinomialNB' object has no attribute 'feature_names_in_'"
     ]
    }
   ],
   "source": [
    "nb_cv3.named_steps['nb'].feature_names_in_"
   ]
  },
  {
   "cell_type": "code",
   "execution_count": 118,
   "id": "c21333fb-c7ca-4b79-a554-5b09d8647c6d",
   "metadata": {},
   "outputs": [
    {
     "data": {
      "text/plain": [
       "array([[0.62777501, 0.37222499],\n",
       "       [0.45362535, 0.54637465],\n",
       "       [0.5004339 , 0.4995661 ],\n",
       "       ...,\n",
       "       [0.52886671, 0.47113329],\n",
       "       [0.83904745, 0.16095255],\n",
       "       [0.3929837 , 0.6070163 ]])"
      ]
     },
     "execution_count": 118,
     "metadata": {},
     "output_type": "execute_result"
    }
   ],
   "source": [
    "nb_cv3.predict_proba(X_test)"
   ]
  },
  {
   "cell_type": "code",
   "execution_count": 129,
   "id": "baec4eed-35dc-4ef8-b3a1-f47d9253bb24",
   "metadata": {},
   "outputs": [],
   "source": [
    "test_preds = nb_cv3.predict(X_test)"
   ]
  },
  {
   "cell_type": "code",
   "execution_count": 135,
   "id": "55e3f6e6-972e-4013-bc70-d542f42c6c06",
   "metadata": {},
   "outputs": [],
   "source": [
    "misclass = X_test.copy()"
   ]
  },
  {
   "cell_type": "code",
   "execution_count": 139,
   "id": "264a6a1f-2ddc-4f4d-b17f-379926e5f43e",
   "metadata": {},
   "outputs": [
    {
     "data": {
      "text/html": [
       "<div>\n",
       "<style scoped>\n",
       "    .dataframe tbody tr th:only-of-type {\n",
       "        vertical-align: middle;\n",
       "    }\n",
       "\n",
       "    .dataframe tbody tr th {\n",
       "        vertical-align: top;\n",
       "    }\n",
       "\n",
       "    .dataframe thead th {\n",
       "        text-align: right;\n",
       "    }\n",
       "</style>\n",
       "<table border=\"1\" class=\"dataframe\">\n",
       "  <thead>\n",
       "    <tr style=\"text-align: right;\">\n",
       "      <th></th>\n",
       "      <th>title</th>\n",
       "    </tr>\n",
       "  </thead>\n",
       "  <tbody>\n",
       "    <tr>\n",
       "      <th>15461</th>\n",
       "      <td>Futurama's Reverand Lionel Preacherbot comes t...</td>\n",
       "    </tr>\n",
       "    <tr>\n",
       "      <th>19260</th>\n",
       "      <td>The 1900 House</td>\n",
       "    </tr>\n",
       "    <tr>\n",
       "      <th>21336</th>\n",
       "      <td>강남가라오케추천24시간룸문의$예약,010.5904.3130$송혜교실장$파티$혼자와도15만</td>\n",
       "    </tr>\n",
       "    <tr>\n",
       "      <th>6530</th>\n",
       "      <td>A little advice</td>\n",
       "    </tr>\n",
       "    <tr>\n",
       "      <th>22303</th>\n",
       "      <td>Conflicted about immigration</td>\n",
       "    </tr>\n",
       "  </tbody>\n",
       "</table>\n",
       "</div>"
      ],
      "text/plain": [
       "                                                   title\n",
       "15461  Futurama's Reverand Lionel Preacherbot comes t...\n",
       "19260                                     The 1900 House\n",
       "21336  강남가라오케추천24시간룸문의$예약,010.5904.3130$송혜교실장$파티$혼자와도15만\n",
       "6530                                     A little advice\n",
       "22303                       Conflicted about immigration"
      ]
     },
     "execution_count": 139,
     "metadata": {},
     "output_type": "execute_result"
    }
   ],
   "source": [
    "misclass = pd.DataFrame(misclass,columns=['title'])\n",
    "misclass.head()"
   ]
  },
  {
   "cell_type": "code",
   "execution_count": 151,
   "id": "de7ab011-9b54-4263-a0eb-1e57efbdb7e3",
   "metadata": {},
   "outputs": [
    {
     "data": {
      "text/html": [
       "<div>\n",
       "<style scoped>\n",
       "    .dataframe tbody tr th:only-of-type {\n",
       "        vertical-align: middle;\n",
       "    }\n",
       "\n",
       "    .dataframe tbody tr th {\n",
       "        vertical-align: top;\n",
       "    }\n",
       "\n",
       "    .dataframe thead th {\n",
       "        text-align: right;\n",
       "    }\n",
       "</style>\n",
       "<table border=\"1\" class=\"dataframe\">\n",
       "  <thead>\n",
       "    <tr style=\"text-align: right;\">\n",
       "      <th></th>\n",
       "      <th>title</th>\n",
       "      <th>true_class</th>\n",
       "      <th>pred_class</th>\n",
       "    </tr>\n",
       "  </thead>\n",
       "  <tbody>\n",
       "    <tr>\n",
       "      <th>19260</th>\n",
       "      <td>The 1900 House</td>\n",
       "      <td>Futurology</td>\n",
       "      <td>collapse</td>\n",
       "    </tr>\n",
       "    <tr>\n",
       "      <th>22303</th>\n",
       "      <td>Conflicted about immigration</td>\n",
       "      <td>collapse</td>\n",
       "      <td>Futurology</td>\n",
       "    </tr>\n",
       "    <tr>\n",
       "      <th>24362</th>\n",
       "      <td>65 million years from now I hope the next spec...</td>\n",
       "      <td>Futurology</td>\n",
       "      <td>collapse</td>\n",
       "    </tr>\n",
       "    <tr>\n",
       "      <th>25462</th>\n",
       "      <td>I think we will fertilize the oceans, for food...</td>\n",
       "      <td>Futurology</td>\n",
       "      <td>collapse</td>\n",
       "    </tr>\n",
       "    <tr>\n",
       "      <th>3767</th>\n",
       "      <td>Looking for a YouTube</td>\n",
       "      <td>collapse</td>\n",
       "      <td>Futurology</td>\n",
       "    </tr>\n",
       "    <tr>\n",
       "      <th>...</th>\n",
       "      <td>...</td>\n",
       "      <td>...</td>\n",
       "      <td>...</td>\n",
       "    </tr>\n",
       "    <tr>\n",
       "      <th>8944</th>\n",
       "      <td>I need your input for upcoming podcast epioase</td>\n",
       "      <td>collapse</td>\n",
       "      <td>Futurology</td>\n",
       "    </tr>\n",
       "    <tr>\n",
       "      <th>17464</th>\n",
       "      <td>Regarding questions and healthy skepticism in ...</td>\n",
       "      <td>Futurology</td>\n",
       "      <td>collapse</td>\n",
       "    </tr>\n",
       "    <tr>\n",
       "      <th>11965</th>\n",
       "      <td>[SERIOUS] What does fall/winter in the US look...</td>\n",
       "      <td>collapse</td>\n",
       "      <td>Futurology</td>\n",
       "    </tr>\n",
       "    <tr>\n",
       "      <th>17387</th>\n",
       "      <td>Why is this sub's banner the same as /r/altrig...</td>\n",
       "      <td>Futurology</td>\n",
       "      <td>collapse</td>\n",
       "    </tr>\n",
       "    <tr>\n",
       "      <th>26734</th>\n",
       "      <td>A Dream of Collapse</td>\n",
       "      <td>collapse</td>\n",
       "      <td>Futurology</td>\n",
       "    </tr>\n",
       "  </tbody>\n",
       "</table>\n",
       "<p>667 rows × 3 columns</p>\n",
       "</div>"
      ],
      "text/plain": [
       "                                                   title  true_class  \\\n",
       "19260                                     The 1900 House  Futurology   \n",
       "22303                       Conflicted about immigration    collapse   \n",
       "24362  65 million years from now I hope the next spec...  Futurology   \n",
       "25462  I think we will fertilize the oceans, for food...  Futurology   \n",
       "3767                               Looking for a YouTube    collapse   \n",
       "...                                                  ...         ...   \n",
       "8944      I need your input for upcoming podcast epioase    collapse   \n",
       "17464  Regarding questions and healthy skepticism in ...  Futurology   \n",
       "11965  [SERIOUS] What does fall/winter in the US look...    collapse   \n",
       "17387  Why is this sub's banner the same as /r/altrig...  Futurology   \n",
       "26734                                A Dream of Collapse    collapse   \n",
       "\n",
       "       pred_class  \n",
       "19260    collapse  \n",
       "22303  Futurology  \n",
       "24362    collapse  \n",
       "25462    collapse  \n",
       "3767   Futurology  \n",
       "...           ...  \n",
       "8944   Futurology  \n",
       "17464    collapse  \n",
       "11965  Futurology  \n",
       "17387    collapse  \n",
       "26734  Futurology  \n",
       "\n",
       "[667 rows x 3 columns]"
      ]
     },
     "execution_count": 151,
     "metadata": {},
     "output_type": "execute_result"
    }
   ],
   "source": [
    "misclass['true_class'] = y_test\n",
    "misclass['pred_class'] = ['collapse' if i == 1 else 'Futurology' for i in test_preds]\n",
    "misclass[misclass['true_class'] != misclass['pred_class']]"
   ]
  },
  {
   "cell_type": "code",
   "execution_count": null,
   "id": "4e6573ce-fd23-4f90-925b-3a02a10804c2",
   "metadata": {},
   "outputs": [],
   "source": []
  },
  {
   "cell_type": "code",
   "execution_count": null,
   "id": "0b28b393-9020-4fe8-87a4-4be9a4a94c51",
   "metadata": {},
   "outputs": [],
   "source": []
  },
  {
   "cell_type": "code",
   "execution_count": 157,
   "id": "c7cbf096-cd97-4ee4-996c-5029cae690d3",
   "metadata": {},
   "outputs": [],
   "source": [
    "y_holdout_le = le.transform(y_holdout)"
   ]
  },
  {
   "cell_type": "code",
   "execution_count": 158,
   "id": "b3a78680-ab41-42fa-9e22-0977fc30bb3f",
   "metadata": {},
   "outputs": [
    {
     "data": {
      "text/plain": [
       "0.7934565651306084"
      ]
     },
     "execution_count": 158,
     "metadata": {},
     "output_type": "execute_result"
    }
   ],
   "source": [
    "nb_cv3.score(X_holdout,y_holdout_le)"
   ]
  },
  {
   "cell_type": "code",
   "execution_count": null,
   "id": "337dcf16-46f6-41c9-b334-c33c346d5a89",
   "metadata": {},
   "outputs": [],
   "source": []
  },
  {
   "cell_type": "code",
   "execution_count": null,
   "id": "b2519786-442f-4d8d-b2d2-5afeae1c183b",
   "metadata": {},
   "outputs": [],
   "source": []
  },
  {
   "cell_type": "code",
   "execution_count": null,
   "id": "61c5aa6b-1e8c-4158-93d2-3d1bdd55d12a",
   "metadata": {},
   "outputs": [],
   "source": []
  },
  {
   "cell_type": "code",
   "execution_count": null,
   "id": "75ded4fd-5557-4bc8-9f2f-cc9a25145229",
   "metadata": {},
   "outputs": [],
   "source": []
  },
  {
   "cell_type": "code",
   "execution_count": null,
   "id": "e5e6b077-dd42-45ea-96dc-a60a4494cdee",
   "metadata": {},
   "outputs": [],
   "source": []
  }
 ],
 "metadata": {
  "kernelspec": {
   "display_name": "Python 3 (ipykernel)",
   "language": "python",
   "name": "python3"
  },
  "language_info": {
   "codemirror_mode": {
    "name": "ipython",
    "version": 3
   },
   "file_extension": ".py",
   "mimetype": "text/x-python",
   "name": "python",
   "nbconvert_exporter": "python",
   "pygments_lexer": "ipython3",
   "version": "3.9.7"
  }
 },
 "nbformat": 4,
 "nbformat_minor": 5
}
