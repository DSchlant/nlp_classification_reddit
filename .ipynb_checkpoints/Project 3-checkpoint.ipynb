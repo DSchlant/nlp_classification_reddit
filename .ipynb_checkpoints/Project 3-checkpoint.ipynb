{
 "cells": [
  {
   "cell_type": "code",
   "execution_count": 1,
   "id": "53125333-f5e1-4abf-bee0-a4b632659663",
   "metadata": {},
   "outputs": [],
   "source": [
    "import requests\n",
    "import time\n",
    "import pandas as pd\n",
    "from bs4 import BeautifulSoup\n",
    "from sklearn.feature_extraction.text import CountVectorizer, TfidfVectorizer\n",
    "from sklearn.model_selection import train_test_split, GridSearchCV\n",
    "from sklearn.linear_model import LogisticRegression\n",
    "from sklearn.pipeline import Pipeline\n",
    "from sklearn.metrics import ConfusionMatrixDisplay, f1_score, precision_score,recall_score\n",
    "import nltk\n",
    "from nltk import word_tokenize\n",
    "from nltk.stem import WordNetLemmatizer\n",
    "from sklearn.dummy import DummyClassifier, DummyRegressor\n",
    "from sklearn.preprocessing import LabelEncoder\n",
    "from sklearn.neighbors import KNeighborsClassifier, KNeighborsRegressor\n",
    "from sklearn.tree import plot_tree, DecisionTreeClassifier\n",
    "from sklearn.ensemble import VotingRegressor\n",
    "from sklearn.ensemble import VotingClassifier\n",
    "from sklearn.preprocessing import StandardScaler\n",
    "from sklearn.naive_bayes import GaussianNB, MultinomialNB\n",
    "from sklearn.ensemble import ExtraTreesClassifier, RandomForestClassifier\n",
    "import warnings\n",
    "from sklearn.ensemble import ExtraTreesClassifier\n",
    "from sklearn.ensemble import RandomForestClassifier\n",
    "from sklearn. compose import ColumnTransformer\n",
    "import numpy as np"
   ]
  },
  {
   "cell_type": "code",
   "execution_count": 2,
   "id": "31f41fca-b1f5-4808-8cd7-da926305e7d6",
   "metadata": {},
   "outputs": [],
   "source": [
    "warnings.filterwarnings('ignore')"
   ]
  },
  {
   "cell_type": "code",
   "execution_count": 3,
   "id": "68f6af72-4e9e-4fa2-8571-78e47edd9e96",
   "metadata": {},
   "outputs": [],
   "source": [
    "base_url = 'https://api.pushshift.io/reddit/search/'"
   ]
  },
  {
   "cell_type": "code",
   "execution_count": 4,
   "id": "bff38a20-2e64-4fe8-b25a-7afd86ca6436",
   "metadata": {},
   "outputs": [],
   "source": [
    "pd.set_option('display.max_columns', None)\n",
    "#pd.set_option('display.max_rows', None)"
   ]
  },
  {
   "cell_type": "markdown",
   "id": "254c3b50-fa45-4ef0-9588-40735895d6fd",
   "metadata": {},
   "source": [
    "### Pulling in Posts from Reddit Pushshift API"
   ]
  },
  {
   "cell_type": "code",
   "execution_count": 5,
   "id": "62d1b7ee-e9e9-4d76-853e-4bf089a0cf61",
   "metadata": {},
   "outputs": [],
   "source": [
    "def pull_posts(base_url,subreddit,length):\n",
    "    data_pulls = pd.DataFrame()\n",
    "    before = 1650821963\n",
    "    for i in range(length):\n",
    "        parameters = {'subreddit': subreddit,\n",
    "                  'size': 100,\n",
    "                  'is_self' : True,\n",
    "                  'before': before}\n",
    "        try:\n",
    "            response = requests.get(base_url+'submission/',parameters)\n",
    "            if response.status_code != 200:\n",
    "                print('request failed')\n",
    "            else:\n",
    "                data = response.json()\n",
    "                posts = data['data']\n",
    "                posts = pd.DataFrame(posts)\n",
    "                data_pulls = pd.concat([data_pulls,posts])\n",
    "                time.sleep(5)\n",
    "                before = data_pulls['created_utc'].iloc[-1]\n",
    "        except:\n",
    "            print(\"Exception: {}\".format(type(exception).__name__))\n",
    "            print(\"Exception message: {}\".format(exception))\n",
    "            time.sleep(15)\n",
    "    return data_pulls"
   ]
  },
  {
   "cell_type": "code",
   "execution_count": 6,
   "id": "2801b257-d398-42dc-a278-6735281868fb",
   "metadata": {},
   "outputs": [],
   "source": [
    "#futurology_pulls = pull_posts(base_url,'futurology',289)\n",
    "#futurology_pulls.to_csv('futurology_pull.csv',index=False)"
   ]
  },
  {
   "cell_type": "code",
   "execution_count": 7,
   "id": "7a44b531-0c04-409d-8cdb-a4ca04b238fb",
   "metadata": {},
   "outputs": [],
   "source": [
    "#collapse_pulls = pull_posts(base_url,'collapse',288)\n",
    "#collapse_pulls.to_csv('collapse_pull.csv',index=False)"
   ]
  },
  {
   "cell_type": "code",
   "execution_count": 8,
   "id": "81337711-04f8-43e2-9491-83523587c0ba",
   "metadata": {},
   "outputs": [],
   "source": [
    "df_fut = pd.read_csv('futurology_pull.csv')\n",
    "df_col = pd.read_csv('collapse_pull.csv')"
   ]
  },
  {
   "cell_type": "markdown",
   "id": "50c90ea5-c5a7-4ebf-b00f-b51fec3ee027",
   "metadata": {},
   "source": [
    "### Checking for duplicates"
   ]
  },
  {
   "cell_type": "code",
   "execution_count": 9,
   "id": "a40caa53-b1f9-4057-b7d8-1293d6e7475d",
   "metadata": {},
   "outputs": [],
   "source": [
    "df_fut = df_fut.drop_duplicates()\n",
    "df_col = df_col.drop_duplicates()"
   ]
  },
  {
   "cell_type": "code",
   "execution_count": 10,
   "id": "faa03e3d-dfd6-49e4-ae46-a420c7183dd1",
   "metadata": {},
   "outputs": [],
   "source": [
    "df_fut_cut = df_fut[['subreddit','title']]\n",
    "df_col_cut = df_col[['subreddit','title']]"
   ]
  },
  {
   "cell_type": "markdown",
   "id": "a4ad8ef3-232f-4347-b7c9-d6967815e182",
   "metadata": {},
   "source": [
    "### Checking to see if any rows have no English text"
   ]
  },
  {
   "cell_type": "code",
   "execution_count": null,
   "id": "2c94881d-8b63-43e0-b58d-4d743d9e3da9",
   "metadata": {},
   "outputs": [],
   "source": []
  },
  {
   "cell_type": "markdown",
   "id": "8b5a9006-c2a0-4057-918c-03e595816792",
   "metadata": {
    "tags": []
   },
   "source": [
    "### Combining Dataframes"
   ]
  },
  {
   "cell_type": "code",
   "execution_count": 11,
   "id": "e84bf9dc-3f0c-4c0c-9392-9b406d516de3",
   "metadata": {
    "tags": []
   },
   "outputs": [],
   "source": [
    "df_comb = pd.concat([df_col_cut,df_fut_cut])"
   ]
  },
  {
   "cell_type": "code",
   "execution_count": 12,
   "id": "97900f1e-6227-40f6-94c5-45b9564f2add",
   "metadata": {},
   "outputs": [
    {
     "data": {
      "text/plain": [
       "(57617, 2)"
      ]
     },
     "execution_count": 12,
     "metadata": {},
     "output_type": "execute_result"
    }
   ],
   "source": [
    "df_comb.shape"
   ]
  },
  {
   "cell_type": "markdown",
   "id": "053ff6a4-4d58-405a-b3d3-0cb9dc9eace0",
   "metadata": {},
   "source": [
    "### Shuffling and Splitting Dataset into Holdout"
   ]
  },
  {
   "cell_type": "code",
   "execution_count": 13,
   "id": "6cee7b47-954c-450a-ab10-1d449b891172",
   "metadata": {},
   "outputs": [],
   "source": [
    "df_comb = df_comb.sample(frac=1,random_state=2)"
   ]
  },
  {
   "cell_type": "code",
   "execution_count": 155,
   "id": "44b17fd4-5ca9-4485-b995-fe1dcbaa0d94",
   "metadata": {},
   "outputs": [],
   "source": [
    "df_holdout = df_comb[0:11523]\n",
    "X_holdout = df_holdout['title']\n",
    "y_holdout = df_holdout['subreddit']"
   ]
  },
  {
   "cell_type": "code",
   "execution_count": 15,
   "id": "de76f1cb-7b3d-4f13-a2e9-f757e60f179f",
   "metadata": {},
   "outputs": [],
   "source": [
    "df_main = df_comb[11523:]"
   ]
  },
  {
   "cell_type": "code",
   "execution_count": 16,
   "id": "597d9150-d155-4133-95e5-ceafedf83fb7",
   "metadata": {},
   "outputs": [
    {
     "data": {
      "text/plain": [
       "(11523, 2)"
      ]
     },
     "execution_count": 16,
     "metadata": {},
     "output_type": "execute_result"
    }
   ],
   "source": [
    "df_holdout.shape"
   ]
  },
  {
   "cell_type": "code",
   "execution_count": 17,
   "id": "f244414d-da38-4235-af0b-a45f80a74933",
   "metadata": {},
   "outputs": [
    {
     "data": {
      "text/plain": [
       "(46094, 2)"
      ]
     },
     "execution_count": 17,
     "metadata": {},
     "output_type": "execute_result"
    }
   ],
   "source": [
    "df_main.shape"
   ]
  },
  {
   "cell_type": "markdown",
   "id": "a499fc5f-290b-427c-a113-3dbf50744c7a",
   "metadata": {},
   "source": [
    "Using 30% of the dataset for initial analysis."
   ]
  },
  {
   "cell_type": "code",
   "execution_count": 18,
   "id": "a84cb44b-0f8b-4d93-9f95-07e2060dda49",
   "metadata": {},
   "outputs": [],
   "source": [
    "df_sample = df_main.sample(frac=0.3,random_state=2)"
   ]
  },
  {
   "cell_type": "code",
   "execution_count": 19,
   "id": "1da76a9d-f9c0-4fd8-9b0e-37c38c114323",
   "metadata": {},
   "outputs": [
    {
     "data": {
      "text/plain": [
       "Futurology    0.500434\n",
       "collapse      0.499566\n",
       "Name: subreddit, dtype: float64"
      ]
     },
     "execution_count": 19,
     "metadata": {},
     "output_type": "execute_result"
    }
   ],
   "source": [
    "df_sample['subreddit'].value_counts(normalize=True)"
   ]
  },
  {
   "cell_type": "markdown",
   "id": "26d2916a-3093-4613-8ba7-df35fa164fcd",
   "metadata": {},
   "source": [
    "### TTS"
   ]
  },
  {
   "cell_type": "code",
   "execution_count": 20,
   "id": "c1da68f0-307a-4bee-b48b-160ab226eb6a",
   "metadata": {},
   "outputs": [],
   "source": [
    "X = df_sample['title']\n",
    "y = df_sample['subreddit']"
   ]
  },
  {
   "cell_type": "code",
   "execution_count": 21,
   "id": "284cbdfd-7aac-4d67-b987-f6dd9761e0d7",
   "metadata": {},
   "outputs": [],
   "source": [
    "X_train,X_test,y_train,y_test = train_test_split(X,y,random_state=2,stratify=y)"
   ]
  },
  {
   "cell_type": "markdown",
   "id": "1368e5bf-576c-4b7b-bf49-11acfb7506cd",
   "metadata": {},
   "source": [
    "### Baseline Null"
   ]
  },
  {
   "cell_type": "code",
   "execution_count": 22,
   "id": "23c73e96-5d7a-4be6-8c02-7ede78a39e34",
   "metadata": {},
   "outputs": [
    {
     "data": {
      "text/plain": [
       "0.5004339022273647"
      ]
     },
     "execution_count": 22,
     "metadata": {},
     "output_type": "execute_result"
    }
   ],
   "source": [
    "dc = DummyClassifier()\n",
    "dc.fit(X_train,y_train)\n",
    "dc.predict(X_test)\n",
    "dc.score(X_test,y_test)"
   ]
  },
  {
   "cell_type": "markdown",
   "id": "6892dd00-879f-4124-a910-6c299a76cfbd",
   "metadata": {},
   "source": [
    "### Tokenize/Lemmatize"
   ]
  },
  {
   "cell_type": "code",
   "execution_count": 23,
   "id": "044e1a0c-bd35-449f-8e01-e1e74b3f7c06",
   "metadata": {
    "tags": []
   },
   "outputs": [],
   "source": [
    "def lemma_tokenizer(doc):\n",
    "    wnl = WordNetLemmatizer()\n",
    "    return [wnl.lemmatize(w) for w in word_tokenize(doc)]"
   ]
  },
  {
   "cell_type": "markdown",
   "id": "bc4e6242-915e-4b4f-ac51-0c1d45a88d76",
   "metadata": {},
   "source": [
    "### Creating Own List of Stopwords"
   ]
  },
  {
   "cell_type": "code",
   "execution_count": 101,
   "id": "a4e582d4-7044-4349-bc1f-f630f8a9f368",
   "metadata": {},
   "outputs": [],
   "source": [
    "my_stop_words=['english','ascii','?',',','.','(',')',':','!','u','\\'','i','are','that','the','on','and','is','to','a','of',\\\n",
    "               'in','what','for','will','you','it','be','this','with','do','n\\'t','-','\\'s','\\'','an',\\\n",
    "               '`','.',',','u','/r/futurology','/r/collapse','~','e','g','’','``','=','o','de','r/collapse','r/futurology',\\\n",
    "               'we','how','about','have','can','if','all','or','would','by','our','why','not','your','year','when',\\\n",
    "               'could','there','like','from','...','an','ha','haha','hahaha','[]','[',']','so','new','now','doe',\\\n",
    "               'my','more','just','any','but','who','at','some','me',';','they','no','yes','out','should','get',\\\n",
    "               'most','s','than','up','one','wa','make','here','thing','#','$','got','&','*','where','anyone','collapse'\\\n",
    "              'futurology','collapse','future','\\'''']"
   ]
  },
  {
   "cell_type": "markdown",
   "id": "dd899f5d-7426-4f0b-9e70-60ac40caca01",
   "metadata": {},
   "source": [
    "### Count Vectorize"
   ]
  },
  {
   "cell_type": "code",
   "execution_count": 102,
   "id": "8947dd5e-555e-44e8-aa26-37ccd8a39aaf",
   "metadata": {},
   "outputs": [],
   "source": [
    "cvec = CountVectorizer(strip_accents='unicode',stop_words=my_stop_words,ngram_range=(1,2),tokenizer=lemma_tokenizer)\n",
    "cvec.fit(X_train)\n",
    "X_train_cv = cvec.transform(X_train)\n",
    "X_test_cv = cvec.transform(X_test)\n",
    "\n",
    "X_train_cv = pd.DataFrame(X_train_cv.A,columns=cvec.get_feature_names_out())\n",
    "X_test_cv = pd.DataFrame(X_test_cv.A,columns=cvec.get_feature_names_out())\n",
    "\n"
   ]
  },
  {
   "cell_type": "markdown",
   "id": "b7786beb-a74c-4ecd-bc73-353f5efd4849",
   "metadata": {},
   "source": [
    "### TF-IDF Vectorize"
   ]
  },
  {
   "cell_type": "code",
   "execution_count": 103,
   "id": "641a5630-1525-4c7f-ac7a-a8ee1ef9e6f0",
   "metadata": {},
   "outputs": [],
   "source": [
    "tfi = TfidfVectorizer(strip_accents='unicode',stop_words=my_stop_words,ngram_range=(1,2),tokenizer=lemma_tokenizer)\n",
    "tfi.fit(X_train)\n",
    "X_train_tfi = tfi.transform(X_train)\n",
    "X_test_tfi = tfi.transform(X_test)\n",
    "\n",
    "X_train_tfi = pd.DataFrame(X_train_tfi.A,columns=tfi.get_feature_names_out())\n",
    "X_test_tfi = pd.DataFrame(X_test_tfi.A,columns=tfi.get_feature_names_out())"
   ]
  },
  {
   "cell_type": "markdown",
   "id": "13aec3ac-abb1-4f06-ab1e-0ad1ba94fad3",
   "metadata": {},
   "source": [
    "### Label Encoding Y"
   ]
  },
  {
   "cell_type": "code",
   "execution_count": 109,
   "id": "f9ca4415-36c5-422e-8b48-977404aaa467",
   "metadata": {},
   "outputs": [],
   "source": [
    "le = LabelEncoder()\n",
    "y_train_le = le.fit_transform(y_train)\n",
    "y_test_le = le.transform(y_test)"
   ]
  },
  {
   "cell_type": "code",
   "execution_count": 113,
   "id": "9794a21a-37a4-4831-8c88-1028e456f4af",
   "metadata": {},
   "outputs": [
    {
     "data": {
      "text/plain": [
       "0.4995660977726352"
      ]
     },
     "execution_count": 113,
     "metadata": {},
     "output_type": "execute_result"
    }
   ],
   "source": [
    "y_train_le.mean()"
   ]
  },
  {
   "cell_type": "markdown",
   "id": "e0afae6e-1b48-45c8-80c3-d3e672a36e4c",
   "metadata": {},
   "source": [
    "Collapse = 1"
   ]
  },
  {
   "cell_type": "markdown",
   "id": "8ecf25ec-09c3-4d4f-8b2a-70267818ec06",
   "metadata": {},
   "source": [
    "### Reviewing Most Frequent Features"
   ]
  },
  {
   "cell_type": "code",
   "execution_count": 105,
   "id": "82237807-58b5-4e48-b491-5b6e7e0ffcb6",
   "metadata": {},
   "outputs": [
    {
     "data": {
      "text/plain": [
       "think             454\n",
       "''                441\n",
       "world             427\n",
       "people            393\n",
       "human             379\n",
       "climate           353\n",
       "change            333\n",
       "technology        254\n",
       "ai                253\n",
       "going             227\n",
       "climate change    218\n",
       "time              199\n",
       "life              191\n",
       "next              187\n",
       "thought           178\n",
       "need              178\n",
       "see               177\n",
       "society           164\n",
       "good              153\n",
       "job               152\n",
       "question          152\n",
       "global            150\n",
       "car               149\n",
       "their             148\n",
       "help              148\n",
       "dtype: int64"
      ]
     },
     "execution_count": 105,
     "metadata": {},
     "output_type": "execute_result"
    }
   ],
   "source": [
    "X_train_cv.sum().sort_values(ascending=False).head(25)"
   ]
  },
  {
   "cell_type": "markdown",
   "id": "5b9186dc-b3e6-4cda-8c6a-c4b83c4d9ecb",
   "metadata": {},
   "source": [
    "### Naive Bayes"
   ]
  },
  {
   "cell_type": "markdown",
   "id": "9b1204d4-faa8-48af-8960-728d5fd52781",
   "metadata": {},
   "source": [
    "Running Multinomial Naive Bayes on lemmatized, countvectorized data. "
   ]
  },
  {
   "cell_type": "code",
   "execution_count": 29,
   "id": "f02f5fe4-1855-4362-8441-4e15eec842bb",
   "metadata": {},
   "outputs": [
    {
     "data": {
      "text/plain": [
       "(0.8980811879278758, 0.7983800983511715)"
      ]
     },
     "execution_count": 29,
     "metadata": {},
     "output_type": "execute_result"
    }
   ],
   "source": [
    "pipenb = Pipeline(\n",
    "    [\n",
    "    ('cv',CountVectorizer(stop_words=my_stop_words,tokenizer=lemma_tokenizer,strip_accents='unicode')),\n",
    "    ('nb',MultinomialNB())   \n",
    "    ])\n",
    "\n",
    "pipenb.fit(X_train,y_train_le)\n",
    "pipenb.score(X_train,y_train_le),pipenb.score(X_test,y_test_le)"
   ]
  },
  {
   "cell_type": "markdown",
   "id": "1af31702-7cb6-4d80-b8cf-192ce0f06d7f",
   "metadata": {},
   "source": [
    "Removed lemmatizer, added bigrams, and max-df tuned."
   ]
  },
  {
   "cell_type": "code",
   "execution_count": 30,
   "id": "7c192062-470f-4c4c-b865-9b9ea4b473b8",
   "metadata": {},
   "outputs": [
    {
     "data": {
      "text/plain": [
       "(0.9687590396297368, 0.7989586346543246)"
      ]
     },
     "execution_count": 30,
     "metadata": {},
     "output_type": "execute_result"
    }
   ],
   "source": [
    "pipenb1 = Pipeline(\n",
    "    [\n",
    "    ('cv',CountVectorizer(stop_words=my_stop_words,strip_accents='unicode',ngram_range=(1, 2),max_df=.4)),\n",
    "    ('nb',MultinomialNB())   \n",
    "    ])\n",
    "\n",
    "pipenb1.fit(X_train,y_train_le)\n",
    "pipenb1.score(X_train,y_train_le),pipenb1.score(X_test,y_test_le)"
   ]
  },
  {
   "cell_type": "markdown",
   "id": "44c44753-2552-4d79-a2c0-ed185249e2fb",
   "metadata": {},
   "source": [
    "Added back in lemmatizer which improved model."
   ]
  },
  {
   "cell_type": "code",
   "execution_count": 31,
   "id": "21d8da60-1f59-4fd8-a7a9-7ce905069569",
   "metadata": {},
   "outputs": [
    {
     "data": {
      "text/plain": [
       "(0.9776299296114165, 0.8030083887763957)"
      ]
     },
     "execution_count": 31,
     "metadata": {},
     "output_type": "execute_result"
    }
   ],
   "source": [
    "pipenb1 = Pipeline(\n",
    "    [\n",
    "    ('cv',CountVectorizer(stop_words=my_stop_words,strip_accents='unicode',ngram_range=(1, 3),max_df=.5,tokenizer=lemma_tokenizer)),\n",
    "    ('nb',MultinomialNB())   \n",
    "    ])\n",
    "\n",
    "pipenb1.fit(X_train,y_train_le)\n",
    "pipenb1.score(X_train,y_train_le),pipenb1.score(X_test,y_test_le)"
   ]
  },
  {
   "cell_type": "markdown",
   "id": "dc37e364-c962-48f9-b70c-0ca0fbfed18e",
   "metadata": {},
   "source": [
    "Scoring The TF-IDF vectorized data on Gaussian Naive Bayes. Wihtout lemmatier. Uses bigrams. Performs worse than multinomial naive bayes using count vectorization."
   ]
  },
  {
   "cell_type": "code",
   "execution_count": 32,
   "id": "d472efba-917a-438a-a626-d40278b93fee",
   "metadata": {},
   "outputs": [
    {
     "data": {
      "text/plain": [
       "(0.9865008195930961, 0.6901938096615563)"
      ]
     },
     "execution_count": 32,
     "metadata": {},
     "output_type": "execute_result"
    }
   ],
   "source": [
    "gnb = GaussianNB()\n",
    "\n",
    "gnb.fit(X_train_tfi,y_train_le)\n",
    "gnb.score(X_train_tfi,y_train_le),gnb.score(X_test_tfi,y_test_le)"
   ]
  },
  {
   "cell_type": "markdown",
   "id": "32a1b6cf-bd2a-4a73-b219-4336a402252e",
   "metadata": {},
   "source": [
    "### Logistic"
   ]
  },
  {
   "cell_type": "markdown",
   "id": "567ff0da-e8cf-47c1-9946-18fab96759f2",
   "metadata": {},
   "source": [
    "Running fairly basic Logistic Regression. CV data. Performs worse than Naive Bayes."
   ]
  },
  {
   "cell_type": "code",
   "execution_count": 36,
   "id": "d14d6dd2-16d2-4763-9d2c-2deddc6d7852",
   "metadata": {},
   "outputs": [
    {
     "data": {
      "text/plain": [
       "(0.9299971073184843, 0.7836274226207695)"
      ]
     },
     "execution_count": 36,
     "metadata": {},
     "output_type": "execute_result"
    }
   ],
   "source": [
    "pipe = Pipeline(\n",
    "    [\n",
    "    ('cv',CountVectorizer(stop_words=my_stop_words,tokenizer=lemma_tokenizer,strip_accents='unicode')),\n",
    "    ('lr',LogisticRegression(max_iter=10000))   \n",
    "    ])\n",
    "\n",
    "pipe.fit(X_train,y_train_le)\n",
    "pipe.score(X_train,y_train_le),pipe.score(X_test,y_test_le)"
   ]
  },
  {
   "cell_type": "markdown",
   "id": "442b0e08-3e59-4c4e-8aa9-dcde6c95301f",
   "metadata": {},
   "source": [
    "Removing lemmatizer appears to make model slightly worse."
   ]
  },
  {
   "cell_type": "code",
   "execution_count": 37,
   "id": "c9fc824f-c592-4886-a121-737e1544bba0",
   "metadata": {},
   "outputs": [
    {
     "data": {
      "text/plain": [
       "(0.9366502748047439, 0.7798669366502748)"
      ]
     },
     "execution_count": 37,
     "metadata": {},
     "output_type": "execute_result"
    }
   ],
   "source": [
    "pipe2 = Pipeline(\n",
    "    [\n",
    "    ('cv',CountVectorizer(stop_words=my_stop_words,strip_accents='unicode')),\n",
    "    ('lr',LogisticRegression(max_iter=10000))   \n",
    "    ])\n",
    "\n",
    "pipe2.fit(X_train,y_train_le)\n",
    "pipe2.score(X_train,y_train_le),pipe2.score(X_test,y_test_le)"
   ]
  },
  {
   "cell_type": "markdown",
   "id": "f00267c2-a2e5-42b4-998e-cc5b4b625940",
   "metadata": {},
   "source": [
    "Running gridsearch over model's parameters."
   ]
  },
  {
   "cell_type": "code",
   "execution_count": 38,
   "id": "613c9e99-d919-4cb5-ba9c-f4f5967d6704",
   "metadata": {},
   "outputs": [],
   "source": [
    "pipe2_params = {\n",
    "    'cv__ngram_range' : [(1,1), (1,2), (2,2)],\n",
    "    'cv__min_df': [1,2,3],\n",
    "    'cv__max_df': [0.7,0.8,0.9,1.0],\n",
    "    'lr__C': [.001,.001,.01,.1,1,10,100,1000]\n",
    "}"
   ]
  },
  {
   "cell_type": "code",
   "execution_count": 39,
   "id": "e15e72bb-7890-4de3-8632-a359dada73e3",
   "metadata": {},
   "outputs": [],
   "source": [
    "gs2 = GridSearchCV(pipe2,param_grid=pipe2_params)"
   ]
  },
  {
   "cell_type": "code",
   "execution_count": 40,
   "id": "0789a5f5-04dd-436d-8601-52c7e76296a4",
   "metadata": {},
   "outputs": [],
   "source": [
    "# gs2.fit(X_train,y_train)\n",
    "# gs2.score(X_train,y_train), gs2.score(X_test,y_test)"
   ]
  },
  {
   "cell_type": "markdown",
   "id": "7c6f4739-7780-4b3e-ae64-f0dbd3dd255e",
   "metadata": {},
   "source": [
    "Running the above gridsearch yielded the below parameters."
   ]
  },
  {
   "cell_type": "code",
   "execution_count": 41,
   "id": "2f61ca5b-0563-40e6-9bb9-9568d1644db1",
   "metadata": {},
   "outputs": [],
   "source": [
    "#gs2.best_params_\n",
    "#{'cv__max_df': 0.7, 'cv__min_df': 1, 'cv__ngram_range': (1, 2), 'lr__C': 1}"
   ]
  },
  {
   "cell_type": "markdown",
   "id": "35386b89-2c29-4ba0-a090-be9d78706d7f",
   "metadata": {},
   "source": [
    "Running a model with these parameters in pipe2alpha. This is our best logistic regression model yet."
   ]
  },
  {
   "cell_type": "code",
   "execution_count": 43,
   "id": "299f0da9-84e2-41b2-9a41-1ed220b7bd3c",
   "metadata": {},
   "outputs": [
    {
     "data": {
      "text/plain": [
       "(0.9847652106836371, 0.7908591264101822)"
      ]
     },
     "execution_count": 43,
     "metadata": {},
     "output_type": "execute_result"
    }
   ],
   "source": [
    "pipe2alpha = Pipeline(\n",
    "    [\n",
    "    ('cv',CountVectorizer(stop_words=my_stop_words,strip_accents='unicode',max_df=0.7,ngram_range=(1, 2),tokenizer=lemma_tokenizer)),\n",
    "    ('lr',LogisticRegression(max_iter=10000))   \n",
    "    ])\n",
    "\n",
    "pipe2alpha.fit(X_train,y_train_le)\n",
    "pipe2alpha.score(X_train,y_train_le),pipe2alpha.score(X_test,y_test_le)"
   ]
  },
  {
   "cell_type": "markdown",
   "id": "c8950135-53a4-4f35-97f0-07c6f2da84fa",
   "metadata": {},
   "source": [
    "Running a similar model, with TF-IDF vectorizing. Slightly outperforms count vercorized. The below model is the best of the logistic models we generate."
   ]
  },
  {
   "cell_type": "code",
   "execution_count": 95,
   "id": "63f2b973-4ba7-4200-b0f7-26f2c781098e",
   "metadata": {},
   "outputs": [
    {
     "data": {
      "text/plain": [
       "(0.946292546523961, 0.7983800983511715)"
      ]
     },
     "execution_count": 95,
     "metadata": {},
     "output_type": "execute_result"
    }
   ],
   "source": [
    "pipe3 = Pipeline(\n",
    "    [\n",
    "    ('tf',TfidfVectorizer(stop_words=my_stop_words,ngram_range=[1,2],max_df=0.5,tokenizer=lemma_tokenizer,max_features=64000)),\n",
    "    ('lr',LogisticRegression(max_iter=10000))   \n",
    "    ])\n",
    "\n",
    "pipe3.fit(X_train,y_train_le)\n",
    "pipe3.score(X_train,y_train_le),pipe3.score(X_test,y_test_le)"
   ]
  },
  {
   "cell_type": "markdown",
   "id": "e431a978-a9c8-4a59-a81e-58ab84a96d16",
   "metadata": {},
   "source": [
    "Assembling gridsearch to check over max_df and ngram parameters for TF-IDF."
   ]
  },
  {
   "cell_type": "code",
   "execution_count": 96,
   "id": "356993e9-44df-428c-95b6-168eea06bbe1",
   "metadata": {},
   "outputs": [],
   "source": [
    "pipe3_params = {\n",
    "    'tf__max_df': [.5, .6, .7],\n",
    "    'tf__ngram_range': [[1,1], [1,2], [2,2]]\n",
    "}"
   ]
  },
  {
   "cell_type": "code",
   "execution_count": 97,
   "id": "b5be15ec-06d6-41dc-9abd-143b326ecef5",
   "metadata": {},
   "outputs": [],
   "source": [
    "gs3 = GridSearchCV(pipe3,param_grid=pipe3_params)"
   ]
  },
  {
   "cell_type": "code",
   "execution_count": 98,
   "id": "5d7d6a2e-4c1c-4092-98d2-7153e282faf9",
   "metadata": {},
   "outputs": [
    {
     "data": {
      "text/plain": [
       "(0.8961527335840324, 0.7943303442291004)"
      ]
     },
     "execution_count": 98,
     "metadata": {},
     "output_type": "execute_result"
    }
   ],
   "source": [
    "gs3.fit(X_train,y_train)\n",
    "gs3.score(X_train,y_train), gs3.score(X_test,y_test)"
   ]
  },
  {
   "cell_type": "code",
   "execution_count": 91,
   "id": "13825f11-3fab-4ec8-852a-4a76f3f7a5b9",
   "metadata": {},
   "outputs": [
    {
     "data": {
      "text/plain": [
       "{'tf__max_df': 0.5, 'tf__ngram_range': (1, 1)}"
      ]
     },
     "execution_count": 91,
     "metadata": {},
     "output_type": "execute_result"
    }
   ],
   "source": [
    "gs3.best_params_\n",
    "#{'tf__max_df': 0.5, 'tf__ngram_range': (1, 1)}"
   ]
  },
  {
   "cell_type": "code",
   "execution_count": 49,
   "id": "5815967d-2198-40ac-a106-c146a1046fb2",
   "metadata": {},
   "outputs": [
    {
     "data": {
      "text/plain": [
       "(0.8961527335840324, 0.7943303442291004)"
      ]
     },
     "execution_count": 49,
     "metadata": {},
     "output_type": "execute_result"
    }
   ],
   "source": [
    "pipe3alpha = Pipeline(\n",
    "    [\n",
    "    ('tf',TfidfVectorizer(stop_words=my_stop_words,ngram_range=(1,1),max_df=0.5,tokenizer=lemma_tokenizer)),\n",
    "    ('lr',LogisticRegression(max_iter=10000))   \n",
    "    ])\n",
    "\n",
    "pipe3alpha.fit(X_train,y_train_le)\n",
    "pipe3alpha.score(X_train,y_train_le),pipe3alpha.score(X_test,y_test_le)"
   ]
  },
  {
   "cell_type": "markdown",
   "id": "31bad8db-4fd1-46e1-961b-91a12fbd6625",
   "metadata": {},
   "source": [
    "### KNN Model"
   ]
  },
  {
   "cell_type": "markdown",
   "id": "ae5d6032-6e2a-4234-8f1b-77c3dbb70d79",
   "metadata": {},
   "source": [
    "KNN performs considerably worse than any models we have run thus far. The best model count vectorizes, uses 3 neighbors."
   ]
  },
  {
   "cell_type": "code",
   "execution_count": 50,
   "id": "da1e2647-b277-4ebe-88a2-24dd301db300",
   "metadata": {},
   "outputs": [
    {
     "data": {
      "text/plain": [
       "(0.7382123228232571, 0.5822967891235175)"
      ]
     },
     "execution_count": 50,
     "metadata": {},
     "output_type": "execute_result"
    }
   ],
   "source": [
    "pipe4 = Pipeline(\n",
    "    [\n",
    "    ('cv',CountVectorizer(stop_words=my_stop_words,ngram_range=[1,2],max_df=0.5)),\n",
    "    ('knc', KNeighborsClassifier())\n",
    "    ])\n",
    "\n",
    "pipe4.fit(X_train,y_train_le)\n",
    "pipe4.score(X_train,y_train_le),pipe4.score(X_test,y_test_le)"
   ]
  },
  {
   "cell_type": "code",
   "execution_count": 51,
   "id": "ce0088b5-8901-4649-9431-0114d6619fde",
   "metadata": {},
   "outputs": [
    {
     "data": {
      "text/plain": [
       "(0.7010895767042715, 0.5533699739658664)"
      ]
     },
     "execution_count": 51,
     "metadata": {},
     "output_type": "execute_result"
    }
   ],
   "source": [
    "pipe5 = Pipeline(\n",
    "    [\n",
    "    ('tf',TfidfVectorizer(stop_words=my_stop_words,ngram_range=[1,1],max_df=0.7)),\n",
    "    ('knc', KNeighborsClassifier())\n",
    "    ])\n",
    "\n",
    "pipe5.fit(X_train,y_train_le)\n",
    "pipe5.score(X_train,y_train_le),pipe5.score(X_test,y_test_le)"
   ]
  },
  {
   "cell_type": "code",
   "execution_count": 52,
   "id": "71e3f90a-05fc-4de4-acba-315c45a4a924",
   "metadata": {},
   "outputs": [],
   "source": [
    "pipe4_params = {\n",
    "    'knc__n_neighbors': [3, 5, 7, 9],\n",
    "    'knc__weights' : ['uniform','distance']\n",
    "}"
   ]
  },
  {
   "cell_type": "code",
   "execution_count": 53,
   "id": "af20eade-f8f5-489f-8214-944ab9b833e5",
   "metadata": {},
   "outputs": [
    {
     "data": {
      "text/plain": [
       "(0.9971073184842348, 0.620480185131617)"
      ]
     },
     "execution_count": 53,
     "metadata": {},
     "output_type": "execute_result"
    }
   ],
   "source": [
    "# gs4 = GridSearchCV(pipe4,param_grid=pipe4_params)\n",
    "# gs4.fit(X_train,y_train_le)\n",
    "# gs4.score(X_train,y_train_le),gs4.score(X_test,y_test_le)"
   ]
  },
  {
   "cell_type": "code",
   "execution_count": 54,
   "id": "612d515a-6038-45f9-964d-ad25627b2fe8",
   "metadata": {},
   "outputs": [
    {
     "data": {
      "text/plain": [
       "{'knc__n_neighbors': 3, 'knc__weights': 'distance'}"
      ]
     },
     "execution_count": 54,
     "metadata": {},
     "output_type": "execute_result"
    }
   ],
   "source": [
    "gs4.best_params_\n",
    "#{'knc__n_neighbors': 3, 'knc__weights': 'distance'}"
   ]
  },
  {
   "cell_type": "markdown",
   "id": "cc848c84-23e2-4017-a44a-47e0c85ac4c0",
   "metadata": {},
   "source": [
    "### Decision Tree Classifier"
   ]
  },
  {
   "cell_type": "markdown",
   "id": "41750666-162f-4b89-af56-2d25006ade6d",
   "metadata": {},
   "source": [
    "The decision tree performs worse than the KNN Classifier."
   ]
  },
  {
   "cell_type": "code",
   "execution_count": 55,
   "id": "3cd71956-3c4f-4788-9c0b-8cfb1176e7d3",
   "metadata": {},
   "outputs": [
    {
     "data": {
      "text/plain": [
       "(0.5389065663870408, 0.5429563205091119)"
      ]
     },
     "execution_count": 55,
     "metadata": {},
     "output_type": "execute_result"
    }
   ],
   "source": [
    "pipe6 = Pipeline(\n",
    "    [\n",
    "    ('cv',CountVectorizer(stop_words=my_stop_words,ngram_range=[1,2],max_df=0.5)),\n",
    "    ('dtc', DecisionTreeClassifier(random_state=2,max_depth=3))\n",
    "    ])\n",
    "\n",
    "pipe6.fit(X_train,y_train_le)\n",
    "pipe6.score(X_train,y_train_le),pipe6.score(X_test,y_test_le)"
   ]
  },
  {
   "cell_type": "code",
   "execution_count": 56,
   "id": "fe4e0d2f-b40c-4320-995a-92a4502eba7b",
   "metadata": {},
   "outputs": [],
   "source": [
    "pipe6_params = {\n",
    "    'dtc__max_depth': range(1,11)\n",
    "}"
   ]
  },
  {
   "cell_type": "code",
   "execution_count": 57,
   "id": "18fa8f33-54c4-4076-a694-a974c562cfc1",
   "metadata": {},
   "outputs": [],
   "source": [
    "gs6 = GridSearchCV(pipe6,param_grid=pipe6_params)"
   ]
  },
  {
   "cell_type": "code",
   "execution_count": 58,
   "id": "4e139762-c793-4a6c-abbf-7165cdc67162",
   "metadata": {},
   "outputs": [
    {
     "data": {
      "text/plain": [
       "(0.5905891428020441, 0.5828753254266705)"
      ]
     },
     "execution_count": 58,
     "metadata": {},
     "output_type": "execute_result"
    }
   ],
   "source": [
    "# gs6.fit(X_train,y_train_le)\n",
    "# gs6.score(X_train,y_train_le),gs6.score(X_test,y_test_le)"
   ]
  },
  {
   "cell_type": "code",
   "execution_count": 59,
   "id": "cf4922b9-f155-4d8c-8c33-dface5c0fea3",
   "metadata": {},
   "outputs": [
    {
     "data": {
      "text/plain": [
       "{'dtc__max_depth': 10}"
      ]
     },
     "execution_count": 59,
     "metadata": {},
     "output_type": "execute_result"
    }
   ],
   "source": [
    "#gs6.best_params_\n",
    "#{'dtc__max_depth': 10}"
   ]
  },
  {
   "cell_type": "code",
   "execution_count": 60,
   "id": "e2a7be85-3124-4647-9445-b4caf9342771",
   "metadata": {},
   "outputs": [
    {
     "data": {
      "text/plain": [
       "(0.5905891428020441, 0.5828753254266705)"
      ]
     },
     "execution_count": 60,
     "metadata": {},
     "output_type": "execute_result"
    }
   ],
   "source": [
    "pipe7 = Pipeline(\n",
    "    [\n",
    "    ('cv',CountVectorizer(stop_words=my_stop_words,ngram_range=[1,2],max_df=0.7)),\n",
    "    ('dtc', DecisionTreeClassifier(random_state=2,max_depth=10))\n",
    "    ])\n",
    "\n",
    "pipe7.fit(X_train,y_train_le)\n",
    "pipe7.score(X_train,y_train_le),pipe7.score(X_test,y_test_le)"
   ]
  },
  {
   "cell_type": "code",
   "execution_count": 61,
   "id": "2b6ab15c-1671-4625-aaa0-addbfc8a8bbe",
   "metadata": {},
   "outputs": [
    {
     "data": {
      "text/plain": [
       "(0.5903962973676599, 0.5817182528203645)"
      ]
     },
     "execution_count": 61,
     "metadata": {},
     "output_type": "execute_result"
    }
   ],
   "source": [
    "pipe8 = Pipeline(\n",
    "    [\n",
    "    ('tf',TfidfVectorizer(stop_words=my_stop_words,ngram_range=[1,2],max_df=0.7)),\n",
    "    ('dtc', DecisionTreeClassifier(random_state=2,max_depth=10))\n",
    "    ])\n",
    "\n",
    "pipe8.fit(X_train,y_train_le)\n",
    "pipe8.score(X_train,y_train_le),pipe8.score(X_test,y_test_le)"
   ]
  },
  {
   "cell_type": "markdown",
   "id": "e811a763-7e11-4c23-8e2b-290aeba0bb69",
   "metadata": {},
   "source": [
    "### Random Forest"
   ]
  },
  {
   "cell_type": "markdown",
   "id": "0a4a6551-4ee3-491e-8afb-a91aab451fee",
   "metadata": {},
   "source": [
    "The count-vectorized random Forest performs a bit worse than our logistic and naive bayes initially."
   ]
  },
  {
   "cell_type": "code",
   "execution_count": 62,
   "id": "95497b03-bc06-4f95-a796-0f9be61c99ef",
   "metadata": {},
   "outputs": [
    {
     "data": {
      "text/plain": [
       "(0.9971073184842348, 0.759039629736766)"
      ]
     },
     "execution_count": 62,
     "metadata": {},
     "output_type": "execute_result"
    }
   ],
   "source": [
    "pipe9 = Pipeline(\n",
    "    [\n",
    "    ('cv',CountVectorizer(stop_words=my_stop_words,ngram_range=[1,2],max_df=0.7)),\n",
    "    ('rfc', RandomForestClassifier(random_state=2))\n",
    "    ])\n",
    "\n",
    "pipe9.fit(X_train,y_train_le)\n",
    "pipe9.score(X_train,y_train_le),pipe9.score(X_test,y_test_le)"
   ]
  },
  {
   "cell_type": "markdown",
   "id": "51ef81f1-4dd3-4ea6-901d-cb94b3a8a1dd",
   "metadata": {},
   "source": [
    "Set up gridsearch to explore the parameters a bit more."
   ]
  },
  {
   "cell_type": "code",
   "execution_count": 63,
   "id": "93d9dcbe-de73-4fcb-8a37-1bd9ca9ab77d",
   "metadata": {
    "tags": []
   },
   "outputs": [],
   "source": [
    "pipe9_params = {\n",
    "    'rfc__max_depth': [None,5,7,10],\n",
    "    'rfc__n_estimators' : [150,200,250,300],\n",
    "    'rfc__min_samples_split': [2,3,4],\n",
    "    'cv__ngram_range': [(1,2), (1,1)]\n",
    "}"
   ]
  },
  {
   "cell_type": "code",
   "execution_count": 64,
   "id": "eebf121e-b552-4805-a906-5f4210746766",
   "metadata": {},
   "outputs": [],
   "source": [
    "gs9 = GridSearchCV(pipe9,param_grid=pipe9_params)"
   ]
  },
  {
   "cell_type": "markdown",
   "id": "6baab063-571b-4a0b-85d4-5725cbed5a2e",
   "metadata": {},
   "source": [
    "The gridsearch random forest model generated a model that was better than the previous random forest, but not as strong as the previously seen Naive Bayes or Logistic models."
   ]
  },
  {
   "cell_type": "code",
   "execution_count": 101,
   "id": "c6a2efd7-ef1b-4b36-b5c0-e9eb92296649",
   "metadata": {},
   "outputs": [],
   "source": [
    "# gs9.fit(X_train,y_train_le)\n",
    "# gs9.score(X_train,y_train_le),gs9.score(X_test,y_test_le)"
   ]
  },
  {
   "cell_type": "code",
   "execution_count": null,
   "id": "8d5e9cec-ba8b-4885-a0c1-6c138982df81",
   "metadata": {},
   "outputs": [],
   "source": [
    "gs9.best_params_"
   ]
  },
  {
   "cell_type": "markdown",
   "id": "08a4d560-b288-4c8e-b163-52374f8b7386",
   "metadata": {},
   "source": [
    "Running models for random forest using the TF-IDF vectorization."
   ]
  },
  {
   "cell_type": "code",
   "execution_count": 67,
   "id": "32e64414-5ec6-498b-8947-2a20e16cfcdb",
   "metadata": {},
   "outputs": [
    {
     "data": {
      "text/plain": [
       "(0.9949860187060071, 0.7671391379809083)"
      ]
     },
     "execution_count": 67,
     "metadata": {},
     "output_type": "execute_result"
    }
   ],
   "source": [
    "pipe10 = Pipeline(\n",
    "    [\n",
    "    ('tf',TfidfVectorizer(stop_words=my_stop_words,ngram_range=[1,1],max_df=0.5,tokenizer=lemma_tokenizer)),\n",
    "    ('rfc', RandomForestClassifier(random_state=2,min_samples_split=4,n_estimators=250))\n",
    "    ])\n",
    "\n",
    "pipe10.fit(X_train,y_train_le)\n",
    "pipe10.score(X_train,y_train_le),pipe10.score(X_test,y_test_le)"
   ]
  },
  {
   "cell_type": "code",
   "execution_count": 68,
   "id": "5cf16085-fd0d-4ae4-9584-29c54b4de75f",
   "metadata": {},
   "outputs": [],
   "source": [
    "pipe10_params = {\n",
    "    'rfc__max_depth': [None,10],\n",
    "    'rfc__n_estimators' : [300,350,400],\n",
    "    'rfc__min_samples_split': [3,4,5],\n",
    "}"
   ]
  },
  {
   "cell_type": "code",
   "execution_count": 69,
   "id": "e7bd1e57-9f6a-4ae5-8ff9-4eb7e66b3990",
   "metadata": {},
   "outputs": [],
   "source": [
    "gs10 = GridSearchCV(pipe10,param_grid=pipe10_params)"
   ]
  },
  {
   "cell_type": "markdown",
   "id": "02457a42-5cf1-47de-96fd-dbbb23efe32e",
   "metadata": {},
   "source": [
    "A TF-IFD vectorized Random Forest with 5 minimum sample splits and 400 estimators generated the best Random Forest model we've seen."
   ]
  },
  {
   "cell_type": "code",
   "execution_count": 70,
   "id": "b81c62f8-0894-4420-8d0b-31bb115430b8",
   "metadata": {},
   "outputs": [],
   "source": [
    "# gs10.fit(X_train,y_train_le)\n",
    "# gs10.score(X_train,y_train_le),gs10.score(X_test,y_test_le)"
   ]
  },
  {
   "cell_type": "code",
   "execution_count": 71,
   "id": "3e240cc1-378b-449d-89a7-c62f56ae4c2f",
   "metadata": {},
   "outputs": [
    {
     "ename": "AttributeError",
     "evalue": "'GridSearchCV' object has no attribute 'best_params_'",
     "output_type": "error",
     "traceback": [
      "\u001b[0;31m---------------------------------------------------------------------------\u001b[0m",
      "\u001b[0;31mAttributeError\u001b[0m                            Traceback (most recent call last)",
      "\u001b[0;32m/var/folders/pr/wgwfmfsx53n97rhpm9z12wqh0000gn/T/ipykernel_1097/3733067611.py\u001b[0m in \u001b[0;36m<module>\u001b[0;34m\u001b[0m\n\u001b[0;32m----> 1\u001b[0;31m \u001b[0mgs10\u001b[0m\u001b[0;34m.\u001b[0m\u001b[0mbest_params_\u001b[0m\u001b[0;34m\u001b[0m\u001b[0;34m\u001b[0m\u001b[0m\n\u001b[0m",
      "\u001b[0;31mAttributeError\u001b[0m: 'GridSearchCV' object has no attribute 'best_params_'"
     ]
    }
   ],
   "source": [
    "gs10.best_params_"
   ]
  },
  {
   "cell_type": "code",
   "execution_count": 103,
   "id": "127014c4-12b4-4b44-a6a7-849de1ba5acb",
   "metadata": {},
   "outputs": [
    {
     "data": {
      "text/plain": [
       "(0.9946967505544306, 0.7656927972230257)"
      ]
     },
     "execution_count": 103,
     "metadata": {},
     "output_type": "execute_result"
    }
   ],
   "source": [
    "pipe11 = Pipeline(\n",
    "    [\n",
    "    ('tf',TfidfVectorizer(stop_words=my_stop_words,ngram_range=[1,2],max_df=0.5,tokenizer=lemma_tokenizer)),\n",
    "    ('rfc', RandomForestClassifier(random_state=2,min_samples_split=5,n_estimators=450))\n",
    "    ])\n",
    "\n",
    "pipe11.fit(X_train,y_train_le)\n",
    "pipe11.score(X_train,y_train_le),pipe11.score(X_test,y_test_le)"
   ]
  },
  {
   "cell_type": "markdown",
   "id": "f7634ce4-15fe-43c5-981f-a0e584d41915",
   "metadata": {},
   "source": [
    "### Ensemble Analysis"
   ]
  },
  {
   "cell_type": "markdown",
   "id": "270097d4-b8f0-4701-b084-e84c394272f9",
   "metadata": {},
   "source": [
    "I will now contruct a series of ensemble models that will combine the best models that my previous analysis produced."
   ]
  },
  {
   "cell_type": "code",
   "execution_count": 73,
   "id": "6bdd4c6f-9549-479e-b1c6-c3129e3ee38e",
   "metadata": {},
   "outputs": [
    {
     "data": {
      "text/plain": [
       "(0.9874650467650178, 0.7876771767428407)"
      ]
     },
     "execution_count": 73,
     "metadata": {},
     "output_type": "execute_result"
    }
   ],
   "source": [
    "vr1 = VotingClassifier(\n",
    "    [('lr',LogisticRegression(max_iter=10000)),\n",
    "     ('mnb', MultinomialNB()),\n",
    "     ('rfc', RandomForestClassifier(random_state=2,min_samples_split=4,n_estimators=250)),\n",
    "      ],\n",
    "    n_jobs=-1\n",
    ")\n",
    "\n",
    "vr1.fit(X_train_cv,y_train_le)\n",
    "vr1.score(X_train_cv,y_train_le),vr1.score(X_test_cv,y_test_le)"
   ]
  },
  {
   "cell_type": "code",
   "execution_count": 74,
   "id": "2474a116-9190-497a-bd11-b77c51056f64",
   "metadata": {},
   "outputs": [
    {
     "data": {
      "text/plain": [
       "(0.9939253688168933, 0.7882557130459936)"
      ]
     },
     "execution_count": 74,
     "metadata": {},
     "output_type": "execute_result"
    }
   ],
   "source": [
    "vr2 = VotingClassifier(\n",
    "    [('lr',LogisticRegression(max_iter=10000)),\n",
    "     ('gnb', GaussianNB()),\n",
    "     ('rfc', RandomForestClassifier(random_state=2,min_samples_split=5,n_estimators=400)),\n",
    "      ],\n",
    "     n_jobs=-1)\n",
    "\n",
    "vr2.fit(X_train_tfi,y_train_le)\n",
    "vr2.score(X_train_tfi,y_train_le),vr2.score(X_test_tfi,y_test_le)"
   ]
  },
  {
   "cell_type": "code",
   "execution_count": 127,
   "id": "814e856f-e259-4220-99ca-35e5285b3adc",
   "metadata": {},
   "outputs": [],
   "source": [
    "# vr3 = VotingClassifier(\n",
    "#     [('lr',LogisticRegression(max_iter=10000)),\n",
    "#      ('gnb', GaussianNB()),\n",
    "#      ('rfc', RandomForestClassifier(random_state=2,min_samples_split=5,n_estimators=400)),\n",
    "#       ],\n",
    "#      n_jobs=-1,\n",
    "#     weights = [.3,.5,.2]\n",
    "# )\n",
    "\n",
    "# vr3.fit(X_train_tfi,y_train_le)\n",
    "# vr3.score(X_train_tfi,y_train_le),vr3.score(X_test_tfi,y_test_le)"
   ]
  },
  {
   "cell_type": "markdown",
   "id": "7210c269-d74f-48fe-b098-a60ad42e79c0",
   "metadata": {},
   "source": [
    "### Analysis of Top Model"
   ]
  },
  {
   "cell_type": "code",
   "execution_count": 138,
   "id": "b9173a0a-ee68-4399-b07f-2e8eef47ff9a",
   "metadata": {},
   "outputs": [
    {
     "data": {
      "text/plain": [
       "(0.9776299296114165, 0.8030083887763957)"
      ]
     },
     "execution_count": 138,
     "metadata": {},
     "output_type": "execute_result"
    }
   ],
   "source": [
    "nb_cv = Pipeline(\n",
    "    [\n",
    "    ('cv',CountVectorizer(stop_words=my_stop_words,strip_accents='unicode',ngram_range=(1, 3),max_df=.5,tokenizer=lemma_tokenizer)),\n",
    "    ('nb',MultinomialNB())   \n",
    "    ])\n",
    "\n",
    "nb_cv.fit(X_train,y_train_le)\n",
    "nb_cv.score(X_train,y_train_le),nb_cv.score(X_test,y_test_le)"
   ]
  },
  {
   "cell_type": "code",
   "execution_count": 134,
   "id": "fad9e402-efef-422f-90d6-7a42696ac170",
   "metadata": {},
   "outputs": [],
   "source": [
    "nbcv_params = {\n",
    "    'cv__ngram_range': [(1,1),(1,2),(1,3),(2,3)],\n",
    "    'cv__max_df' : [0.4,0.5,0.6,0.9],\n",
    "}"
   ]
  },
  {
   "cell_type": "code",
   "execution_count": 135,
   "id": "71954716-53b2-4e0a-9772-04a7aa12a001",
   "metadata": {},
   "outputs": [],
   "source": [
    "nb_cv_gs = GridSearchCV(nb_cv,param_grid=nbcv_params)"
   ]
  },
  {
   "cell_type": "code",
   "execution_count": 136,
   "id": "e6cf2a60-16c8-4c34-a7cc-91c2769370c0",
   "metadata": {},
   "outputs": [
    {
     "data": {
      "text/plain": [
       "(0.9684697714781603, 0.8021405843216662)"
      ]
     },
     "execution_count": 136,
     "metadata": {},
     "output_type": "execute_result"
    }
   ],
   "source": [
    "nb_cv_gs.fit(X_train,y_train_le)\n",
    "nb_cv_gs.score(X_train,y_train_le),nb_cv_gs.score(X_test,y_test_le)"
   ]
  },
  {
   "cell_type": "code",
   "execution_count": 137,
   "id": "fe86219a-ba57-4d42-a60a-801216734f49",
   "metadata": {},
   "outputs": [
    {
     "data": {
      "text/plain": [
       "{'cv__max_df': 0.4, 'cv__ngram_range': (1, 2)}"
      ]
     },
     "execution_count": 137,
     "metadata": {},
     "output_type": "execute_result"
    }
   ],
   "source": [
    "nb_cv_gs.best_params_"
   ]
  },
  {
   "cell_type": "code",
   "execution_count": 39,
   "id": "475e381f-ae9a-4873-bd77-91afb1161adc",
   "metadata": {},
   "outputs": [
    {
     "data": {
      "text/plain": [
       "(0.9684697714781603, 0.8021405843216662)"
      ]
     },
     "execution_count": 39,
     "metadata": {},
     "output_type": "execute_result"
    }
   ],
   "source": [
    "nb_cv2 = Pipeline(\n",
    "    [\n",
    "    ('cv',CountVectorizer(stop_words=my_stop_words,strip_accents='unicode',ngram_range=(1, 2),max_df=.4,tokenizer=lemma_tokenizer)),\n",
    "    ('nb',MultinomialNB())   \n",
    "    ])\n",
    "\n",
    "nb_cv2.fit(X_train,y_train_le)\n",
    "nb_cv2.score(X_train,y_train_le),nb_cv2.score(X_test,y_test_le)"
   ]
  },
  {
   "cell_type": "code",
   "execution_count": 75,
   "id": "98ffe4b5-20f2-4ec3-a24c-af845987acbc",
   "metadata": {},
   "outputs": [
    {
     "data": {
      "text/plain": [
       "(0.9333719024202102, 0.8070581428984669)"
      ]
     },
     "execution_count": 75,
     "metadata": {},
     "output_type": "execute_result"
    }
   ],
   "source": [
    "nb_cv3 = Pipeline(\n",
    "    [\n",
    "    ('tfi',TfidfVectorizer(stop_words=my_stop_words,strip_accents='unicode',ngram_range=(1, 2),max_df=.4,tokenizer=lemma_tokenizer,max_features=30000)),\n",
    "    ('nb',MultinomialNB())   \n",
    "    ])\n",
    "\n",
    "nb_cv3.fit(X_train,y_train_le)\n",
    "nb_cv3.score(X_train,y_train_le),nb_cv3.score(X_test,y_test_le)"
   ]
  },
  {
   "cell_type": "code",
   "execution_count": 107,
   "id": "c4f485e1-1c98-4932-831c-16849a85f81a",
   "metadata": {},
   "outputs": [
    {
     "data": {
      "text/plain": [
       "<sklearn.metrics._plot.confusion_matrix.ConfusionMatrixDisplay at 0x7faf39ca2520>"
      ]
     },
     "execution_count": 107,
     "metadata": {},
     "output_type": "execute_result"
    },
    {
     "data": {
      "image/png": "[encoded data removed]",
      "text/plain": [
       "<Figure size 432x288 with 2 Axes>"
      ]
     },
     "metadata": {
      "needs_background": "light"
     },
     "output_type": "display_data"
    }
   ],
   "source": [
    "ConfusionMatrixDisplay.from_estimator(nb_cv3,X_test,y_test_le,cmap='Blues')"
   ]
  },
  {
   "cell_type": "code",
   "execution_count": 46,
   "id": "9438ef35-5001-4f4b-ad6f-69bfa238e1ee",
   "metadata": {},
   "outputs": [
    {
     "data": {
      "text/plain": [
       "array([[ -9.41366778, -11.06336029, -11.14149595, ..., -10.79762824,\n",
       "        -11.01078255, -11.01078255],\n",
       "       [ -8.72623   , -11.27867397, -11.11382707, ..., -11.27867397,\n",
       "        -11.27867397, -11.27867397]])"
      ]
     },
     "execution_count": 46,
     "metadata": {},
     "output_type": "execute_result"
    }
   ],
   "source": [
    "nb_cv3.named_steps['nb'].feature_log_prob_"
   ]
  },
  {
   "cell_type": "code",
   "execution_count": 90,
   "id": "a6f447e3-d1ce-4d39-b2e7-73bf67dfcd7c",
   "metadata": {},
   "outputs": [
    {
     "data": {
      "text/plain": [
       "30000"
      ]
     },
     "execution_count": 90,
     "metadata": {},
     "output_type": "execute_result"
    }
   ],
   "source": [
    "nb_cv3.named_steps['nb'].n_features_in_"
   ]
  },
  {
   "cell_type": "code",
   "execution_count": 114,
   "id": "9ea74196-a533-4002-b97a-80a1b408f531",
   "metadata": {},
   "outputs": [
    {
     "ename": "AttributeError",
     "evalue": "'MultinomialNB' object has no attribute 'feature_names_in_'",
     "output_type": "error",
     "traceback": [
      "\u001b[0;31m---------------------------------------------------------------------------\u001b[0m",
      "\u001b[0;31mAttributeError\u001b[0m                            Traceback (most recent call last)",
      "\u001b[0;32m/var/folders/pr/wgwfmfsx53n97rhpm9z12wqh0000gn/T/ipykernel_2509/598742687.py\u001b[0m in \u001b[0;36m<module>\u001b[0;34m\u001b[0m\n\u001b[0;32m----> 1\u001b[0;31m \u001b[0mnb_cv3\u001b[0m\u001b[0;34m.\u001b[0m\u001b[0mnamed_steps\u001b[0m\u001b[0;34m[\u001b[0m\u001b[0;34m'nb'\u001b[0m\u001b[0;34m]\u001b[0m\u001b[0;34m.\u001b[0m\u001b[0mfeature_names_in_\u001b[0m\u001b[0;34m\u001b[0m\u001b[0;34m\u001b[0m\u001b[0m\n\u001b[0m",
      "\u001b[0;31mAttributeError\u001b[0m: 'MultinomialNB' object has no attribute 'feature_names_in_'"
     ]
    }
   ],
   "source": [
    "nb_cv3.named_steps['nb'].feature_names_in_"
   ]
  },
  {
   "cell_type": "code",
   "execution_count": 118,
   "id": "c21333fb-c7ca-4b79-a554-5b09d8647c6d",
   "metadata": {},
   "outputs": [
    {
     "data": {
      "text/plain": [
       "array([[0.62777501, 0.37222499],\n",
       "       [0.45362535, 0.54637465],\n",
       "       [0.5004339 , 0.4995661 ],\n",
       "       ...,\n",
       "       [0.52886671, 0.47113329],\n",
       "       [0.83904745, 0.16095255],\n",
       "       [0.3929837 , 0.6070163 ]])"
      ]
     },
     "execution_count": 118,
     "metadata": {},
     "output_type": "execute_result"
    }
   ],
   "source": [
    "nb_cv3.predict_proba(X_test)"
   ]
  },
  {
   "cell_type": "code",
   "execution_count": 129,
   "id": "baec4eed-35dc-4ef8-b3a1-f47d9253bb24",
   "metadata": {},
   "outputs": [],
   "source": [
    "test_preds = nb_cv3.predict(X_test)"
   ]
  },
  {
   "cell_type": "code",
   "execution_count": 135,
   "id": "55e3f6e6-972e-4013-bc70-d542f42c6c06",
   "metadata": {},
   "outputs": [],
   "source": [
    "misclass = X_test.copy()"
   ]
  },
  {
   "cell_type": "code",
   "execution_count": 139,
   "id": "264a6a1f-2ddc-4f4d-b17f-379926e5f43e",
   "metadata": {},
   "outputs": [
    {
     "data": {
      "text/html": [
       "<div>\n",
       "<style scoped>\n",
       "    .dataframe tbody tr th:only-of-type {\n",
       "        vertical-align: middle;\n",
       "    }\n",
       "\n",
       "    .dataframe tbody tr th {\n",
       "        vertical-align: top;\n",
       "    }\n",
       "\n",
       "    .dataframe thead th {\n",
       "        text-align: right;\n",
       "    }\n",
       "</style>\n",
       "<table border=\"1\" class=\"dataframe\">\n",
       "  <thead>\n",
       "    <tr style=\"text-align: right;\">\n",
       "      <th></th>\n",
       "      <th>title</th>\n",
       "    </tr>\n",
       "  </thead>\n",
       "  <tbody>\n",
       "    <tr>\n",
       "      <th>15461</th>\n",
       "      <td>Futurama's Reverand Lionel Preacherbot comes t...</td>\n",
       "    </tr>\n",
       "    <tr>\n",
       "      <th>19260</th>\n",
       "      <td>The 1900 House</td>\n",
       "    </tr>\n",
       "    <tr>\n",
       "      <th>21336</th>\n",
       "      <td>강남가라오케추천24시간룸문의$예약,010.5904.3130$송혜교실장$파티$혼자와도15만</td>\n",
       "    </tr>\n",
       "    <tr>\n",
       "      <th>6530</th>\n",
       "      <td>A little advice</td>\n",
       "    </tr>\n",
       "    <tr>\n",
       "      <th>22303</th>\n",
       "      <td>Conflicted about immigration</td>\n",
       "    </tr>\n",
       "  </tbody>\n",
       "</table>\n",
       "</div>"
      ],
      "text/plain": [
       "                                                   title\n",
       "15461  Futurama's Reverand Lionel Preacherbot comes t...\n",
       "19260                                     The 1900 House\n",
       "21336  강남가라오케추천24시간룸문의$예약,010.5904.3130$송혜교실장$파티$혼자와도15만\n",
       "6530                                     A little advice\n",
       "22303                       Conflicted about immigration"
      ]
     },
     "execution_count": 139,
     "metadata": {},
     "output_type": "execute_result"
    }
   ],
   "source": [
    "misclass = pd.DataFrame(misclass,columns=['title'])\n",
    "misclass.head()"
   ]
  },
  {
   "cell_type": "code",
   "execution_count": 151,
   "id": "de7ab011-9b54-4263-a0eb-1e57efbdb7e3",
   "metadata": {},
   "outputs": [
    {
     "data": {
      "text/html": [
       "<div>\n",
       "<style scoped>\n",
       "    .dataframe tbody tr th:only-of-type {\n",
       "        vertical-align: middle;\n",
       "    }\n",
       "\n",
       "    .dataframe tbody tr th {\n",
       "        vertical-align: top;\n",
       "    }\n",
       "\n",
       "    .dataframe thead th {\n",
       "        text-align: right;\n",
       "    }\n",
       "</style>\n",
       "<table border=\"1\" class=\"dataframe\">\n",
       "  <thead>\n",
       "    <tr style=\"text-align: right;\">\n",
       "      <th></th>\n",
       "      <th>title</th>\n",
       "      <th>true_class</th>\n",
       "      <th>pred_class</th>\n",
       "    </tr>\n",
       "  </thead>\n",
       "  <tbody>\n",
       "    <tr>\n",
       "      <th>19260</th>\n",
       "      <td>The 1900 House</td>\n",
       "      <td>Futurology</td>\n",
       "      <td>collapse</td>\n",
       "    </tr>\n",
       "    <tr>\n",
       "      <th>22303</th>\n",
       "      <td>Conflicted about immigration</td>\n",
       "      <td>collapse</td>\n",
       "      <td>Futurology</td>\n",
       "    </tr>\n",
       "    <tr>\n",
       "      <th>24362</th>\n",
       "      <td>65 million years from now I hope the next spec...</td>\n",
       "      <td>Futurology</td>\n",
       "      <td>collapse</td>\n",
       "    </tr>\n",
       "    <tr>\n",
       "      <th>25462</th>\n",
       "      <td>I think we will fertilize the oceans, for food...</td>\n",
       "      <td>Futurology</td>\n",
       "      <td>collapse</td>\n",
       "    </tr>\n",
       "    <tr>\n",
       "      <th>3767</th>\n",
       "      <td>Looking for a YouTube</td>\n",
       "      <td>collapse</td>\n",
       "      <td>Futurology</td>\n",
       "    </tr>\n",
       "    <tr>\n",
       "      <th>...</th>\n",
       "      <td>...</td>\n",
       "      <td>...</td>\n",
       "      <td>...</td>\n",
       "    </tr>\n",
       "    <tr>\n",
       "      <th>8944</th>\n",
       "      <td>I need your input for upcoming podcast epioase</td>\n",
       "      <td>collapse</td>\n",
       "      <td>Futurology</td>\n",
       "    </tr>\n",
       "    <tr>\n",
       "      <th>17464</th>\n",
       "      <td>Regarding questions and healthy skepticism in ...</td>\n",
       "      <td>Futurology</td>\n",
       "      <td>collapse</td>\n",
       "    </tr>\n",
       "    <tr>\n",
       "      <th>11965</th>\n",
       "      <td>[SERIOUS] What does fall/winter in the US look...</td>\n",
       "      <td>collapse</td>\n",
       "      <td>Futurology</td>\n",
       "    </tr>\n",
       "    <tr>\n",
       "      <th>17387</th>\n",
       "      <td>Why is this sub's banner the same as /r/altrig...</td>\n",
       "      <td>Futurology</td>\n",
       "      <td>collapse</td>\n",
       "    </tr>\n",
       "    <tr>\n",
       "      <th>26734</th>\n",
       "      <td>A Dream of Collapse</td>\n",
       "      <td>collapse</td>\n",
       "      <td>Futurology</td>\n",
       "    </tr>\n",
       "  </tbody>\n",
       "</table>\n",
       "<p>667 rows × 3 columns</p>\n",
       "</div>"
      ],
      "text/plain": [
       "                                                   title  true_class  \\\n",
       "19260                                     The 1900 House  Futurology   \n",
       "22303                       Conflicted about immigration    collapse   \n",
       "24362  65 million years from now I hope the next spec...  Futurology   \n",
       "25462  I think we will fertilize the oceans, for food...  Futurology   \n",
       "3767                               Looking for a YouTube    collapse   \n",
       "...                                                  ...         ...   \n",
       "8944      I need your input for upcoming podcast epioase    collapse   \n",
       "17464  Regarding questions and healthy skepticism in ...  Futurology   \n",
       "11965  [SERIOUS] What does fall/winter in the US look...    collapse   \n",
       "17387  Why is this sub's banner the same as /r/altrig...  Futurology   \n",
       "26734                                A Dream of Collapse    collapse   \n",
       "\n",
       "       pred_class  \n",
       "19260    collapse  \n",
       "22303  Futurology  \n",
       "24362    collapse  \n",
       "25462    collapse  \n",
       "3767   Futurology  \n",
       "...           ...  \n",
       "8944   Futurology  \n",
       "17464    collapse  \n",
       "11965  Futurology  \n",
       "17387    collapse  \n",
       "26734  Futurology  \n",
       "\n",
       "[667 rows x 3 columns]"
      ]
     },
     "execution_count": 151,
     "metadata": {},
     "output_type": "execute_result"
    }
   ],
   "source": [
    "misclass['true_class'] = y_test\n",
    "misclass['pred_class'] = ['collapse' if i == 1 else 'Futurology' for i in test_preds]\n",
    "misclass[misclass['true_class'] != misclass['pred_class']]"
   ]
  },
  {
   "cell_type": "code",
   "execution_count": null,
   "id": "4e6573ce-fd23-4f90-925b-3a02a10804c2",
   "metadata": {},
   "outputs": [],
   "source": []
  },
  {
   "cell_type": "code",
   "execution_count": null,
   "id": "0b28b393-9020-4fe8-87a4-4be9a4a94c51",
   "metadata": {},
   "outputs": [],
   "source": []
  },
  {
   "cell_type": "code",
   "execution_count": 157,
   "id": "c7cbf096-cd97-4ee4-996c-5029cae690d3",
   "metadata": {},
   "outputs": [],
   "source": [
    "y_holdout_le = le.transform(y_holdout)"
   ]
  },
  {
   "cell_type": "code",
   "execution_count": 158,
   "id": "b3a78680-ab41-42fa-9e22-0977fc30bb3f",
   "metadata": {},
   "outputs": [
    {
     "data": {
      "text/plain": [
       "0.7934565651306084"
      ]
     },
     "execution_count": 158,
     "metadata": {},
     "output_type": "execute_result"
    }
   ],
   "source": [
    "nb_cv3.score(X_holdout,y_holdout_le)"
   ]
  },
  {
   "cell_type": "code",
   "execution_count": null,
   "id": "337dcf16-46f6-41c9-b334-c33c346d5a89",
   "metadata": {},
   "outputs": [],
   "source": []
  },
  {
   "cell_type": "code",
   "execution_count": null,
   "id": "b2519786-442f-4d8d-b2d2-5afeae1c183b",
   "metadata": {},
   "outputs": [],
   "source": []
  },
  {
   "cell_type": "code",
   "execution_count": null,
   "id": "61c5aa6b-1e8c-4158-93d2-3d1bdd55d12a",
   "metadata": {},
   "outputs": [],
   "source": []
  },
  {
   "cell_type": "code",
   "execution_count": null,
   "id": "75ded4fd-5557-4bc8-9f2f-cc9a25145229",
   "metadata": {},
   "outputs": [],
   "source": []
  },
  {
   "cell_type": "code",
   "execution_count": null,
   "id": "e5e6b077-dd42-45ea-96dc-a60a4494cdee",
   "metadata": {},
   "outputs": [],
   "source": []
  }
 ],
 "metadata": {
  "kernelspec": {
   "display_name": "Python 3 (ipykernel)",
   "language": "python",
   "name": "python3"
  },
  "language_info": {
   "codemirror_mode": {
    "name": "ipython",
    "version": 3
   },
   "file_extension": ".py",
   "mimetype": "text/x-python",
   "name": "python",
   "nbconvert_exporter": "python",
   "pygments_lexer": "ipython3",
   "version": "3.9.7"
  }
 },
 "nbformat": 4,
 "nbformat_minor": 5
}
